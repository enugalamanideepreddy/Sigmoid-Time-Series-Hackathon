{
 "cells": [
  {
   "cell_type": "markdown",
   "metadata": {
    "id": "h0YpNx_lljPK"
   },
   "source": [
    "## DATA IMPORTING"
   ]
  },
  {
   "cell_type": "code",
   "execution_count": 1,
   "metadata": {
    "id": "8pWd4xR0lgKk"
   },
   "outputs": [],
   "source": [
    "import numpy as np\n",
    "import pandas as pd\n",
    "import matplotlib.pyplot as plt\n",
    "import plotly.express as px"
   ]
  },
  {
   "cell_type": "code",
   "execution_count": 2,
   "metadata": {},
   "outputs": [],
   "source": [
    "df1 = pd.read_csv('train.csv') #Training Dataset\n",
    "df2 = pd.read_csv('test.csv') #Testing dataset\n",
    "codf = pd.read_csv('US_COVID_data_state_level.csv') #Covid data of cities\n",
    "cidf = pd.read_csv('city_details.csv') #Cities data\n",
    "wadf = pd.read_csv('warehouse_mapping.csv') #Warehouse data"
   ]
  },
  {
   "cell_type": "markdown",
   "metadata": {
    "tags": []
   },
   "source": [
    "## Predicting Confirmed Cases"
   ]
  },
  {
   "cell_type": "code",
   "execution_count": 3,
   "metadata": {
    "id": "rTwqMPElsOYf"
   },
   "outputs": [],
   "source": [
    "corl = codf[codf.conf_cases.notna()] #Non-empty cells of confirmed cases"
   ]
  },
  {
   "cell_type": "code",
   "execution_count": 4,
   "metadata": {
    "id": "477hCcalt6DZ"
   },
   "outputs": [],
   "source": [
    "a,b = list(corl.tot_cases),list(corl.conf_cases)"
   ]
  },
  {
   "cell_type": "code",
   "execution_count": 5,
   "metadata": {},
   "outputs": [
    {
     "data": {
      "text/html": [
       "<style>#sk-container-id-1 {color: black;background-color: white;}#sk-container-id-1 pre{padding: 0;}#sk-container-id-1 div.sk-toggleable {background-color: white;}#sk-container-id-1 label.sk-toggleable__label {cursor: pointer;display: block;width: 100%;margin-bottom: 0;padding: 0.3em;box-sizing: border-box;text-align: center;}#sk-container-id-1 label.sk-toggleable__label-arrow:before {content: \"▸\";float: left;margin-right: 0.25em;color: #696969;}#sk-container-id-1 label.sk-toggleable__label-arrow:hover:before {color: black;}#sk-container-id-1 div.sk-estimator:hover label.sk-toggleable__label-arrow:before {color: black;}#sk-container-id-1 div.sk-toggleable__content {max-height: 0;max-width: 0;overflow: hidden;text-align: left;background-color: #f0f8ff;}#sk-container-id-1 div.sk-toggleable__content pre {margin: 0.2em;color: black;border-radius: 0.25em;background-color: #f0f8ff;}#sk-container-id-1 input.sk-toggleable__control:checked~div.sk-toggleable__content {max-height: 200px;max-width: 100%;overflow: auto;}#sk-container-id-1 input.sk-toggleable__control:checked~label.sk-toggleable__label-arrow:before {content: \"▾\";}#sk-container-id-1 div.sk-estimator input.sk-toggleable__control:checked~label.sk-toggleable__label {background-color: #d4ebff;}#sk-container-id-1 div.sk-label input.sk-toggleable__control:checked~label.sk-toggleable__label {background-color: #d4ebff;}#sk-container-id-1 input.sk-hidden--visually {border: 0;clip: rect(1px 1px 1px 1px);clip: rect(1px, 1px, 1px, 1px);height: 1px;margin: -1px;overflow: hidden;padding: 0;position: absolute;width: 1px;}#sk-container-id-1 div.sk-estimator {font-family: monospace;background-color: #f0f8ff;border: 1px dotted black;border-radius: 0.25em;box-sizing: border-box;margin-bottom: 0.5em;}#sk-container-id-1 div.sk-estimator:hover {background-color: #d4ebff;}#sk-container-id-1 div.sk-parallel-item::after {content: \"\";width: 100%;border-bottom: 1px solid gray;flex-grow: 1;}#sk-container-id-1 div.sk-label:hover label.sk-toggleable__label {background-color: #d4ebff;}#sk-container-id-1 div.sk-serial::before {content: \"\";position: absolute;border-left: 1px solid gray;box-sizing: border-box;top: 0;bottom: 0;left: 50%;z-index: 0;}#sk-container-id-1 div.sk-serial {display: flex;flex-direction: column;align-items: center;background-color: white;padding-right: 0.2em;padding-left: 0.2em;position: relative;}#sk-container-id-1 div.sk-item {position: relative;z-index: 1;}#sk-container-id-1 div.sk-parallel {display: flex;align-items: stretch;justify-content: center;background-color: white;position: relative;}#sk-container-id-1 div.sk-item::before, #sk-container-id-1 div.sk-parallel-item::before {content: \"\";position: absolute;border-left: 1px solid gray;box-sizing: border-box;top: 0;bottom: 0;left: 50%;z-index: -1;}#sk-container-id-1 div.sk-parallel-item {display: flex;flex-direction: column;z-index: 1;position: relative;background-color: white;}#sk-container-id-1 div.sk-parallel-item:first-child::after {align-self: flex-end;width: 50%;}#sk-container-id-1 div.sk-parallel-item:last-child::after {align-self: flex-start;width: 50%;}#sk-container-id-1 div.sk-parallel-item:only-child::after {width: 0;}#sk-container-id-1 div.sk-dashed-wrapped {border: 1px dashed gray;margin: 0 0.4em 0.5em 0.4em;box-sizing: border-box;padding-bottom: 0.4em;background-color: white;}#sk-container-id-1 div.sk-label label {font-family: monospace;font-weight: bold;display: inline-block;line-height: 1.2em;}#sk-container-id-1 div.sk-label-container {text-align: center;}#sk-container-id-1 div.sk-container {/* jupyter's `normalize.less` sets `[hidden] { display: none; }` but bootstrap.min.css set `[hidden] { display: none !important; }` so we also need the `!important` here to be able to override the default hidden behavior on the sphinx rendered scikit-learn.org. See: https://github.com/scikit-learn/scikit-learn/issues/21755 */display: inline-block !important;position: relative;}#sk-container-id-1 div.sk-text-repr-fallback {display: none;}</style><div id=\"sk-container-id-1\" class=\"sk-top-container\"><div class=\"sk-text-repr-fallback\"><pre>RandomForestRegressor()</pre><b>In a Jupyter environment, please rerun this cell to show the HTML representation or trust the notebook. <br />On GitHub, the HTML representation is unable to render, please try loading this page with nbviewer.org.</b></div><div class=\"sk-container\" hidden><div class=\"sk-item\"><div class=\"sk-estimator sk-toggleable\"><input class=\"sk-toggleable__control sk-hidden--visually\" id=\"sk-estimator-id-1\" type=\"checkbox\" checked><label for=\"sk-estimator-id-1\" class=\"sk-toggleable__label sk-toggleable__label-arrow\">RandomForestRegressor</label><div class=\"sk-toggleable__content\"><pre>RandomForestRegressor()</pre></div></div></div></div></div>"
      ],
      "text/plain": [
       "RandomForestRegressor()"
      ]
     },
     "execution_count": 5,
     "metadata": {},
     "output_type": "execute_result"
    }
   ],
   "source": [
    "from sklearn.ensemble import RandomForestRegressor \n",
    "algo=RandomForestRegressor()\n",
    "ratio = []\n",
    "for i in range(len(a)):\n",
    "    if b[i]!=0:\n",
    "        ratio.append((a[i]-b[i])/(b[i]))\n",
    "    else:\n",
    "        ratio.append(0)\n",
    "a=np.array(a).reshape(-1,1)\n",
    "algo.fit(a,ratio)"
   ]
  },
  {
   "cell_type": "code",
   "execution_count": 6,
   "metadata": {},
   "outputs": [],
   "source": [
    "for i in codf[codf.conf_cases.isna()].index:\n",
    "    codf.iloc[i,3] = int(np.array(codf.iloc[i,2])/(1+algo.predict(np.array(codf.iloc[i,2].reshape(1,-1)))))"
   ]
  },
  {
   "cell_type": "code",
   "execution_count": 7,
   "metadata": {},
   "outputs": [
    {
     "data": {
      "text/html": [
       "<div>\n",
       "<style scoped>\n",
       "    .dataframe tbody tr th:only-of-type {\n",
       "        vertical-align: middle;\n",
       "    }\n",
       "\n",
       "    .dataframe tbody tr th {\n",
       "        vertical-align: top;\n",
       "    }\n",
       "\n",
       "    .dataframe thead th {\n",
       "        text-align: right;\n",
       "    }\n",
       "</style>\n",
       "<table border=\"1\" class=\"dataframe\">\n",
       "  <thead>\n",
       "    <tr style=\"text-align: right;\">\n",
       "      <th></th>\n",
       "      <th>date</th>\n",
       "      <th>state</th>\n",
       "      <th>tot_cases</th>\n",
       "      <th>conf_cases</th>\n",
       "    </tr>\n",
       "  </thead>\n",
       "  <tbody>\n",
       "    <tr>\n",
       "      <th>28412</th>\n",
       "      <td>09/05/21</td>\n",
       "      <td>MT</td>\n",
       "      <td>109924</td>\n",
       "      <td>99730.0</td>\n",
       "    </tr>\n",
       "    <tr>\n",
       "      <th>13194</th>\n",
       "      <td>28/08/20</td>\n",
       "      <td>AR</td>\n",
       "      <td>59583</td>\n",
       "      <td>49972.0</td>\n",
       "    </tr>\n",
       "    <tr>\n",
       "      <th>354</th>\n",
       "      <td>27/01/20</td>\n",
       "      <td>PA</td>\n",
       "      <td>0</td>\n",
       "      <td>0.0</td>\n",
       "    </tr>\n",
       "    <tr>\n",
       "      <th>6692</th>\n",
       "      <td>12/05/20</td>\n",
       "      <td>NE</td>\n",
       "      <td>8692</td>\n",
       "      <td>6530.0</td>\n",
       "    </tr>\n",
       "    <tr>\n",
       "      <th>1466</th>\n",
       "      <td>15/02/20</td>\n",
       "      <td>MS</td>\n",
       "      <td>0</td>\n",
       "      <td>0.0</td>\n",
       "    </tr>\n",
       "  </tbody>\n",
       "</table>\n",
       "</div>"
      ],
      "text/plain": [
       "           date state  tot_cases  conf_cases\n",
       "28412  09/05/21    MT     109924     99730.0\n",
       "13194  28/08/20    AR      59583     49972.0\n",
       "354    27/01/20    PA          0         0.0\n",
       "6692   12/05/20    NE       8692      6530.0\n",
       "1466   15/02/20    MS          0         0.0"
      ]
     },
     "execution_count": 7,
     "metadata": {},
     "output_type": "execute_result"
    }
   ],
   "source": [
    "codf.sample(5)"
   ]
  },
  {
   "cell_type": "markdown",
   "metadata": {
    "tags": []
   },
   "source": [
    "## DATA CLEANING"
   ]
  },
  {
   "cell_type": "code",
   "execution_count": 8,
   "metadata": {},
   "outputs": [
    {
     "data": {
      "text/plain": [
       "(            city  zip_code state  state_name\n",
       " 554  WESTMINSTER     92683    CA  CALIFORNIA\n",
       " 555      ONTARIO     91761    CA  CALIFORNIA\n",
       " 556       TACOMA     98409    WA  WASHINGTON\n",
       " 557      BOZEMAN     59718    MT     MONTANA\n",
       " 558    CLACKAMAS     97015    OR      OREGON,\n",
       " (555, 4))"
      ]
     },
     "execution_count": 8,
     "metadata": {},
     "output_type": "execute_result"
    }
   ],
   "source": [
    "cidf1 = cidf.drop(['country'],axis = 1) #dropping useless columns\n",
    "cidf1 = cidf1.drop_duplicates()\n",
    "cidf1.tail(),cidf1.shape"
   ]
  },
  {
   "cell_type": "code",
   "execution_count": 9,
   "metadata": {},
   "outputs": [],
   "source": [
    "state = cidf1.state.unique()\n",
    "num_cities = [cidf1[cidf1.state == st].zip_code.nunique() for st in state]\n",
    "stct = pd.DataFrame({'state':state,'num_cities':num_cities})"
   ]
  },
  {
   "cell_type": "code",
   "execution_count": 10,
   "metadata": {},
   "outputs": [
    {
     "data": {
      "text/plain": [
       "(array([94080, 98027], dtype=int64), array([2, 2], dtype=int64))"
      ]
     },
     "execution_count": 10,
     "metadata": {},
     "output_type": "execute_result"
    }
   ],
   "source": [
    "value,counts = np.unique(cidf1.zip_code,return_counts=True)\n",
    "value[counts>1],counts[counts>1]"
   ]
  },
  {
   "cell_type": "code",
   "execution_count": 11,
   "metadata": {},
   "outputs": [
    {
     "data": {
      "text/html": [
       "<div>\n",
       "<style scoped>\n",
       "    .dataframe tbody tr th:only-of-type {\n",
       "        vertical-align: middle;\n",
       "    }\n",
       "\n",
       "    .dataframe tbody tr th {\n",
       "        vertical-align: top;\n",
       "    }\n",
       "\n",
       "    .dataframe thead th {\n",
       "        text-align: right;\n",
       "    }\n",
       "</style>\n",
       "<table border=\"1\" class=\"dataframe\">\n",
       "  <thead>\n",
       "    <tr style=\"text-align: right;\">\n",
       "      <th></th>\n",
       "      <th>city</th>\n",
       "      <th>zip_code</th>\n",
       "      <th>state</th>\n",
       "      <th>state_name</th>\n",
       "    </tr>\n",
       "  </thead>\n",
       "  <tbody>\n",
       "    <tr>\n",
       "      <th>370</th>\n",
       "      <td>S</td>\n",
       "      <td>94080</td>\n",
       "      <td>CA</td>\n",
       "      <td>CALIFORNIA</td>\n",
       "    </tr>\n",
       "    <tr>\n",
       "      <th>371</th>\n",
       "      <td>EL</td>\n",
       "      <td>94080</td>\n",
       "      <td>CA</td>\n",
       "      <td>CALIFORNIA</td>\n",
       "    </tr>\n",
       "  </tbody>\n",
       "</table>\n",
       "</div>"
      ],
      "text/plain": [
       "    city  zip_code state  state_name\n",
       "370    S     94080    CA  CALIFORNIA\n",
       "371   EL     94080    CA  CALIFORNIA"
      ]
     },
     "execution_count": 11,
     "metadata": {},
     "output_type": "execute_result"
    }
   ],
   "source": [
    "cidf1[cidf1.zip_code == 94080]"
   ]
  },
  {
   "cell_type": "code",
   "execution_count": 12,
   "metadata": {},
   "outputs": [],
   "source": [
    "cidf1.drop(index=371,inplace=True)"
   ]
  },
  {
   "cell_type": "code",
   "execution_count": 13,
   "metadata": {},
   "outputs": [
    {
     "data": {
      "text/html": [
       "<div>\n",
       "<style scoped>\n",
       "    .dataframe tbody tr th:only-of-type {\n",
       "        vertical-align: middle;\n",
       "    }\n",
       "\n",
       "    .dataframe tbody tr th {\n",
       "        vertical-align: top;\n",
       "    }\n",
       "\n",
       "    .dataframe thead th {\n",
       "        text-align: right;\n",
       "    }\n",
       "</style>\n",
       "<table border=\"1\" class=\"dataframe\">\n",
       "  <thead>\n",
       "    <tr style=\"text-align: right;\">\n",
       "      <th></th>\n",
       "      <th>city</th>\n",
       "      <th>zip_code</th>\n",
       "      <th>state</th>\n",
       "      <th>state_name</th>\n",
       "    </tr>\n",
       "  </thead>\n",
       "  <tbody>\n",
       "    <tr>\n",
       "      <th>69</th>\n",
       "      <td>ISSAQUAH</td>\n",
       "      <td>98027</td>\n",
       "      <td>WA</td>\n",
       "      <td>WASHINGTON</td>\n",
       "    </tr>\n",
       "    <tr>\n",
       "      <th>70</th>\n",
       "      <td>US</td>\n",
       "      <td>98027</td>\n",
       "      <td>WA</td>\n",
       "      <td>WASHINGTON</td>\n",
       "    </tr>\n",
       "  </tbody>\n",
       "</table>\n",
       "</div>"
      ],
      "text/plain": [
       "        city  zip_code state  state_name\n",
       "69  ISSAQUAH     98027    WA  WASHINGTON\n",
       "70        US     98027    WA  WASHINGTON"
      ]
     },
     "execution_count": 13,
     "metadata": {},
     "output_type": "execute_result"
    }
   ],
   "source": [
    "cidf1[cidf1.zip_code == 98027]"
   ]
  },
  {
   "cell_type": "code",
   "execution_count": 14,
   "metadata": {},
   "outputs": [],
   "source": [
    "cidf1.drop(index=70,inplace=True)"
   ]
  },
  {
   "cell_type": "markdown",
   "metadata": {},
   "source": [
    "## DATA PREPROCESSING"
   ]
  },
  {
   "cell_type": "code",
   "execution_count": 15,
   "metadata": {},
   "outputs": [],
   "source": [
    "cidf_final = cidf1.merge(stct,on = 'state',how = 'left')"
   ]
  },
  {
   "cell_type": "code",
   "execution_count": 16,
   "metadata": {},
   "outputs": [
    {
     "data": {
      "text/html": [
       "<div>\n",
       "<style scoped>\n",
       "    .dataframe tbody tr th:only-of-type {\n",
       "        vertical-align: middle;\n",
       "    }\n",
       "\n",
       "    .dataframe tbody tr th {\n",
       "        vertical-align: top;\n",
       "    }\n",
       "\n",
       "    .dataframe thead th {\n",
       "        text-align: right;\n",
       "    }\n",
       "</style>\n",
       "<table border=\"1\" class=\"dataframe\">\n",
       "  <thead>\n",
       "    <tr style=\"text-align: right;\">\n",
       "      <th></th>\n",
       "      <th>wh_id</th>\n",
       "      <th>warehouse_name</th>\n",
       "    </tr>\n",
       "  </thead>\n",
       "  <tbody>\n",
       "    <tr>\n",
       "      <th>345</th>\n",
       "      <td>376</td>\n",
       "      <td>WAREHOUSE 376 AUBURN HILLS</td>\n",
       "    </tr>\n",
       "    <tr>\n",
       "      <th>284</th>\n",
       "      <td>312</td>\n",
       "      <td>WAREHOUSE 312 MILFORD</td>\n",
       "    </tr>\n",
       "    <tr>\n",
       "      <th>374</th>\n",
       "      <td>424</td>\n",
       "      <td>WAREHOUSE 424 SIGNAL HILL</td>\n",
       "    </tr>\n",
       "    <tr>\n",
       "      <th>468</th>\n",
       "      <td>660</td>\n",
       "      <td>WAREHOUSE 660 PUYALLUP</td>\n",
       "    </tr>\n",
       "    <tr>\n",
       "      <th>440</th>\n",
       "      <td>631</td>\n",
       "      <td>WAREHOUSE 631 CUMBERLAND MALL</td>\n",
       "    </tr>\n",
       "  </tbody>\n",
       "</table>\n",
       "</div>"
      ],
      "text/plain": [
       "     wh_id                 warehouse_name\n",
       "345    376     WAREHOUSE 376 AUBURN HILLS\n",
       "284    312          WAREHOUSE 312 MILFORD\n",
       "374    424      WAREHOUSE 424 SIGNAL HILL\n",
       "468    660         WAREHOUSE 660 PUYALLUP\n",
       "440    631  WAREHOUSE 631 CUMBERLAND MALL"
      ]
     },
     "execution_count": 16,
     "metadata": {},
     "output_type": "execute_result"
    }
   ],
   "source": [
    "wadf.sample(5)"
   ]
  },
  {
   "cell_type": "code",
   "execution_count": 17,
   "metadata": {
    "colab": {
     "base_uri": "https://localhost:8080/",
     "height": 423
    },
    "id": "_48oQIpRfSwX",
    "outputId": "cd7f07ec-ab5d-4c86-beaa-89b89d75931b"
   },
   "outputs": [
    {
     "name": "stdout",
     "output_type": "stream",
     "text": [
      "(276208, 8)\n"
     ]
    },
    {
     "data": {
      "text/html": [
       "<div>\n",
       "<style scoped>\n",
       "    .dataframe tbody tr th:only-of-type {\n",
       "        vertical-align: middle;\n",
       "    }\n",
       "\n",
       "    .dataframe tbody tr th {\n",
       "        vertical-align: top;\n",
       "    }\n",
       "\n",
       "    .dataframe thead th {\n",
       "        text-align: right;\n",
       "    }\n",
       "</style>\n",
       "<table border=\"1\" class=\"dataframe\">\n",
       "  <thead>\n",
       "    <tr style=\"text-align: right;\">\n",
       "      <th></th>\n",
       "      <th>date</th>\n",
       "      <th>state</th>\n",
       "      <th>tot_cases</th>\n",
       "      <th>conf_cases</th>\n",
       "      <th>city</th>\n",
       "      <th>zip_code</th>\n",
       "      <th>state_name</th>\n",
       "      <th>num_cities</th>\n",
       "      <th>avg_tot_cases</th>\n",
       "      <th>avg_conf_cases</th>\n",
       "    </tr>\n",
       "  </thead>\n",
       "  <tbody>\n",
       "    <tr>\n",
       "      <th>26500</th>\n",
       "      <td>08/03/20</td>\n",
       "      <td>AZ</td>\n",
       "      <td>5</td>\n",
       "      <td>4.0</td>\n",
       "      <td>TEMPE</td>\n",
       "      <td>85284.0</td>\n",
       "      <td>ARIZONA</td>\n",
       "      <td>18.0</td>\n",
       "      <td>0.277778</td>\n",
       "      <td>0.222222</td>\n",
       "    </tr>\n",
       "    <tr>\n",
       "      <th>9687</th>\n",
       "      <td>08/02/20</td>\n",
       "      <td>FL</td>\n",
       "      <td>0</td>\n",
       "      <td>0.0</td>\n",
       "      <td>PALM</td>\n",
       "      <td>33403.0</td>\n",
       "      <td>FLORIDA</td>\n",
       "      <td>28.0</td>\n",
       "      <td>0.000000</td>\n",
       "      <td>0.000000</td>\n",
       "    </tr>\n",
       "    <tr>\n",
       "      <th>272695</th>\n",
       "      <td>17/05/21</td>\n",
       "      <td>IL</td>\n",
       "      <td>1367214</td>\n",
       "      <td>1367214.0</td>\n",
       "      <td>CHAMPAIGN</td>\n",
       "      <td>61820.0</td>\n",
       "      <td>ILLINOIS</td>\n",
       "      <td>22.0</td>\n",
       "      <td>62146.090909</td>\n",
       "      <td>62146.090909</td>\n",
       "    </tr>\n",
       "    <tr>\n",
       "      <th>132740</th>\n",
       "      <td>12/09/20</td>\n",
       "      <td>CA</td>\n",
       "      <td>777850</td>\n",
       "      <td>655917.0</td>\n",
       "      <td>RANCHO</td>\n",
       "      <td>95742.0</td>\n",
       "      <td>CALIFORNIA</td>\n",
       "      <td>126.0</td>\n",
       "      <td>6173.412698</td>\n",
       "      <td>5205.690476</td>\n",
       "    </tr>\n",
       "    <tr>\n",
       "      <th>43341</th>\n",
       "      <td>07/04/20</td>\n",
       "      <td>CA</td>\n",
       "      <td>28792</td>\n",
       "      <td>28045.0</td>\n",
       "      <td>DANVILLE</td>\n",
       "      <td>94526.0</td>\n",
       "      <td>CALIFORNIA</td>\n",
       "      <td>126.0</td>\n",
       "      <td>228.507937</td>\n",
       "      <td>222.579365</td>\n",
       "    </tr>\n",
       "  </tbody>\n",
       "</table>\n",
       "</div>"
      ],
      "text/plain": [
       "            date state  tot_cases  conf_cases       city  zip_code  \\\n",
       "26500   08/03/20    AZ          5         4.0      TEMPE   85284.0   \n",
       "9687    08/02/20    FL          0         0.0       PALM   33403.0   \n",
       "272695  17/05/21    IL    1367214   1367214.0  CHAMPAIGN   61820.0   \n",
       "132740  12/09/20    CA     777850    655917.0     RANCHO   95742.0   \n",
       "43341   07/04/20    CA      28792     28045.0   DANVILLE   94526.0   \n",
       "\n",
       "        state_name  num_cities  avg_tot_cases  avg_conf_cases  \n",
       "26500      ARIZONA        18.0       0.277778        0.222222  \n",
       "9687       FLORIDA        28.0       0.000000        0.000000  \n",
       "272695    ILLINOIS        22.0   62146.090909    62146.090909  \n",
       "132740  CALIFORNIA       126.0    6173.412698     5205.690476  \n",
       "43341   CALIFORNIA       126.0     228.507937      222.579365  "
      ]
     },
     "execution_count": 17,
     "metadata": {},
     "output_type": "execute_result"
    }
   ],
   "source": [
    "m = codf.merge(cidf_final,how = 'left',on='state') \n",
    "print(m.shape)\n",
    "m['avg_tot_cases'] = m['tot_cases']/m['num_cities']\n",
    "m['avg_conf_cases'] = m['conf_cases']/m['num_cities']\n",
    "m.sample(5) #merging covid data and cities data using state as a common entity"
   ]
  },
  {
   "cell_type": "code",
   "execution_count": 18,
   "metadata": {
    "id": "eozdjAslsGIQ"
   },
   "outputs": [
    {
     "data": {
      "text/html": [
       "<div>\n",
       "<style scoped>\n",
       "    .dataframe tbody tr th:only-of-type {\n",
       "        vertical-align: middle;\n",
       "    }\n",
       "\n",
       "    .dataframe tbody tr th {\n",
       "        vertical-align: top;\n",
       "    }\n",
       "\n",
       "    .dataframe thead th {\n",
       "        text-align: right;\n",
       "    }\n",
       "</style>\n",
       "<table border=\"1\" class=\"dataframe\">\n",
       "  <thead>\n",
       "    <tr style=\"text-align: right;\">\n",
       "      <th></th>\n",
       "      <th>wh_id</th>\n",
       "      <th>warehouse_name</th>\n",
       "      <th>city</th>\n",
       "    </tr>\n",
       "  </thead>\n",
       "  <tbody>\n",
       "    <tr>\n",
       "      <th>91</th>\n",
       "      <td>1125</td>\n",
       "      <td>WAREHOUSE 1125 ROCHESTER MN</td>\n",
       "      <td>ROCHESTER</td>\n",
       "    </tr>\n",
       "    <tr>\n",
       "      <th>122</th>\n",
       "      <td>119</td>\n",
       "      <td>WAREHOUSE 119 MAUI</td>\n",
       "      <td>MAUI</td>\n",
       "    </tr>\n",
       "    <tr>\n",
       "      <th>327</th>\n",
       "      <td>358</td>\n",
       "      <td>WAREHOUSE 358 BRANDON</td>\n",
       "      <td>BRANDON</td>\n",
       "    </tr>\n",
       "    <tr>\n",
       "      <th>267</th>\n",
       "      <td>247</td>\n",
       "      <td>WAREHOUSE 247 NEWPORT NEWS</td>\n",
       "      <td>NEWPORT</td>\n",
       "    </tr>\n",
       "    <tr>\n",
       "      <th>64</th>\n",
       "      <td>1088</td>\n",
       "      <td>WAREHOUSE 1088 BOLINGBROOK</td>\n",
       "      <td>BOLINGBROOK</td>\n",
       "    </tr>\n",
       "  </tbody>\n",
       "</table>\n",
       "</div>"
      ],
      "text/plain": [
       "     wh_id               warehouse_name         city\n",
       "91    1125  WAREHOUSE 1125 ROCHESTER MN    ROCHESTER\n",
       "122    119           WAREHOUSE 119 MAUI         MAUI\n",
       "327    358        WAREHOUSE 358 BRANDON      BRANDON\n",
       "267    247   WAREHOUSE 247 NEWPORT NEWS      NEWPORT\n",
       "64    1088   WAREHOUSE 1088 BOLINGBROOK  BOLINGBROOK"
      ]
     },
     "execution_count": 18,
     "metadata": {},
     "output_type": "execute_result"
    }
   ],
   "source": [
    "b = []\n",
    "for row in wadf.values:\n",
    "  b.append(row[1].split()[2]) #taking 3rd word from warehouse_name which is city\n",
    "\n",
    "wadf['city'] = np.array(b)\n",
    "wadf.sample(5)"
   ]
  },
  {
   "cell_type": "code",
   "execution_count": 19,
   "metadata": {
    "id": "uiCDcCp1ntl-"
   },
   "outputs": [],
   "source": [
    "x = df1.merge(wadf.drop(axis = 1,columns=['warehouse_name']),how='left',on = 'wh_id')"
   ]
  },
  {
   "cell_type": "code",
   "execution_count": 20,
   "metadata": {},
   "outputs": [
    {
     "name": "stdout",
     "output_type": "stream",
     "text": [
      "(453215, 4)\n"
     ]
    },
    {
     "data": {
      "text/html": [
       "<div>\n",
       "<style scoped>\n",
       "    .dataframe tbody tr th:only-of-type {\n",
       "        vertical-align: middle;\n",
       "    }\n",
       "\n",
       "    .dataframe tbody tr th {\n",
       "        vertical-align: top;\n",
       "    }\n",
       "\n",
       "    .dataframe thead th {\n",
       "        text-align: right;\n",
       "    }\n",
       "</style>\n",
       "<table border=\"1\" class=\"dataframe\">\n",
       "  <thead>\n",
       "    <tr style=\"text-align: right;\">\n",
       "      <th></th>\n",
       "      <th>date</th>\n",
       "      <th>wh_id</th>\n",
       "      <th>sales</th>\n",
       "      <th>city</th>\n",
       "    </tr>\n",
       "  </thead>\n",
       "  <tbody>\n",
       "    <tr>\n",
       "      <th>178706</th>\n",
       "      <td>13/03/21</td>\n",
       "      <td>140.0</td>\n",
       "      <td>147</td>\n",
       "      <td>KONA</td>\n",
       "    </tr>\n",
       "    <tr>\n",
       "      <th>408992</th>\n",
       "      <td>23/02/19</td>\n",
       "      <td>736.0</td>\n",
       "      <td>20</td>\n",
       "      <td>CHANDLER</td>\n",
       "    </tr>\n",
       "    <tr>\n",
       "      <th>55425</th>\n",
       "      <td>17/11/20</td>\n",
       "      <td>110.0</td>\n",
       "      <td>558</td>\n",
       "      <td>ISSAQUAH</td>\n",
       "    </tr>\n",
       "    <tr>\n",
       "      <th>48655</th>\n",
       "      <td>23/12/19</td>\n",
       "      <td>1085.0</td>\n",
       "      <td>12</td>\n",
       "      <td>MELROSE</td>\n",
       "    </tr>\n",
       "    <tr>\n",
       "      <th>148332</th>\n",
       "      <td>02/08/19</td>\n",
       "      <td>13.0</td>\n",
       "      <td>4</td>\n",
       "      <td>SILVERDALE</td>\n",
       "    </tr>\n",
       "  </tbody>\n",
       "</table>\n",
       "</div>"
      ],
      "text/plain": [
       "            date   wh_id  sales        city\n",
       "178706  13/03/21   140.0    147        KONA\n",
       "408992  23/02/19   736.0     20    CHANDLER\n",
       "55425   17/11/20   110.0    558    ISSAQUAH\n",
       "48655   23/12/19  1085.0     12     MELROSE\n",
       "148332  02/08/19    13.0      4  SILVERDALE"
      ]
     },
     "execution_count": 20,
     "metadata": {},
     "output_type": "execute_result"
    }
   ],
   "source": [
    "print(x.shape)\n",
    "x.sample(5)\n",
    "# merged data of train and warehouse datasets"
   ]
  },
  {
   "cell_type": "code",
   "execution_count": 21,
   "metadata": {
    "id": "KkvwI8K3DrjI"
   },
   "outputs": [],
   "source": [
    "z = x.merge(m,how='left', on = ['date','city'])"
   ]
  },
  {
   "cell_type": "code",
   "execution_count": 22,
   "metadata": {},
   "outputs": [
    {
     "name": "stdout",
     "output_type": "stream",
     "text": [
      "(669515, 12)\n"
     ]
    },
    {
     "data": {
      "text/html": [
       "<div>\n",
       "<style scoped>\n",
       "    .dataframe tbody tr th:only-of-type {\n",
       "        vertical-align: middle;\n",
       "    }\n",
       "\n",
       "    .dataframe tbody tr th {\n",
       "        vertical-align: top;\n",
       "    }\n",
       "\n",
       "    .dataframe thead th {\n",
       "        text-align: right;\n",
       "    }\n",
       "</style>\n",
       "<table border=\"1\" class=\"dataframe\">\n",
       "  <thead>\n",
       "    <tr style=\"text-align: right;\">\n",
       "      <th></th>\n",
       "      <th>date</th>\n",
       "      <th>wh_id</th>\n",
       "      <th>sales</th>\n",
       "      <th>city</th>\n",
       "      <th>state</th>\n",
       "      <th>tot_cases</th>\n",
       "      <th>conf_cases</th>\n",
       "      <th>zip_code</th>\n",
       "      <th>state_name</th>\n",
       "      <th>num_cities</th>\n",
       "      <th>avg_tot_cases</th>\n",
       "      <th>avg_conf_cases</th>\n",
       "    </tr>\n",
       "  </thead>\n",
       "  <tbody>\n",
       "    <tr>\n",
       "      <th>468717</th>\n",
       "      <td>07/06/20</td>\n",
       "      <td>471.0</td>\n",
       "      <td>107</td>\n",
       "      <td>CAL</td>\n",
       "      <td>CA</td>\n",
       "      <td>158951.0</td>\n",
       "      <td>155962.0</td>\n",
       "      <td>95815.0</td>\n",
       "      <td>CALIFORNIA</td>\n",
       "      <td>126.0</td>\n",
       "      <td>1261.515873</td>\n",
       "      <td>1237.793651</td>\n",
       "    </tr>\n",
       "    <tr>\n",
       "      <th>318850</th>\n",
       "      <td>19/12/20</td>\n",
       "      <td>241.0</td>\n",
       "      <td>15</td>\n",
       "      <td>NEW</td>\n",
       "      <td>LA</td>\n",
       "      <td>282434.0</td>\n",
       "      <td>258439.0</td>\n",
       "      <td>70118.0</td>\n",
       "      <td>LOUISIANA</td>\n",
       "      <td>3.0</td>\n",
       "      <td>94144.666667</td>\n",
       "      <td>86146.333333</td>\n",
       "    </tr>\n",
       "    <tr>\n",
       "      <th>250058</th>\n",
       "      <td>20/12/20</td>\n",
       "      <td>1360.0</td>\n",
       "      <td>699</td>\n",
       "      <td>CLOVIS</td>\n",
       "      <td>CA</td>\n",
       "      <td>2061725.0</td>\n",
       "      <td>2061725.0</td>\n",
       "      <td>93612.0</td>\n",
       "      <td>CALIFORNIA</td>\n",
       "      <td>126.0</td>\n",
       "      <td>16362.896825</td>\n",
       "      <td>16362.896825</td>\n",
       "    </tr>\n",
       "    <tr>\n",
       "      <th>83763</th>\n",
       "      <td>08/08/19</td>\n",
       "      <td>1107.0</td>\n",
       "      <td>140</td>\n",
       "      <td>CHICAGO</td>\n",
       "      <td>NaN</td>\n",
       "      <td>NaN</td>\n",
       "      <td>NaN</td>\n",
       "      <td>NaN</td>\n",
       "      <td>NaN</td>\n",
       "      <td>NaN</td>\n",
       "      <td>NaN</td>\n",
       "      <td>NaN</td>\n",
       "    </tr>\n",
       "    <tr>\n",
       "      <th>624821</th>\n",
       "      <td>14/03/19</td>\n",
       "      <td>760.0</td>\n",
       "      <td>80</td>\n",
       "      <td>GILROY</td>\n",
       "      <td>NaN</td>\n",
       "      <td>NaN</td>\n",
       "      <td>NaN</td>\n",
       "      <td>NaN</td>\n",
       "      <td>NaN</td>\n",
       "      <td>NaN</td>\n",
       "      <td>NaN</td>\n",
       "      <td>NaN</td>\n",
       "    </tr>\n",
       "  </tbody>\n",
       "</table>\n",
       "</div>"
      ],
      "text/plain": [
       "            date   wh_id  sales     city state  tot_cases  conf_cases  \\\n",
       "468717  07/06/20   471.0    107      CAL    CA   158951.0    155962.0   \n",
       "318850  19/12/20   241.0     15      NEW    LA   282434.0    258439.0   \n",
       "250058  20/12/20  1360.0    699   CLOVIS    CA  2061725.0   2061725.0   \n",
       "83763   08/08/19  1107.0    140  CHICAGO   NaN        NaN         NaN   \n",
       "624821  14/03/19   760.0     80   GILROY   NaN        NaN         NaN   \n",
       "\n",
       "        zip_code  state_name  num_cities  avg_tot_cases  avg_conf_cases  \n",
       "468717   95815.0  CALIFORNIA       126.0    1261.515873     1237.793651  \n",
       "318850   70118.0   LOUISIANA         3.0   94144.666667    86146.333333  \n",
       "250058   93612.0  CALIFORNIA       126.0   16362.896825    16362.896825  \n",
       "83763        NaN         NaN         NaN            NaN             NaN  \n",
       "624821       NaN         NaN         NaN            NaN             NaN  "
      ]
     },
     "execution_count": 22,
     "metadata": {},
     "output_type": "execute_result"
    }
   ],
   "source": [
    "print(z.shape)\n",
    "z.sample(5)"
   ]
  },
  {
   "cell_type": "code",
   "execution_count": 23,
   "metadata": {},
   "outputs": [],
   "source": [
    "#precovid data\n",
    "precov = z[z.state.isna()][['date','wh_id','sales','tot_cases','conf_cases','avg_tot_cases','avg_conf_cases']].fillna(0)\n",
    "cov = z[z.state.notna()][['date','wh_id','sales','tot_cases','conf_cases','avg_tot_cases','avg_conf_cases']]"
   ]
  },
  {
   "cell_type": "markdown",
   "metadata": {
    "id": "pWLluHnRk0JK"
   },
   "source": [
    "## EDA"
   ]
  },
  {
   "cell_type": "code",
   "execution_count": null,
   "metadata": {},
   "outputs": [],
   "source": []
  },
  {
   "cell_type": "code",
   "execution_count": null,
   "metadata": {},
   "outputs": [],
   "source": []
  },
  {
   "cell_type": "code",
   "execution_count": null,
   "metadata": {},
   "outputs": [],
   "source": [
    "hi raaaaa"
   ]
  }
 ],
 "metadata": {
  "colab": {
   "collapsed_sections": [],
   "provenance": []
  },
  "kernelspec": {
   "display_name": "Python 3 (ipykernel)",
   "language": "python",
   "name": "python3"
  },
  "language_info": {
   "codemirror_mode": {
    "name": "ipython",
    "version": 3
   },
   "file_extension": ".py",
   "mimetype": "text/x-python",
   "name": "python",
   "nbconvert_exporter": "python",
   "pygments_lexer": "ipython3",
   "version": "3.9.7"
  }
 },
 "nbformat": 4,
 "nbformat_minor": 4
}
