{
 "cells": [
  {
   "cell_type": "markdown",
   "metadata": {
    "id": "h0YpNx_lljPK"
   },
   "source": [
    "## DATA IMPORTING"
   ]
  },
  {
   "cell_type": "code",
   "execution_count": 119,
   "metadata": {
    "id": "8pWd4xR0lgKk"
   },
   "outputs": [],
   "source": [
    "import numpy as np\n",
    "import pandas as pd"
   ]
  },
  {
   "cell_type": "code",
   "execution_count": 120,
   "metadata": {},
   "outputs": [],
   "source": [
    "df1 = pd.read_csv('train.csv') #Training Dataset\n",
    "df2 = pd.read_csv('test.csv') #Testing dataset\n",
    "codf = pd.read_csv('US_COVID_data_state_level.csv') #Covid data of cities\n",
    "cidf = pd.read_csv('city_details.csv') #Cities data\n",
    "wadf = pd.read_csv('warehouse_mapping.csv') #Warehouse data"
   ]
  },
  {
   "cell_type": "markdown",
   "metadata": {},
   "source": [
    "## Predicting Confirmed Cases"
   ]
  },
  {
   "cell_type": "code",
   "execution_count": 121,
   "metadata": {
    "id": "rTwqMPElsOYf"
   },
   "outputs": [],
   "source": [
    "corl = codf[codf.conf_cases.notna()] #Non-empty cells of confirmed cases"
   ]
  },
  {
   "cell_type": "code",
   "execution_count": 122,
   "metadata": {
    "id": "477hCcalt6DZ"
   },
   "outputs": [],
   "source": [
    "a,b = list(corl.tot_cases),list(corl.conf_cases)"
   ]
  },
  {
   "cell_type": "code",
   "execution_count": 123,
   "metadata": {},
   "outputs": [
    {
     "data": {
      "text/plain": [
       "RandomForestRegressor()"
      ]
     },
     "execution_count": 123,
     "metadata": {},
     "output_type": "execute_result"
    }
   ],
   "source": [
    "from sklearn.ensemble import RandomForestRegressor \n",
    "algo=RandomForestRegressor()\n",
    "ratio = []\n",
    "for i in range(len(a)):\n",
    "    if b[i]!=0:\n",
    "        ratio.append((a[i]-b[i])/(b[i]))\n",
    "    else:\n",
    "        ratio.append(0)\n",
    "a=np.array(a).reshape(-1,1)\n",
    "algo.fit(a,ratio)"
   ]
  },
  {
   "cell_type": "code",
   "execution_count": 124,
   "metadata": {},
   "outputs": [
    {
     "data": {
      "text/html": [
       "<div>\n",
       "<style scoped>\n",
       "    .dataframe tbody tr th:only-of-type {\n",
       "        vertical-align: middle;\n",
       "    }\n",
       "\n",
       "    .dataframe tbody tr th {\n",
       "        vertical-align: top;\n",
       "    }\n",
       "\n",
       "    .dataframe thead th {\n",
       "        text-align: right;\n",
       "    }\n",
       "</style>\n",
       "<table border=\"1\" class=\"dataframe\">\n",
       "  <thead>\n",
       "    <tr style=\"text-align: right;\">\n",
       "      <th></th>\n",
       "      <th>tot_cases</th>\n",
       "      <th>conf_cases</th>\n",
       "    </tr>\n",
       "  </thead>\n",
       "  <tbody>\n",
       "    <tr>\n",
       "      <th>count</th>\n",
       "      <td>1.357800e+04</td>\n",
       "      <td>1.357800e+04</td>\n",
       "    </tr>\n",
       "    <tr>\n",
       "      <th>mean</th>\n",
       "      <td>2.235094e+05</td>\n",
       "      <td>1.989689e+05</td>\n",
       "    </tr>\n",
       "    <tr>\n",
       "      <th>std</th>\n",
       "      <td>2.875007e+05</td>\n",
       "      <td>2.553597e+05</td>\n",
       "    </tr>\n",
       "    <tr>\n",
       "      <th>min</th>\n",
       "      <td>0.000000e+00</td>\n",
       "      <td>0.000000e+00</td>\n",
       "    </tr>\n",
       "    <tr>\n",
       "      <th>25%</th>\n",
       "      <td>1.637600e+04</td>\n",
       "      <td>1.531200e+04</td>\n",
       "    </tr>\n",
       "    <tr>\n",
       "      <th>50%</th>\n",
       "      <td>1.007305e+05</td>\n",
       "      <td>9.483850e+04</td>\n",
       "    </tr>\n",
       "    <tr>\n",
       "      <th>75%</th>\n",
       "      <td>3.113710e+05</td>\n",
       "      <td>2.808200e+05</td>\n",
       "    </tr>\n",
       "    <tr>\n",
       "      <th>max</th>\n",
       "      <td>1.375508e+06</td>\n",
       "      <td>1.375508e+06</td>\n",
       "    </tr>\n",
       "  </tbody>\n",
       "</table>\n",
       "</div>"
      ],
      "text/plain": [
       "          tot_cases    conf_cases\n",
       "count  1.357800e+04  1.357800e+04\n",
       "mean   2.235094e+05  1.989689e+05\n",
       "std    2.875007e+05  2.553597e+05\n",
       "min    0.000000e+00  0.000000e+00\n",
       "25%    1.637600e+04  1.531200e+04\n",
       "50%    1.007305e+05  9.483850e+04\n",
       "75%    3.113710e+05  2.808200e+05\n",
       "max    1.375508e+06  1.375508e+06"
      ]
     },
     "execution_count": 124,
     "metadata": {},
     "output_type": "execute_result"
    }
   ],
   "source": [
    "codf[codf.conf_cases.notna()].describe()"
   ]
  },
  {
   "cell_type": "code",
   "execution_count": 126,
   "metadata": {},
   "outputs": [],
   "source": [
    "for i in codf[codf.conf_cases.isna()].index:\n",
    "    codf.iloc[i,3] = int(np.array(codf.iloc[i,2])/(1+algo.predict(np.array(codf.iloc[i,2].reshape(1,-1)))))"
   ]
  },
  {
   "cell_type": "code",
   "execution_count": 129,
   "metadata": {},
   "outputs": [
    {
     "data": {
      "text/html": [
       "<div>\n",
       "<style scoped>\n",
       "    .dataframe tbody tr th:only-of-type {\n",
       "        vertical-align: middle;\n",
       "    }\n",
       "\n",
       "    .dataframe tbody tr th {\n",
       "        vertical-align: top;\n",
       "    }\n",
       "\n",
       "    .dataframe thead th {\n",
       "        text-align: right;\n",
       "    }\n",
       "</style>\n",
       "<table border=\"1\" class=\"dataframe\">\n",
       "  <thead>\n",
       "    <tr style=\"text-align: right;\">\n",
       "      <th></th>\n",
       "      <th>date</th>\n",
       "      <th>state</th>\n",
       "      <th>tot_cases</th>\n",
       "      <th>conf_cases</th>\n",
       "    </tr>\n",
       "  </thead>\n",
       "  <tbody>\n",
       "    <tr>\n",
       "      <th>8475</th>\n",
       "      <td>11/06/20</td>\n",
       "      <td>NH</td>\n",
       "      <td>5209</td>\n",
       "      <td>5154.0</td>\n",
       "    </tr>\n",
       "    <tr>\n",
       "      <th>18084</th>\n",
       "      <td>18/11/20</td>\n",
       "      <td>CA</td>\n",
       "      <td>1142814</td>\n",
       "      <td>1009128.0</td>\n",
       "    </tr>\n",
       "    <tr>\n",
       "      <th>5703</th>\n",
       "      <td>26/04/20</td>\n",
       "      <td>PW</td>\n",
       "      <td>0</td>\n",
       "      <td>0.0</td>\n",
       "    </tr>\n",
       "    <tr>\n",
       "      <th>12891</th>\n",
       "      <td>23/08/20</td>\n",
       "      <td>AS</td>\n",
       "      <td>0</td>\n",
       "      <td>0.0</td>\n",
       "    </tr>\n",
       "    <tr>\n",
       "      <th>1643</th>\n",
       "      <td>18/02/20</td>\n",
       "      <td>NJ</td>\n",
       "      <td>0</td>\n",
       "      <td>0.0</td>\n",
       "    </tr>\n",
       "  </tbody>\n",
       "</table>\n",
       "</div>"
      ],
      "text/plain": [
       "           date state  tot_cases  conf_cases\n",
       "8475   11/06/20    NH       5209      5154.0\n",
       "18084  18/11/20    CA    1142814   1009128.0\n",
       "5703   26/04/20    PW          0         0.0\n",
       "12891  23/08/20    AS          0         0.0\n",
       "1643   18/02/20    NJ          0         0.0"
      ]
     },
     "execution_count": 129,
     "metadata": {},
     "output_type": "execute_result"
    }
   ],
   "source": [
    "codf.sample(5)"
   ]
  },
  {
   "cell_type": "code",
   "execution_count": 48,
   "metadata": {},
   "outputs": [
    {
     "data": {
      "text/plain": [
       "[<matplotlib.lines.Line2D at 0x2480489d3a0>]"
      ]
     },
     "execution_count": 48,
     "metadata": {},
     "output_type": "execute_result"
    },
    {
     "data": {
      "image/png": "[encoded data removed]",
      "text/plain": [
       "<Figure size 1440x1440 with 1 Axes>"
      ]
     },
     "metadata": {
      "needs_background": "light"
     },
     "output_type": "display_data"
    }
   ],
   "source": [
    "import matplotlib.pyplot as plt\n",
    "plt.figure(figsize=(20,20))\n",
    "plt.scatter(a,b)"
   ]
  },
  {
   "cell_type": "markdown",
   "metadata": {},
   "source": [
    "## DATA PREPROCESSING"
   ]
  },
  {
   "cell_type": "code",
   "execution_count": null,
   "metadata": {
    "colab": {
     "base_uri": "https://localhost:8080/",
     "height": 423
    },
    "id": "xDhLhqUnrWtS",
    "outputId": "8647903e-117b-4c18-de2d-07203bde4caf"
   },
   "outputs": [],
   "source": [
    "cidf1 = cidf.drop(['zip_code','country','state_name'],axis = 1)\n",
    "cidf1 = cidf1.drop_duplicates()\n",
    "cidf1.tail(),cidf1.shape"
   ]
  },
  {
   "cell_type": "code",
   "execution_count": null,
   "metadata": {},
   "outputs": [],
   "source": [
    "wadf"
   ]
  },
  {
   "cell_type": "code",
   "execution_count": null,
   "metadata": {
    "colab": {
     "base_uri": "https://localhost:8080/",
     "height": 423
    },
    "id": "_48oQIpRfSwX",
    "outputId": "cd7f07ec-ab5d-4c86-beaa-89b89d75931b"
   },
   "outputs": [],
   "source": [
    "m = codf.merge(cidf1,how = 'left',on='state')\n",
    "m"
   ]
  },
  {
   "cell_type": "code",
   "execution_count": null,
   "metadata": {
    "id": "eozdjAslsGIQ"
   },
   "outputs": [],
   "source": [
    "b = []\n",
    "for row in wadf.values:\n",
    "  b.append(row[1].split()[2])\n",
    "\n",
    "wadf['city'] = np.array(b)"
   ]
  },
  {
   "cell_type": "code",
   "execution_count": null,
   "metadata": {
    "id": "uiCDcCp1ntl-"
   },
   "outputs": [],
   "source": [
    "x = df1.merge(wadf.drop(axis = 1,columns=['warehouse_name']),how='left',on = 'wh_id')"
   ]
  },
  {
   "cell_type": "code",
   "execution_count": null,
   "metadata": {},
   "outputs": [],
   "source": [
    "x"
   ]
  },
  {
   "cell_type": "code",
   "execution_count": null,
   "metadata": {
    "id": "KkvwI8K3DrjI"
   },
   "outputs": [],
   "source": [
    "z = x.merge(m,how='left', on = ['date','city'])"
   ]
  },
  {
   "cell_type": "code",
   "execution_count": null,
   "metadata": {
    "colab": {
     "base_uri": "https://localhost:8080/",
     "height": 423
    },
    "id": "hH6fgopIHqkt",
    "outputId": "9748bd85-cff6-4a0a-b26b-6c86356fb662"
   },
   "outputs": [],
   "source": [
    "z[z.city == 'COLUMBIA']"
   ]
  },
  {
   "cell_type": "code",
   "execution_count": null,
   "metadata": {
    "colab": {
     "base_uri": "https://localhost:8080/"
    },
    "id": "XYDutE_TDrmk",
    "outputId": "315a9e71-7181-44f5-d9bb-a7222b20fba4"
   },
   "outputs": [],
   "source": [
    "z[z.city == 'AURORA'].wh_id.unique()"
   ]
  },
  {
   "cell_type": "code",
   "execution_count": null,
   "metadata": {
    "colab": {
     "base_uri": "https://localhost:8080/",
     "height": 206
    },
    "id": "796WMytCtTHs",
    "outputId": "97eaec4a-79a2-49c9-b1bf-ceb18299fb06"
   },
   "outputs": [],
   "source": [
    "codf.head()"
   ]
  },
  {
   "cell_type": "code",
   "execution_count": null,
   "metadata": {
    "id": "-D4OBhSPtawY"
   },
   "outputs": [],
   "source": [
    "codf['tot_cases']"
   ]
  },
  {
   "cell_type": "code",
   "execution_count": null,
   "metadata": {
    "colab": {
     "base_uri": "https://localhost:8080/"
    },
    "id": "xJKSI-ExHKQn",
    "outputId": "7ffff1b4-74d3-493a-e053-e8b24ec7c21a"
   },
   "outputs": [],
   "source": [
    "z[z.city == 'W'].wh_id.unique()"
   ]
  },
  {
   "cell_type": "code",
   "execution_count": null,
   "metadata": {
    "colab": {
     "base_uri": "https://localhost:8080/",
     "height": 112
    },
    "id": "YmH4wpZKTI-c",
    "outputId": "5dea6f72-f550-42cf-f629-e10ec9d7524b"
   },
   "outputs": [],
   "source": [
    "cidf[cidf.city == 'COLUMBIA']"
   ]
  },
  {
   "cell_type": "code",
   "execution_count": null,
   "metadata": {
    "id": "xzyGBGb7nttm"
   },
   "outputs": [],
   "source": [
    "y = x.merge(cidf,how='left',on = 'city')\n",
    "train = y.merge(codf,how='left', on = ['date','state'])\n",
    "df1[df1.date == '02/01/19']"
   ]
  },
  {
   "cell_type": "markdown",
   "metadata": {
    "id": "-NaRZF_5lCve"
   },
   "source": []
  },
  {
   "cell_type": "code",
   "execution_count": null,
   "metadata": {
    "id": "rEBp66w2nssE"
   },
   "outputs": [],
   "source": []
  },
  {
   "cell_type": "code",
   "execution_count": null,
   "metadata": {
    "id": "gORaQgwcnsyT"
   },
   "outputs": [],
   "source": []
  },
  {
   "cell_type": "code",
   "execution_count": null,
   "metadata": {
    "id": "SUFK9CDpnszs"
   },
   "outputs": [],
   "source": []
  },
  {
   "cell_type": "code",
   "execution_count": null,
   "metadata": {
    "id": "-bKXxDr6ns07"
   },
   "outputs": [],
   "source": []
  },
  {
   "cell_type": "code",
   "execution_count": null,
   "metadata": {
    "id": "h2kQt-Wdns_F"
   },
   "outputs": [],
   "source": []
  },
  {
   "cell_type": "code",
   "execution_count": null,
   "metadata": {
    "id": "0BR8xt7plgQy"
   },
   "outputs": [],
   "source": []
  },
  {
   "cell_type": "code",
   "execution_count": null,
   "metadata": {
    "id": "qC1L-HuwlKke"
   },
   "outputs": [],
   "source": []
  },
  {
   "cell_type": "markdown",
   "metadata": {
    "id": "pWLluHnRk0JK"
   },
   "source": [
    "## EDA"
   ]
  },
  {
   "cell_type": "code",
   "execution_count": null,
   "metadata": {
    "id": "6FpPEIpgk1_y"
   },
   "outputs": [],
   "source": []
  }
 ],
 "metadata": {
  "colab": {
   "collapsed_sections": [],
   "provenance": []
  },
  "kernelspec": {
   "display_name": "Python 3 (ipykernel)",
   "language": "python",
   "name": "python3"
  },
  "language_info": {
   "codemirror_mode": {
    "name": "ipython",
    "version": 3
   },
   "file_extension": ".py",
   "mimetype": "text/x-python",
   "name": "python",
   "nbconvert_exporter": "python",
   "pygments_lexer": "ipython3",
   "version": "3.9.7"
  }
 },
 "nbformat": 4,
 "nbformat_minor": 4
}
