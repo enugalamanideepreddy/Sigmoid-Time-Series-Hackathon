{
 "cells": [
  {
   "cell_type": "markdown",
   "metadata": {
    "id": "h0YpNx_lljPK"
   },
   "source": [
    "## DATA IMPORTING"
   ]
  },
  {
   "cell_type": "code",
   "execution_count": 37,
   "metadata": {
    "id": "8pWd4xR0lgKk"
   },
   "outputs": [],
   "source": [
    "import numpy as np\n",
    "import pandas as pd\n",
    "import matplotlib.pyplot as plt\n",
    "import plotly.express as px"
   ]
  },
  {
   "cell_type": "code",
   "execution_count": null,
   "metadata": {},
   "outputs": [],
   "source": [
    "from azureml.opendatasets import UsPopulationZip\n",
    "\n",
    "population = UsPopulationZip()\n",
    "population_df = population.to_pandas_dataframe()"
   ]
  },
  {
   "cell_type": "code",
   "execution_count": 38,
   "metadata": {},
   "outputs": [],
   "source": [
    "df1 = pd.read_csv('train.csv').dropna() #Training Dataset\n",
    "df2 = pd.read_csv('test.csv') #Testing dataset\n",
    "codf = pd.read_csv('US_COVID_data_state_level.csv') #Covid data of cities\n",
    "cidf = pd.read_csv('city_details.csv') #Cities data\n",
    "wadf = pd.read_csv('warehouse_mapping.csv') #Warehouse data"
   ]
  },
  {
   "cell_type": "code",
   "execution_count": 39,
   "metadata": {},
   "outputs": [],
   "source": [
    "df1['date']=pd.to_datetime(df1.date)\n",
    "df1.sort_values('date',inplace = True)\n",
    "df1.index = np.arange(df1.shape[0])\n",
    "codf['date']=pd.to_datetime(codf.date)\n",
    "codf.sort_values('date',inplace = True)\n",
    "codf.index = np.arange(codf.shape[0])"
   ]
  },
  {
   "cell_type": "markdown",
   "metadata": {
    "tags": []
   },
   "source": [
    "## Predicting Confirmed Cases"
   ]
  },
  {
   "cell_type": "code",
   "execution_count": 40,
   "metadata": {
    "id": "rTwqMPElsOYf"
   },
   "outputs": [],
   "source": [
    "corl = codf[codf.conf_cases.notna()] #Non-empty cells of confirmed cases"
   ]
  },
  {
   "cell_type": "code",
   "execution_count": 41,
   "metadata": {
    "id": "477hCcalt6DZ"
   },
   "outputs": [],
   "source": [
    "a,b = list(corl.tot_cases),list(corl.conf_cases)"
   ]
  },
  {
   "cell_type": "code",
   "execution_count": 42,
   "metadata": {},
   "outputs": [
    {
     "data": {
      "text/html": [
       "<style>#sk-container-id-1 {color: black;background-color: white;}#sk-container-id-1 pre{padding: 0;}#sk-container-id-1 div.sk-toggleable {background-color: white;}#sk-container-id-1 label.sk-toggleable__label {cursor: pointer;display: block;width: 100%;margin-bottom: 0;padding: 0.3em;box-sizing: border-box;text-align: center;}#sk-container-id-1 label.sk-toggleable__label-arrow:before {content: \"▸\";float: left;margin-right: 0.25em;color: #696969;}#sk-container-id-1 label.sk-toggleable__label-arrow:hover:before {color: black;}#sk-container-id-1 div.sk-estimator:hover label.sk-toggleable__label-arrow:before {color: black;}#sk-container-id-1 div.sk-toggleable__content {max-height: 0;max-width: 0;overflow: hidden;text-align: left;background-color: #f0f8ff;}#sk-container-id-1 div.sk-toggleable__content pre {margin: 0.2em;color: black;border-radius: 0.25em;background-color: #f0f8ff;}#sk-container-id-1 input.sk-toggleable__control:checked~div.sk-toggleable__content {max-height: 200px;max-width: 100%;overflow: auto;}#sk-container-id-1 input.sk-toggleable__control:checked~label.sk-toggleable__label-arrow:before {content: \"▾\";}#sk-container-id-1 div.sk-estimator input.sk-toggleable__control:checked~label.sk-toggleable__label {background-color: #d4ebff;}#sk-container-id-1 div.sk-label input.sk-toggleable__control:checked~label.sk-toggleable__label {background-color: #d4ebff;}#sk-container-id-1 input.sk-hidden--visually {border: 0;clip: rect(1px 1px 1px 1px);clip: rect(1px, 1px, 1px, 1px);height: 1px;margin: -1px;overflow: hidden;padding: 0;position: absolute;width: 1px;}#sk-container-id-1 div.sk-estimator {font-family: monospace;background-color: #f0f8ff;border: 1px dotted black;border-radius: 0.25em;box-sizing: border-box;margin-bottom: 0.5em;}#sk-container-id-1 div.sk-estimator:hover {background-color: #d4ebff;}#sk-container-id-1 div.sk-parallel-item::after {content: \"\";width: 100%;border-bottom: 1px solid gray;flex-grow: 1;}#sk-container-id-1 div.sk-label:hover label.sk-toggleable__label {background-color: #d4ebff;}#sk-container-id-1 div.sk-serial::before {content: \"\";position: absolute;border-left: 1px solid gray;box-sizing: border-box;top: 0;bottom: 0;left: 50%;z-index: 0;}#sk-container-id-1 div.sk-serial {display: flex;flex-direction: column;align-items: center;background-color: white;padding-right: 0.2em;padding-left: 0.2em;position: relative;}#sk-container-id-1 div.sk-item {position: relative;z-index: 1;}#sk-container-id-1 div.sk-parallel {display: flex;align-items: stretch;justify-content: center;background-color: white;position: relative;}#sk-container-id-1 div.sk-item::before, #sk-container-id-1 div.sk-parallel-item::before {content: \"\";position: absolute;border-left: 1px solid gray;box-sizing: border-box;top: 0;bottom: 0;left: 50%;z-index: -1;}#sk-container-id-1 div.sk-parallel-item {display: flex;flex-direction: column;z-index: 1;position: relative;background-color: white;}#sk-container-id-1 div.sk-parallel-item:first-child::after {align-self: flex-end;width: 50%;}#sk-container-id-1 div.sk-parallel-item:last-child::after {align-self: flex-start;width: 50%;}#sk-container-id-1 div.sk-parallel-item:only-child::after {width: 0;}#sk-container-id-1 div.sk-dashed-wrapped {border: 1px dashed gray;margin: 0 0.4em 0.5em 0.4em;box-sizing: border-box;padding-bottom: 0.4em;background-color: white;}#sk-container-id-1 div.sk-label label {font-family: monospace;font-weight: bold;display: inline-block;line-height: 1.2em;}#sk-container-id-1 div.sk-label-container {text-align: center;}#sk-container-id-1 div.sk-container {/* jupyter's `normalize.less` sets `[hidden] { display: none; }` but bootstrap.min.css set `[hidden] { display: none !important; }` so we also need the `!important` here to be able to override the default hidden behavior on the sphinx rendered scikit-learn.org. See: https://github.com/scikit-learn/scikit-learn/issues/21755 */display: inline-block !important;position: relative;}#sk-container-id-1 div.sk-text-repr-fallback {display: none;}</style><div id=\"sk-container-id-1\" class=\"sk-top-container\"><div class=\"sk-text-repr-fallback\"><pre>RandomForestRegressor()</pre><b>In a Jupyter environment, please rerun this cell to show the HTML representation or trust the notebook. <br />On GitHub, the HTML representation is unable to render, please try loading this page with nbviewer.org.</b></div><div class=\"sk-container\" hidden><div class=\"sk-item\"><div class=\"sk-estimator sk-toggleable\"><input class=\"sk-toggleable__control sk-hidden--visually\" id=\"sk-estimator-id-1\" type=\"checkbox\" checked><label for=\"sk-estimator-id-1\" class=\"sk-toggleable__label sk-toggleable__label-arrow\">RandomForestRegressor</label><div class=\"sk-toggleable__content\"><pre>RandomForestRegressor()</pre></div></div></div></div></div>"
      ],
      "text/plain": [
       "RandomForestRegressor()"
      ]
     },
     "execution_count": 42,
     "metadata": {},
     "output_type": "execute_result"
    }
   ],
   "source": [
    "from sklearn.ensemble import RandomForestRegressor \n",
    "algo=RandomForestRegressor()\n",
    "ratio = []\n",
    "for i in range(len(a)):\n",
    "    if b[i]!=0:\n",
    "        ratio.append((a[i]-b[i])/(b[i]))\n",
    "    else:\n",
    "        ratio.append(0)\n",
    "a=np.array(a).reshape(-1,1)\n",
    "algo.fit(a,ratio)"
   ]
  },
  {
   "cell_type": "code",
   "execution_count": 43,
   "metadata": {},
   "outputs": [],
   "source": [
    "for i in codf[codf.conf_cases.isna()].index:\n",
    "    codf.iloc[i,3] = int(np.array(codf.iloc[i,2])/(1+algo.predict(np.array(codf.iloc[i,2].reshape(1,-1)))))"
   ]
  },
  {
   "cell_type": "code",
   "execution_count": 44,
   "metadata": {},
   "outputs": [
    {
     "data": {
      "text/html": [
       "<div>\n",
       "<style scoped>\n",
       "    .dataframe tbody tr th:only-of-type {\n",
       "        vertical-align: middle;\n",
       "    }\n",
       "\n",
       "    .dataframe tbody tr th {\n",
       "        vertical-align: top;\n",
       "    }\n",
       "\n",
       "    .dataframe thead th {\n",
       "        text-align: right;\n",
       "    }\n",
       "</style>\n",
       "<table border=\"1\" class=\"dataframe\">\n",
       "  <thead>\n",
       "    <tr style=\"text-align: right;\">\n",
       "      <th></th>\n",
       "      <th>date</th>\n",
       "      <th>state</th>\n",
       "      <th>tot_cases</th>\n",
       "      <th>conf_cases</th>\n",
       "    </tr>\n",
       "  </thead>\n",
       "  <tbody>\n",
       "    <tr>\n",
       "      <th>21856</th>\n",
       "      <td>2021-01-27</td>\n",
       "      <td>WY</td>\n",
       "      <td>51368</td>\n",
       "      <td>43826.0</td>\n",
       "    </tr>\n",
       "    <tr>\n",
       "      <th>27887</th>\n",
       "      <td>2021-08-02</td>\n",
       "      <td>MD</td>\n",
       "      <td>365529</td>\n",
       "      <td>314009.0</td>\n",
       "    </tr>\n",
       "    <tr>\n",
       "      <th>4509</th>\n",
       "      <td>2020-03-28</td>\n",
       "      <td>AL</td>\n",
       "      <td>2554</td>\n",
       "      <td>2420.0</td>\n",
       "    </tr>\n",
       "    <tr>\n",
       "      <th>13929</th>\n",
       "      <td>2020-09-07</td>\n",
       "      <td>VI</td>\n",
       "      <td>153</td>\n",
       "      <td>152.0</td>\n",
       "    </tr>\n",
       "    <tr>\n",
       "      <th>10354</th>\n",
       "      <td>2020-07-07</td>\n",
       "      <td>OR</td>\n",
       "      <td>10605</td>\n",
       "      <td>10605.0</td>\n",
       "    </tr>\n",
       "  </tbody>\n",
       "</table>\n",
       "</div>"
      ],
      "text/plain": [
       "            date state  tot_cases  conf_cases\n",
       "21856 2021-01-27    WY      51368     43826.0\n",
       "27887 2021-08-02    MD     365529    314009.0\n",
       "4509  2020-03-28    AL       2554      2420.0\n",
       "13929 2020-09-07    VI        153       152.0\n",
       "10354 2020-07-07    OR      10605     10605.0"
      ]
     },
     "execution_count": 44,
     "metadata": {},
     "output_type": "execute_result"
    }
   ],
   "source": [
    "codf.sample(5)"
   ]
  },
  {
   "cell_type": "markdown",
   "metadata": {
    "tags": []
   },
   "source": [
    "## DATA CLEANING"
   ]
  },
  {
   "cell_type": "code",
   "execution_count": 88,
   "metadata": {},
   "outputs": [
    {
     "data": {
      "text/plain": [
       "(            city  zip_code state  state_name\n",
       " 554  WESTMINSTER     92683    CA  CALIFORNIA\n",
       " 555      ONTARIO     91761    CA  CALIFORNIA\n",
       " 556       TACOMA     98409    WA  WASHINGTON\n",
       " 557      BOZEMAN     59718    MT     MONTANA\n",
       " 558    CLACKAMAS     97015    OR      OREGON,\n",
       " (555, 4))"
      ]
     },
     "execution_count": 88,
     "metadata": {},
     "output_type": "execute_result"
    }
   ],
   "source": [
    "cidf1 = cidf.drop(['country'],axis = 1) #dropping useless columns\n",
    "cidf1 = cidf1.drop_duplicates()\n",
    "cidf1.tail(),cidf1.shape"
   ]
  },
  {
   "cell_type": "code",
   "execution_count": 89,
   "metadata": {},
   "outputs": [
    {
     "data": {
      "text/plain": [
       "(array([94080, 98027], dtype=int64), array([2, 2], dtype=int64))"
      ]
     },
     "execution_count": 89,
     "metadata": {},
     "output_type": "execute_result"
    }
   ],
   "source": [
    "value,counts = np.unique(cidf1.zip_code,return_counts=True)\n",
    "value[counts>1],counts[counts>1]"
   ]
  },
  {
   "cell_type": "code",
   "execution_count": 90,
   "metadata": {},
   "outputs": [
    {
     "data": {
      "text/html": [
       "<div>\n",
       "<style scoped>\n",
       "    .dataframe tbody tr th:only-of-type {\n",
       "        vertical-align: middle;\n",
       "    }\n",
       "\n",
       "    .dataframe tbody tr th {\n",
       "        vertical-align: top;\n",
       "    }\n",
       "\n",
       "    .dataframe thead th {\n",
       "        text-align: right;\n",
       "    }\n",
       "</style>\n",
       "<table border=\"1\" class=\"dataframe\">\n",
       "  <thead>\n",
       "    <tr style=\"text-align: right;\">\n",
       "      <th></th>\n",
       "      <th>city</th>\n",
       "      <th>zip_code</th>\n",
       "      <th>state</th>\n",
       "      <th>state_name</th>\n",
       "    </tr>\n",
       "  </thead>\n",
       "  <tbody>\n",
       "    <tr>\n",
       "      <th>370</th>\n",
       "      <td>S</td>\n",
       "      <td>94080</td>\n",
       "      <td>CA</td>\n",
       "      <td>CALIFORNIA</td>\n",
       "    </tr>\n",
       "    <tr>\n",
       "      <th>371</th>\n",
       "      <td>EL</td>\n",
       "      <td>94080</td>\n",
       "      <td>CA</td>\n",
       "      <td>CALIFORNIA</td>\n",
       "    </tr>\n",
       "  </tbody>\n",
       "</table>\n",
       "</div>"
      ],
      "text/plain": [
       "    city  zip_code state  state_name\n",
       "370    S     94080    CA  CALIFORNIA\n",
       "371   EL     94080    CA  CALIFORNIA"
      ]
     },
     "execution_count": 90,
     "metadata": {},
     "output_type": "execute_result"
    }
   ],
   "source": [
    "cidf1[cidf1.zip_code == 94080]"
   ]
  },
  {
   "cell_type": "code",
   "execution_count": 91,
   "metadata": {},
   "outputs": [],
   "source": [
    "cidf1.drop(index=371,inplace=True)"
   ]
  },
  {
   "cell_type": "code",
   "execution_count": 92,
   "metadata": {},
   "outputs": [
    {
     "data": {
      "text/html": [
       "<div>\n",
       "<style scoped>\n",
       "    .dataframe tbody tr th:only-of-type {\n",
       "        vertical-align: middle;\n",
       "    }\n",
       "\n",
       "    .dataframe tbody tr th {\n",
       "        vertical-align: top;\n",
       "    }\n",
       "\n",
       "    .dataframe thead th {\n",
       "        text-align: right;\n",
       "    }\n",
       "</style>\n",
       "<table border=\"1\" class=\"dataframe\">\n",
       "  <thead>\n",
       "    <tr style=\"text-align: right;\">\n",
       "      <th></th>\n",
       "      <th>city</th>\n",
       "      <th>zip_code</th>\n",
       "      <th>state</th>\n",
       "      <th>state_name</th>\n",
       "    </tr>\n",
       "  </thead>\n",
       "  <tbody>\n",
       "    <tr>\n",
       "      <th>69</th>\n",
       "      <td>ISSAQUAH</td>\n",
       "      <td>98027</td>\n",
       "      <td>WA</td>\n",
       "      <td>WASHINGTON</td>\n",
       "    </tr>\n",
       "    <tr>\n",
       "      <th>70</th>\n",
       "      <td>US</td>\n",
       "      <td>98027</td>\n",
       "      <td>WA</td>\n",
       "      <td>WASHINGTON</td>\n",
       "    </tr>\n",
       "  </tbody>\n",
       "</table>\n",
       "</div>"
      ],
      "text/plain": [
       "        city  zip_code state  state_name\n",
       "69  ISSAQUAH     98027    WA  WASHINGTON\n",
       "70        US     98027    WA  WASHINGTON"
      ]
     },
     "execution_count": 92,
     "metadata": {},
     "output_type": "execute_result"
    }
   ],
   "source": [
    "cidf1[cidf1.zip_code == 98027]"
   ]
  },
  {
   "cell_type": "code",
   "execution_count": 93,
   "metadata": {},
   "outputs": [],
   "source": [
    "cidf1.drop(index=70,inplace=True)"
   ]
  },
  {
   "cell_type": "code",
   "execution_count": 94,
   "metadata": {},
   "outputs": [],
   "source": [
    "uszips = pd.read_csv('uszips.csv')\n",
    "# zips = uszips.zip.unique()\n",
    "# sum =0\n",
    "# for z in y:\n",
    "#     if z in zips:\n",
    "#         sum+=1\n",
    "#     else: print(z)\n",
    "# sum,y.shape\n",
    "cidf1 = cidf1.merge(uszips[['zip','population']],how='left',right_on='zip',left_on='zip_code')"
   ]
  },
  {
   "cell_type": "code",
   "execution_count": 102,
   "metadata": {},
   "outputs": [],
   "source": [
    "state = cidf1.state.unique()\n",
    "num_cities = [cidf1[cidf1.state == st].zip_code.nunique() for st in state]\n",
    "stct = pd.DataFrame({'state':state,'num_cities':num_cities})\n",
    "cidf1['city_weight'] = cidf1['population']/cidf1['population'].sum()"
   ]
  },
  {
   "cell_type": "markdown",
   "metadata": {},
   "source": [
    "## DATA PREPROCESSING"
   ]
  },
  {
   "cell_type": "code",
   "execution_count": 103,
   "metadata": {},
   "outputs": [],
   "source": [
    "cidf_final = cidf1.merge(stct,on = 'state',how = 'left')"
   ]
  },
  {
   "cell_type": "code",
   "execution_count": 104,
   "metadata": {},
   "outputs": [
    {
     "data": {
      "text/html": [
       "<div>\n",
       "<style scoped>\n",
       "    .dataframe tbody tr th:only-of-type {\n",
       "        vertical-align: middle;\n",
       "    }\n",
       "\n",
       "    .dataframe tbody tr th {\n",
       "        vertical-align: top;\n",
       "    }\n",
       "\n",
       "    .dataframe thead th {\n",
       "        text-align: right;\n",
       "    }\n",
       "</style>\n",
       "<table border=\"1\" class=\"dataframe\">\n",
       "  <thead>\n",
       "    <tr style=\"text-align: right;\">\n",
       "      <th></th>\n",
       "      <th>city</th>\n",
       "      <th>zip_code</th>\n",
       "      <th>state</th>\n",
       "      <th>state_name</th>\n",
       "      <th>zip</th>\n",
       "      <th>population</th>\n",
       "      <th>city_weight</th>\n",
       "      <th>num_cities</th>\n",
       "    </tr>\n",
       "  </thead>\n",
       "  <tbody>\n",
       "    <tr>\n",
       "      <th>0</th>\n",
       "      <td>SEATTLE</td>\n",
       "      <td>98134</td>\n",
       "      <td>WA</td>\n",
       "      <td>WASHINGTON</td>\n",
       "      <td>98134</td>\n",
       "      <td>779.0</td>\n",
       "      <td>0.000037</td>\n",
       "      <td>32</td>\n",
       "    </tr>\n",
       "    <tr>\n",
       "      <th>1</th>\n",
       "      <td>ANCHORAGE</td>\n",
       "      <td>99515</td>\n",
       "      <td>AK</td>\n",
       "      <td>ALASKA</td>\n",
       "      <td>99515</td>\n",
       "      <td>22226.0</td>\n",
       "      <td>0.001055</td>\n",
       "      <td>4</td>\n",
       "    </tr>\n",
       "    <tr>\n",
       "      <th>2</th>\n",
       "      <td>COLUMBIA</td>\n",
       "      <td>21075</td>\n",
       "      <td>MD</td>\n",
       "      <td>MARYLAND</td>\n",
       "      <td>21075</td>\n",
       "      <td>34939.0</td>\n",
       "      <td>0.001658</td>\n",
       "      <td>11</td>\n",
       "    </tr>\n",
       "    <tr>\n",
       "      <th>3</th>\n",
       "      <td>TUSTIN</td>\n",
       "      <td>92782</td>\n",
       "      <td>CA</td>\n",
       "      <td>CALIFORNIA</td>\n",
       "      <td>92782</td>\n",
       "      <td>23166.0</td>\n",
       "      <td>0.001099</td>\n",
       "      <td>126</td>\n",
       "    </tr>\n",
       "    <tr>\n",
       "      <th>4</th>\n",
       "      <td>ANTIOCH</td>\n",
       "      <td>94509</td>\n",
       "      <td>CA</td>\n",
       "      <td>CALIFORNIA</td>\n",
       "      <td>94509</td>\n",
       "      <td>69295.0</td>\n",
       "      <td>0.003288</td>\n",
       "      <td>126</td>\n",
       "    </tr>\n",
       "    <tr>\n",
       "      <th>...</th>\n",
       "      <td>...</td>\n",
       "      <td>...</td>\n",
       "      <td>...</td>\n",
       "      <td>...</td>\n",
       "      <td>...</td>\n",
       "      <td>...</td>\n",
       "      <td>...</td>\n",
       "      <td>...</td>\n",
       "    </tr>\n",
       "    <tr>\n",
       "      <th>548</th>\n",
       "      <td>WESTMINSTER</td>\n",
       "      <td>92683</td>\n",
       "      <td>CA</td>\n",
       "      <td>CALIFORNIA</td>\n",
       "      <td>92683</td>\n",
       "      <td>90833.0</td>\n",
       "      <td>0.004310</td>\n",
       "      <td>126</td>\n",
       "    </tr>\n",
       "    <tr>\n",
       "      <th>549</th>\n",
       "      <td>ONTARIO</td>\n",
       "      <td>91761</td>\n",
       "      <td>CA</td>\n",
       "      <td>CALIFORNIA</td>\n",
       "      <td>91761</td>\n",
       "      <td>60827.0</td>\n",
       "      <td>0.002886</td>\n",
       "      <td>126</td>\n",
       "    </tr>\n",
       "    <tr>\n",
       "      <th>550</th>\n",
       "      <td>TACOMA</td>\n",
       "      <td>98409</td>\n",
       "      <td>WA</td>\n",
       "      <td>WASHINGTON</td>\n",
       "      <td>98409</td>\n",
       "      <td>27918.0</td>\n",
       "      <td>0.001325</td>\n",
       "      <td>32</td>\n",
       "    </tr>\n",
       "    <tr>\n",
       "      <th>551</th>\n",
       "      <td>BOZEMAN</td>\n",
       "      <td>59718</td>\n",
       "      <td>MT</td>\n",
       "      <td>MONTANA</td>\n",
       "      <td>59718</td>\n",
       "      <td>39282.0</td>\n",
       "      <td>0.001864</td>\n",
       "      <td>5</td>\n",
       "    </tr>\n",
       "    <tr>\n",
       "      <th>552</th>\n",
       "      <td>CLACKAMAS</td>\n",
       "      <td>97015</td>\n",
       "      <td>OR</td>\n",
       "      <td>OREGON</td>\n",
       "      <td>97015</td>\n",
       "      <td>24332.0</td>\n",
       "      <td>0.001155</td>\n",
       "      <td>13</td>\n",
       "    </tr>\n",
       "  </tbody>\n",
       "</table>\n",
       "<p>553 rows × 8 columns</p>\n",
       "</div>"
      ],
      "text/plain": [
       "            city  zip_code state  state_name    zip  population  city_weight  \\\n",
       "0        SEATTLE     98134    WA  WASHINGTON  98134       779.0     0.000037   \n",
       "1      ANCHORAGE     99515    AK      ALASKA  99515     22226.0     0.001055   \n",
       "2       COLUMBIA     21075    MD    MARYLAND  21075     34939.0     0.001658   \n",
       "3         TUSTIN     92782    CA  CALIFORNIA  92782     23166.0     0.001099   \n",
       "4        ANTIOCH     94509    CA  CALIFORNIA  94509     69295.0     0.003288   \n",
       "..           ...       ...   ...         ...    ...         ...          ...   \n",
       "548  WESTMINSTER     92683    CA  CALIFORNIA  92683     90833.0     0.004310   \n",
       "549      ONTARIO     91761    CA  CALIFORNIA  91761     60827.0     0.002886   \n",
       "550       TACOMA     98409    WA  WASHINGTON  98409     27918.0     0.001325   \n",
       "551      BOZEMAN     59718    MT     MONTANA  59718     39282.0     0.001864   \n",
       "552    CLACKAMAS     97015    OR      OREGON  97015     24332.0     0.001155   \n",
       "\n",
       "     num_cities  \n",
       "0            32  \n",
       "1             4  \n",
       "2            11  \n",
       "3           126  \n",
       "4           126  \n",
       "..          ...  \n",
       "548         126  \n",
       "549         126  \n",
       "550          32  \n",
       "551           5  \n",
       "552          13  \n",
       "\n",
       "[553 rows x 8 columns]"
      ]
     },
     "execution_count": 104,
     "metadata": {},
     "output_type": "execute_result"
    }
   ],
   "source": [
    "cidf_final"
   ]
  },
  {
   "cell_type": "code",
   "execution_count": 105,
   "metadata": {},
   "outputs": [
    {
     "data": {
      "text/html": [
       "<div>\n",
       "<style scoped>\n",
       "    .dataframe tbody tr th:only-of-type {\n",
       "        vertical-align: middle;\n",
       "    }\n",
       "\n",
       "    .dataframe tbody tr th {\n",
       "        vertical-align: top;\n",
       "    }\n",
       "\n",
       "    .dataframe thead th {\n",
       "        text-align: right;\n",
       "    }\n",
       "</style>\n",
       "<table border=\"1\" class=\"dataframe\">\n",
       "  <thead>\n",
       "    <tr style=\"text-align: right;\">\n",
       "      <th></th>\n",
       "      <th>wh_id</th>\n",
       "      <th>warehouse_name</th>\n",
       "      <th>city</th>\n",
       "    </tr>\n",
       "  </thead>\n",
       "  <tbody>\n",
       "    <tr>\n",
       "      <th>528</th>\n",
       "      <td>770</td>\n",
       "      <td>WAREHOUSE 770 SOUTH OGDEN</td>\n",
       "      <td>SOUTH</td>\n",
       "    </tr>\n",
       "    <tr>\n",
       "      <th>551</th>\n",
       "      <td>9</td>\n",
       "      <td>WAREHOUSE 9 ALOHA</td>\n",
       "      <td>ALOHA</td>\n",
       "    </tr>\n",
       "    <tr>\n",
       "      <th>236</th>\n",
       "      <td>183</td>\n",
       "      <td>WAREHOUSE 183 ALTAMONTE SPRINGS</td>\n",
       "      <td>ALTAMONTE</td>\n",
       "    </tr>\n",
       "    <tr>\n",
       "      <th>167</th>\n",
       "      <td>1267</td>\n",
       "      <td>WAREHOUSE 1267 GREAT OAKS</td>\n",
       "      <td>GREAT</td>\n",
       "    </tr>\n",
       "    <tr>\n",
       "      <th>126</th>\n",
       "      <td>1194</td>\n",
       "      <td>WAREHOUSE 1194 PERRYSBURG</td>\n",
       "      <td>PERRYSBURG</td>\n",
       "    </tr>\n",
       "  </tbody>\n",
       "</table>\n",
       "</div>"
      ],
      "text/plain": [
       "     wh_id                   warehouse_name        city\n",
       "528    770        WAREHOUSE 770 SOUTH OGDEN       SOUTH\n",
       "551      9                WAREHOUSE 9 ALOHA       ALOHA\n",
       "236    183  WAREHOUSE 183 ALTAMONTE SPRINGS   ALTAMONTE\n",
       "167   1267        WAREHOUSE 1267 GREAT OAKS       GREAT\n",
       "126   1194        WAREHOUSE 1194 PERRYSBURG  PERRYSBURG"
      ]
     },
     "execution_count": 105,
     "metadata": {},
     "output_type": "execute_result"
    }
   ],
   "source": [
    "wadf.sample(5)"
   ]
  },
  {
   "cell_type": "code",
   "execution_count": 113,
   "metadata": {
    "colab": {
     "base_uri": "https://localhost:8080/",
     "height": 423
    },
    "id": "_48oQIpRfSwX",
    "outputId": "cd7f07ec-ab5d-4c86-beaa-89b89d75931b"
   },
   "outputs": [
    {
     "name": "stdout",
     "output_type": "stream",
     "text": [
      "(276208, 12)\n"
     ]
    },
    {
     "data": {
      "text/html": [
       "<div>\n",
       "<style scoped>\n",
       "    .dataframe tbody tr th:only-of-type {\n",
       "        vertical-align: middle;\n",
       "    }\n",
       "\n",
       "    .dataframe tbody tr th {\n",
       "        vertical-align: top;\n",
       "    }\n",
       "\n",
       "    .dataframe thead th {\n",
       "        text-align: right;\n",
       "    }\n",
       "</style>\n",
       "<table border=\"1\" class=\"dataframe\">\n",
       "  <thead>\n",
       "    <tr style=\"text-align: right;\">\n",
       "      <th></th>\n",
       "      <th>date</th>\n",
       "      <th>state</th>\n",
       "      <th>tot_cases</th>\n",
       "      <th>conf_cases</th>\n",
       "      <th>month</th>\n",
       "      <th>city</th>\n",
       "      <th>zip_code</th>\n",
       "      <th>state_name</th>\n",
       "      <th>zip</th>\n",
       "      <th>population</th>\n",
       "      <th>city_weight</th>\n",
       "      <th>num_cities</th>\n",
       "      <th>avg_tot_cases/num_cities</th>\n",
       "      <th>avg_conf_cases/num_cities</th>\n",
       "      <th>avg_tot_cases/city_weight</th>\n",
       "      <th>avg_conf_cases/city_weight</th>\n",
       "    </tr>\n",
       "  </thead>\n",
       "  <tbody>\n",
       "    <tr>\n",
       "      <th>66080</th>\n",
       "      <td>2020-05-10</td>\n",
       "      <td>CA</td>\n",
       "      <td>853674</td>\n",
       "      <td>770708.0</td>\n",
       "      <td>5</td>\n",
       "      <td>REDDING</td>\n",
       "      <td>96003.0</td>\n",
       "      <td>CALIFORNIA</td>\n",
       "      <td>96003.0</td>\n",
       "      <td>44171.0</td>\n",
       "      <td>0.002096</td>\n",
       "      <td>126.0</td>\n",
       "      <td>6775.190476</td>\n",
       "      <td>6116.730159</td>\n",
       "      <td>1789.145627</td>\n",
       "      <td>1615.263962</td>\n",
       "    </tr>\n",
       "    <tr>\n",
       "      <th>197926</th>\n",
       "      <td>2021-01-05</td>\n",
       "      <td>CA</td>\n",
       "      <td>3649956</td>\n",
       "      <td>3649956.0</td>\n",
       "      <td>1</td>\n",
       "      <td>LAGUNA</td>\n",
       "      <td>92677.0</td>\n",
       "      <td>CALIFORNIA</td>\n",
       "      <td>92677.0</td>\n",
       "      <td>65508.0</td>\n",
       "      <td>0.003108</td>\n",
       "      <td>126.0</td>\n",
       "      <td>28967.904762</td>\n",
       "      <td>28967.904762</td>\n",
       "      <td>11344.839986</td>\n",
       "      <td>11344.839986</td>\n",
       "    </tr>\n",
       "    <tr>\n",
       "      <th>38278</th>\n",
       "      <td>2020-03-20</td>\n",
       "      <td>CO</td>\n",
       "      <td>363</td>\n",
       "      <td>299.0</td>\n",
       "      <td>3</td>\n",
       "      <td>WESTMINSTER</td>\n",
       "      <td>80031.0</td>\n",
       "      <td>COLORADO</td>\n",
       "      <td>80031.0</td>\n",
       "      <td>35753.0</td>\n",
       "      <td>0.001696</td>\n",
       "      <td>14.0</td>\n",
       "      <td>25.928571</td>\n",
       "      <td>21.357143</td>\n",
       "      <td>0.615794</td>\n",
       "      <td>0.507224</td>\n",
       "    </tr>\n",
       "    <tr>\n",
       "      <th>131423</th>\n",
       "      <td>2020-09-07</td>\n",
       "      <td>CA</td>\n",
       "      <td>398263</td>\n",
       "      <td>385752.0</td>\n",
       "      <td>9</td>\n",
       "      <td>NORTHRIDGE</td>\n",
       "      <td>91324.0</td>\n",
       "      <td>CALIFORNIA</td>\n",
       "      <td>91324.0</td>\n",
       "      <td>30995.0</td>\n",
       "      <td>0.001471</td>\n",
       "      <td>126.0</td>\n",
       "      <td>3160.817460</td>\n",
       "      <td>3061.523810</td>\n",
       "      <td>585.703753</td>\n",
       "      <td>567.304505</td>\n",
       "    </tr>\n",
       "    <tr>\n",
       "      <th>77781</th>\n",
       "      <td>2020-05-31</td>\n",
       "      <td>GA</td>\n",
       "      <td>45612</td>\n",
       "      <td>45583.0</td>\n",
       "      <td>5</td>\n",
       "      <td>WOODSTOCK</td>\n",
       "      <td>30188.0</td>\n",
       "      <td>GEORGIA</td>\n",
       "      <td>30188.0</td>\n",
       "      <td>63869.0</td>\n",
       "      <td>0.003030</td>\n",
       "      <td>14.0</td>\n",
       "      <td>3258.000000</td>\n",
       "      <td>3255.928571</td>\n",
       "      <td>138.224694</td>\n",
       "      <td>138.136811</td>\n",
       "    </tr>\n",
       "  </tbody>\n",
       "</table>\n",
       "</div>"
      ],
      "text/plain": [
       "             date state  tot_cases  conf_cases  month         city  zip_code  \\\n",
       "66080  2020-05-10    CA     853674    770708.0      5      REDDING   96003.0   \n",
       "197926 2021-01-05    CA    3649956   3649956.0      1       LAGUNA   92677.0   \n",
       "38278  2020-03-20    CO        363       299.0      3  WESTMINSTER   80031.0   \n",
       "131423 2020-09-07    CA     398263    385752.0      9   NORTHRIDGE   91324.0   \n",
       "77781  2020-05-31    GA      45612     45583.0      5    WOODSTOCK   30188.0   \n",
       "\n",
       "        state_name      zip  population  city_weight  num_cities  \\\n",
       "66080   CALIFORNIA  96003.0     44171.0     0.002096       126.0   \n",
       "197926  CALIFORNIA  92677.0     65508.0     0.003108       126.0   \n",
       "38278     COLORADO  80031.0     35753.0     0.001696        14.0   \n",
       "131423  CALIFORNIA  91324.0     30995.0     0.001471       126.0   \n",
       "77781      GEORGIA  30188.0     63869.0     0.003030        14.0   \n",
       "\n",
       "        avg_tot_cases/num_cities  avg_conf_cases/num_cities  \\\n",
       "66080                6775.190476                6116.730159   \n",
       "197926              28967.904762               28967.904762   \n",
       "38278                  25.928571                  21.357143   \n",
       "131423               3160.817460                3061.523810   \n",
       "77781                3258.000000                3255.928571   \n",
       "\n",
       "        avg_tot_cases/city_weight  avg_conf_cases/city_weight  \n",
       "66080                 1789.145627                 1615.263962  \n",
       "197926               11344.839986                11344.839986  \n",
       "38278                    0.615794                    0.507224  \n",
       "131423                 585.703753                  567.304505  \n",
       "77781                  138.224694                  138.136811  "
      ]
     },
     "execution_count": 113,
     "metadata": {},
     "output_type": "execute_result"
    }
   ],
   "source": [
    "m = codf.merge(cidf_final,how = 'left',on='state') \n",
    "print(m.shape)\n",
    "m['avg_tot_cases/num_cities'] = m['tot_cases']/m['num_cities']\n",
    "m['avg_conf_cases/num_cities'] = m['conf_cases']/m['num_cities']\n",
    "m['avg_tot_cases/city_weight'] = m['tot_cases']*m['city_weight']\n",
    "m['avg_conf_cases/city_weight'] = m['conf_cases']*m['city_weight']\n",
    "m.sample(5) #merging covid data and cities data using state as a common entity"
   ]
  },
  {
   "cell_type": "code",
   "execution_count": 114,
   "metadata": {
    "id": "eozdjAslsGIQ"
   },
   "outputs": [
    {
     "data": {
      "text/html": [
       "<div>\n",
       "<style scoped>\n",
       "    .dataframe tbody tr th:only-of-type {\n",
       "        vertical-align: middle;\n",
       "    }\n",
       "\n",
       "    .dataframe tbody tr th {\n",
       "        vertical-align: top;\n",
       "    }\n",
       "\n",
       "    .dataframe thead th {\n",
       "        text-align: right;\n",
       "    }\n",
       "</style>\n",
       "<table border=\"1\" class=\"dataframe\">\n",
       "  <thead>\n",
       "    <tr style=\"text-align: right;\">\n",
       "      <th></th>\n",
       "      <th>wh_id</th>\n",
       "      <th>warehouse_name</th>\n",
       "      <th>city</th>\n",
       "    </tr>\n",
       "  </thead>\n",
       "  <tbody>\n",
       "    <tr>\n",
       "      <th>86</th>\n",
       "      <td>1120</td>\n",
       "      <td>WAREHOUSE 1120 WASHINGTON DC</td>\n",
       "      <td>WASHINGTON</td>\n",
       "    </tr>\n",
       "    <tr>\n",
       "      <th>156</th>\n",
       "      <td>1236</td>\n",
       "      <td>WAREHOUSE 1236 FLEMINGTON</td>\n",
       "      <td>FLEMINGTON</td>\n",
       "    </tr>\n",
       "    <tr>\n",
       "      <th>129</th>\n",
       "      <td>1197</td>\n",
       "      <td>WAREHOUSE 1197 FLORENCE</td>\n",
       "      <td>FLORENCE</td>\n",
       "    </tr>\n",
       "    <tr>\n",
       "      <th>214</th>\n",
       "      <td>1375</td>\n",
       "      <td>WAREHOUSE 1375 SURPRISE</td>\n",
       "      <td>SURPRISE</td>\n",
       "    </tr>\n",
       "    <tr>\n",
       "      <th>354</th>\n",
       "      <td>386</td>\n",
       "      <td>WAREHOUSE 386 BRENTWOOD</td>\n",
       "      <td>BRENTWOOD</td>\n",
       "    </tr>\n",
       "  </tbody>\n",
       "</table>\n",
       "</div>"
      ],
      "text/plain": [
       "     wh_id                warehouse_name        city\n",
       "86    1120  WAREHOUSE 1120 WASHINGTON DC  WASHINGTON\n",
       "156   1236     WAREHOUSE 1236 FLEMINGTON  FLEMINGTON\n",
       "129   1197       WAREHOUSE 1197 FLORENCE    FLORENCE\n",
       "214   1375       WAREHOUSE 1375 SURPRISE    SURPRISE\n",
       "354    386       WAREHOUSE 386 BRENTWOOD   BRENTWOOD"
      ]
     },
     "execution_count": 114,
     "metadata": {},
     "output_type": "execute_result"
    }
   ],
   "source": [
    "b = []\n",
    "for row in wadf.values:\n",
    "  b.append(row[1].split()[2]) #taking 3rd word from warehouse_name which is city\n",
    "\n",
    "wadf['city'] = np.array(b)\n",
    "wadf.sample(5)"
   ]
  },
  {
   "cell_type": "code",
   "execution_count": 115,
   "metadata": {
    "id": "uiCDcCp1ntl-"
   },
   "outputs": [],
   "source": [
    "x = df1.merge(wadf.drop(axis = 1,columns=['warehouse_name']),how='left',on = 'wh_id')"
   ]
  },
  {
   "cell_type": "code",
   "execution_count": 116,
   "metadata": {},
   "outputs": [
    {
     "name": "stdout",
     "output_type": "stream",
     "text": [
      "(449995, 4)\n"
     ]
    },
    {
     "data": {
      "text/html": [
       "<div>\n",
       "<style scoped>\n",
       "    .dataframe tbody tr th:only-of-type {\n",
       "        vertical-align: middle;\n",
       "    }\n",
       "\n",
       "    .dataframe tbody tr th {\n",
       "        vertical-align: top;\n",
       "    }\n",
       "\n",
       "    .dataframe thead th {\n",
       "        text-align: right;\n",
       "    }\n",
       "</style>\n",
       "<table border=\"1\" class=\"dataframe\">\n",
       "  <thead>\n",
       "    <tr style=\"text-align: right;\">\n",
       "      <th></th>\n",
       "      <th>date</th>\n",
       "      <th>wh_id</th>\n",
       "      <th>sales</th>\n",
       "      <th>city</th>\n",
       "    </tr>\n",
       "  </thead>\n",
       "  <tbody>\n",
       "    <tr>\n",
       "      <th>350323</th>\n",
       "      <td>2020-09-19</td>\n",
       "      <td>1272.0</td>\n",
       "      <td>200</td>\n",
       "      <td>WOODBURY</td>\n",
       "    </tr>\n",
       "    <tr>\n",
       "      <th>427315</th>\n",
       "      <td>2021-02-22</td>\n",
       "      <td>29.0</td>\n",
       "      <td>77</td>\n",
       "      <td>ROSEVILLE</td>\n",
       "    </tr>\n",
       "    <tr>\n",
       "      <th>414748</th>\n",
       "      <td>2021-01-21</td>\n",
       "      <td>1197.0</td>\n",
       "      <td>47</td>\n",
       "      <td>FLORENCE</td>\n",
       "    </tr>\n",
       "    <tr>\n",
       "      <th>17974</th>\n",
       "      <td>2019-02-03</td>\n",
       "      <td>1232.0</td>\n",
       "      <td>8</td>\n",
       "      <td>COLUMBIA</td>\n",
       "    </tr>\n",
       "    <tr>\n",
       "      <th>249815</th>\n",
       "      <td>2020-03-23</td>\n",
       "      <td>1030.0</td>\n",
       "      <td>508</td>\n",
       "      <td>W</td>\n",
       "    </tr>\n",
       "  </tbody>\n",
       "</table>\n",
       "</div>"
      ],
      "text/plain": [
       "             date   wh_id  sales       city\n",
       "350323 2020-09-19  1272.0    200   WOODBURY\n",
       "427315 2021-02-22    29.0     77  ROSEVILLE\n",
       "414748 2021-01-21  1197.0     47   FLORENCE\n",
       "17974  2019-02-03  1232.0      8   COLUMBIA\n",
       "249815 2020-03-23  1030.0    508          W"
      ]
     },
     "execution_count": 116,
     "metadata": {},
     "output_type": "execute_result"
    }
   ],
   "source": [
    "print(x.shape)\n",
    "x.sample(5)\n",
    "# merged data of train and warehouse datasets"
   ]
  },
  {
   "cell_type": "code",
   "execution_count": 117,
   "metadata": {
    "id": "KkvwI8K3DrjI"
   },
   "outputs": [],
   "source": [
    "z = x.merge(m,how='left', on = ['date','city'])"
   ]
  },
  {
   "cell_type": "code",
   "execution_count": 118,
   "metadata": {},
   "outputs": [
    {
     "name": "stdout",
     "output_type": "stream",
     "text": [
      "(646135, 18)\n"
     ]
    },
    {
     "data": {
      "text/html": [
       "<div>\n",
       "<style scoped>\n",
       "    .dataframe tbody tr th:only-of-type {\n",
       "        vertical-align: middle;\n",
       "    }\n",
       "\n",
       "    .dataframe tbody tr th {\n",
       "        vertical-align: top;\n",
       "    }\n",
       "\n",
       "    .dataframe thead th {\n",
       "        text-align: right;\n",
       "    }\n",
       "</style>\n",
       "<table border=\"1\" class=\"dataframe\">\n",
       "  <thead>\n",
       "    <tr style=\"text-align: right;\">\n",
       "      <th></th>\n",
       "      <th>date</th>\n",
       "      <th>wh_id</th>\n",
       "      <th>sales</th>\n",
       "      <th>city</th>\n",
       "      <th>state</th>\n",
       "      <th>tot_cases</th>\n",
       "      <th>conf_cases</th>\n",
       "      <th>month</th>\n",
       "      <th>zip_code</th>\n",
       "      <th>state_name</th>\n",
       "      <th>zip</th>\n",
       "      <th>population</th>\n",
       "      <th>city_weight</th>\n",
       "      <th>num_cities</th>\n",
       "      <th>avg_tot_cases/num_cities</th>\n",
       "      <th>avg_conf_cases/num_cities</th>\n",
       "      <th>avg_tot_cases/city_weight</th>\n",
       "      <th>avg_conf_cases/city_weight</th>\n",
       "    </tr>\n",
       "  </thead>\n",
       "  <tbody>\n",
       "    <tr>\n",
       "      <th>300188</th>\n",
       "      <td>2020-04-10</td>\n",
       "      <td>386.0</td>\n",
       "      <td>711</td>\n",
       "      <td>BRENTWOOD</td>\n",
       "      <td>TN</td>\n",
       "      <td>205255.0</td>\n",
       "      <td>196648.0</td>\n",
       "      <td>4.0</td>\n",
       "      <td>37027.0</td>\n",
       "      <td>TENNESSEE</td>\n",
       "      <td>37027.0</td>\n",
       "      <td>57096.0</td>\n",
       "      <td>0.002709</td>\n",
       "      <td>5.0</td>\n",
       "      <td>41051.000000</td>\n",
       "      <td>39329.600000</td>\n",
       "      <td>556.052547</td>\n",
       "      <td>532.735481</td>\n",
       "    </tr>\n",
       "    <tr>\n",
       "      <th>642526</th>\n",
       "      <td>2021-11-03</td>\n",
       "      <td>663.0</td>\n",
       "      <td>240</td>\n",
       "      <td>CONCORD</td>\n",
       "      <td>CA</td>\n",
       "      <td>3544840.0</td>\n",
       "      <td>3544840.0</td>\n",
       "      <td>11.0</td>\n",
       "      <td>94520.0</td>\n",
       "      <td>CALIFORNIA</td>\n",
       "      <td>94520.0</td>\n",
       "      <td>38709.0</td>\n",
       "      <td>0.001837</td>\n",
       "      <td>126.0</td>\n",
       "      <td>28133.650794</td>\n",
       "      <td>28133.650794</td>\n",
       "      <td>6510.659681</td>\n",
       "      <td>6510.659681</td>\n",
       "    </tr>\n",
       "    <tr>\n",
       "      <th>56669</th>\n",
       "      <td>2019-04-13</td>\n",
       "      <td>1161.0</td>\n",
       "      <td>20</td>\n",
       "      <td>FORT</td>\n",
       "      <td>NaN</td>\n",
       "      <td>NaN</td>\n",
       "      <td>NaN</td>\n",
       "      <td>NaN</td>\n",
       "      <td>NaN</td>\n",
       "      <td>NaN</td>\n",
       "      <td>NaN</td>\n",
       "      <td>NaN</td>\n",
       "      <td>NaN</td>\n",
       "      <td>NaN</td>\n",
       "      <td>NaN</td>\n",
       "      <td>NaN</td>\n",
       "      <td>NaN</td>\n",
       "      <td>NaN</td>\n",
       "    </tr>\n",
       "    <tr>\n",
       "      <th>559016</th>\n",
       "      <td>2020-12-22</td>\n",
       "      <td>736.0</td>\n",
       "      <td>10</td>\n",
       "      <td>CHANDLER</td>\n",
       "      <td>AZ</td>\n",
       "      <td>467540.0</td>\n",
       "      <td>447422.0</td>\n",
       "      <td>12.0</td>\n",
       "      <td>85226.0</td>\n",
       "      <td>ARIZONA</td>\n",
       "      <td>85226.0</td>\n",
       "      <td>39614.0</td>\n",
       "      <td>0.001880</td>\n",
       "      <td>18.0</td>\n",
       "      <td>25974.444444</td>\n",
       "      <td>24856.777778</td>\n",
       "      <td>878.787509</td>\n",
       "      <td>840.973745</td>\n",
       "    </tr>\n",
       "    <tr>\n",
       "      <th>601145</th>\n",
       "      <td>2021-02-19</td>\n",
       "      <td>368.0</td>\n",
       "      <td>36</td>\n",
       "      <td>S</td>\n",
       "      <td>MO</td>\n",
       "      <td>545979.0</td>\n",
       "      <td>468779.0</td>\n",
       "      <td>2.0</td>\n",
       "      <td>63128.0</td>\n",
       "      <td>MISSOURI</td>\n",
       "      <td>63128.0</td>\n",
       "      <td>30480.0</td>\n",
       "      <td>0.001446</td>\n",
       "      <td>6.0</td>\n",
       "      <td>90996.500000</td>\n",
       "      <td>78129.833333</td>\n",
       "      <td>789.600304</td>\n",
       "      <td>677.952890</td>\n",
       "    </tr>\n",
       "  </tbody>\n",
       "</table>\n",
       "</div>"
      ],
      "text/plain": [
       "             date   wh_id  sales       city state  tot_cases  conf_cases  \\\n",
       "300188 2020-04-10   386.0    711  BRENTWOOD    TN   205255.0    196648.0   \n",
       "642526 2021-11-03   663.0    240    CONCORD    CA  3544840.0   3544840.0   \n",
       "56669  2019-04-13  1161.0     20       FORT   NaN        NaN         NaN   \n",
       "559016 2020-12-22   736.0     10   CHANDLER    AZ   467540.0    447422.0   \n",
       "601145 2021-02-19   368.0     36          S    MO   545979.0    468779.0   \n",
       "\n",
       "        month  zip_code  state_name      zip  population  city_weight  \\\n",
       "300188    4.0   37027.0   TENNESSEE  37027.0     57096.0     0.002709   \n",
       "642526   11.0   94520.0  CALIFORNIA  94520.0     38709.0     0.001837   \n",
       "56669     NaN       NaN         NaN      NaN         NaN          NaN   \n",
       "559016   12.0   85226.0     ARIZONA  85226.0     39614.0     0.001880   \n",
       "601145    2.0   63128.0    MISSOURI  63128.0     30480.0     0.001446   \n",
       "\n",
       "        num_cities  avg_tot_cases/num_cities  avg_conf_cases/num_cities  \\\n",
       "300188         5.0              41051.000000               39329.600000   \n",
       "642526       126.0              28133.650794               28133.650794   \n",
       "56669          NaN                       NaN                        NaN   \n",
       "559016        18.0              25974.444444               24856.777778   \n",
       "601145         6.0              90996.500000               78129.833333   \n",
       "\n",
       "        avg_tot_cases/city_weight  avg_conf_cases/city_weight  \n",
       "300188                 556.052547                  532.735481  \n",
       "642526                6510.659681                 6510.659681  \n",
       "56669                         NaN                         NaN  \n",
       "559016                 878.787509                  840.973745  \n",
       "601145                 789.600304                  677.952890  "
      ]
     },
     "execution_count": 118,
     "metadata": {},
     "output_type": "execute_result"
    }
   ],
   "source": [
    "print(z.shape)\n",
    "z.sample(5)"
   ]
  },
  {
   "cell_type": "code",
   "execution_count": 120,
   "metadata": {},
   "outputs": [],
   "source": [
    "#precovid data\n",
    "precov = z[z.state.isna()][['date','wh_id','sales','tot_cases','conf_cases','avg_tot_cases/num_cities','avg_conf_cases/num_cities',\n",
    "                            'avg_tot_cases/city_weight','avg_conf_cases/city_weight']].fillna(0)\n",
    "cov = z[z.state.notna()][['date','wh_id','sales','tot_cases','conf_cases','avg_tot_cases/num_cities','avg_conf_cases/num_cities',\n",
    "                            'avg_tot_cases/city_weight','avg_conf_cases/city_weight']]\n",
    "precov.sort_values(['date','wh_id'],ignore_index=True,inplace = True)\n",
    "cov.sort_values(['date','wh_id'],ignore_index=True,inplace = True)"
   ]
  },
  {
   "cell_type": "markdown",
   "metadata": {
    "id": "pWLluHnRk0JK",
    "tags": []
   },
   "source": [
    "## EDA"
   ]
  },
  {
   "cell_type": "code",
   "execution_count": 121,
   "metadata": {},
   "outputs": [],
   "source": [
    "# Import libraries\n",
    "import matplotlib\n",
    "import matplotlib.pyplot as plt\n",
    "import seaborn as sns\n",
    "import plotly.express as px\n",
    "# Configuring styles\n",
    "sns.set_style(\"darkgrid\")\n",
    "matplotlib.rcParams['font.size'] = 14\n",
    "matplotlib.rcParams['figure.figsize'] = (25, 10)\n",
    "matplotlib.rcParams['figure.facecolor'] = '#00000000'"
   ]
  },
  {
   "cell_type": "code",
   "execution_count": 122,
   "metadata": {},
   "outputs": [],
   "source": [
    "def week_avg_wh_id(wh_id):\n",
    "    week_avg = []\n",
    "    start = 0\n",
    "    shape = df1[df1.wh_id == wh_id].shape[0]\n",
    "    while start<shape:\n",
    "        week_avg.append(df1[df1.wh_id == wh_id][start:start+7].sales.mean())\n",
    "        start += 7\n",
    "    return week_avg"
   ]
  },
  {
   "cell_type": "code",
   "execution_count": 123,
   "metadata": {},
   "outputs": [
    {
     "data": {
      "image/png": "[encoded data removed]",
      "text/plain": [
       "<Figure size 1800x720 with 1 Axes>"
      ]
     },
     "metadata": {
      "needs_background": "light"
     },
     "output_type": "display_data"
    }
   ],
   "source": [
    "legend = []\n",
    "for i in range(1,3):\n",
    "    y = week_avg_wh_id(df1.wh_id.unique()[i])\n",
    "    plt.plot(range(1,len(y)+1),y,linewidth = 3)\n",
    "    legend.append('wh_id ' + str(i))\n",
    "plt.legend(legend);\n",
    "plt.title('week average sales');"
   ]
  },
  {
   "cell_type": "code",
   "execution_count": 124,
   "metadata": {},
   "outputs": [
    {
     "data": {
      "image/png": "[encoded data removed]",
      "text/plain": [
       "<Figure size 1800x720 with 1 Axes>"
      ]
     },
     "metadata": {
      "needs_background": "light"
     },
     "output_type": "display_data"
    }
   ],
   "source": [
    "plt.plot(codf.date.unique(),codf.groupby('date').sum().tot_cases)\n",
    "plt.title('covid cases wrt time')\n",
    "plt.xlabel('date')\n",
    "plt.ylabel('covid_cases');"
   ]
  },
  {
   "cell_type": "code",
   "execution_count": 125,
   "metadata": {},
   "outputs": [
    {
     "data": {
      "image/png": "[encoded data removed]",
      "text/plain": [
       "<Figure size 1800x720 with 1 Axes>"
      ]
     },
     "metadata": {
      "needs_background": "light"
     },
     "output_type": "display_data"
    }
   ],
   "source": [
    "def cov_cases_state(state):\n",
    "    plt.plot(codf[codf.state==state].date,codf[codf.state==state].tot_cases)\n",
    "    \n",
    "cov_cases_state('DE')"
   ]
  },
  {
   "cell_type": "code",
   "execution_count": 126,
   "metadata": {},
   "outputs": [
    {
     "data": {
      "image/png": "[encoded data removed]",
      "text/plain": [
       "<Figure size 1800x720 with 1 Axes>"
      ]
     },
     "metadata": {
      "needs_background": "light"
     },
     "output_type": "display_data"
    }
   ],
   "source": [
    "# State vs No.of cities\n",
    "fig=sns.countplot(x=cidf.state_name);\n",
    "plt.xticks(rotation=90);\n",
    "plt.show();"
   ]
  },
  {
   "cell_type": "code",
   "execution_count": 127,
   "metadata": {},
   "outputs": [
    {
     "data": {
      "application/vnd.plotly.v1+json": {
       "config": {
        "plotlyServerURL": "https://plot.ly"
       },
       "data": [
        {
         "alignmentgroup": "True",
         "hovertemplate": "month=%{x}<br>tot_cases=%{y}<br>year=%{marker.color}<extra></extra>",
         "legendgroup": "",
         "marker": {
          "color": [
           2020,
           2020,
           2020,
           2020,
           2020,
           2020,
           2020,
           2020,
           2020,
           2020,
           2020,
           2020,
           2021,
           2021,
           2021,
           2021,
           2021,
           2021,
           2021,
           2021,
           2021,
           2021,
           2021,
           2021
          ],
          "coloraxis": "coloraxis",
          "pattern": {
           "shape": ""
          }
         },
         "name": "",
         "offsetgroup": "",
         "orientation": "v",
         "showlegend": false,
         "textposition": "auto",
         "type": "bar",
         "x": [
          1,
          2,
          3,
          4,
          5,
          6,
          7,
          8,
          9,
          10,
          11,
          12,
          1,
          2,
          3,
          4,
          5,
          6,
          7,
          8,
          9,
          10,
          11,
          12
         ],
         "xaxis": "x",
         "y": [
          48158141,
          48759043,
          50813289,
          65308092,
          82046593,
          95013295,
          131025943,
          162577178,
          179404309,
          217601048,
          279369467,
          408239794,
          613235568,
          589294357,
          706456782,
          711616693,
          501642564,
          141018968,
          141545073,
          142084879,
          142557308,
          142982515,
          143428665,
          143901077
         ],
         "yaxis": "y"
        }
       ],
       "layout": {
        "autosize": true,
        "barmode": "relative",
        "coloraxis": {
         "colorbar": {
          "title": {
           "text": "year"
          }
         },
         "colorscale": [
          [
           0,
           "#0d0887"
          ],
          [
           0.1111111111111111,
           "#46039f"
          ],
          [
           0.2222222222222222,
           "#7201a8"
          ],
          [
           0.3333333333333333,
           "#9c179e"
          ],
          [
           0.4444444444444444,
           "#bd3786"
          ],
          [
           0.5555555555555556,
           "#d8576b"
          ],
          [
           0.6666666666666666,
           "#ed7953"
          ],
          [
           0.7777777777777778,
           "#fb9f3a"
          ],
          [
           0.8888888888888888,
           "#fdca26"
          ],
          [
           1,
           "#f0f921"
          ]
         ]
        },
        "legend": {
         "tracegroupgap": 0
        },
        "margin": {
         "t": 60
        },
        "template": {
         "data": {
          "bar": [
           {
            "error_x": {
             "color": "#2a3f5f"
            },
            "error_y": {
             "color": "#2a3f5f"
            },
            "marker": {
             "line": {
              "color": "#E5ECF6",
              "width": 0.5
             },
             "pattern": {
              "fillmode": "overlay",
              "size": 10,
              "solidity": 0.2
             }
            },
            "type": "bar"
           }
          ],
          "barpolar": [
           {
            "marker": {
             "line": {
              "color": "#E5ECF6",
              "width": 0.5
             },
             "pattern": {
              "fillmode": "overlay",
              "size": 10,
              "solidity": 0.2
             }
            },
            "type": "barpolar"
           }
          ],
          "carpet": [
           {
            "aaxis": {
             "endlinecolor": "#2a3f5f",
             "gridcolor": "white",
             "linecolor": "white",
             "minorgridcolor": "white",
             "startlinecolor": "#2a3f5f"
            },
            "baxis": {
             "endlinecolor": "#2a3f5f",
             "gridcolor": "white",
             "linecolor": "white",
             "minorgridcolor": "white",
             "startlinecolor": "#2a3f5f"
            },
            "type": "carpet"
           }
          ],
          "choropleth": [
           {
            "colorbar": {
             "outlinewidth": 0,
             "ticks": ""
            },
            "type": "choropleth"
           }
          ],
          "contour": [
           {
            "colorbar": {
             "outlinewidth": 0,
             "ticks": ""
            },
            "colorscale": [
             [
              0,
              "#0d0887"
             ],
             [
              0.1111111111111111,
              "#46039f"
             ],
             [
              0.2222222222222222,
              "#7201a8"
             ],
             [
              0.3333333333333333,
              "#9c179e"
             ],
             [
              0.4444444444444444,
              "#bd3786"
             ],
             [
              0.5555555555555556,
              "#d8576b"
             ],
             [
              0.6666666666666666,
              "#ed7953"
             ],
             [
              0.7777777777777778,
              "#fb9f3a"
             ],
             [
              0.8888888888888888,
              "#fdca26"
             ],
             [
              1,
              "#f0f921"
             ]
            ],
            "type": "contour"
           }
          ],
          "contourcarpet": [
           {
            "colorbar": {
             "outlinewidth": 0,
             "ticks": ""
            },
            "type": "contourcarpet"
           }
          ],
          "heatmap": [
           {
            "colorbar": {
             "outlinewidth": 0,
             "ticks": ""
            },
            "colorscale": [
             [
              0,
              "#0d0887"
             ],
             [
              0.1111111111111111,
              "#46039f"
             ],
             [
              0.2222222222222222,
              "#7201a8"
             ],
             [
              0.3333333333333333,
              "#9c179e"
             ],
             [
              0.4444444444444444,
              "#bd3786"
             ],
             [
              0.5555555555555556,
              "#d8576b"
             ],
             [
              0.6666666666666666,
              "#ed7953"
             ],
             [
              0.7777777777777778,
              "#fb9f3a"
             ],
             [
              0.8888888888888888,
              "#fdca26"
             ],
             [
              1,
              "#f0f921"
             ]
            ],
            "type": "heatmap"
           }
          ],
          "heatmapgl": [
           {
            "colorbar": {
             "outlinewidth": 0,
             "ticks": ""
            },
            "colorscale": [
             [
              0,
              "#0d0887"
             ],
             [
              0.1111111111111111,
              "#46039f"
             ],
             [
              0.2222222222222222,
              "#7201a8"
             ],
             [
              0.3333333333333333,
              "#9c179e"
             ],
             [
              0.4444444444444444,
              "#bd3786"
             ],
             [
              0.5555555555555556,
              "#d8576b"
             ],
             [
              0.6666666666666666,
              "#ed7953"
             ],
             [
              0.7777777777777778,
              "#fb9f3a"
             ],
             [
              0.8888888888888888,
              "#fdca26"
             ],
             [
              1,
              "#f0f921"
             ]
            ],
            "type": "heatmapgl"
           }
          ],
          "histogram": [
           {
            "marker": {
             "pattern": {
              "fillmode": "overlay",
              "size": 10,
              "solidity": 0.2
             }
            },
            "type": "histogram"
           }
          ],
          "histogram2d": [
           {
            "colorbar": {
             "outlinewidth": 0,
             "ticks": ""
            },
            "colorscale": [
             [
              0,
              "#0d0887"
             ],
             [
              0.1111111111111111,
              "#46039f"
             ],
             [
              0.2222222222222222,
              "#7201a8"
             ],
             [
              0.3333333333333333,
              "#9c179e"
             ],
             [
              0.4444444444444444,
              "#bd3786"
             ],
             [
              0.5555555555555556,
              "#d8576b"
             ],
             [
              0.6666666666666666,
              "#ed7953"
             ],
             [
              0.7777777777777778,
              "#fb9f3a"
             ],
             [
              0.8888888888888888,
              "#fdca26"
             ],
             [
              1,
              "#f0f921"
             ]
            ],
            "type": "histogram2d"
           }
          ],
          "histogram2dcontour": [
           {
            "colorbar": {
             "outlinewidth": 0,
             "ticks": ""
            },
            "colorscale": [
             [
              0,
              "#0d0887"
             ],
             [
              0.1111111111111111,
              "#46039f"
             ],
             [
              0.2222222222222222,
              "#7201a8"
             ],
             [
              0.3333333333333333,
              "#9c179e"
             ],
             [
              0.4444444444444444,
              "#bd3786"
             ],
             [
              0.5555555555555556,
              "#d8576b"
             ],
             [
              0.6666666666666666,
              "#ed7953"
             ],
             [
              0.7777777777777778,
              "#fb9f3a"
             ],
             [
              0.8888888888888888,
              "#fdca26"
             ],
             [
              1,
              "#f0f921"
             ]
            ],
            "type": "histogram2dcontour"
           }
          ],
          "mesh3d": [
           {
            "colorbar": {
             "outlinewidth": 0,
             "ticks": ""
            },
            "type": "mesh3d"
           }
          ],
          "parcoords": [
           {
            "line": {
             "colorbar": {
              "outlinewidth": 0,
              "ticks": ""
             }
            },
            "type": "parcoords"
           }
          ],
          "pie": [
           {
            "automargin": true,
            "type": "pie"
           }
          ],
          "scatter": [
           {
            "marker": {
             "colorbar": {
              "outlinewidth": 0,
              "ticks": ""
             }
            },
            "type": "scatter"
           }
          ],
          "scatter3d": [
           {
            "line": {
             "colorbar": {
              "outlinewidth": 0,
              "ticks": ""
             }
            },
            "marker": {
             "colorbar": {
              "outlinewidth": 0,
              "ticks": ""
             }
            },
            "type": "scatter3d"
           }
          ],
          "scattercarpet": [
           {
            "marker": {
             "colorbar": {
              "outlinewidth": 0,
              "ticks": ""
             }
            },
            "type": "scattercarpet"
           }
          ],
          "scattergeo": [
           {
            "marker": {
             "colorbar": {
              "outlinewidth": 0,
              "ticks": ""
             }
            },
            "type": "scattergeo"
           }
          ],
          "scattergl": [
           {
            "marker": {
             "colorbar": {
              "outlinewidth": 0,
              "ticks": ""
             }
            },
            "type": "scattergl"
           }
          ],
          "scattermapbox": [
           {
            "marker": {
             "colorbar": {
              "outlinewidth": 0,
              "ticks": ""
             }
            },
            "type": "scattermapbox"
           }
          ],
          "scatterpolar": [
           {
            "marker": {
             "colorbar": {
              "outlinewidth": 0,
              "ticks": ""
             }
            },
            "type": "scatterpolar"
           }
          ],
          "scatterpolargl": [
           {
            "marker": {
             "colorbar": {
              "outlinewidth": 0,
              "ticks": ""
             }
            },
            "type": "scatterpolargl"
           }
          ],
          "scatterternary": [
           {
            "marker": {
             "colorbar": {
              "outlinewidth": 0,
              "ticks": ""
             }
            },
            "type": "scatterternary"
           }
          ],
          "surface": [
           {
            "colorbar": {
             "outlinewidth": 0,
             "ticks": ""
            },
            "colorscale": [
             [
              0,
              "#0d0887"
             ],
             [
              0.1111111111111111,
              "#46039f"
             ],
             [
              0.2222222222222222,
              "#7201a8"
             ],
             [
              0.3333333333333333,
              "#9c179e"
             ],
             [
              0.4444444444444444,
              "#bd3786"
             ],
             [
              0.5555555555555556,
              "#d8576b"
             ],
             [
              0.6666666666666666,
              "#ed7953"
             ],
             [
              0.7777777777777778,
              "#fb9f3a"
             ],
             [
              0.8888888888888888,
              "#fdca26"
             ],
             [
              1,
              "#f0f921"
             ]
            ],
            "type": "surface"
           }
          ],
          "table": [
           {
            "cells": {
             "fill": {
              "color": "#EBF0F8"
             },
             "line": {
              "color": "white"
             }
            },
            "header": {
             "fill": {
              "color": "#C8D4E3"
             },
             "line": {
              "color": "white"
             }
            },
            "type": "table"
           }
          ]
         },
         "layout": {
          "annotationdefaults": {
           "arrowcolor": "#2a3f5f",
           "arrowhead": 0,
           "arrowwidth": 1
          },
          "autotypenumbers": "strict",
          "coloraxis": {
           "colorbar": {
            "outlinewidth": 0,
            "ticks": ""
           }
          },
          "colorscale": {
           "diverging": [
            [
             0,
             "#8e0152"
            ],
            [
             0.1,
             "#c51b7d"
            ],
            [
             0.2,
             "#de77ae"
            ],
            [
             0.3,
             "#f1b6da"
            ],
            [
             0.4,
             "#fde0ef"
            ],
            [
             0.5,
             "#f7f7f7"
            ],
            [
             0.6,
             "#e6f5d0"
            ],
            [
             0.7,
             "#b8e186"
            ],
            [
             0.8,
             "#7fbc41"
            ],
            [
             0.9,
             "#4d9221"
            ],
            [
             1,
             "#276419"
            ]
           ],
           "sequential": [
            [
             0,
             "#0d0887"
            ],
            [
             0.1111111111111111,
             "#46039f"
            ],
            [
             0.2222222222222222,
             "#7201a8"
            ],
            [
             0.3333333333333333,
             "#9c179e"
            ],
            [
             0.4444444444444444,
             "#bd3786"
            ],
            [
             0.5555555555555556,
             "#d8576b"
            ],
            [
             0.6666666666666666,
             "#ed7953"
            ],
            [
             0.7777777777777778,
             "#fb9f3a"
            ],
            [
             0.8888888888888888,
             "#fdca26"
            ],
            [
             1,
             "#f0f921"
            ]
           ],
           "sequentialminus": [
            [
             0,
             "#0d0887"
            ],
            [
             0.1111111111111111,
             "#46039f"
            ],
            [
             0.2222222222222222,
             "#7201a8"
            ],
            [
             0.3333333333333333,
             "#9c179e"
            ],
            [
             0.4444444444444444,
             "#bd3786"
            ],
            [
             0.5555555555555556,
             "#d8576b"
            ],
            [
             0.6666666666666666,
             "#ed7953"
            ],
            [
             0.7777777777777778,
             "#fb9f3a"
            ],
            [
             0.8888888888888888,
             "#fdca26"
            ],
            [
             1,
             "#f0f921"
            ]
           ]
          },
          "colorway": [
           "#636efa",
           "#EF553B",
           "#00cc96",
           "#ab63fa",
           "#FFA15A",
           "#19d3f3",
           "#FF6692",
           "#B6E880",
           "#FF97FF",
           "#FECB52"
          ],
          "font": {
           "color": "#2a3f5f"
          },
          "geo": {
           "bgcolor": "white",
           "lakecolor": "white",
           "landcolor": "#E5ECF6",
           "showlakes": true,
           "showland": true,
           "subunitcolor": "white"
          },
          "hoverlabel": {
           "align": "left"
          },
          "hovermode": "closest",
          "mapbox": {
           "style": "light"
          },
          "paper_bgcolor": "white",
          "plot_bgcolor": "#E5ECF6",
          "polar": {
           "angularaxis": {
            "gridcolor": "white",
            "linecolor": "white",
            "ticks": ""
           },
           "bgcolor": "#E5ECF6",
           "radialaxis": {
            "gridcolor": "white",
            "linecolor": "white",
            "ticks": ""
           }
          },
          "scene": {
           "xaxis": {
            "backgroundcolor": "#E5ECF6",
            "gridcolor": "white",
            "gridwidth": 2,
            "linecolor": "white",
            "showbackground": true,
            "ticks": "",
            "zerolinecolor": "white"
           },
           "yaxis": {
            "backgroundcolor": "#E5ECF6",
            "gridcolor": "white",
            "gridwidth": 2,
            "linecolor": "white",
            "showbackground": true,
            "ticks": "",
            "zerolinecolor": "white"
           },
           "zaxis": {
            "backgroundcolor": "#E5ECF6",
            "gridcolor": "white",
            "gridwidth": 2,
            "linecolor": "white",
            "showbackground": true,
            "ticks": "",
            "zerolinecolor": "white"
           }
          },
          "shapedefaults": {
           "line": {
            "color": "#2a3f5f"
           }
          },
          "ternary": {
           "aaxis": {
            "gridcolor": "white",
            "linecolor": "white",
            "ticks": ""
           },
           "baxis": {
            "gridcolor": "white",
            "linecolor": "white",
            "ticks": ""
           },
           "bgcolor": "#E5ECF6",
           "caxis": {
            "gridcolor": "white",
            "linecolor": "white",
            "ticks": ""
           }
          },
          "title": {
           "x": 0.05
          },
          "xaxis": {
           "automargin": true,
           "gridcolor": "white",
           "linecolor": "white",
           "ticks": "",
           "title": {
            "standoff": 15
           },
           "zerolinecolor": "white",
           "zerolinewidth": 2
          },
          "yaxis": {
           "automargin": true,
           "gridcolor": "white",
           "linecolor": "white",
           "ticks": "",
           "title": {
            "standoff": 15
           },
           "zerolinecolor": "white",
           "zerolinewidth": 2
          }
         }
        },
        "xaxis": {
         "anchor": "y",
         "autorange": true,
         "domain": [
          0,
          1
         ],
         "range": [
          0.5,
          12.5
         ],
         "title": {
          "text": "month"
         },
         "type": "linear"
        },
        "yaxis": {
         "anchor": "x",
         "autorange": true,
         "domain": [
          0,
          1
         ],
         "range": [
          0,
          817815563.1578947
         ],
         "title": {
          "text": "tot_cases"
         },
         "type": "linear"
        }
       }
      },
      "image/png": "[encoded data removed]",
      "text/html": [
       "<div>                            <div id=\"9d1b7c09-54d2-44b9-9834-03b605fa3f04\" class=\"plotly-graph-div\" style=\"height:525px; width:100%;\"></div>            <script type=\"text/javascript\">                require([\"plotly\"], function(Plotly) {                    window.PLOTLYENV=window.PLOTLYENV || {};                                    if (document.getElementById(\"9d1b7c09-54d2-44b9-9834-03b605fa3f04\")) {                    Plotly.newPlot(                        \"9d1b7c09-54d2-44b9-9834-03b605fa3f04\",                        [{\"alignmentgroup\":\"True\",\"hovertemplate\":\"month=%{x}<br>tot_cases=%{y}<br>year=%{marker.color}<extra></extra>\",\"legendgroup\":\"\",\"marker\":{\"color\":[2020,2020,2020,2020,2020,2020,2020,2020,2020,2020,2020,2020,2021,2021,2021,2021,2021,2021,2021,2021,2021,2021,2021,2021],\"coloraxis\":\"coloraxis\",\"pattern\":{\"shape\":\"\"}},\"name\":\"\",\"offsetgroup\":\"\",\"orientation\":\"v\",\"showlegend\":false,\"textposition\":\"auto\",\"x\":[1,2,3,4,5,6,7,8,9,10,11,12,1,2,3,4,5,6,7,8,9,10,11,12],\"xaxis\":\"x\",\"y\":[48158141,48759043,50813289,65308092,82046593,95013295,131025943,162577178,179404309,217601048,279369467,408239794,613235568,589294357,706456782,711616693,501642564,141018968,141545073,142084879,142557308,142982515,143428665,143901077],\"yaxis\":\"y\",\"type\":\"bar\"}],                        {\"template\":{\"data\":{\"bar\":[{\"error_x\":{\"color\":\"#2a3f5f\"},\"error_y\":{\"color\":\"#2a3f5f\"},\"marker\":{\"line\":{\"color\":\"#E5ECF6\",\"width\":0.5},\"pattern\":{\"fillmode\":\"overlay\",\"size\":10,\"solidity\":0.2}},\"type\":\"bar\"}],\"barpolar\":[{\"marker\":{\"line\":{\"color\":\"#E5ECF6\",\"width\":0.5},\"pattern\":{\"fillmode\":\"overlay\",\"size\":10,\"solidity\":0.2}},\"type\":\"barpolar\"}],\"carpet\":[{\"aaxis\":{\"endlinecolor\":\"#2a3f5f\",\"gridcolor\":\"white\",\"linecolor\":\"white\",\"minorgridcolor\":\"white\",\"startlinecolor\":\"#2a3f5f\"},\"baxis\":{\"endlinecolor\":\"#2a3f5f\",\"gridcolor\":\"white\",\"linecolor\":\"white\",\"minorgridcolor\":\"white\",\"startlinecolor\":\"#2a3f5f\"},\"type\":\"carpet\"}],\"choropleth\":[{\"colorbar\":{\"outlinewidth\":0,\"ticks\":\"\"},\"type\":\"choropleth\"}],\"contour\":[{\"colorbar\":{\"outlinewidth\":0,\"ticks\":\"\"},\"colorscale\":[[0.0,\"#0d0887\"],[0.1111111111111111,\"#46039f\"],[0.2222222222222222,\"#7201a8\"],[0.3333333333333333,\"#9c179e\"],[0.4444444444444444,\"#bd3786\"],[0.5555555555555556,\"#d8576b\"],[0.6666666666666666,\"#ed7953\"],[0.7777777777777778,\"#fb9f3a\"],[0.8888888888888888,\"#fdca26\"],[1.0,\"#f0f921\"]],\"type\":\"contour\"}],\"contourcarpet\":[{\"colorbar\":{\"outlinewidth\":0,\"ticks\":\"\"},\"type\":\"contourcarpet\"}],\"heatmap\":[{\"colorbar\":{\"outlinewidth\":0,\"ticks\":\"\"},\"colorscale\":[[0.0,\"#0d0887\"],[0.1111111111111111,\"#46039f\"],[0.2222222222222222,\"#7201a8\"],[0.3333333333333333,\"#9c179e\"],[0.4444444444444444,\"#bd3786\"],[0.5555555555555556,\"#d8576b\"],[0.6666666666666666,\"#ed7953\"],[0.7777777777777778,\"#fb9f3a\"],[0.8888888888888888,\"#fdca26\"],[1.0,\"#f0f921\"]],\"type\":\"heatmap\"}],\"heatmapgl\":[{\"colorbar\":{\"outlinewidth\":0,\"ticks\":\"\"},\"colorscale\":[[0.0,\"#0d0887\"],[0.1111111111111111,\"#46039f\"],[0.2222222222222222,\"#7201a8\"],[0.3333333333333333,\"#9c179e\"],[0.4444444444444444,\"#bd3786\"],[0.5555555555555556,\"#d8576b\"],[0.6666666666666666,\"#ed7953\"],[0.7777777777777778,\"#fb9f3a\"],[0.8888888888888888,\"#fdca26\"],[1.0,\"#f0f921\"]],\"type\":\"heatmapgl\"}],\"histogram\":[{\"marker\":{\"pattern\":{\"fillmode\":\"overlay\",\"size\":10,\"solidity\":0.2}},\"type\":\"histogram\"}],\"histogram2d\":[{\"colorbar\":{\"outlinewidth\":0,\"ticks\":\"\"},\"colorscale\":[[0.0,\"#0d0887\"],[0.1111111111111111,\"#46039f\"],[0.2222222222222222,\"#7201a8\"],[0.3333333333333333,\"#9c179e\"],[0.4444444444444444,\"#bd3786\"],[0.5555555555555556,\"#d8576b\"],[0.6666666666666666,\"#ed7953\"],[0.7777777777777778,\"#fb9f3a\"],[0.8888888888888888,\"#fdca26\"],[1.0,\"#f0f921\"]],\"type\":\"histogram2d\"}],\"histogram2dcontour\":[{\"colorbar\":{\"outlinewidth\":0,\"ticks\":\"\"},\"colorscale\":[[0.0,\"#0d0887\"],[0.1111111111111111,\"#46039f\"],[0.2222222222222222,\"#7201a8\"],[0.3333333333333333,\"#9c179e\"],[0.4444444444444444,\"#bd3786\"],[0.5555555555555556,\"#d8576b\"],[0.6666666666666666,\"#ed7953\"],[0.7777777777777778,\"#fb9f3a\"],[0.8888888888888888,\"#fdca26\"],[1.0,\"#f0f921\"]],\"type\":\"histogram2dcontour\"}],\"mesh3d\":[{\"colorbar\":{\"outlinewidth\":0,\"ticks\":\"\"},\"type\":\"mesh3d\"}],\"parcoords\":[{\"line\":{\"colorbar\":{\"outlinewidth\":0,\"ticks\":\"\"}},\"type\":\"parcoords\"}],\"pie\":[{\"automargin\":true,\"type\":\"pie\"}],\"scatter\":[{\"marker\":{\"colorbar\":{\"outlinewidth\":0,\"ticks\":\"\"}},\"type\":\"scatter\"}],\"scatter3d\":[{\"line\":{\"colorbar\":{\"outlinewidth\":0,\"ticks\":\"\"}},\"marker\":{\"colorbar\":{\"outlinewidth\":0,\"ticks\":\"\"}},\"type\":\"scatter3d\"}],\"scattercarpet\":[{\"marker\":{\"colorbar\":{\"outlinewidth\":0,\"ticks\":\"\"}},\"type\":\"scattercarpet\"}],\"scattergeo\":[{\"marker\":{\"colorbar\":{\"outlinewidth\":0,\"ticks\":\"\"}},\"type\":\"scattergeo\"}],\"scattergl\":[{\"marker\":{\"colorbar\":{\"outlinewidth\":0,\"ticks\":\"\"}},\"type\":\"scattergl\"}],\"scattermapbox\":[{\"marker\":{\"colorbar\":{\"outlinewidth\":0,\"ticks\":\"\"}},\"type\":\"scattermapbox\"}],\"scatterpolar\":[{\"marker\":{\"colorbar\":{\"outlinewidth\":0,\"ticks\":\"\"}},\"type\":\"scatterpolar\"}],\"scatterpolargl\":[{\"marker\":{\"colorbar\":{\"outlinewidth\":0,\"ticks\":\"\"}},\"type\":\"scatterpolargl\"}],\"scatterternary\":[{\"marker\":{\"colorbar\":{\"outlinewidth\":0,\"ticks\":\"\"}},\"type\":\"scatterternary\"}],\"surface\":[{\"colorbar\":{\"outlinewidth\":0,\"ticks\":\"\"},\"colorscale\":[[0.0,\"#0d0887\"],[0.1111111111111111,\"#46039f\"],[0.2222222222222222,\"#7201a8\"],[0.3333333333333333,\"#9c179e\"],[0.4444444444444444,\"#bd3786\"],[0.5555555555555556,\"#d8576b\"],[0.6666666666666666,\"#ed7953\"],[0.7777777777777778,\"#fb9f3a\"],[0.8888888888888888,\"#fdca26\"],[1.0,\"#f0f921\"]],\"type\":\"surface\"}],\"table\":[{\"cells\":{\"fill\":{\"color\":\"#EBF0F8\"},\"line\":{\"color\":\"white\"}},\"header\":{\"fill\":{\"color\":\"#C8D4E3\"},\"line\":{\"color\":\"white\"}},\"type\":\"table\"}]},\"layout\":{\"annotationdefaults\":{\"arrowcolor\":\"#2a3f5f\",\"arrowhead\":0,\"arrowwidth\":1},\"autotypenumbers\":\"strict\",\"coloraxis\":{\"colorbar\":{\"outlinewidth\":0,\"ticks\":\"\"}},\"colorscale\":{\"diverging\":[[0,\"#8e0152\"],[0.1,\"#c51b7d\"],[0.2,\"#de77ae\"],[0.3,\"#f1b6da\"],[0.4,\"#fde0ef\"],[0.5,\"#f7f7f7\"],[0.6,\"#e6f5d0\"],[0.7,\"#b8e186\"],[0.8,\"#7fbc41\"],[0.9,\"#4d9221\"],[1,\"#276419\"]],\"sequential\":[[0.0,\"#0d0887\"],[0.1111111111111111,\"#46039f\"],[0.2222222222222222,\"#7201a8\"],[0.3333333333333333,\"#9c179e\"],[0.4444444444444444,\"#bd3786\"],[0.5555555555555556,\"#d8576b\"],[0.6666666666666666,\"#ed7953\"],[0.7777777777777778,\"#fb9f3a\"],[0.8888888888888888,\"#fdca26\"],[1.0,\"#f0f921\"]],\"sequentialminus\":[[0.0,\"#0d0887\"],[0.1111111111111111,\"#46039f\"],[0.2222222222222222,\"#7201a8\"],[0.3333333333333333,\"#9c179e\"],[0.4444444444444444,\"#bd3786\"],[0.5555555555555556,\"#d8576b\"],[0.6666666666666666,\"#ed7953\"],[0.7777777777777778,\"#fb9f3a\"],[0.8888888888888888,\"#fdca26\"],[1.0,\"#f0f921\"]]},\"colorway\":[\"#636efa\",\"#EF553B\",\"#00cc96\",\"#ab63fa\",\"#FFA15A\",\"#19d3f3\",\"#FF6692\",\"#B6E880\",\"#FF97FF\",\"#FECB52\"],\"font\":{\"color\":\"#2a3f5f\"},\"geo\":{\"bgcolor\":\"white\",\"lakecolor\":\"white\",\"landcolor\":\"#E5ECF6\",\"showlakes\":true,\"showland\":true,\"subunitcolor\":\"white\"},\"hoverlabel\":{\"align\":\"left\"},\"hovermode\":\"closest\",\"mapbox\":{\"style\":\"light\"},\"paper_bgcolor\":\"white\",\"plot_bgcolor\":\"#E5ECF6\",\"polar\":{\"angularaxis\":{\"gridcolor\":\"white\",\"linecolor\":\"white\",\"ticks\":\"\"},\"bgcolor\":\"#E5ECF6\",\"radialaxis\":{\"gridcolor\":\"white\",\"linecolor\":\"white\",\"ticks\":\"\"}},\"scene\":{\"xaxis\":{\"backgroundcolor\":\"#E5ECF6\",\"gridcolor\":\"white\",\"gridwidth\":2,\"linecolor\":\"white\",\"showbackground\":true,\"ticks\":\"\",\"zerolinecolor\":\"white\"},\"yaxis\":{\"backgroundcolor\":\"#E5ECF6\",\"gridcolor\":\"white\",\"gridwidth\":2,\"linecolor\":\"white\",\"showbackground\":true,\"ticks\":\"\",\"zerolinecolor\":\"white\"},\"zaxis\":{\"backgroundcolor\":\"#E5ECF6\",\"gridcolor\":\"white\",\"gridwidth\":2,\"linecolor\":\"white\",\"showbackground\":true,\"ticks\":\"\",\"zerolinecolor\":\"white\"}},\"shapedefaults\":{\"line\":{\"color\":\"#2a3f5f\"}},\"ternary\":{\"aaxis\":{\"gridcolor\":\"white\",\"linecolor\":\"white\",\"ticks\":\"\"},\"baxis\":{\"gridcolor\":\"white\",\"linecolor\":\"white\",\"ticks\":\"\"},\"bgcolor\":\"#E5ECF6\",\"caxis\":{\"gridcolor\":\"white\",\"linecolor\":\"white\",\"ticks\":\"\"}},\"title\":{\"x\":0.05},\"xaxis\":{\"automargin\":true,\"gridcolor\":\"white\",\"linecolor\":\"white\",\"ticks\":\"\",\"title\":{\"standoff\":15},\"zerolinecolor\":\"white\",\"zerolinewidth\":2},\"yaxis\":{\"automargin\":true,\"gridcolor\":\"white\",\"linecolor\":\"white\",\"ticks\":\"\",\"title\":{\"standoff\":15},\"zerolinecolor\":\"white\",\"zerolinewidth\":2}}},\"xaxis\":{\"anchor\":\"y\",\"domain\":[0.0,1.0],\"title\":{\"text\":\"month\"}},\"yaxis\":{\"anchor\":\"x\",\"domain\":[0.0,1.0],\"title\":{\"text\":\"tot_cases\"}},\"coloraxis\":{\"colorbar\":{\"title\":{\"text\":\"year\"}},\"colorscale\":[[0.0,\"#0d0887\"],[0.1111111111111111,\"#46039f\"],[0.2222222222222222,\"#7201a8\"],[0.3333333333333333,\"#9c179e\"],[0.4444444444444444,\"#bd3786\"],[0.5555555555555556,\"#d8576b\"],[0.6666666666666666,\"#ed7953\"],[0.7777777777777778,\"#fb9f3a\"],[0.8888888888888888,\"#fdca26\"],[1.0,\"#f0f921\"]]},\"legend\":{\"tracegroupgap\":0},\"margin\":{\"t\":60},\"barmode\":\"relative\"},                        {\"responsive\": true}                    ).then(function(){\n",
       "                            \n",
       "var gd = document.getElementById('9d1b7c09-54d2-44b9-9834-03b605fa3f04');\n",
       "var x = new MutationObserver(function (mutations, observer) {{\n",
       "        var display = window.getComputedStyle(gd).display;\n",
       "        if (!display || display === 'none') {{\n",
       "            console.log([gd, 'removed!']);\n",
       "            Plotly.purge(gd);\n",
       "            observer.disconnect();\n",
       "        }}\n",
       "}});\n",
       "\n",
       "// Listen for the removal of the full notebook cells\n",
       "var notebookContainer = gd.closest('#notebook-container');\n",
       "if (notebookContainer) {{\n",
       "    x.observe(notebookContainer, {childList: true});\n",
       "}}\n",
       "\n",
       "// Listen for the clearing of the current output cell\n",
       "var outputEl = gd.closest('.output');\n",
       "if (outputEl) {{\n",
       "    x.observe(outputEl, {childList: true});\n",
       "}}\n",
       "\n",
       "                        })                };                });            </script>        </div>"
      ]
     },
     "metadata": {},
     "output_type": "display_data"
    }
   ],
   "source": [
    "codf['month'] = codf.date.dt.month\n",
    "cov_eda_2020 = codf[codf.date.dt.year == 2020].groupby('month').sum()\n",
    "cov_eda_2020['year'],cov_eda_2020['month'] = 2020,cov_eda_2020.index\n",
    "cov_eda_2021 = codf[codf.date.dt.year == 2021].groupby('month').sum()\n",
    "cov_eda_2021['year'],cov_eda_2021['month'] =2021,cov_eda_2021.index\n",
    "cov_eda = pd.concat([cov_eda_2020,cov_eda_2021])\n",
    "px.bar(cov_eda,x='month',y='tot_cases',color = 'year')"
   ]
  },
  {
   "cell_type": "code",
   "execution_count": 130,
   "metadata": {},
   "outputs": [
    {
     "data": {
      "application/vnd.plotly.v1+json": {
       "config": {
        "plotlyServerURL": "https://plot.ly"
       },
       "data": [
        {
         "hovertemplate": "wh_id=1.0<br>avg_tot_cases/num_cities=%{x}<br>sales=%{y}<extra></extra>",
         "legendgroup": "1.0",
         "marker": {
          "color": "#636efa",
          "symbol": "circle"
         },
         "mode": "markers",
         "name": "1.0",
         "showlegend": true,
         "type": "scattergl",
         "x": [
          0.03125,
          0.34375,
          166.21875,
          457.40625,
          686.78125,
          1044.84375,
          1798.15625,
          2341.84375,
          2753.625,
          3384.84375,
          5225.5,
          0.03125,
          0.03125,
          0.03125,
          0.03125,
          0.03125,
          0.03125,
          0.03125,
          0.03125,
          0.03125,
          0.03125,
          0.03125,
          0.5625,
          177.59375,
          468.84375,
          692.40625,
          1067.21875,
          1817.875,
          2355.53125,
          2775.3125,
          3417.3125,
          5323.1875,
          0.03125,
          0.03125,
          0.03125,
          0.03125,
          0.03125,
          0.03125,
          0.03125,
          0.03125,
          0.03125,
          0.03125,
          0.03125,
          0.03125,
          0.03125,
          0.03125,
          0.03125,
          0.03125,
          0.21875,
          0.03125,
          0.84375,
          217.6875,
          474.53125,
          702.625,
          1086.8125,
          1834.84375,
          2370.5,
          2794.34375,
          3437.84375,
          5388.65625,
          17.75,
          20.0625,
          22.125,
          24.03125,
          29.0625,
          37.09375,
          43,
          47.625,
          56.03125,
          62.375,
          69.40625,
          77.15625,
          80.625,
          100.21875,
          116.34375,
          134.6875,
          140.8125,
          153,
          153,
          0.03125,
          1.21875,
          237.21875,
          483.1875,
          710.28125,
          1101.46875,
          1855.59375,
          2385.46875,
          2808.5625,
          3483.75,
          5446.5625,
          329.3125,
          334.1875,
          336.96875,
          348.5,
          357.65625,
          368.8125,
          368.4375,
          377.65625,
          383.8125,
          390.4375,
          398.53125,
          405.53125,
          416.21875,
          422.53125,
          427.6875,
          432.5625,
          439.6875,
          447.71875,
          0.03125,
          2.1875,
          217.90625,
          487.3125,
          718.53125,
          1121.8125,
          1877.625,
          2401.125,
          2821.125,
          3517.1875,
          5493.53125,
          547.25,
          555.40625,
          560.96875,
          571.46875,
          576.03125,
          581.59375,
          587.84375,
          592.84375,
          597.40625,
          602.03125,
          612.03125,
          619.625,
          627.03125,
          630.65625,
          637.6875,
          648.875,
          658.46875,
          667.15625,
          678.1875,
          0.03125,
          2.46875,
          228.6875,
          497.03125,
          731.9375,
          1155.78125,
          1903.65625,
          2413.59375,
          2833.21875,
          3570.03125,
          5545.21875,
          798.0625,
          807.3125,
          817.4375,
          829.09375,
          837,
          849.75,
          862.53125,
          882.03125,
          896.25,
          902.1875,
          918.3125,
          933.40625,
          948.96875,
          964.21875,
          981.375,
          992.25,
          1007.90625,
          1025.75,
          0.03125,
          3.1875,
          271.3125,
          507.21875,
          741.53125,
          1169.375,
          1924.59375,
          2423.28125,
          2850.25,
          3625.34375,
          5762.625,
          1304.90625,
          1322,
          1345.1875,
          1384.78125,
          1408.34375,
          1438.3125,
          1467.0625,
          1491.96875,
          1517.96875,
          1538.96875,
          1562.78125,
          1588.25,
          1620.28125,
          1644.84375,
          1666.28125,
          1693.90625,
          1718.59375,
          1743.84375,
          1743.84375,
          0.03125,
          4.25,
          284.28125,
          512.125,
          751.28125,
          1185.65625,
          1953.84375,
          2423.28125,
          2872.4375,
          3666.59375,
          5853.96875,
          2041.84375,
          2066.84375,
          2090.15625,
          2108.15625,
          2116.28125,
          2133.25,
          2146.53125,
          2168.40625,
          2180.59375,
          2206.09375,
          2219.125,
          2230.34375,
          2240.78125,
          2255.03125,
          2271.96875,
          2290.65625,
          2308.71875,
          2322.5,
          2332.34375,
          0.03125,
          5.0625,
          300.25,
          521.0625,
          761.0625,
          1205.65625,
          1971,
          2437.78125,
          2892.5,
          3705.3125,
          5933.21875,
          2494.5625,
          2504.3125,
          2514.53125,
          2525.375,
          2537.4375,
          2550.0625,
          2568.71875,
          2579.625,
          2589,
          2599.78125,
          2615.6875,
          2632.4375,
          2663.3125,
          2682.1875,
          2695.90625,
          2707.4375,
          2720.0625,
          2735.0625,
          0.03125,
          8.34375,
          308.96875,
          527.84375,
          770.0625,
          1225.5625,
          1988.96875,
          2452.09375,
          2907.34375,
          3750.34375,
          6012.90625,
          2961.71875,
          2984.65625,
          3005.78125,
          3027.9375,
          3052.21875,
          3068.78125,
          3083.15625,
          3098.4375,
          3121.0625,
          3141.40625,
          3167.03125,
          3195.75,
          3216.03125,
          3234.375,
          3250.84375,
          3273.21875,
          3298.65625,
          3330.40625,
          3359.40625,
          0.03125,
          11.4375,
          319.5,
          535.0625,
          774.34375,
          1225.5625,
          2004.71875,
          2469.09375,
          2933.1875,
          3750.34375,
          6111.0625,
          3921.8125,
          3991.59375,
          4063.75,
          4110.375,
          4191.28125,
          4232,
          4294.09375,
          4360.71875,
          4414.375,
          4414.375,
          4610.53125,
          4719.34375,
          4809.5625,
          4809.5625,
          4942.71875,
          5019.8125,
          5084.375,
          5156.84375,
          0.03125,
          14.28125,
          325.34375,
          541.5625,
          786.59375,
          1270.5,
          2021.9375,
          2483.625,
          2933.1875,
          3854.875,
          6241.71875,
          6314.46875,
          6368.65625,
          6408.40625,
          6695.78125,
          6787.65625,
          6883.375,
          6956.25,
          7023.78125,
          7082.34375,
          7121.46875,
          7193.8125,
          7284.15625,
          7284.15625,
          7397.46875,
          7419.78125,
          7458.5,
          7526.4375,
          7572.8125,
          7711,
          7711,
          9791.71875,
          10647.125,
          8787.5625,
          8868.03125,
          8936.5625,
          8936.5625,
          9060.59375,
          9060.59375,
          9124.65625,
          9188.03125,
          9252.71875,
          9320.28125,
          9381.1875,
          9424.59375,
          9441.90625,
          9483.8125,
          9540.28125,
          9619.03125,
          9681.28125,
          9737.40625,
          9775,
          7711,
          9834.125,
          10670.03125,
          10251.46875,
          10278.5,
          10278.5,
          10304.5625,
          10337.71875,
          10375.21875,
          10403.25,
          10431.0625,
          10456.6875,
          10467.5625,
          10490.40625,
          10517.65625,
          10551.65625,
          10588.1875,
          10617.90625,
          10633,
          7981.125,
          9884.1875,
          10694.875,
          10919.53125,
          10939.40625,
          10953.3125,
          10972.15625,
          8013.59375,
          9933.6875,
          10721.5625,
          8086.46875,
          9980.34375,
          10745.875,
          8148.5,
          10004.5625,
          10766.625,
          8250.375,
          10083,
          10790.46875,
          8393.96875,
          10100.4375,
          10804.09375,
          8487.34375,
          10125.78125,
          10825.09375,
          8583.53125,
          10147.0625,
          10847.84375,
          8646.4375,
          10192.46875,
          10871.375,
          8704.5,
          10223.96875,
          10891.125
         ],
         "xaxis": "x",
         "y": [
          24,
          860,
          568,
          805,
          597,
          235,
          760,
          447,
          806,
          272,
          364,
          48,
          56,
          36,
          24,
          28,
          32,
          52,
          20,
          40,
          84,
          32,
          858,
          816,
          792,
          586,
          234,
          748,
          439,
          592,
          269,
          358,
          84,
          69,
          84,
          60,
          60,
          60,
          60,
          60,
          58,
          60,
          60,
          60,
          93,
          223,
          457,
          811,
          1165,
          36,
          4,
          678,
          778,
          577,
          230,
          735,
          432,
          609,
          266,
          345,
          588,
          583,
          577,
          564,
          554,
          545,
          536,
          527,
          518,
          816,
          654,
          645,
          637,
          629,
          621,
          608,
          598,
          588,
          578,
          24,
          422,
          816,
          765,
          567,
          226,
          723,
          424,
          601,
          263,
          332,
          673,
          808,
          808,
          755,
          744,
          733,
          723,
          711,
          698,
          686,
          674,
          663,
          1100,
          865,
          854,
          843,
          833,
          822,
          20,
          409,
          758,
          752,
          557,
          222,
          710,
          958,
          593,
          251,
          331,
          655,
          644,
          633,
          623,
          612,
          602,
          591,
          581,
          571,
          562,
          552,
          800,
          662,
          653,
          648,
          637,
          629,
          616,
          608,
          40,
          391,
          737,
          739,
          548,
          218,
          698,
          704,
          585,
          250,
          325,
          486,
          477,
          469,
          461,
          453,
          20,
          225,
          218,
          210,
          203,
          196,
          196,
          780,
          36,
          256,
          253,
          250,
          247,
          32,
          378,
          737,
          727,
          538,
          215,
          687,
          685,
          573,
          246,
          320,
          863,
          860,
          839,
          824,
          810,
          797,
          783,
          770,
          757,
          980,
          850,
          837,
          825,
          813,
          801,
          786,
          772,
          812,
          773,
          40,
          364,
          720,
          714,
          529,
          211,
          675,
          682,
          563,
          241,
          314,
          619,
          609,
          598,
          588,
          578,
          568,
          559,
          549,
          540,
          531,
          522,
          513,
          504,
          495,
          487,
          479,
          471,
          463,
          455,
          48,
          364,
          709,
          702,
          520,
          1334,
          663,
          673,
          554,
          237,
          309,
          704,
          665,
          654,
          644,
          633,
          623,
          612,
          602,
          591,
          581,
          571,
          562,
          552,
          543,
          533,
          524,
          515,
          507,
          28,
          856,
          696,
          690,
          511,
          980,
          652,
          667,
          544,
          233,
          304,
          517,
          508,
          500,
          491,
          483,
          475,
          466,
          459,
          451,
          316,
          404,
          92,
          229,
          222,
          215,
          210,
          204,
          716,
          96,
          20,
          600,
          684,
          678,
          503,
          870,
          641,
          676,
          535,
          229,
          298,
          221,
          218,
          214,
          210,
          1105,
          656,
          651,
          816,
          544,
          256,
          427,
          417,
          407,
          1,
          816,
          816,
          52,
          370,
          84,
          594,
          1,
          667,
          494,
          867,
          630,
          660,
          526,
          225,
          293,
          288,
          283,
          278,
          332,
          244,
          244,
          251,
          246,
          242,
          237,
          233,
          229,
          1,
          276,
          260,
          256,
          24,
          192,
          210,
          1,
          294,
          159,
          123,
          121,
          119,
          117,
          115,
          113,
          111,
          109,
          108,
          106,
          104,
          102,
          100,
          99,
          97,
          95,
          400,
          294,
          294,
          219,
          285,
          132,
          294,
          219,
          219,
          213,
          84,
          90,
          81,
          102,
          57,
          87,
          72,
          108,
          99,
          147,
          198,
          138,
          213,
          284,
          87,
          60,
          66,
          63,
          48,
          165,
          278,
          135,
          213,
          273,
          135,
          99,
          268,
          150,
          226,
          264,
          168,
          93,
          259,
          51,
          134,
          255,
          48,
          131,
          294,
          75,
          128,
          294,
          69,
          126,
          294,
          57
         ],
         "yaxis": "y"
        },
        {
         "hovertemplate": "wh_id=2.0<br>avg_tot_cases/num_cities=%{x}<br>sales=%{y}<extra></extra>",
         "legendgroup": "2.0",
         "marker": {
          "color": "#EF553B",
          "symbol": "circle"
         },
         "mode": "markers",
         "name": "2.0",
         "showlegend": true,
         "type": "scattergl",
         "x": [
          0,
          0.07692307692307693,
          56.61538461538461,
          198.3846153846154,
          330.9230769230769,
          687,
          1447.4615384615386,
          2072.769230769231,
          2604.769230769231,
          3494.5384615384614,
          5896.461538461538,
          0,
          0,
          0,
          0,
          0,
          0,
          0,
          0,
          0,
          0,
          0,
          0.23076923076923078,
          63.53846153846154,
          202.69230769230768,
          333.46153846153845,
          714.9230769230769,
          1469,
          2082.6923076923076,
          2627.923076923077,
          3536.769230769231,
          6012.307692307692,
          0,
          0,
          0,
          0,
          0,
          0,
          0,
          0,
          0,
          0,
          0,
          0,
          0,
          0,
          0,
          0,
          0.07692307692307693,
          0,
          0.23076923076923078,
          69.15384615384616,
          206.15384615384616,
          338.38461538461536,
          741.2307692307693,
          1489.6923076923076,
          2102.769230769231,
          2654.6923076923076,
          3573.846153846154,
          6099.461538461538,
          1.8461538461538463,
          1.8461538461538463,
          3,
          3.6153846153846154,
          5,
          5.769230769230769,
          6.769230769230769,
          8.76923076923077,
          10.538461538461538,
          12.384615384615385,
          14.692307692307692,
          16.076923076923077,
          20.46153846153846,
          24.307692307692307,
          31.846153846153847,
          36.84615384615385,
          42.15384615384615,
          46.61538461538461,
          53.07692307692308,
          0,
          0.23076923076923078,
          76.84615384615384,
          212.23076923076923,
          344.15384615384613,
          763.8461538461538,
          1515.3076923076924,
          2123.153846153846,
          2674.6153846153848,
          3619.153846153846,
          6264.384615384615,
          121.84615384615384,
          125.61538461538461,
          127.92307692307692,
          133.53846153846155,
          137.30769230769232,
          141.84615384615384,
          146.92307692307693,
          150.46153846153845,
          154,
          158.3846153846154,
          163.6153846153846,
          167.46153846153845,
          173.30769230769232,
          177.76923076923077,
          181.07692307692307,
          183.46153846153845,
          188.15384615384616,
          193.07692307692307,
          0,
          0.23076923076923078,
          82.15384615384616,
          218.3846153846154,
          351.53846153846155,
          786.9230769230769,
          1536.7692307692307,
          2142.769230769231,
          2696.076923076923,
          3679.923076923077,
          6403.307692307692,
          262.7692307692308,
          267.61538461538464,
          272.38461538461536,
          277.84615384615387,
          278.6923076923077,
          283.61538461538464,
          286.61538461538464,
          292.38461538461536,
          293.61538461538464,
          297.2307692307692,
          299.0769230769231,
          302.0769230769231,
          303.7692307692308,
          305.15384615384613,
          310.61538461538464,
          314.3076923076923,
          317.7692307692308,
          321.9230769230769,
          326.38461538461536,
          0,
          0.23076923076923078,
          87.07692307692308,
          224.30769230769232,
          358.61538461538464,
          799.6153846153846,
          1555.7692307692307,
          2157.230769230769,
          2718.4615384615386,
          3739.076923076923,
          6499.692307692308,
          425.7692307692308,
          433.53846153846155,
          447.6923076923077,
          469.0769230769231,
          478.3076923076923,
          489.6923076923077,
          505.53846153846155,
          519.2307692307693,
          533.6153846153846,
          544.8461538461538,
          559.5384615384615,
          572.6153846153846,
          582.1538461538462,
          601.3846153846154,
          622.6153846153846,
          641.6153846153846,
          652.6923076923077,
          665.8461538461538,
          0,
          0.5384615384615384,
          90.84615384615384,
          229.92307692307693,
          369.84615384615387,
          815.7692307692307,
          1587.3846153846155,
          2168.4615384615386,
          2741.076923076923,
          3814.3846153846152,
          6599.076923076923,
          956.7692307692307,
          985,
          1006.2307692307693,
          1039.1538461538462,
          1061.6923076923076,
          1088.3846153846155,
          1121.4615384615386,
          1142.076923076923,
          1164.5384615384614,
          1184.1538461538462,
          1208.6923076923076,
          1238.7692307692307,
          1268.6153846153845,
          1289.076923076923,
          1314.4615384615386,
          1339.6923076923076,
          1363.1538461538462,
          1394.6923076923076,
          1422.5384615384614,
          0,
          1.0769230769230769,
          95.3076923076923,
          236,
          378.61538461538464,
          832.2307692307693,
          1616.1538461538462,
          2181.153846153846,
          2778.153846153846,
          3880.6153846153848,
          6698.615384615385,
          1715.3846153846155,
          1739.4615384615386,
          1770.6153846153845,
          1826.4615384615386,
          1803.923076923077,
          1821.2307692307693,
          1836.1538461538462,
          1858.8461538461538,
          1878.5384615384614,
          1900.7692307692307,
          1918.2307692307693,
          1935,
          1953.1538461538462,
          1967,
          1981.6153846153845,
          2004.1538461538462,
          2022.5384615384614,
          2042.6153846153845,
          2054.846153846154,
          0,
          1.0769230769230769,
          101.61538461538461,
          243.07692307692307,
          383.6923076923077,
          860.6153846153846,
          1636.3076923076924,
          2190.076923076923,
          2809.6923076923076,
          3935,
          6791.307692307692,
          2256.6923076923076,
          2268,
          2281.6923076923076,
          2296.153846153846,
          2312.3076923076924,
          2334,
          2353.769230769231,
          2369.3076923076924,
          2384.230769230769,
          2408.6923076923076,
          2423.3076923076924,
          2451.153846153846,
          2485.6923076923076,
          2506.230769230769,
          2524.6153846153848,
          2538,
          2560.846153846154,
          2577.6153846153848,
          0,
          1.1538461538461537,
          105.46153846153847,
          248.30769230769232,
          389.2307692307692,
          881.0769230769231,
          1652.923076923077,
          2204.153846153846,
          2809.6923076923076,
          3993,
          6910.615384615385,
          2906.153846153846,
          2935.3846153846152,
          2963.4615384615386,
          2995,
          3024.3076923076924,
          3040.923076923077,
          3061.076923076923,
          3087.3846153846152,
          3111,
          3139.230769230769,
          3180.6153846153848,
          3180.6153846153848,
          3238.5384615384614,
          3264.3076923076924,
          3292.923076923077,
          3325.230769230769,
          3368.6923076923076,
          3414.4615384615386,
          3455.4615384615386,
          0,
          1.4615384615384615,
          111.3076923076923,
          252.76923076923077,
          402.84615384615387,
          911.6153846153846,
          1674.923076923077,
          2220.3846153846152,
          2865.769230769231,
          4059.230769230769,
          7032.307692307692,
          4225.923076923077,
          4309.076923076923,
          4375.384615384615,
          4434.307692307692,
          4505.384615384615,
          4589.923076923077,
          4682.538461538462,
          4782.692307692308,
          4897.538461538462,
          5013.076923076923,
          5102.538461538462,
          5179.461538461538,
          5269.461538461538,
          5385.076923076923,
          5448.615384615385,
          5577.384615384615,
          5701.538461538462,
          5802.384615384615,
          0,
          1.8461538461538463,
          117.46153846153847,
          258.3076923076923,
          413.61538461538464,
          936.1538461538462,
          1694,
          2242.769230769231,
          2882.076923076923,
          4144.538461538462,
          7141.461538461538,
          7219.461538461538,
          7308.461538461538,
          7391.692307692308,
          7509.384615384615,
          7610.461538461538,
          7716,
          7831.846153846154,
          7917.692307692308,
          7981.153846153846,
          8082.538461538462,
          8151.538461538462,
          8217,
          8286,
          8332.76923076923,
          8440.384615384615,
          8503.461538461539,
          8555.923076923076,
          8635.384615384615,
          8762.23076923077,
          8762.23076923077,
          11028.692307692309,
          11983.615384615385,
          9931.461538461539,
          10018.923076923076,
          10096.76923076923,
          10185.538461538461,
          10246.538461538461,
          10296.23076923077,
          10343.692307692309,
          10395.538461538461,
          10459.461538461539,
          10526.076923076924,
          10584.615384615385,
          10628.307692307691,
          10660.538461538461,
          10719.615384615385,
          10774.076923076924,
          10829.461538461539,
          10902.23076923077,
          10955.076923076924,
          10955.076923076924,
          8949.846153846154,
          11075.23076923077,
          12002.846153846154,
          11541.076923076924,
          11560.076923076924,
          11574.153846153846,
          11605.76923076923,
          11635.153846153846,
          11670.23076923077,
          11706.923076923076,
          11747,
          11755.23076923077,
          11779.538461538461,
          11818.846153846154,
          11850.923076923076,
          11888.76923076923,
          11913.692307692309,
          11947.307692307691,
          11969,
          9057.307692307691,
          11123.461538461539,
          12022.076923076924,
          12260.923076923076,
          12278.23076923077,
          12291.384615384615,
          12311.538461538461,
          9111.76923076923,
          11178.461538461539,
          12051.76923076923,
          9191.384615384615,
          11241.307692307691,
          12068,
          9247.923076923076,
          11287.76923076923,
          12083,
          9314.23076923077,
          11317.076923076924,
          12098.846153846154,
          9449.76923076923,
          11339.923076923076,
          12116.538461538461,
          9575.076923076924,
          11379.384615384615,
          12154.384615384615,
          9667.923076923076,
          11421.153846153846,
          12176.23076923077,
          9739,
          11467.846153846154,
          12203.384615384615,
          9829.23076923077,
          11505.846153846154,
          12233.615384615385
         ],
         "xaxis": "x",
         "y": [
          76,
          1654,
          414,
          507,
          506,
          303,
          453,
          269,
          950,
          974,
          182,
          36,
          56,
          80,
          64,
          60,
          40,
          64,
          68,
          20,
          40,
          484,
          1719,
          1179,
          499,
          498,
          297,
          446,
          264,
          648,
          664,
          175,
          2209,
          2448,
          2448,
          2448,
          2448,
          2448,
          2448,
          2372,
          28,
          52,
          44,
          36,
          40,
          112,
          152,
          164,
          924,
          580,
          1403,
          834,
          490,
          489,
          292,
          438,
          260,
          663,
          627,
          171,
          941,
          925,
          909,
          894,
          1172,
          1010,
          996,
          981,
          468,
          340,
          503,
          488,
          472,
          457,
          449,
          444,
          436,
          429,
          421,
          424,
          1172,
          803,
          482,
          481,
          287,
          431,
          255,
          656,
          623,
          169,
          762,
          750,
          738,
          726,
          716,
          820,
          749,
          738,
          726,
          715,
          704,
          8,
          792,
          553,
          542,
          531,
          520,
          520,
          816,
          652,
          797,
          474,
          473,
          282,
          424,
          1120,
          648,
          619,
          484,
          413,
          406,
          399,
          392,
          386,
          379,
          373,
          366,
          360,
          354,
          800,
          568,
          562,
          556,
          551,
          545,
          533,
          524,
          515,
          1197,
          1172,
          795,
          466,
          465,
          278,
          416,
          764,
          641,
          616,
          380,
          412,
          405,
          398,
          391,
          385,
          378,
          372,
          365,
          359,
          353,
          347,
          341,
          335,
          330,
          324,
          319,
          313,
          308,
          907,
          1037,
          786,
          458,
          457,
          273,
          409,
          719,
          626,
          601,
          360,
          246,
          242,
          238,
          234,
          230,
          226,
          222,
          218,
          215,
          211,
          207,
          204,
          776,
          486,
          483,
          480,
          476,
          473,
          461,
          906,
          1037,
          767,
          450,
          449,
          268,
          402,
          715,
          616,
          590,
          360,
          372,
          366,
          360,
          354,
          348,
          342,
          336,
          330,
          325,
          319,
          314,
          308,
          303,
          298,
          293,
          288,
          283,
          278,
          274,
          894,
          1002,
          754,
          442,
          441,
          264,
          395,
          711,
          606,
          580,
          353,
          623,
          612,
          601,
          590,
          568,
          565,
          555,
          545,
          536,
          527,
          518,
          509,
          500,
          492,
          483,
          475,
          467,
          459,
          887,
          983,
          742,
          435,
          434,
          259,
          389,
          707,
          596,
          571,
          44,
          566,
          556,
          547,
          537,
          528,
          537,
          519,
          511,
          502,
          804,
          548,
          548,
          559,
          4,
          270,
          257,
          249,
          240,
          231,
          874,
          973,
          820,
          427,
          427,
          255,
          389,
          1392,
          585,
          561,
          190,
          542,
          533,
          524,
          515,
          1191,
          840,
          831,
          823,
          588,
          224,
          4,
          209,
          420,
          1,
          280,
          108,
          190,
          180,
          3590,
          960,
          1,
          420,
          419,
          250,
          379,
          240,
          575,
          551,
          184,
          178,
          172,
          167,
          166,
          163,
          160,
          158,
          155,
          152,
          162,
          153,
          151,
          1,
          148,
          324,
          380,
          108,
          607,
          309,
          1,
          223,
          129,
          340,
          334,
          346,
          332,
          326,
          321,
          316,
          310,
          305,
          300,
          249,
          183,
          249,
          249,
          249,
          237,
          233,
          230,
          226,
          93,
          171,
          132,
          227,
          223,
          220,
          216,
          212,
          209,
          205,
          228,
          234,
          186,
          171,
          209,
          126,
          180,
          204,
          126,
          414,
          270,
          126,
          93,
          102,
          90,
          87,
          414,
          270,
          123,
          414,
          270,
          147,
          378,
          254,
          165,
          373,
          251,
          120,
          371,
          248,
          78,
          365,
          244,
          93,
          358,
          239,
          81,
          352,
          235,
          93,
          346,
          231,
          108
         ],
         "yaxis": "y"
        },
        {
         "hovertemplate": "wh_id=6.0<br>avg_tot_cases/num_cities=%{x}<br>sales=%{y}<extra></extra>",
         "legendgroup": "6.0",
         "marker": {
          "color": "#00cc96",
          "symbol": "circle"
         },
         "mode": "markers",
         "name": "6.0",
         "showlegend": true,
         "type": "scattergl",
         "x": [
          0.03125,
          0.34375,
          166.21875,
          457.40625,
          686.78125,
          1044.84375,
          1798.15625,
          2341.84375,
          2753.625,
          3384.84375,
          5225.5,
          0.03125,
          0.03125,
          0.03125,
          0.03125,
          0.03125,
          0.03125,
          0.03125,
          0.03125,
          0.03125,
          0.03125,
          0.03125,
          0.5625,
          177.59375,
          468.84375,
          692.40625,
          1067.21875,
          1817.875,
          2355.53125,
          2775.3125,
          3417.3125,
          5323.1875,
          0.03125,
          0.03125,
          0.03125,
          0.03125,
          0.03125,
          0.03125,
          0.03125,
          0.03125,
          0.03125,
          0.03125,
          0.03125,
          0.03125,
          0.03125,
          0.03125,
          0.03125,
          0.03125,
          0.21875,
          0.03125,
          0.84375,
          217.6875,
          474.53125,
          702.625,
          1086.8125,
          1834.84375,
          2370.5,
          2794.34375,
          3437.84375,
          5388.65625,
          17.75,
          20.0625,
          22.125,
          24.03125,
          29.0625,
          37.09375,
          43,
          47.625,
          56.03125,
          62.375,
          69.40625,
          77.15625,
          80.625,
          100.21875,
          116.34375,
          134.6875,
          140.8125,
          153,
          153,
          0.03125,
          1.21875,
          237.21875,
          483.1875,
          710.28125,
          1101.46875,
          1855.59375,
          2385.46875,
          2808.5625,
          3483.75,
          5446.5625,
          329.3125,
          334.1875,
          336.96875,
          348.5,
          357.65625,
          368.8125,
          368.4375,
          377.65625,
          383.8125,
          390.4375,
          398.53125,
          405.53125,
          416.21875,
          422.53125,
          427.6875,
          432.5625,
          439.6875,
          447.71875,
          0.03125,
          2.1875,
          217.90625,
          487.3125,
          718.53125,
          1121.8125,
          1877.625,
          2401.125,
          2821.125,
          3517.1875,
          5493.53125,
          547.25,
          555.40625,
          560.96875,
          571.46875,
          576.03125,
          581.59375,
          587.84375,
          592.84375,
          597.40625,
          602.03125,
          612.03125,
          619.625,
          627.03125,
          630.65625,
          637.6875,
          648.875,
          658.46875,
          667.15625,
          678.1875,
          0.03125,
          2.46875,
          228.6875,
          497.03125,
          731.9375,
          1155.78125,
          1903.65625,
          2413.59375,
          2833.21875,
          3570.03125,
          5545.21875,
          798.0625,
          807.3125,
          817.4375,
          829.09375,
          837,
          849.75,
          862.53125,
          882.03125,
          896.25,
          902.1875,
          918.3125,
          933.40625,
          948.96875,
          964.21875,
          981.375,
          992.25,
          1007.90625,
          1025.75,
          0.03125,
          3.1875,
          271.3125,
          507.21875,
          741.53125,
          1169.375,
          1924.59375,
          2423.28125,
          2850.25,
          3625.34375,
          5762.625,
          1304.90625,
          1322,
          1345.1875,
          1384.78125,
          1408.34375,
          1438.3125,
          1467.0625,
          1491.96875,
          1517.96875,
          1538.96875,
          1562.78125,
          1588.25,
          1620.28125,
          1644.84375,
          1666.28125,
          1693.90625,
          1718.59375,
          1743.84375,
          1743.84375,
          0.03125,
          4.25,
          284.28125,
          512.125,
          751.28125,
          1185.65625,
          1953.84375,
          2423.28125,
          2872.4375,
          3666.59375,
          5853.96875,
          2041.84375,
          2066.84375,
          2090.15625,
          2108.15625,
          2116.28125,
          2133.25,
          2146.53125,
          2168.40625,
          2180.59375,
          2206.09375,
          2219.125,
          2230.34375,
          2240.78125,
          2255.03125,
          2271.96875,
          2290.65625,
          2308.71875,
          2322.5,
          2332.34375,
          0.03125,
          5.0625,
          300.25,
          521.0625,
          761.0625,
          1205.65625,
          1971,
          2437.78125,
          2892.5,
          3705.3125,
          5933.21875,
          2494.5625,
          2504.3125,
          2514.53125,
          2525.375,
          2537.4375,
          2550.0625,
          2568.71875,
          2579.625,
          2589,
          2599.78125,
          2615.6875,
          2632.4375,
          2663.3125,
          2682.1875,
          2695.90625,
          2707.4375,
          2720.0625,
          2735.0625,
          0.03125,
          8.34375,
          308.96875,
          527.84375,
          770.0625,
          1225.5625,
          1988.96875,
          2452.09375,
          2907.34375,
          3750.34375,
          6012.90625,
          2961.71875,
          2984.65625,
          3005.78125,
          3027.9375,
          3052.21875,
          3068.78125,
          3083.15625,
          3098.4375,
          3121.0625,
          3141.40625,
          3167.03125,
          3195.75,
          3216.03125,
          3234.375,
          3250.84375,
          3273.21875,
          3298.65625,
          3330.40625,
          3359.40625,
          0.03125,
          11.4375,
          319.5,
          535.0625,
          774.34375,
          1225.5625,
          2004.71875,
          2469.09375,
          2933.1875,
          3750.34375,
          6111.0625,
          3921.8125,
          3991.59375,
          4063.75,
          4110.375,
          4191.28125,
          4232,
          4294.09375,
          4360.71875,
          4414.375,
          4414.375,
          4610.53125,
          4719.34375,
          4809.5625,
          4809.5625,
          4942.71875,
          5019.8125,
          5084.375,
          5156.84375,
          0.03125,
          14.28125,
          325.34375,
          541.5625,
          786.59375,
          1270.5,
          2021.9375,
          2483.625,
          2933.1875,
          3854.875,
          6241.71875,
          6314.46875,
          6368.65625,
          6408.40625,
          6695.78125,
          6787.65625,
          6883.375,
          6956.25,
          7023.78125,
          7082.34375,
          7121.46875,
          7193.8125,
          7284.15625,
          7284.15625,
          7397.46875,
          7419.78125,
          7458.5,
          7526.4375,
          7572.8125,
          7711,
          7711,
          9791.71875,
          10647.125,
          8787.5625,
          8868.03125,
          8936.5625,
          8936.5625,
          9060.59375,
          9060.59375,
          9124.65625,
          9188.03125,
          9252.71875,
          9320.28125,
          9381.1875,
          9424.59375,
          9441.90625,
          9483.8125,
          9540.28125,
          9619.03125,
          9681.28125,
          9737.40625,
          9775,
          7711,
          9834.125,
          10670.03125,
          10251.46875,
          10278.5,
          10278.5,
          10304.5625,
          10337.71875,
          10375.21875,
          10403.25,
          10431.0625,
          10456.6875,
          10467.5625,
          10490.40625,
          10517.65625,
          10551.65625,
          10588.1875,
          10617.90625,
          10633,
          7981.125,
          9884.1875,
          10694.875,
          10919.53125,
          10939.40625,
          10953.3125,
          10972.15625,
          8013.59375,
          9933.6875,
          10721.5625,
          8086.46875,
          9980.34375,
          10745.875,
          8148.5,
          10004.5625,
          10766.625,
          8250.375,
          10083,
          10790.46875,
          8393.96875,
          10100.4375,
          10804.09375,
          8487.34375,
          10125.78125,
          10825.09375,
          8583.53125,
          10147.0625,
          10847.84375,
          8646.4375,
          10192.46875,
          10871.375,
          8704.5,
          10223.96875,
          10891.125
         ],
         "xaxis": "x",
         "y": [
          60,
          316,
          553,
          671,
          623,
          569,
          709,
          416,
          695,
          302,
          164,
          76,
          68,
          44,
          44,
          52,
          8,
          40,
          44,
          68,
          56,
          64,
          315,
          544,
          660,
          611,
          556,
          697,
          409,
          682,
          295,
          159,
          228,
          228,
          32,
          40,
          24,
          40,
          224,
          20,
          16,
          24,
          32,
          40,
          72,
          100,
          280,
          268,
          412,
          56,
          314,
          535,
          649,
          600,
          547,
          685,
          402,
          671,
          4,
          151,
          648,
          640,
          631,
          618,
          808,
          698,
          688,
          678,
          668,
          658,
          645,
          635,
          624,
          613,
          603,
          593,
          582,
          573,
          563,
          44,
          309,
          1075,
          638,
          590,
          538,
          673,
          395,
          659,
          512,
          146,
          16,
          372,
          360,
          348,
          335,
          1097,
          710,
          704,
          700,
          694,
          689,
          671,
          816,
          727,
          716,
          705,
          695,
          684,
          64,
          305,
          791,
          627,
          580,
          529,
          662,
          389,
          648,
          292,
          146,
          665,
          656,
          646,
          634,
          623,
          613,
          602,
          592,
          582,
          572,
          562,
          553,
          543,
          534,
          808,
          657,
          649,
          640,
          632,
          228,
          804,
          783,
          616,
          570,
          520,
          651,
          382,
          637,
          302,
          143,
          506,
          497,
          489,
          480,
          472,
          464,
          456,
          448,
          441,
          433,
          426,
          419,
          412,
          800,
          595,
          589,
          582,
          575,
          32,
          546,
          774,
          606,
          561,
          511,
          640,
          376,
          626,
          298,
          141,
          1026,
          1018,
          993,
          976,
          960,
          944,
          928,
          912,
          897,
          808,
          830,
          815,
          800,
          786,
          772,
          760,
          747,
          734,
          721,
          56,
          542,
          812,
          595,
          551,
          502,
          629,
          369,
          615,
          293,
          138,
          577,
          567,
          558,
          548,
          539,
          530,
          521,
          512,
          503,
          494,
          486,
          478,
          470,
          462,
          454,
          446,
          438,
          431,
          424,
          20,
          537,
          780,
          585,
          542,
          1624,
          618,
          363,
          605,
          293,
          136,
          704,
          698,
          692,
          687,
          670,
          659,
          648,
          637,
          626,
          615,
          605,
          595,
          804,
          804,
          737,
          726,
          716,
          707,
          76,
          816,
          792,
          812,
          532,
          1050,
          608,
          357,
          595,
          285,
          134,
          565,
          555,
          546,
          536,
          527,
          518,
          509,
          812,
          652,
          642,
          633,
          412,
          396,
          448,
          435,
          424,
          748,
          56,
          309,
          64,
          669,
          765,
          684,
          523,
          1042,
          597,
          1081,
          585,
          4,
          4,
          133,
          128,
          124,
          812,
          466,
          463,
          461,
          904,
          720,
          4,
          338,
          331,
          324,
          1,
          532,
          280,
          4,
          169,
          228,
          657,
          1,
          674,
          514,
          1034,
          587,
          710,
          575,
          137,
          66,
          63,
          61,
          772,
          40,
          227,
          226,
          225,
          224,
          212,
          211,
          207,
          204,
          1,
          207,
          200,
          772,
          772,
          772,
          114,
          1,
          3,
          210,
          151,
          148,
          146,
          143,
          141,
          138,
          136,
          134,
          131,
          129,
          327,
          291,
          171,
          24,
          3,
          57,
          363,
          351,
          99,
          401,
          95,
          161,
          363,
          351,
          267,
          267,
          219,
          192,
          201,
          252,
          111,
          132,
          66,
          64,
          80,
          186,
          195,
          156,
          474,
          94,
          252,
          183,
          171,
          153,
          141,
          339,
          88,
          165,
          369,
          83,
          168,
          3,
          81,
          177,
          178,
          81,
          198,
          172,
          79,
          126,
          165,
          78,
          111,
          159,
          363,
          177,
          154,
          363,
          150,
          154,
          363,
          177
         ],
         "yaxis": "y"
        }
       ],
       "layout": {
        "autosize": true,
        "legend": {
         "title": {
          "text": "wh_id"
         },
         "tracegroupgap": 0
        },
        "template": {
         "data": {
          "bar": [
           {
            "error_x": {
             "color": "#2a3f5f"
            },
            "error_y": {
             "color": "#2a3f5f"
            },
            "marker": {
             "line": {
              "color": "#E5ECF6",
              "width": 0.5
             },
             "pattern": {
              "fillmode": "overlay",
              "size": 10,
              "solidity": 0.2
             }
            },
            "type": "bar"
           }
          ],
          "barpolar": [
           {
            "marker": {
             "line": {
              "color": "#E5ECF6",
              "width": 0.5
             },
             "pattern": {
              "fillmode": "overlay",
              "size": 10,
              "solidity": 0.2
             }
            },
            "type": "barpolar"
           }
          ],
          "carpet": [
           {
            "aaxis": {
             "endlinecolor": "#2a3f5f",
             "gridcolor": "white",
             "linecolor": "white",
             "minorgridcolor": "white",
             "startlinecolor": "#2a3f5f"
            },
            "baxis": {
             "endlinecolor": "#2a3f5f",
             "gridcolor": "white",
             "linecolor": "white",
             "minorgridcolor": "white",
             "startlinecolor": "#2a3f5f"
            },
            "type": "carpet"
           }
          ],
          "choropleth": [
           {
            "colorbar": {
             "outlinewidth": 0,
             "ticks": ""
            },
            "type": "choropleth"
           }
          ],
          "contour": [
           {
            "colorbar": {
             "outlinewidth": 0,
             "ticks": ""
            },
            "colorscale": [
             [
              0,
              "#0d0887"
             ],
             [
              0.1111111111111111,
              "#46039f"
             ],
             [
              0.2222222222222222,
              "#7201a8"
             ],
             [
              0.3333333333333333,
              "#9c179e"
             ],
             [
              0.4444444444444444,
              "#bd3786"
             ],
             [
              0.5555555555555556,
              "#d8576b"
             ],
             [
              0.6666666666666666,
              "#ed7953"
             ],
             [
              0.7777777777777778,
              "#fb9f3a"
             ],
             [
              0.8888888888888888,
              "#fdca26"
             ],
             [
              1,
              "#f0f921"
             ]
            ],
            "type": "contour"
           }
          ],
          "contourcarpet": [
           {
            "colorbar": {
             "outlinewidth": 0,
             "ticks": ""
            },
            "type": "contourcarpet"
           }
          ],
          "heatmap": [
           {
            "colorbar": {
             "outlinewidth": 0,
             "ticks": ""
            },
            "colorscale": [
             [
              0,
              "#0d0887"
             ],
             [
              0.1111111111111111,
              "#46039f"
             ],
             [
              0.2222222222222222,
              "#7201a8"
             ],
             [
              0.3333333333333333,
              "#9c179e"
             ],
             [
              0.4444444444444444,
              "#bd3786"
             ],
             [
              0.5555555555555556,
              "#d8576b"
             ],
             [
              0.6666666666666666,
              "#ed7953"
             ],
             [
              0.7777777777777778,
              "#fb9f3a"
             ],
             [
              0.8888888888888888,
              "#fdca26"
             ],
             [
              1,
              "#f0f921"
             ]
            ],
            "type": "heatmap"
           }
          ],
          "heatmapgl": [
           {
            "colorbar": {
             "outlinewidth": 0,
             "ticks": ""
            },
            "colorscale": [
             [
              0,
              "#0d0887"
             ],
             [
              0.1111111111111111,
              "#46039f"
             ],
             [
              0.2222222222222222,
              "#7201a8"
             ],
             [
              0.3333333333333333,
              "#9c179e"
             ],
             [
              0.4444444444444444,
              "#bd3786"
             ],
             [
              0.5555555555555556,
              "#d8576b"
             ],
             [
              0.6666666666666666,
              "#ed7953"
             ],
             [
              0.7777777777777778,
              "#fb9f3a"
             ],
             [
              0.8888888888888888,
              "#fdca26"
             ],
             [
              1,
              "#f0f921"
             ]
            ],
            "type": "heatmapgl"
           }
          ],
          "histogram": [
           {
            "marker": {
             "pattern": {
              "fillmode": "overlay",
              "size": 10,
              "solidity": 0.2
             }
            },
            "type": "histogram"
           }
          ],
          "histogram2d": [
           {
            "colorbar": {
             "outlinewidth": 0,
             "ticks": ""
            },
            "colorscale": [
             [
              0,
              "#0d0887"
             ],
             [
              0.1111111111111111,
              "#46039f"
             ],
             [
              0.2222222222222222,
              "#7201a8"
             ],
             [
              0.3333333333333333,
              "#9c179e"
             ],
             [
              0.4444444444444444,
              "#bd3786"
             ],
             [
              0.5555555555555556,
              "#d8576b"
             ],
             [
              0.6666666666666666,
              "#ed7953"
             ],
             [
              0.7777777777777778,
              "#fb9f3a"
             ],
             [
              0.8888888888888888,
              "#fdca26"
             ],
             [
              1,
              "#f0f921"
             ]
            ],
            "type": "histogram2d"
           }
          ],
          "histogram2dcontour": [
           {
            "colorbar": {
             "outlinewidth": 0,
             "ticks": ""
            },
            "colorscale": [
             [
              0,
              "#0d0887"
             ],
             [
              0.1111111111111111,
              "#46039f"
             ],
             [
              0.2222222222222222,
              "#7201a8"
             ],
             [
              0.3333333333333333,
              "#9c179e"
             ],
             [
              0.4444444444444444,
              "#bd3786"
             ],
             [
              0.5555555555555556,
              "#d8576b"
             ],
             [
              0.6666666666666666,
              "#ed7953"
             ],
             [
              0.7777777777777778,
              "#fb9f3a"
             ],
             [
              0.8888888888888888,
              "#fdca26"
             ],
             [
              1,
              "#f0f921"
             ]
            ],
            "type": "histogram2dcontour"
           }
          ],
          "mesh3d": [
           {
            "colorbar": {
             "outlinewidth": 0,
             "ticks": ""
            },
            "type": "mesh3d"
           }
          ],
          "parcoords": [
           {
            "line": {
             "colorbar": {
              "outlinewidth": 0,
              "ticks": ""
             }
            },
            "type": "parcoords"
           }
          ],
          "pie": [
           {
            "automargin": true,
            "type": "pie"
           }
          ],
          "scatter": [
           {
            "marker": {
             "colorbar": {
              "outlinewidth": 0,
              "ticks": ""
             }
            },
            "type": "scatter"
           }
          ],
          "scatter3d": [
           {
            "line": {
             "colorbar": {
              "outlinewidth": 0,
              "ticks": ""
             }
            },
            "marker": {
             "colorbar": {
              "outlinewidth": 0,
              "ticks": ""
             }
            },
            "type": "scatter3d"
           }
          ],
          "scattercarpet": [
           {
            "marker": {
             "colorbar": {
              "outlinewidth": 0,
              "ticks": ""
             }
            },
            "type": "scattercarpet"
           }
          ],
          "scattergeo": [
           {
            "marker": {
             "colorbar": {
              "outlinewidth": 0,
              "ticks": ""
             }
            },
            "type": "scattergeo"
           }
          ],
          "scattergl": [
           {
            "marker": {
             "colorbar": {
              "outlinewidth": 0,
              "ticks": ""
             }
            },
            "type": "scattergl"
           }
          ],
          "scattermapbox": [
           {
            "marker": {
             "colorbar": {
              "outlinewidth": 0,
              "ticks": ""
             }
            },
            "type": "scattermapbox"
           }
          ],
          "scatterpolar": [
           {
            "marker": {
             "colorbar": {
              "outlinewidth": 0,
              "ticks": ""
             }
            },
            "type": "scatterpolar"
           }
          ],
          "scatterpolargl": [
           {
            "marker": {
             "colorbar": {
              "outlinewidth": 0,
              "ticks": ""
             }
            },
            "type": "scatterpolargl"
           }
          ],
          "scatterternary": [
           {
            "marker": {
             "colorbar": {
              "outlinewidth": 0,
              "ticks": ""
             }
            },
            "type": "scatterternary"
           }
          ],
          "surface": [
           {
            "colorbar": {
             "outlinewidth": 0,
             "ticks": ""
            },
            "colorscale": [
             [
              0,
              "#0d0887"
             ],
             [
              0.1111111111111111,
              "#46039f"
             ],
             [
              0.2222222222222222,
              "#7201a8"
             ],
             [
              0.3333333333333333,
              "#9c179e"
             ],
             [
              0.4444444444444444,
              "#bd3786"
             ],
             [
              0.5555555555555556,
              "#d8576b"
             ],
             [
              0.6666666666666666,
              "#ed7953"
             ],
             [
              0.7777777777777778,
              "#fb9f3a"
             ],
             [
              0.8888888888888888,
              "#fdca26"
             ],
             [
              1,
              "#f0f921"
             ]
            ],
            "type": "surface"
           }
          ],
          "table": [
           {
            "cells": {
             "fill": {
              "color": "#EBF0F8"
             },
             "line": {
              "color": "white"
             }
            },
            "header": {
             "fill": {
              "color": "#C8D4E3"
             },
             "line": {
              "color": "white"
             }
            },
            "type": "table"
           }
          ]
         },
         "layout": {
          "annotationdefaults": {
           "arrowcolor": "#2a3f5f",
           "arrowhead": 0,
           "arrowwidth": 1
          },
          "autotypenumbers": "strict",
          "coloraxis": {
           "colorbar": {
            "outlinewidth": 0,
            "ticks": ""
           }
          },
          "colorscale": {
           "diverging": [
            [
             0,
             "#8e0152"
            ],
            [
             0.1,
             "#c51b7d"
            ],
            [
             0.2,
             "#de77ae"
            ],
            [
             0.3,
             "#f1b6da"
            ],
            [
             0.4,
             "#fde0ef"
            ],
            [
             0.5,
             "#f7f7f7"
            ],
            [
             0.6,
             "#e6f5d0"
            ],
            [
             0.7,
             "#b8e186"
            ],
            [
             0.8,
             "#7fbc41"
            ],
            [
             0.9,
             "#4d9221"
            ],
            [
             1,
             "#276419"
            ]
           ],
           "sequential": [
            [
             0,
             "#0d0887"
            ],
            [
             0.1111111111111111,
             "#46039f"
            ],
            [
             0.2222222222222222,
             "#7201a8"
            ],
            [
             0.3333333333333333,
             "#9c179e"
            ],
            [
             0.4444444444444444,
             "#bd3786"
            ],
            [
             0.5555555555555556,
             "#d8576b"
            ],
            [
             0.6666666666666666,
             "#ed7953"
            ],
            [
             0.7777777777777778,
             "#fb9f3a"
            ],
            [
             0.8888888888888888,
             "#fdca26"
            ],
            [
             1,
             "#f0f921"
            ]
           ],
           "sequentialminus": [
            [
             0,
             "#0d0887"
            ],
            [
             0.1111111111111111,
             "#46039f"
            ],
            [
             0.2222222222222222,
             "#7201a8"
            ],
            [
             0.3333333333333333,
             "#9c179e"
            ],
            [
             0.4444444444444444,
             "#bd3786"
            ],
            [
             0.5555555555555556,
             "#d8576b"
            ],
            [
             0.6666666666666666,
             "#ed7953"
            ],
            [
             0.7777777777777778,
             "#fb9f3a"
            ],
            [
             0.8888888888888888,
             "#fdca26"
            ],
            [
             1,
             "#f0f921"
            ]
           ]
          },
          "colorway": [
           "#636efa",
           "#EF553B",
           "#00cc96",
           "#ab63fa",
           "#FFA15A",
           "#19d3f3",
           "#FF6692",
           "#B6E880",
           "#FF97FF",
           "#FECB52"
          ],
          "font": {
           "color": "#2a3f5f"
          },
          "geo": {
           "bgcolor": "white",
           "lakecolor": "white",
           "landcolor": "#E5ECF6",
           "showlakes": true,
           "showland": true,
           "subunitcolor": "white"
          },
          "hoverlabel": {
           "align": "left"
          },
          "hovermode": "closest",
          "mapbox": {
           "style": "light"
          },
          "paper_bgcolor": "white",
          "plot_bgcolor": "#E5ECF6",
          "polar": {
           "angularaxis": {
            "gridcolor": "white",
            "linecolor": "white",
            "ticks": ""
           },
           "bgcolor": "#E5ECF6",
           "radialaxis": {
            "gridcolor": "white",
            "linecolor": "white",
            "ticks": ""
           }
          },
          "scene": {
           "xaxis": {
            "backgroundcolor": "#E5ECF6",
            "gridcolor": "white",
            "gridwidth": 2,
            "linecolor": "white",
            "showbackground": true,
            "ticks": "",
            "zerolinecolor": "white"
           },
           "yaxis": {
            "backgroundcolor": "#E5ECF6",
            "gridcolor": "white",
            "gridwidth": 2,
            "linecolor": "white",
            "showbackground": true,
            "ticks": "",
            "zerolinecolor": "white"
           },
           "zaxis": {
            "backgroundcolor": "#E5ECF6",
            "gridcolor": "white",
            "gridwidth": 2,
            "linecolor": "white",
            "showbackground": true,
            "ticks": "",
            "zerolinecolor": "white"
           }
          },
          "shapedefaults": {
           "line": {
            "color": "#2a3f5f"
           }
          },
          "ternary": {
           "aaxis": {
            "gridcolor": "white",
            "linecolor": "white",
            "ticks": ""
           },
           "baxis": {
            "gridcolor": "white",
            "linecolor": "white",
            "ticks": ""
           },
           "bgcolor": "#E5ECF6",
           "caxis": {
            "gridcolor": "white",
            "linecolor": "white",
            "ticks": ""
           }
          },
          "title": {
           "x": 0.05
          },
          "xaxis": {
           "automargin": true,
           "gridcolor": "white",
           "linecolor": "white",
           "ticks": "",
           "title": {
            "standoff": 15
           },
           "zerolinecolor": "white",
           "zerolinewidth": 2
          },
          "yaxis": {
           "automargin": true,
           "gridcolor": "white",
           "linecolor": "white",
           "ticks": "",
           "title": {
            "standoff": 15
           },
           "zerolinecolor": "white",
           "zerolinewidth": 2
          }
         }
        },
        "title": {
         "text": "cases vs sales"
        },
        "xaxis": {
         "anchor": "y",
         "autorange": true,
         "domain": [
          0,
          1
         ],
         "range": [
          -742.9376657824934,
          13054.476127320955
         ],
         "title": {
          "text": "avg_tot_cases/num_cities"
         },
         "type": "linear"
        },
        "yaxis": {
         "anchor": "x",
         "autorange": true,
         "domain": [
          0,
          1
         ],
         "range": [
          -295.1796116504854,
          3886.1796116504856
         ],
         "title": {
          "text": "sales"
         },
         "type": "linear"
        }
       }
      },
      "image/png": "[encoded data removed]",
      "text/html": [
       "<div>                            <div id=\"614ed171-ffc2-4d44-8e93-0a0edbefa65e\" class=\"plotly-graph-div\" style=\"height:525px; width:100%;\"></div>            <script type=\"text/javascript\">                require([\"plotly\"], function(Plotly) {                    window.PLOTLYENV=window.PLOTLYENV || {};                                    if (document.getElementById(\"614ed171-ffc2-4d44-8e93-0a0edbefa65e\")) {                    Plotly.newPlot(                        \"614ed171-ffc2-4d44-8e93-0a0edbefa65e\",                        [{\"hovertemplate\":\"wh_id=1.0<br>avg_tot_cases/num_cities=%{x}<br>sales=%{y}<extra></extra>\",\"legendgroup\":\"1.0\",\"marker\":{\"color\":\"#636efa\",\"symbol\":\"circle\"},\"mode\":\"markers\",\"name\":\"1.0\",\"showlegend\":true,\"x\":[0.03125,0.34375,166.21875,457.40625,686.78125,1044.84375,1798.15625,2341.84375,2753.625,3384.84375,5225.5,0.03125,0.03125,0.03125,0.03125,0.03125,0.03125,0.03125,0.03125,0.03125,0.03125,0.03125,0.5625,177.59375,468.84375,692.40625,1067.21875,1817.875,2355.53125,2775.3125,3417.3125,5323.1875,0.03125,0.03125,0.03125,0.03125,0.03125,0.03125,0.03125,0.03125,0.03125,0.03125,0.03125,0.03125,0.03125,0.03125,0.03125,0.03125,0.21875,0.03125,0.84375,217.6875,474.53125,702.625,1086.8125,1834.84375,2370.5,2794.34375,3437.84375,5388.65625,17.75,20.0625,22.125,24.03125,29.0625,37.09375,43.0,47.625,56.03125,62.375,69.40625,77.15625,80.625,100.21875,116.34375,134.6875,140.8125,153.0,153.0,0.03125,1.21875,237.21875,483.1875,710.28125,1101.46875,1855.59375,2385.46875,2808.5625,3483.75,5446.5625,329.3125,334.1875,336.96875,348.5,357.65625,368.8125,368.4375,377.65625,383.8125,390.4375,398.53125,405.53125,416.21875,422.53125,427.6875,432.5625,439.6875,447.71875,0.03125,2.1875,217.90625,487.3125,718.53125,1121.8125,1877.625,2401.125,2821.125,3517.1875,5493.53125,547.25,555.40625,560.96875,571.46875,576.03125,581.59375,587.84375,592.84375,597.40625,602.03125,612.03125,619.625,627.03125,630.65625,637.6875,648.875,658.46875,667.15625,678.1875,0.03125,2.46875,228.6875,497.03125,731.9375,1155.78125,1903.65625,2413.59375,2833.21875,3570.03125,5545.21875,798.0625,807.3125,817.4375,829.09375,837.0,849.75,862.53125,882.03125,896.25,902.1875,918.3125,933.40625,948.96875,964.21875,981.375,992.25,1007.90625,1025.75,0.03125,3.1875,271.3125,507.21875,741.53125,1169.375,1924.59375,2423.28125,2850.25,3625.34375,5762.625,1304.90625,1322.0,1345.1875,1384.78125,1408.34375,1438.3125,1467.0625,1491.96875,1517.96875,1538.96875,1562.78125,1588.25,1620.28125,1644.84375,1666.28125,1693.90625,1718.59375,1743.84375,1743.84375,0.03125,4.25,284.28125,512.125,751.28125,1185.65625,1953.84375,2423.28125,2872.4375,3666.59375,5853.96875,2041.84375,2066.84375,2090.15625,2108.15625,2116.28125,2133.25,2146.53125,2168.40625,2180.59375,2206.09375,2219.125,2230.34375,2240.78125,2255.03125,2271.96875,2290.65625,2308.71875,2322.5,2332.34375,0.03125,5.0625,300.25,521.0625,761.0625,1205.65625,1971.0,2437.78125,2892.5,3705.3125,5933.21875,2494.5625,2504.3125,2514.53125,2525.375,2537.4375,2550.0625,2568.71875,2579.625,2589.0,2599.78125,2615.6875,2632.4375,2663.3125,2682.1875,2695.90625,2707.4375,2720.0625,2735.0625,0.03125,8.34375,308.96875,527.84375,770.0625,1225.5625,1988.96875,2452.09375,2907.34375,3750.34375,6012.90625,2961.71875,2984.65625,3005.78125,3027.9375,3052.21875,3068.78125,3083.15625,3098.4375,3121.0625,3141.40625,3167.03125,3195.75,3216.03125,3234.375,3250.84375,3273.21875,3298.65625,3330.40625,3359.40625,0.03125,11.4375,319.5,535.0625,774.34375,1225.5625,2004.71875,2469.09375,2933.1875,3750.34375,6111.0625,3921.8125,3991.59375,4063.75,4110.375,4191.28125,4232.0,4294.09375,4360.71875,4414.375,4414.375,4610.53125,4719.34375,4809.5625,4809.5625,4942.71875,5019.8125,5084.375,5156.84375,0.03125,14.28125,325.34375,541.5625,786.59375,1270.5,2021.9375,2483.625,2933.1875,3854.875,6241.71875,6314.46875,6368.65625,6408.40625,6695.78125,6787.65625,6883.375,6956.25,7023.78125,7082.34375,7121.46875,7193.8125,7284.15625,7284.15625,7397.46875,7419.78125,7458.5,7526.4375,7572.8125,7711.0,7711.0,9791.71875,10647.125,8787.5625,8868.03125,8936.5625,8936.5625,9060.59375,9060.59375,9124.65625,9188.03125,9252.71875,9320.28125,9381.1875,9424.59375,9441.90625,9483.8125,9540.28125,9619.03125,9681.28125,9737.40625,9775.0,7711.0,9834.125,10670.03125,10251.46875,10278.5,10278.5,10304.5625,10337.71875,10375.21875,10403.25,10431.0625,10456.6875,10467.5625,10490.40625,10517.65625,10551.65625,10588.1875,10617.90625,10633.0,7981.125,9884.1875,10694.875,10919.53125,10939.40625,10953.3125,10972.15625,8013.59375,9933.6875,10721.5625,8086.46875,9980.34375,10745.875,8148.5,10004.5625,10766.625,8250.375,10083.0,10790.46875,8393.96875,10100.4375,10804.09375,8487.34375,10125.78125,10825.09375,8583.53125,10147.0625,10847.84375,8646.4375,10192.46875,10871.375,8704.5,10223.96875,10891.125],\"xaxis\":\"x\",\"y\":[24,860,568,805,597,235,760,447,806,272,364,48,56,36,24,28,32,52,20,40,84,32,858,816,792,586,234,748,439,592,269,358,84,69,84,60,60,60,60,60,58,60,60,60,93,223,457,811,1165,36,4,678,778,577,230,735,432,609,266,345,588,583,577,564,554,545,536,527,518,816,654,645,637,629,621,608,598,588,578,24,422,816,765,567,226,723,424,601,263,332,673,808,808,755,744,733,723,711,698,686,674,663,1100,865,854,843,833,822,20,409,758,752,557,222,710,958,593,251,331,655,644,633,623,612,602,591,581,571,562,552,800,662,653,648,637,629,616,608,40,391,737,739,548,218,698,704,585,250,325,486,477,469,461,453,20,225,218,210,203,196,196,780,36,256,253,250,247,32,378,737,727,538,215,687,685,573,246,320,863,860,839,824,810,797,783,770,757,980,850,837,825,813,801,786,772,812,773,40,364,720,714,529,211,675,682,563,241,314,619,609,598,588,578,568,559,549,540,531,522,513,504,495,487,479,471,463,455,48,364,709,702,520,1334,663,673,554,237,309,704,665,654,644,633,623,612,602,591,581,571,562,552,543,533,524,515,507,28,856,696,690,511,980,652,667,544,233,304,517,508,500,491,483,475,466,459,451,316,404,92,229,222,215,210,204,716,96,20,600,684,678,503,870,641,676,535,229,298,221,218,214,210,1105,656,651,816,544,256,427,417,407,1,816,816,52,370,84,594,1,667,494,867,630,660,526,225,293,288,283,278,332,244,244,251,246,242,237,233,229,1,276,260,256,24,192,210,1,294,159,123,121,119,117,115,113,111,109,108,106,104,102,100,99,97,95,400,294,294,219,285,132,294,219,219,213,84,90,81,102,57,87,72,108,99,147,198,138,213,284,87,60,66,63,48,165,278,135,213,273,135,99,268,150,226,264,168,93,259,51,134,255,48,131,294,75,128,294,69,126,294,57],\"yaxis\":\"y\",\"type\":\"scattergl\"},{\"hovertemplate\":\"wh_id=2.0<br>avg_tot_cases/num_cities=%{x}<br>sales=%{y}<extra></extra>\",\"legendgroup\":\"2.0\",\"marker\":{\"color\":\"#EF553B\",\"symbol\":\"circle\"},\"mode\":\"markers\",\"name\":\"2.0\",\"showlegend\":true,\"x\":[0.0,0.07692307692307693,56.61538461538461,198.3846153846154,330.9230769230769,687.0,1447.4615384615386,2072.769230769231,2604.769230769231,3494.5384615384614,5896.461538461538,0.0,0.0,0.0,0.0,0.0,0.0,0.0,0.0,0.0,0.0,0.0,0.23076923076923078,63.53846153846154,202.69230769230768,333.46153846153845,714.9230769230769,1469.0,2082.6923076923076,2627.923076923077,3536.769230769231,6012.307692307692,0.0,0.0,0.0,0.0,0.0,0.0,0.0,0.0,0.0,0.0,0.0,0.0,0.0,0.0,0.0,0.0,0.07692307692307693,0.0,0.23076923076923078,69.15384615384616,206.15384615384616,338.38461538461536,741.2307692307693,1489.6923076923076,2102.769230769231,2654.6923076923076,3573.846153846154,6099.461538461538,1.8461538461538463,1.8461538461538463,3.0,3.6153846153846154,5.0,5.769230769230769,6.769230769230769,8.76923076923077,10.538461538461538,12.384615384615385,14.692307692307692,16.076923076923077,20.46153846153846,24.307692307692307,31.846153846153847,36.84615384615385,42.15384615384615,46.61538461538461,53.07692307692308,0.0,0.23076923076923078,76.84615384615384,212.23076923076923,344.15384615384613,763.8461538461538,1515.3076923076924,2123.153846153846,2674.6153846153848,3619.153846153846,6264.384615384615,121.84615384615384,125.61538461538461,127.92307692307692,133.53846153846155,137.30769230769232,141.84615384615384,146.92307692307693,150.46153846153845,154.0,158.3846153846154,163.6153846153846,167.46153846153845,173.30769230769232,177.76923076923077,181.07692307692307,183.46153846153845,188.15384615384616,193.07692307692307,0.0,0.23076923076923078,82.15384615384616,218.3846153846154,351.53846153846155,786.9230769230769,1536.7692307692307,2142.769230769231,2696.076923076923,3679.923076923077,6403.307692307692,262.7692307692308,267.61538461538464,272.38461538461536,277.84615384615387,278.6923076923077,283.61538461538464,286.61538461538464,292.38461538461536,293.61538461538464,297.2307692307692,299.0769230769231,302.0769230769231,303.7692307692308,305.15384615384613,310.61538461538464,314.3076923076923,317.7692307692308,321.9230769230769,326.38461538461536,0.0,0.23076923076923078,87.07692307692308,224.30769230769232,358.61538461538464,799.6153846153846,1555.7692307692307,2157.230769230769,2718.4615384615386,3739.076923076923,6499.692307692308,425.7692307692308,433.53846153846155,447.6923076923077,469.0769230769231,478.3076923076923,489.6923076923077,505.53846153846155,519.2307692307693,533.6153846153846,544.8461538461538,559.5384615384615,572.6153846153846,582.1538461538462,601.3846153846154,622.6153846153846,641.6153846153846,652.6923076923077,665.8461538461538,0.0,0.5384615384615384,90.84615384615384,229.92307692307693,369.84615384615387,815.7692307692307,1587.3846153846155,2168.4615384615386,2741.076923076923,3814.3846153846152,6599.076923076923,956.7692307692307,985.0,1006.2307692307693,1039.1538461538462,1061.6923076923076,1088.3846153846155,1121.4615384615386,1142.076923076923,1164.5384615384614,1184.1538461538462,1208.6923076923076,1238.7692307692307,1268.6153846153845,1289.076923076923,1314.4615384615386,1339.6923076923076,1363.1538461538462,1394.6923076923076,1422.5384615384614,0.0,1.0769230769230769,95.3076923076923,236.0,378.61538461538464,832.2307692307693,1616.1538461538462,2181.153846153846,2778.153846153846,3880.6153846153848,6698.615384615385,1715.3846153846155,1739.4615384615386,1770.6153846153845,1826.4615384615386,1803.923076923077,1821.2307692307693,1836.1538461538462,1858.8461538461538,1878.5384615384614,1900.7692307692307,1918.2307692307693,1935.0,1953.1538461538462,1967.0,1981.6153846153845,2004.1538461538462,2022.5384615384614,2042.6153846153845,2054.846153846154,0.0,1.0769230769230769,101.61538461538461,243.07692307692307,383.6923076923077,860.6153846153846,1636.3076923076924,2190.076923076923,2809.6923076923076,3935.0,6791.307692307692,2256.6923076923076,2268.0,2281.6923076923076,2296.153846153846,2312.3076923076924,2334.0,2353.769230769231,2369.3076923076924,2384.230769230769,2408.6923076923076,2423.3076923076924,2451.153846153846,2485.6923076923076,2506.230769230769,2524.6153846153848,2538.0,2560.846153846154,2577.6153846153848,0.0,1.1538461538461537,105.46153846153847,248.30769230769232,389.2307692307692,881.0769230769231,1652.923076923077,2204.153846153846,2809.6923076923076,3993.0,6910.615384615385,2906.153846153846,2935.3846153846152,2963.4615384615386,2995.0,3024.3076923076924,3040.923076923077,3061.076923076923,3087.3846153846152,3111.0,3139.230769230769,3180.6153846153848,3180.6153846153848,3238.5384615384614,3264.3076923076924,3292.923076923077,3325.230769230769,3368.6923076923076,3414.4615384615386,3455.4615384615386,0.0,1.4615384615384615,111.3076923076923,252.76923076923077,402.84615384615387,911.6153846153846,1674.923076923077,2220.3846153846152,2865.769230769231,4059.230769230769,7032.307692307692,4225.923076923077,4309.076923076923,4375.384615384615,4434.307692307692,4505.384615384615,4589.923076923077,4682.538461538462,4782.692307692308,4897.538461538462,5013.076923076923,5102.538461538462,5179.461538461538,5269.461538461538,5385.076923076923,5448.615384615385,5577.384615384615,5701.538461538462,5802.384615384615,0.0,1.8461538461538463,117.46153846153847,258.3076923076923,413.61538461538464,936.1538461538462,1694.0,2242.769230769231,2882.076923076923,4144.538461538462,7141.461538461538,7219.461538461538,7308.461538461538,7391.692307692308,7509.384615384615,7610.461538461538,7716.0,7831.846153846154,7917.692307692308,7981.153846153846,8082.538461538462,8151.538461538462,8217.0,8286.0,8332.76923076923,8440.384615384615,8503.461538461539,8555.923076923076,8635.384615384615,8762.23076923077,8762.23076923077,11028.692307692309,11983.615384615385,9931.461538461539,10018.923076923076,10096.76923076923,10185.538461538461,10246.538461538461,10296.23076923077,10343.692307692309,10395.538461538461,10459.461538461539,10526.076923076924,10584.615384615385,10628.307692307691,10660.538461538461,10719.615384615385,10774.076923076924,10829.461538461539,10902.23076923077,10955.076923076924,10955.076923076924,8949.846153846154,11075.23076923077,12002.846153846154,11541.076923076924,11560.076923076924,11574.153846153846,11605.76923076923,11635.153846153846,11670.23076923077,11706.923076923076,11747.0,11755.23076923077,11779.538461538461,11818.846153846154,11850.923076923076,11888.76923076923,11913.692307692309,11947.307692307691,11969.0,9057.307692307691,11123.461538461539,12022.076923076924,12260.923076923076,12278.23076923077,12291.384615384615,12311.538461538461,9111.76923076923,11178.461538461539,12051.76923076923,9191.384615384615,11241.307692307691,12068.0,9247.923076923076,11287.76923076923,12083.0,9314.23076923077,11317.076923076924,12098.846153846154,9449.76923076923,11339.923076923076,12116.538461538461,9575.076923076924,11379.384615384615,12154.384615384615,9667.923076923076,11421.153846153846,12176.23076923077,9739.0,11467.846153846154,12203.384615384615,9829.23076923077,11505.846153846154,12233.615384615385],\"xaxis\":\"x\",\"y\":[76,1654,414,507,506,303,453,269,950,974,182,36,56,80,64,60,40,64,68,20,40,484,1719,1179,499,498,297,446,264,648,664,175,2209,2448,2448,2448,2448,2448,2448,2372,28,52,44,36,40,112,152,164,924,580,1403,834,490,489,292,438,260,663,627,171,941,925,909,894,1172,1010,996,981,468,340,503,488,472,457,449,444,436,429,421,424,1172,803,482,481,287,431,255,656,623,169,762,750,738,726,716,820,749,738,726,715,704,8,792,553,542,531,520,520,816,652,797,474,473,282,424,1120,648,619,484,413,406,399,392,386,379,373,366,360,354,800,568,562,556,551,545,533,524,515,1197,1172,795,466,465,278,416,764,641,616,380,412,405,398,391,385,378,372,365,359,353,347,341,335,330,324,319,313,308,907,1037,786,458,457,273,409,719,626,601,360,246,242,238,234,230,226,222,218,215,211,207,204,776,486,483,480,476,473,461,906,1037,767,450,449,268,402,715,616,590,360,372,366,360,354,348,342,336,330,325,319,314,308,303,298,293,288,283,278,274,894,1002,754,442,441,264,395,711,606,580,353,623,612,601,590,568,565,555,545,536,527,518,509,500,492,483,475,467,459,887,983,742,435,434,259,389,707,596,571,44,566,556,547,537,528,537,519,511,502,804,548,548,559,4,270,257,249,240,231,874,973,820,427,427,255,389,1392,585,561,190,542,533,524,515,1191,840,831,823,588,224,4,209,420,1,280,108,190,180,3590,960,1,420,419,250,379,240,575,551,184,178,172,167,166,163,160,158,155,152,162,153,151,1,148,324,380,108,607,309,1,223,129,340,334,346,332,326,321,316,310,305,300,249,183,249,249,249,237,233,230,226,93,171,132,227,223,220,216,212,209,205,228,234,186,171,209,126,180,204,126,414,270,126,93,102,90,87,414,270,123,414,270,147,378,254,165,373,251,120,371,248,78,365,244,93,358,239,81,352,235,93,346,231,108],\"yaxis\":\"y\",\"type\":\"scattergl\"},{\"hovertemplate\":\"wh_id=6.0<br>avg_tot_cases/num_cities=%{x}<br>sales=%{y}<extra></extra>\",\"legendgroup\":\"6.0\",\"marker\":{\"color\":\"#00cc96\",\"symbol\":\"circle\"},\"mode\":\"markers\",\"name\":\"6.0\",\"showlegend\":true,\"x\":[0.03125,0.34375,166.21875,457.40625,686.78125,1044.84375,1798.15625,2341.84375,2753.625,3384.84375,5225.5,0.03125,0.03125,0.03125,0.03125,0.03125,0.03125,0.03125,0.03125,0.03125,0.03125,0.03125,0.5625,177.59375,468.84375,692.40625,1067.21875,1817.875,2355.53125,2775.3125,3417.3125,5323.1875,0.03125,0.03125,0.03125,0.03125,0.03125,0.03125,0.03125,0.03125,0.03125,0.03125,0.03125,0.03125,0.03125,0.03125,0.03125,0.03125,0.21875,0.03125,0.84375,217.6875,474.53125,702.625,1086.8125,1834.84375,2370.5,2794.34375,3437.84375,5388.65625,17.75,20.0625,22.125,24.03125,29.0625,37.09375,43.0,47.625,56.03125,62.375,69.40625,77.15625,80.625,100.21875,116.34375,134.6875,140.8125,153.0,153.0,0.03125,1.21875,237.21875,483.1875,710.28125,1101.46875,1855.59375,2385.46875,2808.5625,3483.75,5446.5625,329.3125,334.1875,336.96875,348.5,357.65625,368.8125,368.4375,377.65625,383.8125,390.4375,398.53125,405.53125,416.21875,422.53125,427.6875,432.5625,439.6875,447.71875,0.03125,2.1875,217.90625,487.3125,718.53125,1121.8125,1877.625,2401.125,2821.125,3517.1875,5493.53125,547.25,555.40625,560.96875,571.46875,576.03125,581.59375,587.84375,592.84375,597.40625,602.03125,612.03125,619.625,627.03125,630.65625,637.6875,648.875,658.46875,667.15625,678.1875,0.03125,2.46875,228.6875,497.03125,731.9375,1155.78125,1903.65625,2413.59375,2833.21875,3570.03125,5545.21875,798.0625,807.3125,817.4375,829.09375,837.0,849.75,862.53125,882.03125,896.25,902.1875,918.3125,933.40625,948.96875,964.21875,981.375,992.25,1007.90625,1025.75,0.03125,3.1875,271.3125,507.21875,741.53125,1169.375,1924.59375,2423.28125,2850.25,3625.34375,5762.625,1304.90625,1322.0,1345.1875,1384.78125,1408.34375,1438.3125,1467.0625,1491.96875,1517.96875,1538.96875,1562.78125,1588.25,1620.28125,1644.84375,1666.28125,1693.90625,1718.59375,1743.84375,1743.84375,0.03125,4.25,284.28125,512.125,751.28125,1185.65625,1953.84375,2423.28125,2872.4375,3666.59375,5853.96875,2041.84375,2066.84375,2090.15625,2108.15625,2116.28125,2133.25,2146.53125,2168.40625,2180.59375,2206.09375,2219.125,2230.34375,2240.78125,2255.03125,2271.96875,2290.65625,2308.71875,2322.5,2332.34375,0.03125,5.0625,300.25,521.0625,761.0625,1205.65625,1971.0,2437.78125,2892.5,3705.3125,5933.21875,2494.5625,2504.3125,2514.53125,2525.375,2537.4375,2550.0625,2568.71875,2579.625,2589.0,2599.78125,2615.6875,2632.4375,2663.3125,2682.1875,2695.90625,2707.4375,2720.0625,2735.0625,0.03125,8.34375,308.96875,527.84375,770.0625,1225.5625,1988.96875,2452.09375,2907.34375,3750.34375,6012.90625,2961.71875,2984.65625,3005.78125,3027.9375,3052.21875,3068.78125,3083.15625,3098.4375,3121.0625,3141.40625,3167.03125,3195.75,3216.03125,3234.375,3250.84375,3273.21875,3298.65625,3330.40625,3359.40625,0.03125,11.4375,319.5,535.0625,774.34375,1225.5625,2004.71875,2469.09375,2933.1875,3750.34375,6111.0625,3921.8125,3991.59375,4063.75,4110.375,4191.28125,4232.0,4294.09375,4360.71875,4414.375,4414.375,4610.53125,4719.34375,4809.5625,4809.5625,4942.71875,5019.8125,5084.375,5156.84375,0.03125,14.28125,325.34375,541.5625,786.59375,1270.5,2021.9375,2483.625,2933.1875,3854.875,6241.71875,6314.46875,6368.65625,6408.40625,6695.78125,6787.65625,6883.375,6956.25,7023.78125,7082.34375,7121.46875,7193.8125,7284.15625,7284.15625,7397.46875,7419.78125,7458.5,7526.4375,7572.8125,7711.0,7711.0,9791.71875,10647.125,8787.5625,8868.03125,8936.5625,8936.5625,9060.59375,9060.59375,9124.65625,9188.03125,9252.71875,9320.28125,9381.1875,9424.59375,9441.90625,9483.8125,9540.28125,9619.03125,9681.28125,9737.40625,9775.0,7711.0,9834.125,10670.03125,10251.46875,10278.5,10278.5,10304.5625,10337.71875,10375.21875,10403.25,10431.0625,10456.6875,10467.5625,10490.40625,10517.65625,10551.65625,10588.1875,10617.90625,10633.0,7981.125,9884.1875,10694.875,10919.53125,10939.40625,10953.3125,10972.15625,8013.59375,9933.6875,10721.5625,8086.46875,9980.34375,10745.875,8148.5,10004.5625,10766.625,8250.375,10083.0,10790.46875,8393.96875,10100.4375,10804.09375,8487.34375,10125.78125,10825.09375,8583.53125,10147.0625,10847.84375,8646.4375,10192.46875,10871.375,8704.5,10223.96875,10891.125],\"xaxis\":\"x\",\"y\":[60,316,553,671,623,569,709,416,695,302,164,76,68,44,44,52,8,40,44,68,56,64,315,544,660,611,556,697,409,682,295,159,228,228,32,40,24,40,224,20,16,24,32,40,72,100,280,268,412,56,314,535,649,600,547,685,402,671,4,151,648,640,631,618,808,698,688,678,668,658,645,635,624,613,603,593,582,573,563,44,309,1075,638,590,538,673,395,659,512,146,16,372,360,348,335,1097,710,704,700,694,689,671,816,727,716,705,695,684,64,305,791,627,580,529,662,389,648,292,146,665,656,646,634,623,613,602,592,582,572,562,553,543,534,808,657,649,640,632,228,804,783,616,570,520,651,382,637,302,143,506,497,489,480,472,464,456,448,441,433,426,419,412,800,595,589,582,575,32,546,774,606,561,511,640,376,626,298,141,1026,1018,993,976,960,944,928,912,897,808,830,815,800,786,772,760,747,734,721,56,542,812,595,551,502,629,369,615,293,138,577,567,558,548,539,530,521,512,503,494,486,478,470,462,454,446,438,431,424,20,537,780,585,542,1624,618,363,605,293,136,704,698,692,687,670,659,648,637,626,615,605,595,804,804,737,726,716,707,76,816,792,812,532,1050,608,357,595,285,134,565,555,546,536,527,518,509,812,652,642,633,412,396,448,435,424,748,56,309,64,669,765,684,523,1042,597,1081,585,4,4,133,128,124,812,466,463,461,904,720,4,338,331,324,1,532,280,4,169,228,657,1,674,514,1034,587,710,575,137,66,63,61,772,40,227,226,225,224,212,211,207,204,1,207,200,772,772,772,114,1,3,210,151,148,146,143,141,138,136,134,131,129,327,291,171,24,3,57,363,351,99,401,95,161,363,351,267,267,219,192,201,252,111,132,66,64,80,186,195,156,474,94,252,183,171,153,141,339,88,165,369,83,168,3,81,177,178,81,198,172,79,126,165,78,111,159,363,177,154,363,150,154,363,177],\"yaxis\":\"y\",\"type\":\"scattergl\"}],                        {\"template\":{\"data\":{\"bar\":[{\"error_x\":{\"color\":\"#2a3f5f\"},\"error_y\":{\"color\":\"#2a3f5f\"},\"marker\":{\"line\":{\"color\":\"#E5ECF6\",\"width\":0.5},\"pattern\":{\"fillmode\":\"overlay\",\"size\":10,\"solidity\":0.2}},\"type\":\"bar\"}],\"barpolar\":[{\"marker\":{\"line\":{\"color\":\"#E5ECF6\",\"width\":0.5},\"pattern\":{\"fillmode\":\"overlay\",\"size\":10,\"solidity\":0.2}},\"type\":\"barpolar\"}],\"carpet\":[{\"aaxis\":{\"endlinecolor\":\"#2a3f5f\",\"gridcolor\":\"white\",\"linecolor\":\"white\",\"minorgridcolor\":\"white\",\"startlinecolor\":\"#2a3f5f\"},\"baxis\":{\"endlinecolor\":\"#2a3f5f\",\"gridcolor\":\"white\",\"linecolor\":\"white\",\"minorgridcolor\":\"white\",\"startlinecolor\":\"#2a3f5f\"},\"type\":\"carpet\"}],\"choropleth\":[{\"colorbar\":{\"outlinewidth\":0,\"ticks\":\"\"},\"type\":\"choropleth\"}],\"contour\":[{\"colorbar\":{\"outlinewidth\":0,\"ticks\":\"\"},\"colorscale\":[[0.0,\"#0d0887\"],[0.1111111111111111,\"#46039f\"],[0.2222222222222222,\"#7201a8\"],[0.3333333333333333,\"#9c179e\"],[0.4444444444444444,\"#bd3786\"],[0.5555555555555556,\"#d8576b\"],[0.6666666666666666,\"#ed7953\"],[0.7777777777777778,\"#fb9f3a\"],[0.8888888888888888,\"#fdca26\"],[1.0,\"#f0f921\"]],\"type\":\"contour\"}],\"contourcarpet\":[{\"colorbar\":{\"outlinewidth\":0,\"ticks\":\"\"},\"type\":\"contourcarpet\"}],\"heatmap\":[{\"colorbar\":{\"outlinewidth\":0,\"ticks\":\"\"},\"colorscale\":[[0.0,\"#0d0887\"],[0.1111111111111111,\"#46039f\"],[0.2222222222222222,\"#7201a8\"],[0.3333333333333333,\"#9c179e\"],[0.4444444444444444,\"#bd3786\"],[0.5555555555555556,\"#d8576b\"],[0.6666666666666666,\"#ed7953\"],[0.7777777777777778,\"#fb9f3a\"],[0.8888888888888888,\"#fdca26\"],[1.0,\"#f0f921\"]],\"type\":\"heatmap\"}],\"heatmapgl\":[{\"colorbar\":{\"outlinewidth\":0,\"ticks\":\"\"},\"colorscale\":[[0.0,\"#0d0887\"],[0.1111111111111111,\"#46039f\"],[0.2222222222222222,\"#7201a8\"],[0.3333333333333333,\"#9c179e\"],[0.4444444444444444,\"#bd3786\"],[0.5555555555555556,\"#d8576b\"],[0.6666666666666666,\"#ed7953\"],[0.7777777777777778,\"#fb9f3a\"],[0.8888888888888888,\"#fdca26\"],[1.0,\"#f0f921\"]],\"type\":\"heatmapgl\"}],\"histogram\":[{\"marker\":{\"pattern\":{\"fillmode\":\"overlay\",\"size\":10,\"solidity\":0.2}},\"type\":\"histogram\"}],\"histogram2d\":[{\"colorbar\":{\"outlinewidth\":0,\"ticks\":\"\"},\"colorscale\":[[0.0,\"#0d0887\"],[0.1111111111111111,\"#46039f\"],[0.2222222222222222,\"#7201a8\"],[0.3333333333333333,\"#9c179e\"],[0.4444444444444444,\"#bd3786\"],[0.5555555555555556,\"#d8576b\"],[0.6666666666666666,\"#ed7953\"],[0.7777777777777778,\"#fb9f3a\"],[0.8888888888888888,\"#fdca26\"],[1.0,\"#f0f921\"]],\"type\":\"histogram2d\"}],\"histogram2dcontour\":[{\"colorbar\":{\"outlinewidth\":0,\"ticks\":\"\"},\"colorscale\":[[0.0,\"#0d0887\"],[0.1111111111111111,\"#46039f\"],[0.2222222222222222,\"#7201a8\"],[0.3333333333333333,\"#9c179e\"],[0.4444444444444444,\"#bd3786\"],[0.5555555555555556,\"#d8576b\"],[0.6666666666666666,\"#ed7953\"],[0.7777777777777778,\"#fb9f3a\"],[0.8888888888888888,\"#fdca26\"],[1.0,\"#f0f921\"]],\"type\":\"histogram2dcontour\"}],\"mesh3d\":[{\"colorbar\":{\"outlinewidth\":0,\"ticks\":\"\"},\"type\":\"mesh3d\"}],\"parcoords\":[{\"line\":{\"colorbar\":{\"outlinewidth\":0,\"ticks\":\"\"}},\"type\":\"parcoords\"}],\"pie\":[{\"automargin\":true,\"type\":\"pie\"}],\"scatter\":[{\"marker\":{\"colorbar\":{\"outlinewidth\":0,\"ticks\":\"\"}},\"type\":\"scatter\"}],\"scatter3d\":[{\"line\":{\"colorbar\":{\"outlinewidth\":0,\"ticks\":\"\"}},\"marker\":{\"colorbar\":{\"outlinewidth\":0,\"ticks\":\"\"}},\"type\":\"scatter3d\"}],\"scattercarpet\":[{\"marker\":{\"colorbar\":{\"outlinewidth\":0,\"ticks\":\"\"}},\"type\":\"scattercarpet\"}],\"scattergeo\":[{\"marker\":{\"colorbar\":{\"outlinewidth\":0,\"ticks\":\"\"}},\"type\":\"scattergeo\"}],\"scattergl\":[{\"marker\":{\"colorbar\":{\"outlinewidth\":0,\"ticks\":\"\"}},\"type\":\"scattergl\"}],\"scattermapbox\":[{\"marker\":{\"colorbar\":{\"outlinewidth\":0,\"ticks\":\"\"}},\"type\":\"scattermapbox\"}],\"scatterpolar\":[{\"marker\":{\"colorbar\":{\"outlinewidth\":0,\"ticks\":\"\"}},\"type\":\"scatterpolar\"}],\"scatterpolargl\":[{\"marker\":{\"colorbar\":{\"outlinewidth\":0,\"ticks\":\"\"}},\"type\":\"scatterpolargl\"}],\"scatterternary\":[{\"marker\":{\"colorbar\":{\"outlinewidth\":0,\"ticks\":\"\"}},\"type\":\"scatterternary\"}],\"surface\":[{\"colorbar\":{\"outlinewidth\":0,\"ticks\":\"\"},\"colorscale\":[[0.0,\"#0d0887\"],[0.1111111111111111,\"#46039f\"],[0.2222222222222222,\"#7201a8\"],[0.3333333333333333,\"#9c179e\"],[0.4444444444444444,\"#bd3786\"],[0.5555555555555556,\"#d8576b\"],[0.6666666666666666,\"#ed7953\"],[0.7777777777777778,\"#fb9f3a\"],[0.8888888888888888,\"#fdca26\"],[1.0,\"#f0f921\"]],\"type\":\"surface\"}],\"table\":[{\"cells\":{\"fill\":{\"color\":\"#EBF0F8\"},\"line\":{\"color\":\"white\"}},\"header\":{\"fill\":{\"color\":\"#C8D4E3\"},\"line\":{\"color\":\"white\"}},\"type\":\"table\"}]},\"layout\":{\"annotationdefaults\":{\"arrowcolor\":\"#2a3f5f\",\"arrowhead\":0,\"arrowwidth\":1},\"autotypenumbers\":\"strict\",\"coloraxis\":{\"colorbar\":{\"outlinewidth\":0,\"ticks\":\"\"}},\"colorscale\":{\"diverging\":[[0,\"#8e0152\"],[0.1,\"#c51b7d\"],[0.2,\"#de77ae\"],[0.3,\"#f1b6da\"],[0.4,\"#fde0ef\"],[0.5,\"#f7f7f7\"],[0.6,\"#e6f5d0\"],[0.7,\"#b8e186\"],[0.8,\"#7fbc41\"],[0.9,\"#4d9221\"],[1,\"#276419\"]],\"sequential\":[[0.0,\"#0d0887\"],[0.1111111111111111,\"#46039f\"],[0.2222222222222222,\"#7201a8\"],[0.3333333333333333,\"#9c179e\"],[0.4444444444444444,\"#bd3786\"],[0.5555555555555556,\"#d8576b\"],[0.6666666666666666,\"#ed7953\"],[0.7777777777777778,\"#fb9f3a\"],[0.8888888888888888,\"#fdca26\"],[1.0,\"#f0f921\"]],\"sequentialminus\":[[0.0,\"#0d0887\"],[0.1111111111111111,\"#46039f\"],[0.2222222222222222,\"#7201a8\"],[0.3333333333333333,\"#9c179e\"],[0.4444444444444444,\"#bd3786\"],[0.5555555555555556,\"#d8576b\"],[0.6666666666666666,\"#ed7953\"],[0.7777777777777778,\"#fb9f3a\"],[0.8888888888888888,\"#fdca26\"],[1.0,\"#f0f921\"]]},\"colorway\":[\"#636efa\",\"#EF553B\",\"#00cc96\",\"#ab63fa\",\"#FFA15A\",\"#19d3f3\",\"#FF6692\",\"#B6E880\",\"#FF97FF\",\"#FECB52\"],\"font\":{\"color\":\"#2a3f5f\"},\"geo\":{\"bgcolor\":\"white\",\"lakecolor\":\"white\",\"landcolor\":\"#E5ECF6\",\"showlakes\":true,\"showland\":true,\"subunitcolor\":\"white\"},\"hoverlabel\":{\"align\":\"left\"},\"hovermode\":\"closest\",\"mapbox\":{\"style\":\"light\"},\"paper_bgcolor\":\"white\",\"plot_bgcolor\":\"#E5ECF6\",\"polar\":{\"angularaxis\":{\"gridcolor\":\"white\",\"linecolor\":\"white\",\"ticks\":\"\"},\"bgcolor\":\"#E5ECF6\",\"radialaxis\":{\"gridcolor\":\"white\",\"linecolor\":\"white\",\"ticks\":\"\"}},\"scene\":{\"xaxis\":{\"backgroundcolor\":\"#E5ECF6\",\"gridcolor\":\"white\",\"gridwidth\":2,\"linecolor\":\"white\",\"showbackground\":true,\"ticks\":\"\",\"zerolinecolor\":\"white\"},\"yaxis\":{\"backgroundcolor\":\"#E5ECF6\",\"gridcolor\":\"white\",\"gridwidth\":2,\"linecolor\":\"white\",\"showbackground\":true,\"ticks\":\"\",\"zerolinecolor\":\"white\"},\"zaxis\":{\"backgroundcolor\":\"#E5ECF6\",\"gridcolor\":\"white\",\"gridwidth\":2,\"linecolor\":\"white\",\"showbackground\":true,\"ticks\":\"\",\"zerolinecolor\":\"white\"}},\"shapedefaults\":{\"line\":{\"color\":\"#2a3f5f\"}},\"ternary\":{\"aaxis\":{\"gridcolor\":\"white\",\"linecolor\":\"white\",\"ticks\":\"\"},\"baxis\":{\"gridcolor\":\"white\",\"linecolor\":\"white\",\"ticks\":\"\"},\"bgcolor\":\"#E5ECF6\",\"caxis\":{\"gridcolor\":\"white\",\"linecolor\":\"white\",\"ticks\":\"\"}},\"title\":{\"x\":0.05},\"xaxis\":{\"automargin\":true,\"gridcolor\":\"white\",\"linecolor\":\"white\",\"ticks\":\"\",\"title\":{\"standoff\":15},\"zerolinecolor\":\"white\",\"zerolinewidth\":2},\"yaxis\":{\"automargin\":true,\"gridcolor\":\"white\",\"linecolor\":\"white\",\"ticks\":\"\",\"title\":{\"standoff\":15},\"zerolinecolor\":\"white\",\"zerolinewidth\":2}}},\"xaxis\":{\"anchor\":\"y\",\"domain\":[0.0,1.0],\"title\":{\"text\":\"avg_tot_cases/num_cities\"}},\"yaxis\":{\"anchor\":\"x\",\"domain\":[0.0,1.0],\"title\":{\"text\":\"sales\"}},\"legend\":{\"title\":{\"text\":\"wh_id\"},\"tracegroupgap\":0},\"title\":{\"text\":\"cases vs sales\"}},                        {\"responsive\": true}                    ).then(function(){\n",
       "                            \n",
       "var gd = document.getElementById('614ed171-ffc2-4d44-8e93-0a0edbefa65e');\n",
       "var x = new MutationObserver(function (mutations, observer) {{\n",
       "        var display = window.getComputedStyle(gd).display;\n",
       "        if (!display || display === 'none') {{\n",
       "            console.log([gd, 'removed!']);\n",
       "            Plotly.purge(gd);\n",
       "            observer.disconnect();\n",
       "        }}\n",
       "}});\n",
       "\n",
       "// Listen for the removal of the full notebook cells\n",
       "var notebookContainer = gd.closest('#notebook-container');\n",
       "if (notebookContainer) {{\n",
       "    x.observe(notebookContainer, {childList: true});\n",
       "}}\n",
       "\n",
       "// Listen for the clearing of the current output cell\n",
       "var outputEl = gd.closest('.output');\n",
       "if (outputEl) {{\n",
       "    x.observe(outputEl, {childList: true});\n",
       "}}\n",
       "\n",
       "                        })                };                });            </script>        </div>"
      ]
     },
     "metadata": {},
     "output_type": "display_data"
    }
   ],
   "source": [
    "cov['wh_id']=cov['wh_id'].astype('object')\n",
    "fig = px.scatter(cov[(cov.wh_id==1)|(cov.wh_id==2)|(cov.wh_id==6)], x=\"avg_tot_cases/num_cities\", y=\"sales\",\n",
    "                 title='cases vs sales',color='wh_id')\n",
    "fig.show()"
   ]
  },
  {
   "cell_type": "code",
   "execution_count": 131,
   "metadata": {},
   "outputs": [
    {
     "data": {
      "application/vnd.plotly.v1+json": {
       "config": {
        "plotlyServerURL": "https://plot.ly"
       },
       "data": [
        {
         "hovertemplate": "wh_id=1.0<br>tot_cases=%{x}<br>sales=%{y}<extra></extra>",
         "legendgroup": "1.0",
         "marker": {
          "color": "#636efa",
          "symbol": "circle"
         },
         "mode": "markers",
         "name": "1.0",
         "showlegend": true,
         "type": "scattergl",
         "x": [
          1,
          11,
          5319,
          14637,
          21977,
          33435,
          57541,
          74939,
          88116,
          108315,
          167216,
          1,
          1,
          1,
          1,
          1,
          1,
          1,
          1,
          1,
          1,
          1,
          18,
          5683,
          15003,
          22157,
          34151,
          58172,
          75377,
          88810,
          109354,
          170342,
          1,
          1,
          1,
          1,
          1,
          1,
          1,
          1,
          1,
          1,
          1,
          1,
          1,
          1,
          1,
          1,
          7,
          1,
          27,
          6966,
          15185,
          22484,
          34778,
          58715,
          75856,
          89419,
          110011,
          172437,
          568,
          642,
          708,
          769,
          930,
          1187,
          1376,
          1524,
          1793,
          1996,
          2221,
          2469,
          2580,
          3207,
          3723,
          4310,
          4506,
          4896,
          4896,
          1,
          39,
          7591,
          15462,
          22729,
          35247,
          59379,
          76335,
          89874,
          111480,
          174290,
          10538,
          10694,
          10783,
          11152,
          11445,
          11802,
          11790,
          12085,
          12282,
          12494,
          12753,
          12977,
          13319,
          13521,
          13686,
          13842,
          14070,
          14327,
          1,
          70,
          6973,
          15594,
          22993,
          35898,
          60084,
          76836,
          90276,
          112550,
          175793,
          17512,
          17773,
          17951,
          18287,
          18433,
          18611,
          18811,
          18971,
          19117,
          19265,
          19585,
          19828,
          20065,
          20181,
          20406,
          20764,
          21071,
          21349,
          21702,
          1,
          79,
          7318,
          15905,
          23422,
          36985,
          60917,
          77235,
          90663,
          114241,
          177447,
          25538,
          25834,
          26158,
          26531,
          26784,
          27192,
          27601,
          28225,
          28680,
          28870,
          29386,
          29869,
          30367,
          30855,
          31404,
          31752,
          32253,
          32824,
          1,
          102,
          8682,
          16231,
          23729,
          37420,
          61587,
          77545,
          91208,
          116011,
          184404,
          41757,
          42304,
          43046,
          44313,
          45067,
          46026,
          46946,
          47743,
          48575,
          49247,
          50009,
          50824,
          51849,
          52635,
          53321,
          54205,
          54995,
          55803,
          55803,
          1,
          136,
          9097,
          16388,
          24041,
          37941,
          62523,
          77545,
          91918,
          117331,
          187327,
          65339,
          66139,
          66885,
          67461,
          67721,
          68264,
          68689,
          69389,
          69779,
          70595,
          71012,
          71371,
          71705,
          72161,
          72703,
          73301,
          73879,
          74320,
          74635,
          1,
          162,
          9608,
          16674,
          24354,
          38581,
          63072,
          78009,
          92560,
          118570,
          189863,
          79826,
          80138,
          80465,
          80812,
          81198,
          81602,
          82199,
          82548,
          82848,
          83193,
          83702,
          84238,
          85226,
          85830,
          86269,
          86638,
          87042,
          87522,
          1,
          267,
          9887,
          16891,
          24642,
          39218,
          63647,
          78467,
          93035,
          120011,
          192413,
          94775,
          95509,
          96185,
          96894,
          97671,
          98201,
          98661,
          99150,
          99874,
          100525,
          101345,
          102264,
          102913,
          103500,
          104027,
          104743,
          105557,
          106573,
          107501,
          1,
          366,
          10224,
          17122,
          24779,
          39218,
          64151,
          79011,
          93862,
          120011,
          195554,
          125498,
          127731,
          130040,
          131532,
          134121,
          135424,
          137411,
          139543,
          141260,
          141260,
          147537,
          151019,
          153906,
          153906,
          158167,
          160634,
          162700,
          165019,
          1,
          457,
          10411,
          17330,
          25171,
          40656,
          64702,
          79476,
          93862,
          123356,
          199735,
          202063,
          203797,
          205069,
          214265,
          217205,
          220268,
          222600,
          224761,
          226635,
          227887,
          230202,
          233093,
          233093,
          236719,
          237433,
          238672,
          240846,
          242330,
          246752,
          246752,
          313335,
          340708,
          281202,
          283777,
          285970,
          285970,
          289939,
          289939,
          291989,
          294017,
          296087,
          298249,
          300198,
          301587,
          302141,
          303482,
          305289,
          307809,
          309801,
          311597,
          312800,
          246752,
          314692,
          341441,
          328047,
          328912,
          328912,
          329746,
          330807,
          332007,
          332904,
          333794,
          334614,
          334962,
          335693,
          336565,
          337653,
          338822,
          339773,
          340256,
          255396,
          316294,
          342236,
          349425,
          350061,
          350506,
          351109,
          256435,
          317878,
          343090,
          258767,
          319371,
          343868,
          260752,
          320146,
          344532,
          264012,
          322656,
          345295,
          268607,
          323214,
          345731,
          271595,
          324025,
          346403,
          274673,
          324706,
          347131,
          276686,
          326159,
          347884,
          278544,
          327167,
          348516
         ],
         "xaxis": "x",
         "y": [
          24,
          860,
          568,
          805,
          597,
          235,
          760,
          447,
          806,
          272,
          364,
          48,
          56,
          36,
          24,
          28,
          32,
          52,
          20,
          40,
          84,
          32,
          858,
          816,
          792,
          586,
          234,
          748,
          439,
          592,
          269,
          358,
          84,
          69,
          84,
          60,
          60,
          60,
          60,
          60,
          58,
          60,
          60,
          60,
          93,
          223,
          457,
          811,
          1165,
          36,
          4,
          678,
          778,
          577,
          230,
          735,
          432,
          609,
          266,
          345,
          588,
          583,
          577,
          564,
          554,
          545,
          536,
          527,
          518,
          816,
          654,
          645,
          637,
          629,
          621,
          608,
          598,
          588,
          578,
          24,
          422,
          816,
          765,
          567,
          226,
          723,
          424,
          601,
          263,
          332,
          673,
          808,
          808,
          755,
          744,
          733,
          723,
          711,
          698,
          686,
          674,
          663,
          1100,
          865,
          854,
          843,
          833,
          822,
          20,
          409,
          758,
          752,
          557,
          222,
          710,
          958,
          593,
          251,
          331,
          655,
          644,
          633,
          623,
          612,
          602,
          591,
          581,
          571,
          562,
          552,
          800,
          662,
          653,
          648,
          637,
          629,
          616,
          608,
          40,
          391,
          737,
          739,
          548,
          218,
          698,
          704,
          585,
          250,
          325,
          486,
          477,
          469,
          461,
          453,
          20,
          225,
          218,
          210,
          203,
          196,
          196,
          780,
          36,
          256,
          253,
          250,
          247,
          32,
          378,
          737,
          727,
          538,
          215,
          687,
          685,
          573,
          246,
          320,
          863,
          860,
          839,
          824,
          810,
          797,
          783,
          770,
          757,
          980,
          850,
          837,
          825,
          813,
          801,
          786,
          772,
          812,
          773,
          40,
          364,
          720,
          714,
          529,
          211,
          675,
          682,
          563,
          241,
          314,
          619,
          609,
          598,
          588,
          578,
          568,
          559,
          549,
          540,
          531,
          522,
          513,
          504,
          495,
          487,
          479,
          471,
          463,
          455,
          48,
          364,
          709,
          702,
          520,
          1334,
          663,
          673,
          554,
          237,
          309,
          704,
          665,
          654,
          644,
          633,
          623,
          612,
          602,
          591,
          581,
          571,
          562,
          552,
          543,
          533,
          524,
          515,
          507,
          28,
          856,
          696,
          690,
          511,
          980,
          652,
          667,
          544,
          233,
          304,
          517,
          508,
          500,
          491,
          483,
          475,
          466,
          459,
          451,
          316,
          404,
          92,
          229,
          222,
          215,
          210,
          204,
          716,
          96,
          20,
          600,
          684,
          678,
          503,
          870,
          641,
          676,
          535,
          229,
          298,
          221,
          218,
          214,
          210,
          1105,
          656,
          651,
          816,
          544,
          256,
          427,
          417,
          407,
          1,
          816,
          816,
          52,
          370,
          84,
          594,
          1,
          667,
          494,
          867,
          630,
          660,
          526,
          225,
          293,
          288,
          283,
          278,
          332,
          244,
          244,
          251,
          246,
          242,
          237,
          233,
          229,
          1,
          276,
          260,
          256,
          24,
          192,
          210,
          1,
          294,
          159,
          123,
          121,
          119,
          117,
          115,
          113,
          111,
          109,
          108,
          106,
          104,
          102,
          100,
          99,
          97,
          95,
          400,
          294,
          294,
          219,
          285,
          132,
          294,
          219,
          219,
          213,
          84,
          90,
          81,
          102,
          57,
          87,
          72,
          108,
          99,
          147,
          198,
          138,
          213,
          284,
          87,
          60,
          66,
          63,
          48,
          165,
          278,
          135,
          213,
          273,
          135,
          99,
          268,
          150,
          226,
          264,
          168,
          93,
          259,
          51,
          134,
          255,
          48,
          131,
          294,
          75,
          128,
          294,
          69,
          126,
          294,
          57
         ],
         "yaxis": "y"
        },
        {
         "hovertemplate": "wh_id=2.0<br>tot_cases=%{x}<br>sales=%{y}<extra></extra>",
         "legendgroup": "2.0",
         "marker": {
          "color": "#EF553B",
          "symbol": "circle"
         },
         "mode": "markers",
         "name": "2.0",
         "showlegend": true,
         "type": "scattergl",
         "x": [
          0,
          1,
          736,
          2579,
          4302,
          8931,
          18817,
          26946,
          33862,
          45429,
          76654,
          0,
          0,
          0,
          0,
          0,
          0,
          0,
          0,
          0,
          0,
          0,
          3,
          826,
          2635,
          4335,
          9294,
          19097,
          27075,
          34163,
          45978,
          78160,
          0,
          0,
          0,
          0,
          0,
          0,
          0,
          0,
          0,
          0,
          0,
          0,
          0,
          0,
          0,
          0,
          1,
          0,
          3,
          899,
          2680,
          4399,
          9636,
          19366,
          27336,
          34511,
          46460,
          79293,
          24,
          24,
          39,
          47,
          65,
          75,
          88,
          114,
          137,
          161,
          191,
          209,
          266,
          316,
          414,
          479,
          548,
          606,
          690,
          0,
          3,
          999,
          2759,
          4474,
          9930,
          19699,
          27601,
          34770,
          47049,
          81437,
          1584,
          1633,
          1663,
          1736,
          1785,
          1844,
          1910,
          1956,
          2002,
          2059,
          2127,
          2177,
          2253,
          2311,
          2354,
          2385,
          2446,
          2510,
          0,
          3,
          1068,
          2839,
          4570,
          10230,
          19978,
          27856,
          35049,
          47839,
          83243,
          3416,
          3479,
          3541,
          3612,
          3623,
          3687,
          3726,
          3801,
          3817,
          3864,
          3888,
          3927,
          3949,
          3967,
          4038,
          4086,
          4131,
          4185,
          4243,
          0,
          3,
          1132,
          2916,
          4662,
          10395,
          20225,
          28044,
          35340,
          48608,
          84496,
          5535,
          5636,
          5820,
          6098,
          6218,
          6366,
          6572,
          6750,
          6937,
          7083,
          7274,
          7444,
          7568,
          7818,
          8094,
          8341,
          8485,
          8656,
          0,
          7,
          1181,
          2989,
          4808,
          10605,
          20636,
          28190,
          35634,
          49587,
          85788,
          12438,
          12805,
          13081,
          13509,
          13802,
          14149,
          14579,
          14847,
          15139,
          15394,
          15713,
          16104,
          16492,
          16758,
          17088,
          17416,
          17721,
          18131,
          18493,
          0,
          14,
          1239,
          3068,
          4922,
          10819,
          21010,
          28355,
          36116,
          50448,
          87082,
          22300,
          22613,
          23018,
          23744,
          23451,
          23676,
          23870,
          24165,
          24421,
          24710,
          24937,
          25155,
          25391,
          25571,
          25761,
          26054,
          26293,
          26554,
          26713,
          0,
          14,
          1321,
          3160,
          4988,
          11188,
          21272,
          28471,
          36526,
          51155,
          88287,
          29337,
          29484,
          29662,
          29850,
          30060,
          30342,
          30599,
          30801,
          30995,
          31313,
          31503,
          31865,
          32314,
          32581,
          32820,
          32994,
          33291,
          33509,
          0,
          15,
          1371,
          3228,
          5060,
          11454,
          21488,
          28654,
          36526,
          51909,
          89838,
          37780,
          38160,
          38525,
          38935,
          39316,
          39532,
          39794,
          40136,
          40443,
          40810,
          41348,
          41348,
          42101,
          42436,
          42808,
          43228,
          43793,
          44388,
          44921,
          0,
          19,
          1447,
          3286,
          5237,
          11851,
          21774,
          28865,
          37255,
          52770,
          91420,
          54937,
          56018,
          56880,
          57646,
          58570,
          59669,
          60873,
          62175,
          63668,
          65170,
          66333,
          67333,
          68503,
          70006,
          70832,
          72506,
          74120,
          75431,
          0,
          24,
          1527,
          3358,
          5377,
          12170,
          22022,
          29156,
          37467,
          53879,
          92839,
          93853,
          95010,
          96092,
          97622,
          98936,
          100308,
          101814,
          102930,
          103755,
          105073,
          105970,
          106821,
          107718,
          108326,
          109725,
          110545,
          111227,
          112260,
          113909,
          113909,
          143373,
          155787,
          129109,
          130246,
          131258,
          132412,
          133205,
          133851,
          134468,
          135142,
          135973,
          136839,
          137600,
          138168,
          138587,
          139355,
          140063,
          140783,
          141729,
          142416,
          142416,
          116348,
          143978,
          156037,
          150034,
          150281,
          150464,
          150875,
          151257,
          151713,
          152190,
          152711,
          152818,
          153134,
          153645,
          154062,
          154554,
          154878,
          155315,
          155597,
          117745,
          144605,
          156287,
          159392,
          159617,
          159788,
          160050,
          118453,
          145320,
          156673,
          119488,
          146137,
          156884,
          120223,
          146741,
          157079,
          121085,
          147122,
          157285,
          122847,
          147419,
          157515,
          124476,
          147932,
          158007,
          125683,
          148475,
          158291,
          126607,
          149082,
          158644,
          127780,
          149576,
          159037
         ],
         "xaxis": "x",
         "y": [
          76,
          1654,
          414,
          507,
          506,
          303,
          453,
          269,
          950,
          974,
          182,
          36,
          56,
          80,
          64,
          60,
          40,
          64,
          68,
          20,
          40,
          484,
          1719,
          1179,
          499,
          498,
          297,
          446,
          264,
          648,
          664,
          175,
          2209,
          2448,
          2448,
          2448,
          2448,
          2448,
          2448,
          2372,
          28,
          52,
          44,
          36,
          40,
          112,
          152,
          164,
          924,
          580,
          1403,
          834,
          490,
          489,
          292,
          438,
          260,
          663,
          627,
          171,
          941,
          925,
          909,
          894,
          1172,
          1010,
          996,
          981,
          468,
          340,
          503,
          488,
          472,
          457,
          449,
          444,
          436,
          429,
          421,
          424,
          1172,
          803,
          482,
          481,
          287,
          431,
          255,
          656,
          623,
          169,
          762,
          750,
          738,
          726,
          716,
          820,
          749,
          738,
          726,
          715,
          704,
          8,
          792,
          553,
          542,
          531,
          520,
          520,
          816,
          652,
          797,
          474,
          473,
          282,
          424,
          1120,
          648,
          619,
          484,
          413,
          406,
          399,
          392,
          386,
          379,
          373,
          366,
          360,
          354,
          800,
          568,
          562,
          556,
          551,
          545,
          533,
          524,
          515,
          1197,
          1172,
          795,
          466,
          465,
          278,
          416,
          764,
          641,
          616,
          380,
          412,
          405,
          398,
          391,
          385,
          378,
          372,
          365,
          359,
          353,
          347,
          341,
          335,
          330,
          324,
          319,
          313,
          308,
          907,
          1037,
          786,
          458,
          457,
          273,
          409,
          719,
          626,
          601,
          360,
          246,
          242,
          238,
          234,
          230,
          226,
          222,
          218,
          215,
          211,
          207,
          204,
          776,
          486,
          483,
          480,
          476,
          473,
          461,
          906,
          1037,
          767,
          450,
          449,
          268,
          402,
          715,
          616,
          590,
          360,
          372,
          366,
          360,
          354,
          348,
          342,
          336,
          330,
          325,
          319,
          314,
          308,
          303,
          298,
          293,
          288,
          283,
          278,
          274,
          894,
          1002,
          754,
          442,
          441,
          264,
          395,
          711,
          606,
          580,
          353,
          623,
          612,
          601,
          590,
          568,
          565,
          555,
          545,
          536,
          527,
          518,
          509,
          500,
          492,
          483,
          475,
          467,
          459,
          887,
          983,
          742,
          435,
          434,
          259,
          389,
          707,
          596,
          571,
          44,
          566,
          556,
          547,
          537,
          528,
          537,
          519,
          511,
          502,
          804,
          548,
          548,
          559,
          4,
          270,
          257,
          249,
          240,
          231,
          874,
          973,
          820,
          427,
          427,
          255,
          389,
          1392,
          585,
          561,
          190,
          542,
          533,
          524,
          515,
          1191,
          840,
          831,
          823,
          588,
          224,
          4,
          209,
          420,
          1,
          280,
          108,
          190,
          180,
          3590,
          960,
          1,
          420,
          419,
          250,
          379,
          240,
          575,
          551,
          184,
          178,
          172,
          167,
          166,
          163,
          160,
          158,
          155,
          152,
          162,
          153,
          151,
          1,
          148,
          324,
          380,
          108,
          607,
          309,
          1,
          223,
          129,
          340,
          334,
          346,
          332,
          326,
          321,
          316,
          310,
          305,
          300,
          249,
          183,
          249,
          249,
          249,
          237,
          233,
          230,
          226,
          93,
          171,
          132,
          227,
          223,
          220,
          216,
          212,
          209,
          205,
          228,
          234,
          186,
          171,
          209,
          126,
          180,
          204,
          126,
          414,
          270,
          126,
          93,
          102,
          90,
          87,
          414,
          270,
          123,
          414,
          270,
          147,
          378,
          254,
          165,
          373,
          251,
          120,
          371,
          248,
          78,
          365,
          244,
          93,
          358,
          239,
          81,
          352,
          235,
          93,
          346,
          231,
          108
         ],
         "yaxis": "y"
        },
        {
         "hovertemplate": "wh_id=6.0<br>tot_cases=%{x}<br>sales=%{y}<extra></extra>",
         "legendgroup": "6.0",
         "marker": {
          "color": "#00cc96",
          "symbol": "circle"
         },
         "mode": "markers",
         "name": "6.0",
         "showlegend": true,
         "type": "scattergl",
         "x": [
          1,
          11,
          5319,
          14637,
          21977,
          33435,
          57541,
          74939,
          88116,
          108315,
          167216,
          1,
          1,
          1,
          1,
          1,
          1,
          1,
          1,
          1,
          1,
          1,
          18,
          5683,
          15003,
          22157,
          34151,
          58172,
          75377,
          88810,
          109354,
          170342,
          1,
          1,
          1,
          1,
          1,
          1,
          1,
          1,
          1,
          1,
          1,
          1,
          1,
          1,
          1,
          1,
          7,
          1,
          27,
          6966,
          15185,
          22484,
          34778,
          58715,
          75856,
          89419,
          110011,
          172437,
          568,
          642,
          708,
          769,
          930,
          1187,
          1376,
          1524,
          1793,
          1996,
          2221,
          2469,
          2580,
          3207,
          3723,
          4310,
          4506,
          4896,
          4896,
          1,
          39,
          7591,
          15462,
          22729,
          35247,
          59379,
          76335,
          89874,
          111480,
          174290,
          10538,
          10694,
          10783,
          11152,
          11445,
          11802,
          11790,
          12085,
          12282,
          12494,
          12753,
          12977,
          13319,
          13521,
          13686,
          13842,
          14070,
          14327,
          1,
          70,
          6973,
          15594,
          22993,
          35898,
          60084,
          76836,
          90276,
          112550,
          175793,
          17512,
          17773,
          17951,
          18287,
          18433,
          18611,
          18811,
          18971,
          19117,
          19265,
          19585,
          19828,
          20065,
          20181,
          20406,
          20764,
          21071,
          21349,
          21702,
          1,
          79,
          7318,
          15905,
          23422,
          36985,
          60917,
          77235,
          90663,
          114241,
          177447,
          25538,
          25834,
          26158,
          26531,
          26784,
          27192,
          27601,
          28225,
          28680,
          28870,
          29386,
          29869,
          30367,
          30855,
          31404,
          31752,
          32253,
          32824,
          1,
          102,
          8682,
          16231,
          23729,
          37420,
          61587,
          77545,
          91208,
          116011,
          184404,
          41757,
          42304,
          43046,
          44313,
          45067,
          46026,
          46946,
          47743,
          48575,
          49247,
          50009,
          50824,
          51849,
          52635,
          53321,
          54205,
          54995,
          55803,
          55803,
          1,
          136,
          9097,
          16388,
          24041,
          37941,
          62523,
          77545,
          91918,
          117331,
          187327,
          65339,
          66139,
          66885,
          67461,
          67721,
          68264,
          68689,
          69389,
          69779,
          70595,
          71012,
          71371,
          71705,
          72161,
          72703,
          73301,
          73879,
          74320,
          74635,
          1,
          162,
          9608,
          16674,
          24354,
          38581,
          63072,
          78009,
          92560,
          118570,
          189863,
          79826,
          80138,
          80465,
          80812,
          81198,
          81602,
          82199,
          82548,
          82848,
          83193,
          83702,
          84238,
          85226,
          85830,
          86269,
          86638,
          87042,
          87522,
          1,
          267,
          9887,
          16891,
          24642,
          39218,
          63647,
          78467,
          93035,
          120011,
          192413,
          94775,
          95509,
          96185,
          96894,
          97671,
          98201,
          98661,
          99150,
          99874,
          100525,
          101345,
          102264,
          102913,
          103500,
          104027,
          104743,
          105557,
          106573,
          107501,
          1,
          366,
          10224,
          17122,
          24779,
          39218,
          64151,
          79011,
          93862,
          120011,
          195554,
          125498,
          127731,
          130040,
          131532,
          134121,
          135424,
          137411,
          139543,
          141260,
          141260,
          147537,
          151019,
          153906,
          153906,
          158167,
          160634,
          162700,
          165019,
          1,
          457,
          10411,
          17330,
          25171,
          40656,
          64702,
          79476,
          93862,
          123356,
          199735,
          202063,
          203797,
          205069,
          214265,
          217205,
          220268,
          222600,
          224761,
          226635,
          227887,
          230202,
          233093,
          233093,
          236719,
          237433,
          238672,
          240846,
          242330,
          246752,
          246752,
          313335,
          340708,
          281202,
          283777,
          285970,
          285970,
          289939,
          289939,
          291989,
          294017,
          296087,
          298249,
          300198,
          301587,
          302141,
          303482,
          305289,
          307809,
          309801,
          311597,
          312800,
          246752,
          314692,
          341441,
          328047,
          328912,
          328912,
          329746,
          330807,
          332007,
          332904,
          333794,
          334614,
          334962,
          335693,
          336565,
          337653,
          338822,
          339773,
          340256,
          255396,
          316294,
          342236,
          349425,
          350061,
          350506,
          351109,
          256435,
          317878,
          343090,
          258767,
          319371,
          343868,
          260752,
          320146,
          344532,
          264012,
          322656,
          345295,
          268607,
          323214,
          345731,
          271595,
          324025,
          346403,
          274673,
          324706,
          347131,
          276686,
          326159,
          347884,
          278544,
          327167,
          348516
         ],
         "xaxis": "x",
         "y": [
          60,
          316,
          553,
          671,
          623,
          569,
          709,
          416,
          695,
          302,
          164,
          76,
          68,
          44,
          44,
          52,
          8,
          40,
          44,
          68,
          56,
          64,
          315,
          544,
          660,
          611,
          556,
          697,
          409,
          682,
          295,
          159,
          228,
          228,
          32,
          40,
          24,
          40,
          224,
          20,
          16,
          24,
          32,
          40,
          72,
          100,
          280,
          268,
          412,
          56,
          314,
          535,
          649,
          600,
          547,
          685,
          402,
          671,
          4,
          151,
          648,
          640,
          631,
          618,
          808,
          698,
          688,
          678,
          668,
          658,
          645,
          635,
          624,
          613,
          603,
          593,
          582,
          573,
          563,
          44,
          309,
          1075,
          638,
          590,
          538,
          673,
          395,
          659,
          512,
          146,
          16,
          372,
          360,
          348,
          335,
          1097,
          710,
          704,
          700,
          694,
          689,
          671,
          816,
          727,
          716,
          705,
          695,
          684,
          64,
          305,
          791,
          627,
          580,
          529,
          662,
          389,
          648,
          292,
          146,
          665,
          656,
          646,
          634,
          623,
          613,
          602,
          592,
          582,
          572,
          562,
          553,
          543,
          534,
          808,
          657,
          649,
          640,
          632,
          228,
          804,
          783,
          616,
          570,
          520,
          651,
          382,
          637,
          302,
          143,
          506,
          497,
          489,
          480,
          472,
          464,
          456,
          448,
          441,
          433,
          426,
          419,
          412,
          800,
          595,
          589,
          582,
          575,
          32,
          546,
          774,
          606,
          561,
          511,
          640,
          376,
          626,
          298,
          141,
          1026,
          1018,
          993,
          976,
          960,
          944,
          928,
          912,
          897,
          808,
          830,
          815,
          800,
          786,
          772,
          760,
          747,
          734,
          721,
          56,
          542,
          812,
          595,
          551,
          502,
          629,
          369,
          615,
          293,
          138,
          577,
          567,
          558,
          548,
          539,
          530,
          521,
          512,
          503,
          494,
          486,
          478,
          470,
          462,
          454,
          446,
          438,
          431,
          424,
          20,
          537,
          780,
          585,
          542,
          1624,
          618,
          363,
          605,
          293,
          136,
          704,
          698,
          692,
          687,
          670,
          659,
          648,
          637,
          626,
          615,
          605,
          595,
          804,
          804,
          737,
          726,
          716,
          707,
          76,
          816,
          792,
          812,
          532,
          1050,
          608,
          357,
          595,
          285,
          134,
          565,
          555,
          546,
          536,
          527,
          518,
          509,
          812,
          652,
          642,
          633,
          412,
          396,
          448,
          435,
          424,
          748,
          56,
          309,
          64,
          669,
          765,
          684,
          523,
          1042,
          597,
          1081,
          585,
          4,
          4,
          133,
          128,
          124,
          812,
          466,
          463,
          461,
          904,
          720,
          4,
          338,
          331,
          324,
          1,
          532,
          280,
          4,
          169,
          228,
          657,
          1,
          674,
          514,
          1034,
          587,
          710,
          575,
          137,
          66,
          63,
          61,
          772,
          40,
          227,
          226,
          225,
          224,
          212,
          211,
          207,
          204,
          1,
          207,
          200,
          772,
          772,
          772,
          114,
          1,
          3,
          210,
          151,
          148,
          146,
          143,
          141,
          138,
          136,
          134,
          131,
          129,
          327,
          291,
          171,
          24,
          3,
          57,
          363,
          351,
          99,
          401,
          95,
          161,
          363,
          351,
          267,
          267,
          219,
          192,
          201,
          252,
          111,
          132,
          66,
          64,
          80,
          186,
          195,
          156,
          474,
          94,
          252,
          183,
          171,
          153,
          141,
          339,
          88,
          165,
          369,
          83,
          168,
          3,
          81,
          177,
          178,
          81,
          198,
          172,
          79,
          126,
          165,
          78,
          111,
          159,
          363,
          177,
          154,
          363,
          150,
          154,
          363,
          177
         ],
         "yaxis": "y"
        }
       ],
       "layout": {
        "autosize": true,
        "legend": {
         "title": {
          "text": "wh_id"
         },
         "tracegroupgap": 0
        },
        "template": {
         "data": {
          "bar": [
           {
            "error_x": {
             "color": "#2a3f5f"
            },
            "error_y": {
             "color": "#2a3f5f"
            },
            "marker": {
             "line": {
              "color": "#E5ECF6",
              "width": 0.5
             },
             "pattern": {
              "fillmode": "overlay",
              "size": 10,
              "solidity": 0.2
             }
            },
            "type": "bar"
           }
          ],
          "barpolar": [
           {
            "marker": {
             "line": {
              "color": "#E5ECF6",
              "width": 0.5
             },
             "pattern": {
              "fillmode": "overlay",
              "size": 10,
              "solidity": 0.2
             }
            },
            "type": "barpolar"
           }
          ],
          "carpet": [
           {
            "aaxis": {
             "endlinecolor": "#2a3f5f",
             "gridcolor": "white",
             "linecolor": "white",
             "minorgridcolor": "white",
             "startlinecolor": "#2a3f5f"
            },
            "baxis": {
             "endlinecolor": "#2a3f5f",
             "gridcolor": "white",
             "linecolor": "white",
             "minorgridcolor": "white",
             "startlinecolor": "#2a3f5f"
            },
            "type": "carpet"
           }
          ],
          "choropleth": [
           {
            "colorbar": {
             "outlinewidth": 0,
             "ticks": ""
            },
            "type": "choropleth"
           }
          ],
          "contour": [
           {
            "colorbar": {
             "outlinewidth": 0,
             "ticks": ""
            },
            "colorscale": [
             [
              0,
              "#0d0887"
             ],
             [
              0.1111111111111111,
              "#46039f"
             ],
             [
              0.2222222222222222,
              "#7201a8"
             ],
             [
              0.3333333333333333,
              "#9c179e"
             ],
             [
              0.4444444444444444,
              "#bd3786"
             ],
             [
              0.5555555555555556,
              "#d8576b"
             ],
             [
              0.6666666666666666,
              "#ed7953"
             ],
             [
              0.7777777777777778,
              "#fb9f3a"
             ],
             [
              0.8888888888888888,
              "#fdca26"
             ],
             [
              1,
              "#f0f921"
             ]
            ],
            "type": "contour"
           }
          ],
          "contourcarpet": [
           {
            "colorbar": {
             "outlinewidth": 0,
             "ticks": ""
            },
            "type": "contourcarpet"
           }
          ],
          "heatmap": [
           {
            "colorbar": {
             "outlinewidth": 0,
             "ticks": ""
            },
            "colorscale": [
             [
              0,
              "#0d0887"
             ],
             [
              0.1111111111111111,
              "#46039f"
             ],
             [
              0.2222222222222222,
              "#7201a8"
             ],
             [
              0.3333333333333333,
              "#9c179e"
             ],
             [
              0.4444444444444444,
              "#bd3786"
             ],
             [
              0.5555555555555556,
              "#d8576b"
             ],
             [
              0.6666666666666666,
              "#ed7953"
             ],
             [
              0.7777777777777778,
              "#fb9f3a"
             ],
             [
              0.8888888888888888,
              "#fdca26"
             ],
             [
              1,
              "#f0f921"
             ]
            ],
            "type": "heatmap"
           }
          ],
          "heatmapgl": [
           {
            "colorbar": {
             "outlinewidth": 0,
             "ticks": ""
            },
            "colorscale": [
             [
              0,
              "#0d0887"
             ],
             [
              0.1111111111111111,
              "#46039f"
             ],
             [
              0.2222222222222222,
              "#7201a8"
             ],
             [
              0.3333333333333333,
              "#9c179e"
             ],
             [
              0.4444444444444444,
              "#bd3786"
             ],
             [
              0.5555555555555556,
              "#d8576b"
             ],
             [
              0.6666666666666666,
              "#ed7953"
             ],
             [
              0.7777777777777778,
              "#fb9f3a"
             ],
             [
              0.8888888888888888,
              "#fdca26"
             ],
             [
              1,
              "#f0f921"
             ]
            ],
            "type": "heatmapgl"
           }
          ],
          "histogram": [
           {
            "marker": {
             "pattern": {
              "fillmode": "overlay",
              "size": 10,
              "solidity": 0.2
             }
            },
            "type": "histogram"
           }
          ],
          "histogram2d": [
           {
            "colorbar": {
             "outlinewidth": 0,
             "ticks": ""
            },
            "colorscale": [
             [
              0,
              "#0d0887"
             ],
             [
              0.1111111111111111,
              "#46039f"
             ],
             [
              0.2222222222222222,
              "#7201a8"
             ],
             [
              0.3333333333333333,
              "#9c179e"
             ],
             [
              0.4444444444444444,
              "#bd3786"
             ],
             [
              0.5555555555555556,
              "#d8576b"
             ],
             [
              0.6666666666666666,
              "#ed7953"
             ],
             [
              0.7777777777777778,
              "#fb9f3a"
             ],
             [
              0.8888888888888888,
              "#fdca26"
             ],
             [
              1,
              "#f0f921"
             ]
            ],
            "type": "histogram2d"
           }
          ],
          "histogram2dcontour": [
           {
            "colorbar": {
             "outlinewidth": 0,
             "ticks": ""
            },
            "colorscale": [
             [
              0,
              "#0d0887"
             ],
             [
              0.1111111111111111,
              "#46039f"
             ],
             [
              0.2222222222222222,
              "#7201a8"
             ],
             [
              0.3333333333333333,
              "#9c179e"
             ],
             [
              0.4444444444444444,
              "#bd3786"
             ],
             [
              0.5555555555555556,
              "#d8576b"
             ],
             [
              0.6666666666666666,
              "#ed7953"
             ],
             [
              0.7777777777777778,
              "#fb9f3a"
             ],
             [
              0.8888888888888888,
              "#fdca26"
             ],
             [
              1,
              "#f0f921"
             ]
            ],
            "type": "histogram2dcontour"
           }
          ],
          "mesh3d": [
           {
            "colorbar": {
             "outlinewidth": 0,
             "ticks": ""
            },
            "type": "mesh3d"
           }
          ],
          "parcoords": [
           {
            "line": {
             "colorbar": {
              "outlinewidth": 0,
              "ticks": ""
             }
            },
            "type": "parcoords"
           }
          ],
          "pie": [
           {
            "automargin": true,
            "type": "pie"
           }
          ],
          "scatter": [
           {
            "marker": {
             "colorbar": {
              "outlinewidth": 0,
              "ticks": ""
             }
            },
            "type": "scatter"
           }
          ],
          "scatter3d": [
           {
            "line": {
             "colorbar": {
              "outlinewidth": 0,
              "ticks": ""
             }
            },
            "marker": {
             "colorbar": {
              "outlinewidth": 0,
              "ticks": ""
             }
            },
            "type": "scatter3d"
           }
          ],
          "scattercarpet": [
           {
            "marker": {
             "colorbar": {
              "outlinewidth": 0,
              "ticks": ""
             }
            },
            "type": "scattercarpet"
           }
          ],
          "scattergeo": [
           {
            "marker": {
             "colorbar": {
              "outlinewidth": 0,
              "ticks": ""
             }
            },
            "type": "scattergeo"
           }
          ],
          "scattergl": [
           {
            "marker": {
             "colorbar": {
              "outlinewidth": 0,
              "ticks": ""
             }
            },
            "type": "scattergl"
           }
          ],
          "scattermapbox": [
           {
            "marker": {
             "colorbar": {
              "outlinewidth": 0,
              "ticks": ""
             }
            },
            "type": "scattermapbox"
           }
          ],
          "scatterpolar": [
           {
            "marker": {
             "colorbar": {
              "outlinewidth": 0,
              "ticks": ""
             }
            },
            "type": "scatterpolar"
           }
          ],
          "scatterpolargl": [
           {
            "marker": {
             "colorbar": {
              "outlinewidth": 0,
              "ticks": ""
             }
            },
            "type": "scatterpolargl"
           }
          ],
          "scatterternary": [
           {
            "marker": {
             "colorbar": {
              "outlinewidth": 0,
              "ticks": ""
             }
            },
            "type": "scatterternary"
           }
          ],
          "surface": [
           {
            "colorbar": {
             "outlinewidth": 0,
             "ticks": ""
            },
            "colorscale": [
             [
              0,
              "#0d0887"
             ],
             [
              0.1111111111111111,
              "#46039f"
             ],
             [
              0.2222222222222222,
              "#7201a8"
             ],
             [
              0.3333333333333333,
              "#9c179e"
             ],
             [
              0.4444444444444444,
              "#bd3786"
             ],
             [
              0.5555555555555556,
              "#d8576b"
             ],
             [
              0.6666666666666666,
              "#ed7953"
             ],
             [
              0.7777777777777778,
              "#fb9f3a"
             ],
             [
              0.8888888888888888,
              "#fdca26"
             ],
             [
              1,
              "#f0f921"
             ]
            ],
            "type": "surface"
           }
          ],
          "table": [
           {
            "cells": {
             "fill": {
              "color": "#EBF0F8"
             },
             "line": {
              "color": "white"
             }
            },
            "header": {
             "fill": {
              "color": "#C8D4E3"
             },
             "line": {
              "color": "white"
             }
            },
            "type": "table"
           }
          ]
         },
         "layout": {
          "annotationdefaults": {
           "arrowcolor": "#2a3f5f",
           "arrowhead": 0,
           "arrowwidth": 1
          },
          "autotypenumbers": "strict",
          "coloraxis": {
           "colorbar": {
            "outlinewidth": 0,
            "ticks": ""
           }
          },
          "colorscale": {
           "diverging": [
            [
             0,
             "#8e0152"
            ],
            [
             0.1,
             "#c51b7d"
            ],
            [
             0.2,
             "#de77ae"
            ],
            [
             0.3,
             "#f1b6da"
            ],
            [
             0.4,
             "#fde0ef"
            ],
            [
             0.5,
             "#f7f7f7"
            ],
            [
             0.6,
             "#e6f5d0"
            ],
            [
             0.7,
             "#b8e186"
            ],
            [
             0.8,
             "#7fbc41"
            ],
            [
             0.9,
             "#4d9221"
            ],
            [
             1,
             "#276419"
            ]
           ],
           "sequential": [
            [
             0,
             "#0d0887"
            ],
            [
             0.1111111111111111,
             "#46039f"
            ],
            [
             0.2222222222222222,
             "#7201a8"
            ],
            [
             0.3333333333333333,
             "#9c179e"
            ],
            [
             0.4444444444444444,
             "#bd3786"
            ],
            [
             0.5555555555555556,
             "#d8576b"
            ],
            [
             0.6666666666666666,
             "#ed7953"
            ],
            [
             0.7777777777777778,
             "#fb9f3a"
            ],
            [
             0.8888888888888888,
             "#fdca26"
            ],
            [
             1,
             "#f0f921"
            ]
           ],
           "sequentialminus": [
            [
             0,
             "#0d0887"
            ],
            [
             0.1111111111111111,
             "#46039f"
            ],
            [
             0.2222222222222222,
             "#7201a8"
            ],
            [
             0.3333333333333333,
             "#9c179e"
            ],
            [
             0.4444444444444444,
             "#bd3786"
            ],
            [
             0.5555555555555556,
             "#d8576b"
            ],
            [
             0.6666666666666666,
             "#ed7953"
            ],
            [
             0.7777777777777778,
             "#fb9f3a"
            ],
            [
             0.8888888888888888,
             "#fdca26"
            ],
            [
             1,
             "#f0f921"
            ]
           ]
          },
          "colorway": [
           "#636efa",
           "#EF553B",
           "#00cc96",
           "#ab63fa",
           "#FFA15A",
           "#19d3f3",
           "#FF6692",
           "#B6E880",
           "#FF97FF",
           "#FECB52"
          ],
          "font": {
           "color": "#2a3f5f"
          },
          "geo": {
           "bgcolor": "white",
           "lakecolor": "white",
           "landcolor": "#E5ECF6",
           "showlakes": true,
           "showland": true,
           "subunitcolor": "white"
          },
          "hoverlabel": {
           "align": "left"
          },
          "hovermode": "closest",
          "mapbox": {
           "style": "light"
          },
          "paper_bgcolor": "white",
          "plot_bgcolor": "#E5ECF6",
          "polar": {
           "angularaxis": {
            "gridcolor": "white",
            "linecolor": "white",
            "ticks": ""
           },
           "bgcolor": "#E5ECF6",
           "radialaxis": {
            "gridcolor": "white",
            "linecolor": "white",
            "ticks": ""
           }
          },
          "scene": {
           "xaxis": {
            "backgroundcolor": "#E5ECF6",
            "gridcolor": "white",
            "gridwidth": 2,
            "linecolor": "white",
            "showbackground": true,
            "ticks": "",
            "zerolinecolor": "white"
           },
           "yaxis": {
            "backgroundcolor": "#E5ECF6",
            "gridcolor": "white",
            "gridwidth": 2,
            "linecolor": "white",
            "showbackground": true,
            "ticks": "",
            "zerolinecolor": "white"
           },
           "zaxis": {
            "backgroundcolor": "#E5ECF6",
            "gridcolor": "white",
            "gridwidth": 2,
            "linecolor": "white",
            "showbackground": true,
            "ticks": "",
            "zerolinecolor": "white"
           }
          },
          "shapedefaults": {
           "line": {
            "color": "#2a3f5f"
           }
          },
          "ternary": {
           "aaxis": {
            "gridcolor": "white",
            "linecolor": "white",
            "ticks": ""
           },
           "baxis": {
            "gridcolor": "white",
            "linecolor": "white",
            "ticks": ""
           },
           "bgcolor": "#E5ECF6",
           "caxis": {
            "gridcolor": "white",
            "linecolor": "white",
            "ticks": ""
           }
          },
          "title": {
           "x": 0.05
          },
          "xaxis": {
           "automargin": true,
           "gridcolor": "white",
           "linecolor": "white",
           "ticks": "",
           "title": {
            "standoff": 15
           },
           "zerolinecolor": "white",
           "zerolinewidth": 2
          },
          "yaxis": {
           "automargin": true,
           "gridcolor": "white",
           "linecolor": "white",
           "ticks": "",
           "title": {
            "standoff": 15
           },
           "zerolinecolor": "white",
           "zerolinewidth": 2
          }
         }
        },
        "title": {
         "text": "cases vs sales"
        },
        "xaxis": {
         "anchor": "y",
         "autorange": true,
         "domain": [
          0,
          1
         ],
         "range": [
          -21187.612068965518,
          372296.6120689655
         ],
         "title": {
          "text": "tot_cases"
         },
         "type": "linear"
        },
        "yaxis": {
         "anchor": "x",
         "autorange": true,
         "domain": [
          0,
          1
         ],
         "range": [
          -295.1796116504854,
          3886.1796116504856
         ],
         "title": {
          "text": "sales"
         },
         "type": "linear"
        }
       }
      },
      "image/png": "[encoded data removed]",
      "text/html": [
       "<div>                            <div id=\"173260e3-5156-47cd-9897-e3e64161603d\" class=\"plotly-graph-div\" style=\"height:525px; width:100%;\"></div>            <script type=\"text/javascript\">                require([\"plotly\"], function(Plotly) {                    window.PLOTLYENV=window.PLOTLYENV || {};                                    if (document.getElementById(\"173260e3-5156-47cd-9897-e3e64161603d\")) {                    Plotly.newPlot(                        \"173260e3-5156-47cd-9897-e3e64161603d\",                        [{\"hovertemplate\":\"wh_id=1.0<br>tot_cases=%{x}<br>sales=%{y}<extra></extra>\",\"legendgroup\":\"1.0\",\"marker\":{\"color\":\"#636efa\",\"symbol\":\"circle\"},\"mode\":\"markers\",\"name\":\"1.0\",\"showlegend\":true,\"x\":[1.0,11.0,5319.0,14637.0,21977.0,33435.0,57541.0,74939.0,88116.0,108315.0,167216.0,1.0,1.0,1.0,1.0,1.0,1.0,1.0,1.0,1.0,1.0,1.0,18.0,5683.0,15003.0,22157.0,34151.0,58172.0,75377.0,88810.0,109354.0,170342.0,1.0,1.0,1.0,1.0,1.0,1.0,1.0,1.0,1.0,1.0,1.0,1.0,1.0,1.0,1.0,1.0,7.0,1.0,27.0,6966.0,15185.0,22484.0,34778.0,58715.0,75856.0,89419.0,110011.0,172437.0,568.0,642.0,708.0,769.0,930.0,1187.0,1376.0,1524.0,1793.0,1996.0,2221.0,2469.0,2580.0,3207.0,3723.0,4310.0,4506.0,4896.0,4896.0,1.0,39.0,7591.0,15462.0,22729.0,35247.0,59379.0,76335.0,89874.0,111480.0,174290.0,10538.0,10694.0,10783.0,11152.0,11445.0,11802.0,11790.0,12085.0,12282.0,12494.0,12753.0,12977.0,13319.0,13521.0,13686.0,13842.0,14070.0,14327.0,1.0,70.0,6973.0,15594.0,22993.0,35898.0,60084.0,76836.0,90276.0,112550.0,175793.0,17512.0,17773.0,17951.0,18287.0,18433.0,18611.0,18811.0,18971.0,19117.0,19265.0,19585.0,19828.0,20065.0,20181.0,20406.0,20764.0,21071.0,21349.0,21702.0,1.0,79.0,7318.0,15905.0,23422.0,36985.0,60917.0,77235.0,90663.0,114241.0,177447.0,25538.0,25834.0,26158.0,26531.0,26784.0,27192.0,27601.0,28225.0,28680.0,28870.0,29386.0,29869.0,30367.0,30855.0,31404.0,31752.0,32253.0,32824.0,1.0,102.0,8682.0,16231.0,23729.0,37420.0,61587.0,77545.0,91208.0,116011.0,184404.0,41757.0,42304.0,43046.0,44313.0,45067.0,46026.0,46946.0,47743.0,48575.0,49247.0,50009.0,50824.0,51849.0,52635.0,53321.0,54205.0,54995.0,55803.0,55803.0,1.0,136.0,9097.0,16388.0,24041.0,37941.0,62523.0,77545.0,91918.0,117331.0,187327.0,65339.0,66139.0,66885.0,67461.0,67721.0,68264.0,68689.0,69389.0,69779.0,70595.0,71012.0,71371.0,71705.0,72161.0,72703.0,73301.0,73879.0,74320.0,74635.0,1.0,162.0,9608.0,16674.0,24354.0,38581.0,63072.0,78009.0,92560.0,118570.0,189863.0,79826.0,80138.0,80465.0,80812.0,81198.0,81602.0,82199.0,82548.0,82848.0,83193.0,83702.0,84238.0,85226.0,85830.0,86269.0,86638.0,87042.0,87522.0,1.0,267.0,9887.0,16891.0,24642.0,39218.0,63647.0,78467.0,93035.0,120011.0,192413.0,94775.0,95509.0,96185.0,96894.0,97671.0,98201.0,98661.0,99150.0,99874.0,100525.0,101345.0,102264.0,102913.0,103500.0,104027.0,104743.0,105557.0,106573.0,107501.0,1.0,366.0,10224.0,17122.0,24779.0,39218.0,64151.0,79011.0,93862.0,120011.0,195554.0,125498.0,127731.0,130040.0,131532.0,134121.0,135424.0,137411.0,139543.0,141260.0,141260.0,147537.0,151019.0,153906.0,153906.0,158167.0,160634.0,162700.0,165019.0,1.0,457.0,10411.0,17330.0,25171.0,40656.0,64702.0,79476.0,93862.0,123356.0,199735.0,202063.0,203797.0,205069.0,214265.0,217205.0,220268.0,222600.0,224761.0,226635.0,227887.0,230202.0,233093.0,233093.0,236719.0,237433.0,238672.0,240846.0,242330.0,246752.0,246752.0,313335.0,340708.0,281202.0,283777.0,285970.0,285970.0,289939.0,289939.0,291989.0,294017.0,296087.0,298249.0,300198.0,301587.0,302141.0,303482.0,305289.0,307809.0,309801.0,311597.0,312800.0,246752.0,314692.0,341441.0,328047.0,328912.0,328912.0,329746.0,330807.0,332007.0,332904.0,333794.0,334614.0,334962.0,335693.0,336565.0,337653.0,338822.0,339773.0,340256.0,255396.0,316294.0,342236.0,349425.0,350061.0,350506.0,351109.0,256435.0,317878.0,343090.0,258767.0,319371.0,343868.0,260752.0,320146.0,344532.0,264012.0,322656.0,345295.0,268607.0,323214.0,345731.0,271595.0,324025.0,346403.0,274673.0,324706.0,347131.0,276686.0,326159.0,347884.0,278544.0,327167.0,348516.0],\"xaxis\":\"x\",\"y\":[24,860,568,805,597,235,760,447,806,272,364,48,56,36,24,28,32,52,20,40,84,32,858,816,792,586,234,748,439,592,269,358,84,69,84,60,60,60,60,60,58,60,60,60,93,223,457,811,1165,36,4,678,778,577,230,735,432,609,266,345,588,583,577,564,554,545,536,527,518,816,654,645,637,629,621,608,598,588,578,24,422,816,765,567,226,723,424,601,263,332,673,808,808,755,744,733,723,711,698,686,674,663,1100,865,854,843,833,822,20,409,758,752,557,222,710,958,593,251,331,655,644,633,623,612,602,591,581,571,562,552,800,662,653,648,637,629,616,608,40,391,737,739,548,218,698,704,585,250,325,486,477,469,461,453,20,225,218,210,203,196,196,780,36,256,253,250,247,32,378,737,727,538,215,687,685,573,246,320,863,860,839,824,810,797,783,770,757,980,850,837,825,813,801,786,772,812,773,40,364,720,714,529,211,675,682,563,241,314,619,609,598,588,578,568,559,549,540,531,522,513,504,495,487,479,471,463,455,48,364,709,702,520,1334,663,673,554,237,309,704,665,654,644,633,623,612,602,591,581,571,562,552,543,533,524,515,507,28,856,696,690,511,980,652,667,544,233,304,517,508,500,491,483,475,466,459,451,316,404,92,229,222,215,210,204,716,96,20,600,684,678,503,870,641,676,535,229,298,221,218,214,210,1105,656,651,816,544,256,427,417,407,1,816,816,52,370,84,594,1,667,494,867,630,660,526,225,293,288,283,278,332,244,244,251,246,242,237,233,229,1,276,260,256,24,192,210,1,294,159,123,121,119,117,115,113,111,109,108,106,104,102,100,99,97,95,400,294,294,219,285,132,294,219,219,213,84,90,81,102,57,87,72,108,99,147,198,138,213,284,87,60,66,63,48,165,278,135,213,273,135,99,268,150,226,264,168,93,259,51,134,255,48,131,294,75,128,294,69,126,294,57],\"yaxis\":\"y\",\"type\":\"scattergl\"},{\"hovertemplate\":\"wh_id=2.0<br>tot_cases=%{x}<br>sales=%{y}<extra></extra>\",\"legendgroup\":\"2.0\",\"marker\":{\"color\":\"#EF553B\",\"symbol\":\"circle\"},\"mode\":\"markers\",\"name\":\"2.0\",\"showlegend\":true,\"x\":[0.0,1.0,736.0,2579.0,4302.0,8931.0,18817.0,26946.0,33862.0,45429.0,76654.0,0.0,0.0,0.0,0.0,0.0,0.0,0.0,0.0,0.0,0.0,0.0,3.0,826.0,2635.0,4335.0,9294.0,19097.0,27075.0,34163.0,45978.0,78160.0,0.0,0.0,0.0,0.0,0.0,0.0,0.0,0.0,0.0,0.0,0.0,0.0,0.0,0.0,0.0,0.0,1.0,0.0,3.0,899.0,2680.0,4399.0,9636.0,19366.0,27336.0,34511.0,46460.0,79293.0,24.0,24.0,39.0,47.0,65.0,75.0,88.0,114.0,137.0,161.0,191.0,209.0,266.0,316.0,414.0,479.0,548.0,606.0,690.0,0.0,3.0,999.0,2759.0,4474.0,9930.0,19699.0,27601.0,34770.0,47049.0,81437.0,1584.0,1633.0,1663.0,1736.0,1785.0,1844.0,1910.0,1956.0,2002.0,2059.0,2127.0,2177.0,2253.0,2311.0,2354.0,2385.0,2446.0,2510.0,0.0,3.0,1068.0,2839.0,4570.0,10230.0,19978.0,27856.0,35049.0,47839.0,83243.0,3416.0,3479.0,3541.0,3612.0,3623.0,3687.0,3726.0,3801.0,3817.0,3864.0,3888.0,3927.0,3949.0,3967.0,4038.0,4086.0,4131.0,4185.0,4243.0,0.0,3.0,1132.0,2916.0,4662.0,10395.0,20225.0,28044.0,35340.0,48608.0,84496.0,5535.0,5636.0,5820.0,6098.0,6218.0,6366.0,6572.0,6750.0,6937.0,7083.0,7274.0,7444.0,7568.0,7818.0,8094.0,8341.0,8485.0,8656.0,0.0,7.0,1181.0,2989.0,4808.0,10605.0,20636.0,28190.0,35634.0,49587.0,85788.0,12438.0,12805.0,13081.0,13509.0,13802.0,14149.0,14579.0,14847.0,15139.0,15394.0,15713.0,16104.0,16492.0,16758.0,17088.0,17416.0,17721.0,18131.0,18493.0,0.0,14.0,1239.0,3068.0,4922.0,10819.0,21010.0,28355.0,36116.0,50448.0,87082.0,22300.0,22613.0,23018.0,23744.0,23451.0,23676.0,23870.0,24165.0,24421.0,24710.0,24937.0,25155.0,25391.0,25571.0,25761.0,26054.0,26293.0,26554.0,26713.0,0.0,14.0,1321.0,3160.0,4988.0,11188.0,21272.0,28471.0,36526.0,51155.0,88287.0,29337.0,29484.0,29662.0,29850.0,30060.0,30342.0,30599.0,30801.0,30995.0,31313.0,31503.0,31865.0,32314.0,32581.0,32820.0,32994.0,33291.0,33509.0,0.0,15.0,1371.0,3228.0,5060.0,11454.0,21488.0,28654.0,36526.0,51909.0,89838.0,37780.0,38160.0,38525.0,38935.0,39316.0,39532.0,39794.0,40136.0,40443.0,40810.0,41348.0,41348.0,42101.0,42436.0,42808.0,43228.0,43793.0,44388.0,44921.0,0.0,19.0,1447.0,3286.0,5237.0,11851.0,21774.0,28865.0,37255.0,52770.0,91420.0,54937.0,56018.0,56880.0,57646.0,58570.0,59669.0,60873.0,62175.0,63668.0,65170.0,66333.0,67333.0,68503.0,70006.0,70832.0,72506.0,74120.0,75431.0,0.0,24.0,1527.0,3358.0,5377.0,12170.0,22022.0,29156.0,37467.0,53879.0,92839.0,93853.0,95010.0,96092.0,97622.0,98936.0,100308.0,101814.0,102930.0,103755.0,105073.0,105970.0,106821.0,107718.0,108326.0,109725.0,110545.0,111227.0,112260.0,113909.0,113909.0,143373.0,155787.0,129109.0,130246.0,131258.0,132412.0,133205.0,133851.0,134468.0,135142.0,135973.0,136839.0,137600.0,138168.0,138587.0,139355.0,140063.0,140783.0,141729.0,142416.0,142416.0,116348.0,143978.0,156037.0,150034.0,150281.0,150464.0,150875.0,151257.0,151713.0,152190.0,152711.0,152818.0,153134.0,153645.0,154062.0,154554.0,154878.0,155315.0,155597.0,117745.0,144605.0,156287.0,159392.0,159617.0,159788.0,160050.0,118453.0,145320.0,156673.0,119488.0,146137.0,156884.0,120223.0,146741.0,157079.0,121085.0,147122.0,157285.0,122847.0,147419.0,157515.0,124476.0,147932.0,158007.0,125683.0,148475.0,158291.0,126607.0,149082.0,158644.0,127780.0,149576.0,159037.0],\"xaxis\":\"x\",\"y\":[76,1654,414,507,506,303,453,269,950,974,182,36,56,80,64,60,40,64,68,20,40,484,1719,1179,499,498,297,446,264,648,664,175,2209,2448,2448,2448,2448,2448,2448,2372,28,52,44,36,40,112,152,164,924,580,1403,834,490,489,292,438,260,663,627,171,941,925,909,894,1172,1010,996,981,468,340,503,488,472,457,449,444,436,429,421,424,1172,803,482,481,287,431,255,656,623,169,762,750,738,726,716,820,749,738,726,715,704,8,792,553,542,531,520,520,816,652,797,474,473,282,424,1120,648,619,484,413,406,399,392,386,379,373,366,360,354,800,568,562,556,551,545,533,524,515,1197,1172,795,466,465,278,416,764,641,616,380,412,405,398,391,385,378,372,365,359,353,347,341,335,330,324,319,313,308,907,1037,786,458,457,273,409,719,626,601,360,246,242,238,234,230,226,222,218,215,211,207,204,776,486,483,480,476,473,461,906,1037,767,450,449,268,402,715,616,590,360,372,366,360,354,348,342,336,330,325,319,314,308,303,298,293,288,283,278,274,894,1002,754,442,441,264,395,711,606,580,353,623,612,601,590,568,565,555,545,536,527,518,509,500,492,483,475,467,459,887,983,742,435,434,259,389,707,596,571,44,566,556,547,537,528,537,519,511,502,804,548,548,559,4,270,257,249,240,231,874,973,820,427,427,255,389,1392,585,561,190,542,533,524,515,1191,840,831,823,588,224,4,209,420,1,280,108,190,180,3590,960,1,420,419,250,379,240,575,551,184,178,172,167,166,163,160,158,155,152,162,153,151,1,148,324,380,108,607,309,1,223,129,340,334,346,332,326,321,316,310,305,300,249,183,249,249,249,237,233,230,226,93,171,132,227,223,220,216,212,209,205,228,234,186,171,209,126,180,204,126,414,270,126,93,102,90,87,414,270,123,414,270,147,378,254,165,373,251,120,371,248,78,365,244,93,358,239,81,352,235,93,346,231,108],\"yaxis\":\"y\",\"type\":\"scattergl\"},{\"hovertemplate\":\"wh_id=6.0<br>tot_cases=%{x}<br>sales=%{y}<extra></extra>\",\"legendgroup\":\"6.0\",\"marker\":{\"color\":\"#00cc96\",\"symbol\":\"circle\"},\"mode\":\"markers\",\"name\":\"6.0\",\"showlegend\":true,\"x\":[1.0,11.0,5319.0,14637.0,21977.0,33435.0,57541.0,74939.0,88116.0,108315.0,167216.0,1.0,1.0,1.0,1.0,1.0,1.0,1.0,1.0,1.0,1.0,1.0,18.0,5683.0,15003.0,22157.0,34151.0,58172.0,75377.0,88810.0,109354.0,170342.0,1.0,1.0,1.0,1.0,1.0,1.0,1.0,1.0,1.0,1.0,1.0,1.0,1.0,1.0,1.0,1.0,7.0,1.0,27.0,6966.0,15185.0,22484.0,34778.0,58715.0,75856.0,89419.0,110011.0,172437.0,568.0,642.0,708.0,769.0,930.0,1187.0,1376.0,1524.0,1793.0,1996.0,2221.0,2469.0,2580.0,3207.0,3723.0,4310.0,4506.0,4896.0,4896.0,1.0,39.0,7591.0,15462.0,22729.0,35247.0,59379.0,76335.0,89874.0,111480.0,174290.0,10538.0,10694.0,10783.0,11152.0,11445.0,11802.0,11790.0,12085.0,12282.0,12494.0,12753.0,12977.0,13319.0,13521.0,13686.0,13842.0,14070.0,14327.0,1.0,70.0,6973.0,15594.0,22993.0,35898.0,60084.0,76836.0,90276.0,112550.0,175793.0,17512.0,17773.0,17951.0,18287.0,18433.0,18611.0,18811.0,18971.0,19117.0,19265.0,19585.0,19828.0,20065.0,20181.0,20406.0,20764.0,21071.0,21349.0,21702.0,1.0,79.0,7318.0,15905.0,23422.0,36985.0,60917.0,77235.0,90663.0,114241.0,177447.0,25538.0,25834.0,26158.0,26531.0,26784.0,27192.0,27601.0,28225.0,28680.0,28870.0,29386.0,29869.0,30367.0,30855.0,31404.0,31752.0,32253.0,32824.0,1.0,102.0,8682.0,16231.0,23729.0,37420.0,61587.0,77545.0,91208.0,116011.0,184404.0,41757.0,42304.0,43046.0,44313.0,45067.0,46026.0,46946.0,47743.0,48575.0,49247.0,50009.0,50824.0,51849.0,52635.0,53321.0,54205.0,54995.0,55803.0,55803.0,1.0,136.0,9097.0,16388.0,24041.0,37941.0,62523.0,77545.0,91918.0,117331.0,187327.0,65339.0,66139.0,66885.0,67461.0,67721.0,68264.0,68689.0,69389.0,69779.0,70595.0,71012.0,71371.0,71705.0,72161.0,72703.0,73301.0,73879.0,74320.0,74635.0,1.0,162.0,9608.0,16674.0,24354.0,38581.0,63072.0,78009.0,92560.0,118570.0,189863.0,79826.0,80138.0,80465.0,80812.0,81198.0,81602.0,82199.0,82548.0,82848.0,83193.0,83702.0,84238.0,85226.0,85830.0,86269.0,86638.0,87042.0,87522.0,1.0,267.0,9887.0,16891.0,24642.0,39218.0,63647.0,78467.0,93035.0,120011.0,192413.0,94775.0,95509.0,96185.0,96894.0,97671.0,98201.0,98661.0,99150.0,99874.0,100525.0,101345.0,102264.0,102913.0,103500.0,104027.0,104743.0,105557.0,106573.0,107501.0,1.0,366.0,10224.0,17122.0,24779.0,39218.0,64151.0,79011.0,93862.0,120011.0,195554.0,125498.0,127731.0,130040.0,131532.0,134121.0,135424.0,137411.0,139543.0,141260.0,141260.0,147537.0,151019.0,153906.0,153906.0,158167.0,160634.0,162700.0,165019.0,1.0,457.0,10411.0,17330.0,25171.0,40656.0,64702.0,79476.0,93862.0,123356.0,199735.0,202063.0,203797.0,205069.0,214265.0,217205.0,220268.0,222600.0,224761.0,226635.0,227887.0,230202.0,233093.0,233093.0,236719.0,237433.0,238672.0,240846.0,242330.0,246752.0,246752.0,313335.0,340708.0,281202.0,283777.0,285970.0,285970.0,289939.0,289939.0,291989.0,294017.0,296087.0,298249.0,300198.0,301587.0,302141.0,303482.0,305289.0,307809.0,309801.0,311597.0,312800.0,246752.0,314692.0,341441.0,328047.0,328912.0,328912.0,329746.0,330807.0,332007.0,332904.0,333794.0,334614.0,334962.0,335693.0,336565.0,337653.0,338822.0,339773.0,340256.0,255396.0,316294.0,342236.0,349425.0,350061.0,350506.0,351109.0,256435.0,317878.0,343090.0,258767.0,319371.0,343868.0,260752.0,320146.0,344532.0,264012.0,322656.0,345295.0,268607.0,323214.0,345731.0,271595.0,324025.0,346403.0,274673.0,324706.0,347131.0,276686.0,326159.0,347884.0,278544.0,327167.0,348516.0],\"xaxis\":\"x\",\"y\":[60,316,553,671,623,569,709,416,695,302,164,76,68,44,44,52,8,40,44,68,56,64,315,544,660,611,556,697,409,682,295,159,228,228,32,40,24,40,224,20,16,24,32,40,72,100,280,268,412,56,314,535,649,600,547,685,402,671,4,151,648,640,631,618,808,698,688,678,668,658,645,635,624,613,603,593,582,573,563,44,309,1075,638,590,538,673,395,659,512,146,16,372,360,348,335,1097,710,704,700,694,689,671,816,727,716,705,695,684,64,305,791,627,580,529,662,389,648,292,146,665,656,646,634,623,613,602,592,582,572,562,553,543,534,808,657,649,640,632,228,804,783,616,570,520,651,382,637,302,143,506,497,489,480,472,464,456,448,441,433,426,419,412,800,595,589,582,575,32,546,774,606,561,511,640,376,626,298,141,1026,1018,993,976,960,944,928,912,897,808,830,815,800,786,772,760,747,734,721,56,542,812,595,551,502,629,369,615,293,138,577,567,558,548,539,530,521,512,503,494,486,478,470,462,454,446,438,431,424,20,537,780,585,542,1624,618,363,605,293,136,704,698,692,687,670,659,648,637,626,615,605,595,804,804,737,726,716,707,76,816,792,812,532,1050,608,357,595,285,134,565,555,546,536,527,518,509,812,652,642,633,412,396,448,435,424,748,56,309,64,669,765,684,523,1042,597,1081,585,4,4,133,128,124,812,466,463,461,904,720,4,338,331,324,1,532,280,4,169,228,657,1,674,514,1034,587,710,575,137,66,63,61,772,40,227,226,225,224,212,211,207,204,1,207,200,772,772,772,114,1,3,210,151,148,146,143,141,138,136,134,131,129,327,291,171,24,3,57,363,351,99,401,95,161,363,351,267,267,219,192,201,252,111,132,66,64,80,186,195,156,474,94,252,183,171,153,141,339,88,165,369,83,168,3,81,177,178,81,198,172,79,126,165,78,111,159,363,177,154,363,150,154,363,177],\"yaxis\":\"y\",\"type\":\"scattergl\"}],                        {\"template\":{\"data\":{\"bar\":[{\"error_x\":{\"color\":\"#2a3f5f\"},\"error_y\":{\"color\":\"#2a3f5f\"},\"marker\":{\"line\":{\"color\":\"#E5ECF6\",\"width\":0.5},\"pattern\":{\"fillmode\":\"overlay\",\"size\":10,\"solidity\":0.2}},\"type\":\"bar\"}],\"barpolar\":[{\"marker\":{\"line\":{\"color\":\"#E5ECF6\",\"width\":0.5},\"pattern\":{\"fillmode\":\"overlay\",\"size\":10,\"solidity\":0.2}},\"type\":\"barpolar\"}],\"carpet\":[{\"aaxis\":{\"endlinecolor\":\"#2a3f5f\",\"gridcolor\":\"white\",\"linecolor\":\"white\",\"minorgridcolor\":\"white\",\"startlinecolor\":\"#2a3f5f\"},\"baxis\":{\"endlinecolor\":\"#2a3f5f\",\"gridcolor\":\"white\",\"linecolor\":\"white\",\"minorgridcolor\":\"white\",\"startlinecolor\":\"#2a3f5f\"},\"type\":\"carpet\"}],\"choropleth\":[{\"colorbar\":{\"outlinewidth\":0,\"ticks\":\"\"},\"type\":\"choropleth\"}],\"contour\":[{\"colorbar\":{\"outlinewidth\":0,\"ticks\":\"\"},\"colorscale\":[[0.0,\"#0d0887\"],[0.1111111111111111,\"#46039f\"],[0.2222222222222222,\"#7201a8\"],[0.3333333333333333,\"#9c179e\"],[0.4444444444444444,\"#bd3786\"],[0.5555555555555556,\"#d8576b\"],[0.6666666666666666,\"#ed7953\"],[0.7777777777777778,\"#fb9f3a\"],[0.8888888888888888,\"#fdca26\"],[1.0,\"#f0f921\"]],\"type\":\"contour\"}],\"contourcarpet\":[{\"colorbar\":{\"outlinewidth\":0,\"ticks\":\"\"},\"type\":\"contourcarpet\"}],\"heatmap\":[{\"colorbar\":{\"outlinewidth\":0,\"ticks\":\"\"},\"colorscale\":[[0.0,\"#0d0887\"],[0.1111111111111111,\"#46039f\"],[0.2222222222222222,\"#7201a8\"],[0.3333333333333333,\"#9c179e\"],[0.4444444444444444,\"#bd3786\"],[0.5555555555555556,\"#d8576b\"],[0.6666666666666666,\"#ed7953\"],[0.7777777777777778,\"#fb9f3a\"],[0.8888888888888888,\"#fdca26\"],[1.0,\"#f0f921\"]],\"type\":\"heatmap\"}],\"heatmapgl\":[{\"colorbar\":{\"outlinewidth\":0,\"ticks\":\"\"},\"colorscale\":[[0.0,\"#0d0887\"],[0.1111111111111111,\"#46039f\"],[0.2222222222222222,\"#7201a8\"],[0.3333333333333333,\"#9c179e\"],[0.4444444444444444,\"#bd3786\"],[0.5555555555555556,\"#d8576b\"],[0.6666666666666666,\"#ed7953\"],[0.7777777777777778,\"#fb9f3a\"],[0.8888888888888888,\"#fdca26\"],[1.0,\"#f0f921\"]],\"type\":\"heatmapgl\"}],\"histogram\":[{\"marker\":{\"pattern\":{\"fillmode\":\"overlay\",\"size\":10,\"solidity\":0.2}},\"type\":\"histogram\"}],\"histogram2d\":[{\"colorbar\":{\"outlinewidth\":0,\"ticks\":\"\"},\"colorscale\":[[0.0,\"#0d0887\"],[0.1111111111111111,\"#46039f\"],[0.2222222222222222,\"#7201a8\"],[0.3333333333333333,\"#9c179e\"],[0.4444444444444444,\"#bd3786\"],[0.5555555555555556,\"#d8576b\"],[0.6666666666666666,\"#ed7953\"],[0.7777777777777778,\"#fb9f3a\"],[0.8888888888888888,\"#fdca26\"],[1.0,\"#f0f921\"]],\"type\":\"histogram2d\"}],\"histogram2dcontour\":[{\"colorbar\":{\"outlinewidth\":0,\"ticks\":\"\"},\"colorscale\":[[0.0,\"#0d0887\"],[0.1111111111111111,\"#46039f\"],[0.2222222222222222,\"#7201a8\"],[0.3333333333333333,\"#9c179e\"],[0.4444444444444444,\"#bd3786\"],[0.5555555555555556,\"#d8576b\"],[0.6666666666666666,\"#ed7953\"],[0.7777777777777778,\"#fb9f3a\"],[0.8888888888888888,\"#fdca26\"],[1.0,\"#f0f921\"]],\"type\":\"histogram2dcontour\"}],\"mesh3d\":[{\"colorbar\":{\"outlinewidth\":0,\"ticks\":\"\"},\"type\":\"mesh3d\"}],\"parcoords\":[{\"line\":{\"colorbar\":{\"outlinewidth\":0,\"ticks\":\"\"}},\"type\":\"parcoords\"}],\"pie\":[{\"automargin\":true,\"type\":\"pie\"}],\"scatter\":[{\"marker\":{\"colorbar\":{\"outlinewidth\":0,\"ticks\":\"\"}},\"type\":\"scatter\"}],\"scatter3d\":[{\"line\":{\"colorbar\":{\"outlinewidth\":0,\"ticks\":\"\"}},\"marker\":{\"colorbar\":{\"outlinewidth\":0,\"ticks\":\"\"}},\"type\":\"scatter3d\"}],\"scattercarpet\":[{\"marker\":{\"colorbar\":{\"outlinewidth\":0,\"ticks\":\"\"}},\"type\":\"scattercarpet\"}],\"scattergeo\":[{\"marker\":{\"colorbar\":{\"outlinewidth\":0,\"ticks\":\"\"}},\"type\":\"scattergeo\"}],\"scattergl\":[{\"marker\":{\"colorbar\":{\"outlinewidth\":0,\"ticks\":\"\"}},\"type\":\"scattergl\"}],\"scattermapbox\":[{\"marker\":{\"colorbar\":{\"outlinewidth\":0,\"ticks\":\"\"}},\"type\":\"scattermapbox\"}],\"scatterpolar\":[{\"marker\":{\"colorbar\":{\"outlinewidth\":0,\"ticks\":\"\"}},\"type\":\"scatterpolar\"}],\"scatterpolargl\":[{\"marker\":{\"colorbar\":{\"outlinewidth\":0,\"ticks\":\"\"}},\"type\":\"scatterpolargl\"}],\"scatterternary\":[{\"marker\":{\"colorbar\":{\"outlinewidth\":0,\"ticks\":\"\"}},\"type\":\"scatterternary\"}],\"surface\":[{\"colorbar\":{\"outlinewidth\":0,\"ticks\":\"\"},\"colorscale\":[[0.0,\"#0d0887\"],[0.1111111111111111,\"#46039f\"],[0.2222222222222222,\"#7201a8\"],[0.3333333333333333,\"#9c179e\"],[0.4444444444444444,\"#bd3786\"],[0.5555555555555556,\"#d8576b\"],[0.6666666666666666,\"#ed7953\"],[0.7777777777777778,\"#fb9f3a\"],[0.8888888888888888,\"#fdca26\"],[1.0,\"#f0f921\"]],\"type\":\"surface\"}],\"table\":[{\"cells\":{\"fill\":{\"color\":\"#EBF0F8\"},\"line\":{\"color\":\"white\"}},\"header\":{\"fill\":{\"color\":\"#C8D4E3\"},\"line\":{\"color\":\"white\"}},\"type\":\"table\"}]},\"layout\":{\"annotationdefaults\":{\"arrowcolor\":\"#2a3f5f\",\"arrowhead\":0,\"arrowwidth\":1},\"autotypenumbers\":\"strict\",\"coloraxis\":{\"colorbar\":{\"outlinewidth\":0,\"ticks\":\"\"}},\"colorscale\":{\"diverging\":[[0,\"#8e0152\"],[0.1,\"#c51b7d\"],[0.2,\"#de77ae\"],[0.3,\"#f1b6da\"],[0.4,\"#fde0ef\"],[0.5,\"#f7f7f7\"],[0.6,\"#e6f5d0\"],[0.7,\"#b8e186\"],[0.8,\"#7fbc41\"],[0.9,\"#4d9221\"],[1,\"#276419\"]],\"sequential\":[[0.0,\"#0d0887\"],[0.1111111111111111,\"#46039f\"],[0.2222222222222222,\"#7201a8\"],[0.3333333333333333,\"#9c179e\"],[0.4444444444444444,\"#bd3786\"],[0.5555555555555556,\"#d8576b\"],[0.6666666666666666,\"#ed7953\"],[0.7777777777777778,\"#fb9f3a\"],[0.8888888888888888,\"#fdca26\"],[1.0,\"#f0f921\"]],\"sequentialminus\":[[0.0,\"#0d0887\"],[0.1111111111111111,\"#46039f\"],[0.2222222222222222,\"#7201a8\"],[0.3333333333333333,\"#9c179e\"],[0.4444444444444444,\"#bd3786\"],[0.5555555555555556,\"#d8576b\"],[0.6666666666666666,\"#ed7953\"],[0.7777777777777778,\"#fb9f3a\"],[0.8888888888888888,\"#fdca26\"],[1.0,\"#f0f921\"]]},\"colorway\":[\"#636efa\",\"#EF553B\",\"#00cc96\",\"#ab63fa\",\"#FFA15A\",\"#19d3f3\",\"#FF6692\",\"#B6E880\",\"#FF97FF\",\"#FECB52\"],\"font\":{\"color\":\"#2a3f5f\"},\"geo\":{\"bgcolor\":\"white\",\"lakecolor\":\"white\",\"landcolor\":\"#E5ECF6\",\"showlakes\":true,\"showland\":true,\"subunitcolor\":\"white\"},\"hoverlabel\":{\"align\":\"left\"},\"hovermode\":\"closest\",\"mapbox\":{\"style\":\"light\"},\"paper_bgcolor\":\"white\",\"plot_bgcolor\":\"#E5ECF6\",\"polar\":{\"angularaxis\":{\"gridcolor\":\"white\",\"linecolor\":\"white\",\"ticks\":\"\"},\"bgcolor\":\"#E5ECF6\",\"radialaxis\":{\"gridcolor\":\"white\",\"linecolor\":\"white\",\"ticks\":\"\"}},\"scene\":{\"xaxis\":{\"backgroundcolor\":\"#E5ECF6\",\"gridcolor\":\"white\",\"gridwidth\":2,\"linecolor\":\"white\",\"showbackground\":true,\"ticks\":\"\",\"zerolinecolor\":\"white\"},\"yaxis\":{\"backgroundcolor\":\"#E5ECF6\",\"gridcolor\":\"white\",\"gridwidth\":2,\"linecolor\":\"white\",\"showbackground\":true,\"ticks\":\"\",\"zerolinecolor\":\"white\"},\"zaxis\":{\"backgroundcolor\":\"#E5ECF6\",\"gridcolor\":\"white\",\"gridwidth\":2,\"linecolor\":\"white\",\"showbackground\":true,\"ticks\":\"\",\"zerolinecolor\":\"white\"}},\"shapedefaults\":{\"line\":{\"color\":\"#2a3f5f\"}},\"ternary\":{\"aaxis\":{\"gridcolor\":\"white\",\"linecolor\":\"white\",\"ticks\":\"\"},\"baxis\":{\"gridcolor\":\"white\",\"linecolor\":\"white\",\"ticks\":\"\"},\"bgcolor\":\"#E5ECF6\",\"caxis\":{\"gridcolor\":\"white\",\"linecolor\":\"white\",\"ticks\":\"\"}},\"title\":{\"x\":0.05},\"xaxis\":{\"automargin\":true,\"gridcolor\":\"white\",\"linecolor\":\"white\",\"ticks\":\"\",\"title\":{\"standoff\":15},\"zerolinecolor\":\"white\",\"zerolinewidth\":2},\"yaxis\":{\"automargin\":true,\"gridcolor\":\"white\",\"linecolor\":\"white\",\"ticks\":\"\",\"title\":{\"standoff\":15},\"zerolinecolor\":\"white\",\"zerolinewidth\":2}}},\"xaxis\":{\"anchor\":\"y\",\"domain\":[0.0,1.0],\"title\":{\"text\":\"tot_cases\"}},\"yaxis\":{\"anchor\":\"x\",\"domain\":[0.0,1.0],\"title\":{\"text\":\"sales\"}},\"legend\":{\"title\":{\"text\":\"wh_id\"},\"tracegroupgap\":0},\"title\":{\"text\":\"cases vs sales\"}},                        {\"responsive\": true}                    ).then(function(){\n",
       "                            \n",
       "var gd = document.getElementById('173260e3-5156-47cd-9897-e3e64161603d');\n",
       "var x = new MutationObserver(function (mutations, observer) {{\n",
       "        var display = window.getComputedStyle(gd).display;\n",
       "        if (!display || display === 'none') {{\n",
       "            console.log([gd, 'removed!']);\n",
       "            Plotly.purge(gd);\n",
       "            observer.disconnect();\n",
       "        }}\n",
       "}});\n",
       "\n",
       "// Listen for the removal of the full notebook cells\n",
       "var notebookContainer = gd.closest('#notebook-container');\n",
       "if (notebookContainer) {{\n",
       "    x.observe(notebookContainer, {childList: true});\n",
       "}}\n",
       "\n",
       "// Listen for the clearing of the current output cell\n",
       "var outputEl = gd.closest('.output');\n",
       "if (outputEl) {{\n",
       "    x.observe(outputEl, {childList: true});\n",
       "}}\n",
       "\n",
       "                        })                };                });            </script>        </div>"
      ]
     },
     "metadata": {},
     "output_type": "display_data"
    }
   ],
   "source": [
    "cov['wh_id']=cov['wh_id'].astype('object')\n",
    "fig = px.scatter(cov[(cov.wh_id==1)|(cov.wh_id==2)|(cov.wh_id==6)], x=\"tot_cases\", y=\"sales\",\n",
    "                 title='cases vs sales',color='wh_id')\n",
    "fig.show()"
   ]
  },
  {
   "cell_type": "markdown",
   "metadata": {},
   "source": [
    "## Training"
   ]
  },
  {
   "cell_type": "code",
   "execution_count": 132,
   "metadata": {},
   "outputs": [
    {
     "data": {
      "text/html": [
       "<div>\n",
       "<style scoped>\n",
       "    .dataframe tbody tr th:only-of-type {\n",
       "        vertical-align: middle;\n",
       "    }\n",
       "\n",
       "    .dataframe tbody tr th {\n",
       "        vertical-align: top;\n",
       "    }\n",
       "\n",
       "    .dataframe thead th {\n",
       "        text-align: right;\n",
       "    }\n",
       "</style>\n",
       "<table border=\"1\" class=\"dataframe\">\n",
       "  <thead>\n",
       "    <tr style=\"text-align: right;\">\n",
       "      <th></th>\n",
       "      <th>date</th>\n",
       "      <th>wh_id</th>\n",
       "      <th>sales</th>\n",
       "      <th>city</th>\n",
       "      <th>state</th>\n",
       "      <th>tot_cases</th>\n",
       "      <th>conf_cases</th>\n",
       "      <th>month</th>\n",
       "      <th>zip_code</th>\n",
       "      <th>state_name</th>\n",
       "      <th>zip</th>\n",
       "      <th>population</th>\n",
       "      <th>city_weight</th>\n",
       "      <th>num_cities</th>\n",
       "      <th>avg_tot_cases/num_cities</th>\n",
       "      <th>avg_conf_cases/num_cities</th>\n",
       "      <th>avg_tot_cases/city_weight</th>\n",
       "      <th>avg_conf_cases/city_weight</th>\n",
       "    </tr>\n",
       "  </thead>\n",
       "  <tbody>\n",
       "    <tr>\n",
       "      <th>645746</th>\n",
       "      <td>2021-12-03</td>\n",
       "      <td>1232.0</td>\n",
       "      <td>157</td>\n",
       "      <td>COLUMBIA</td>\n",
       "      <td>SC</td>\n",
       "      <td>537779.0</td>\n",
       "      <td>456553.0</td>\n",
       "      <td>12.0</td>\n",
       "      <td>29210.0</td>\n",
       "      <td>SOUTH CAROLINA</td>\n",
       "      <td>29210.0</td>\n",
       "      <td>40488.0</td>\n",
       "      <td>0.001921</td>\n",
       "      <td>6.0</td>\n",
       "      <td>89629.833333</td>\n",
       "      <td>76092.166667</td>\n",
       "      <td>1033.110008</td>\n",
       "      <td>877.069342</td>\n",
       "    </tr>\n",
       "    <tr>\n",
       "      <th>645747</th>\n",
       "      <td>2021-12-03</td>\n",
       "      <td>1232.0</td>\n",
       "      <td>157</td>\n",
       "      <td>COLUMBIA</td>\n",
       "      <td>MD</td>\n",
       "      <td>392581.0</td>\n",
       "      <td>370401.0</td>\n",
       "      <td>12.0</td>\n",
       "      <td>21075.0</td>\n",
       "      <td>MARYLAND</td>\n",
       "      <td>21075.0</td>\n",
       "      <td>34939.0</td>\n",
       "      <td>0.001658</td>\n",
       "      <td>11.0</td>\n",
       "      <td>35689.181818</td>\n",
       "      <td>33672.818182</td>\n",
       "      <td>650.812900</td>\n",
       "      <td>614.043342</td>\n",
       "    </tr>\n",
       "    <tr>\n",
       "      <th>645949</th>\n",
       "      <td>2021-12-03</td>\n",
       "      <td>1000.0</td>\n",
       "      <td>12</td>\n",
       "      <td>COLUMBIA</td>\n",
       "      <td>SC</td>\n",
       "      <td>537779.0</td>\n",
       "      <td>456553.0</td>\n",
       "      <td>12.0</td>\n",
       "      <td>29210.0</td>\n",
       "      <td>SOUTH CAROLINA</td>\n",
       "      <td>29210.0</td>\n",
       "      <td>40488.0</td>\n",
       "      <td>0.001921</td>\n",
       "      <td>6.0</td>\n",
       "      <td>89629.833333</td>\n",
       "      <td>76092.166667</td>\n",
       "      <td>1033.110008</td>\n",
       "      <td>877.069342</td>\n",
       "    </tr>\n",
       "    <tr>\n",
       "      <th>645950</th>\n",
       "      <td>2021-12-03</td>\n",
       "      <td>1000.0</td>\n",
       "      <td>12</td>\n",
       "      <td>COLUMBIA</td>\n",
       "      <td>MD</td>\n",
       "      <td>392581.0</td>\n",
       "      <td>370401.0</td>\n",
       "      <td>12.0</td>\n",
       "      <td>21075.0</td>\n",
       "      <td>MARYLAND</td>\n",
       "      <td>21075.0</td>\n",
       "      <td>34939.0</td>\n",
       "      <td>0.001658</td>\n",
       "      <td>11.0</td>\n",
       "      <td>35689.181818</td>\n",
       "      <td>33672.818182</td>\n",
       "      <td>650.812900</td>\n",
       "      <td>614.043342</td>\n",
       "    </tr>\n",
       "  </tbody>\n",
       "</table>\n",
       "</div>"
      ],
      "text/plain": [
       "             date   wh_id  sales      city state  tot_cases  conf_cases  \\\n",
       "645746 2021-12-03  1232.0    157  COLUMBIA    SC   537779.0    456553.0   \n",
       "645747 2021-12-03  1232.0    157  COLUMBIA    MD   392581.0    370401.0   \n",
       "645949 2021-12-03  1000.0     12  COLUMBIA    SC   537779.0    456553.0   \n",
       "645950 2021-12-03  1000.0     12  COLUMBIA    MD   392581.0    370401.0   \n",
       "\n",
       "        month  zip_code      state_name      zip  population  city_weight  \\\n",
       "645746   12.0   29210.0  SOUTH CAROLINA  29210.0     40488.0     0.001921   \n",
       "645747   12.0   21075.0        MARYLAND  21075.0     34939.0     0.001658   \n",
       "645949   12.0   29210.0  SOUTH CAROLINA  29210.0     40488.0     0.001921   \n",
       "645950   12.0   21075.0        MARYLAND  21075.0     34939.0     0.001658   \n",
       "\n",
       "        num_cities  avg_tot_cases/num_cities  avg_conf_cases/num_cities  \\\n",
       "645746         6.0              89629.833333               76092.166667   \n",
       "645747        11.0              35689.181818               33672.818182   \n",
       "645949         6.0              89629.833333               76092.166667   \n",
       "645950        11.0              35689.181818               33672.818182   \n",
       "\n",
       "        avg_tot_cases/city_weight  avg_conf_cases/city_weight  \n",
       "645746                1033.110008                  877.069342  \n",
       "645747                 650.812900                  614.043342  \n",
       "645949                1033.110008                  877.069342  \n",
       "645950                 650.812900                  614.043342  "
      ]
     },
     "execution_count": 132,
     "metadata": {},
     "output_type": "execute_result"
    }
   ],
   "source": [
    "z[(z.date == pd.to_datetime('12/03/2021')) & (z.city == 'COLUMBIA')]"
   ]
  },
  {
   "cell_type": "code",
   "execution_count": 133,
   "metadata": {},
   "outputs": [],
   "source": [
    "values,counts = np.unique(cidf_final.city,return_counts=True)"
   ]
  },
  {
   "cell_type": "code",
   "execution_count": 134,
   "metadata": {},
   "outputs": [
    {
     "data": {
      "text/plain": [
       "(array(['AURORA', 'AVON', 'BURBANK', 'COLUMBIA', 'COMMERCE', 'CYPRESS',\n",
       "        'DALLAS', 'E', 'EAST', 'EL', 'EVERETT', 'FORT', 'GRAND', 'HAYWARD',\n",
       "        'LA', 'LAKE', 'LANCASTER', 'LINCOLN', 'LYNNWOOD', 'MIAMI', 'MT',\n",
       "        'N', 'NE', 'NEW', 'NORTH', 'NORWALK', 'NW', 'PALM', 'RANCHO',\n",
       "        'ROCHESTER', 'ROSEVILLE', 'S', 'SACRAMENTO', 'SAN', 'SANTA', 'SE',\n",
       "        'SOUTH', 'ST', 'SW', 'UNION', 'W', 'WEST', 'WESTMINSTER',\n",
       "        'WOODLAND'], dtype=object),\n",
       " array([ 2,  2,  2,  2,  2,  2,  3,  7,  3,  2,  2,  4,  2,  2,  4,  3,  2,\n",
       "         2,  2,  2,  4,  6,  4,  4,  3,  2,  4,  2,  3,  2,  2,  5,  2, 10,\n",
       "         5,  4,  2,  5,  4,  2,  8,  4,  2,  2], dtype=int64))"
      ]
     },
     "execution_count": 134,
     "metadata": {},
     "output_type": "execute_result"
    }
   ],
   "source": [
    "values[counts>1],counts[counts>1]"
   ]
  },
  {
   "cell_type": "markdown",
   "metadata": {},
   "source": [
    "### DATA SPLITTING"
   ]
  },
  {
   "cell_type": "code",
   "execution_count": 135,
   "metadata": {},
   "outputs": [],
   "source": [
    "import torch\n",
    "from sklearn.preprocessing import MinMaxScaler, OneHotEncoder\n",
    "from sklearn.model_selection import train_test_split\n",
    "import torch.nn.functional as F\n",
    "import torch.utils.data as utils\n",
    "from torch.utils.data import DataLoader\n",
    "from torch.utils.data import Dataset\n",
    "from torch.utils.data import random_split\n",
    "import torch.nn as nn"
   ]
  },
  {
   "cell_type": "code",
   "execution_count": null,
   "metadata": {},
   "outputs": [],
   "source": [
    "# target_sensor = \"Austin\"\n",
    "# features = list(df.columns.difference([target_sensor]))\n",
    "\n",
    "# forecast_lead = 15\n",
    "# target = f\"{target_sensor}_lead{forecast_lead}\"\n",
    "\n",
    "# df[target] = df[target_sensor].shift(-forecast_lead)\n",
    "# df = df.iloc[:-forecast_lead]"
   ]
  },
  {
   "cell_type": "code",
   "execution_count": null,
   "metadata": {},
   "outputs": [],
   "source": []
  }
 ],
 "metadata": {
  "colab": {
   "collapsed_sections": [],
   "provenance": []
  },
  "kernelspec": {
   "display_name": "Python 3 (ipykernel)",
   "language": "python",
   "name": "python3"
  },
  "language_info": {
   "codemirror_mode": {
    "name": "ipython",
    "version": 3
   },
   "file_extension": ".py",
   "mimetype": "text/x-python",
   "name": "python",
   "nbconvert_exporter": "python",
   "pygments_lexer": "ipython3",
   "version": "3.9.7"
  }
 },
 "nbformat": 4,
 "nbformat_minor": 4
}
