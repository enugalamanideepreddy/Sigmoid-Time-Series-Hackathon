{
 "cells": [
  {
   "cell_type": "markdown",
   "metadata": {
    "id": "h0YpNx_lljPK"
   },
   "source": [
    "## DATA IMPORTING"
   ]
  },
  {
   "cell_type": "code",
   "execution_count": 43,
   "metadata": {
    "id": "8pWd4xR0lgKk"
   },
   "outputs": [],
   "source": [
    "import numpy as np\n",
    "import pandas as pd\n",
    "import matplotlib.pyplot as plt\n",
    "import plotly.express as px\n",
    "import math"
   ]
  },
  {
   "cell_type": "code",
   "execution_count": 44,
   "metadata": {},
   "outputs": [
    {
     "data": {
      "text/html": [
       "<div>\n",
       "<style scoped>\n",
       "    .dataframe tbody tr th:only-of-type {\n",
       "        vertical-align: middle;\n",
       "    }\n",
       "\n",
       "    .dataframe tbody tr th {\n",
       "        vertical-align: top;\n",
       "    }\n",
       "\n",
       "    .dataframe thead th {\n",
       "        text-align: right;\n",
       "    }\n",
       "</style>\n",
       "<table border=\"1\" class=\"dataframe\">\n",
       "  <thead>\n",
       "    <tr style=\"text-align: right;\">\n",
       "      <th></th>\n",
       "      <th>date</th>\n",
       "      <th>wh_id</th>\n",
       "      <th>sales</th>\n",
       "    </tr>\n",
       "  </thead>\n",
       "  <tbody>\n",
       "    <tr>\n",
       "      <th>0</th>\n",
       "      <td>02/01/19</td>\n",
       "      <td>1.0</td>\n",
       "      <td>44</td>\n",
       "    </tr>\n",
       "    <tr>\n",
       "      <th>1</th>\n",
       "      <td>03/01/19</td>\n",
       "      <td>1.0</td>\n",
       "      <td>48</td>\n",
       "    </tr>\n",
       "    <tr>\n",
       "      <th>2</th>\n",
       "      <td>04/01/19</td>\n",
       "      <td>1.0</td>\n",
       "      <td>36</td>\n",
       "    </tr>\n",
       "    <tr>\n",
       "      <th>3</th>\n",
       "      <td>05/01/19</td>\n",
       "      <td>1.0</td>\n",
       "      <td>40</td>\n",
       "    </tr>\n",
       "    <tr>\n",
       "      <th>4</th>\n",
       "      <td>06/01/19</td>\n",
       "      <td>1.0</td>\n",
       "      <td>80</td>\n",
       "    </tr>\n",
       "    <tr>\n",
       "      <th>...</th>\n",
       "      <td>...</td>\n",
       "      <td>...</td>\n",
       "      <td>...</td>\n",
       "    </tr>\n",
       "    <tr>\n",
       "      <th>453210</th>\n",
       "      <td>12/03/21</td>\n",
       "      <td>97.0</td>\n",
       "      <td>84</td>\n",
       "    </tr>\n",
       "    <tr>\n",
       "      <th>453211</th>\n",
       "      <td>13/03/21</td>\n",
       "      <td>97.0</td>\n",
       "      <td>60</td>\n",
       "    </tr>\n",
       "    <tr>\n",
       "      <th>453212</th>\n",
       "      <td>14/03/21</td>\n",
       "      <td>97.0</td>\n",
       "      <td>81</td>\n",
       "    </tr>\n",
       "    <tr>\n",
       "      <th>453213</th>\n",
       "      <td>15/03/21</td>\n",
       "      <td>97.0</td>\n",
       "      <td>90</td>\n",
       "    </tr>\n",
       "    <tr>\n",
       "      <th>453214</th>\n",
       "      <td>16/03/21</td>\n",
       "      <td>97.0</td>\n",
       "      <td>48</td>\n",
       "    </tr>\n",
       "  </tbody>\n",
       "</table>\n",
       "<p>449995 rows × 3 columns</p>\n",
       "</div>"
      ],
      "text/plain": [
       "            date  wh_id  sales\n",
       "0       02/01/19    1.0     44\n",
       "1       03/01/19    1.0     48\n",
       "2       04/01/19    1.0     36\n",
       "3       05/01/19    1.0     40\n",
       "4       06/01/19    1.0     80\n",
       "...          ...    ...    ...\n",
       "453210  12/03/21   97.0     84\n",
       "453211  13/03/21   97.0     60\n",
       "453212  14/03/21   97.0     81\n",
       "453213  15/03/21   97.0     90\n",
       "453214  16/03/21   97.0     48\n",
       "\n",
       "[449995 rows x 3 columns]"
      ]
     },
     "execution_count": 44,
     "metadata": {},
     "output_type": "execute_result"
    }
   ],
   "source": [
    "df1 = pd.read_csv('train.csv').dropna() #Training Dataset\n",
    "df2 = pd.read_csv('test.csv') #Testing dataset\n",
    "codf = pd.read_csv('US_COVID_data_state_level.csv') #Covid data of cities\n",
    "cidf = pd.read_csv('city_details.csv') #Cities data\n",
    "wadf = pd.read_csv('warehouse_mapping.csv')"
   ]
  },
  {
   "cell_type": "code",
   "execution_count": null,
   "metadata": {},
   "outputs": [],
   "source": [
    "df1['date']=pd.to_datetime(df1.date)\n",
    "df1.sort_values('date',inplace = True)\n",
    "df1.index = np.arange(df1.shape[0])\n",
    "codf['date']=pd.to_datetime(codf.date)\n",
    "codf.sort_values('date',inplace = True)\n",
    "codf.index = np.arange(codf.shape[0])"
   ]
  },
  {
   "cell_type": "markdown",
   "metadata": {
    "tags": []
   },
   "source": [
    "## Predicting Confirmed Cases"
   ]
  },
  {
   "cell_type": "code",
   "execution_count": null,
   "metadata": {
    "id": "rTwqMPElsOYf"
   },
   "outputs": [],
   "source": [
    "corl = codf[codf.conf_cases.notna()] #Non-empty cells of confirmed cases"
   ]
  },
  {
   "cell_type": "code",
   "execution_count": null,
   "metadata": {
    "id": "477hCcalt6DZ"
   },
   "outputs": [],
   "source": [
    "a,b = np.array(list(corl.tot_cases)),np.array(list(corl.conf_cases))"
   ]
  },
  {
   "cell_type": "code",
   "execution_count": null,
   "metadata": {},
   "outputs": [],
   "source": [
    "from sklearn.ensemble import RandomForestRegressor \n",
    "# algo=RandomForestRegressor()\n",
    "# ratio = []\n",
    "# for i in range(len(a)):\n",
    "#     if b[i]!=0:\n",
    "#         ratio.append((a[i]-b[i])/(b[i]))\n",
    "#     else:\n",
    "#         ratio.append(0)\n",
    "# a=np.array(a).reshape(-1,1)\n",
    "# algo.fit(a,ratio)"
   ]
  },
  {
   "cell_type": "code",
   "execution_count": null,
   "metadata": {},
   "outputs": [],
   "source": [
    "# for i in codf[codf.conf_cases.isna()].index:\n",
    "#     codf.iloc[i,3] = int(np.array(codf.iloc[i,2])/(1+algo.predict(np.array(codf.iloc[i,2].reshape(1,-1)))))"
   ]
  },
  {
   "cell_type": "code",
   "execution_count": 16,
   "metadata": {},
   "outputs": [
    {
     "data": {
      "text/html": [
       "<style>#sk-container-id-1 {color: black;background-color: white;}#sk-container-id-1 pre{padding: 0;}#sk-container-id-1 div.sk-toggleable {background-color: white;}#sk-container-id-1 label.sk-toggleable__label {cursor: pointer;display: block;width: 100%;margin-bottom: 0;padding: 0.3em;box-sizing: border-box;text-align: center;}#sk-container-id-1 label.sk-toggleable__label-arrow:before {content: \"▸\";float: left;margin-right: 0.25em;color: #696969;}#sk-container-id-1 label.sk-toggleable__label-arrow:hover:before {color: black;}#sk-container-id-1 div.sk-estimator:hover label.sk-toggleable__label-arrow:before {color: black;}#sk-container-id-1 div.sk-toggleable__content {max-height: 0;max-width: 0;overflow: hidden;text-align: left;background-color: #f0f8ff;}#sk-container-id-1 div.sk-toggleable__content pre {margin: 0.2em;color: black;border-radius: 0.25em;background-color: #f0f8ff;}#sk-container-id-1 input.sk-toggleable__control:checked~div.sk-toggleable__content {max-height: 200px;max-width: 100%;overflow: auto;}#sk-container-id-1 input.sk-toggleable__control:checked~label.sk-toggleable__label-arrow:before {content: \"▾\";}#sk-container-id-1 div.sk-estimator input.sk-toggleable__control:checked~label.sk-toggleable__label {background-color: #d4ebff;}#sk-container-id-1 div.sk-label input.sk-toggleable__control:checked~label.sk-toggleable__label {background-color: #d4ebff;}#sk-container-id-1 input.sk-hidden--visually {border: 0;clip: rect(1px 1px 1px 1px);clip: rect(1px, 1px, 1px, 1px);height: 1px;margin: -1px;overflow: hidden;padding: 0;position: absolute;width: 1px;}#sk-container-id-1 div.sk-estimator {font-family: monospace;background-color: #f0f8ff;border: 1px dotted black;border-radius: 0.25em;box-sizing: border-box;margin-bottom: 0.5em;}#sk-container-id-1 div.sk-estimator:hover {background-color: #d4ebff;}#sk-container-id-1 div.sk-parallel-item::after {content: \"\";width: 100%;border-bottom: 1px solid gray;flex-grow: 1;}#sk-container-id-1 div.sk-label:hover label.sk-toggleable__label {background-color: #d4ebff;}#sk-container-id-1 div.sk-serial::before {content: \"\";position: absolute;border-left: 1px solid gray;box-sizing: border-box;top: 0;bottom: 0;left: 50%;z-index: 0;}#sk-container-id-1 div.sk-serial {display: flex;flex-direction: column;align-items: center;background-color: white;padding-right: 0.2em;padding-left: 0.2em;position: relative;}#sk-container-id-1 div.sk-item {position: relative;z-index: 1;}#sk-container-id-1 div.sk-parallel {display: flex;align-items: stretch;justify-content: center;background-color: white;position: relative;}#sk-container-id-1 div.sk-item::before, #sk-container-id-1 div.sk-parallel-item::before {content: \"\";position: absolute;border-left: 1px solid gray;box-sizing: border-box;top: 0;bottom: 0;left: 50%;z-index: -1;}#sk-container-id-1 div.sk-parallel-item {display: flex;flex-direction: column;z-index: 1;position: relative;background-color: white;}#sk-container-id-1 div.sk-parallel-item:first-child::after {align-self: flex-end;width: 50%;}#sk-container-id-1 div.sk-parallel-item:last-child::after {align-self: flex-start;width: 50%;}#sk-container-id-1 div.sk-parallel-item:only-child::after {width: 0;}#sk-container-id-1 div.sk-dashed-wrapped {border: 1px dashed gray;margin: 0 0.4em 0.5em 0.4em;box-sizing: border-box;padding-bottom: 0.4em;background-color: white;}#sk-container-id-1 div.sk-label label {font-family: monospace;font-weight: bold;display: inline-block;line-height: 1.2em;}#sk-container-id-1 div.sk-label-container {text-align: center;}#sk-container-id-1 div.sk-container {/* jupyter's `normalize.less` sets `[hidden] { display: none; }` but bootstrap.min.css set `[hidden] { display: none !important; }` so we also need the `!important` here to be able to override the default hidden behavior on the sphinx rendered scikit-learn.org. See: https://github.com/scikit-learn/scikit-learn/issues/21755 */display: inline-block !important;position: relative;}#sk-container-id-1 div.sk-text-repr-fallback {display: none;}</style><div id=\"sk-container-id-1\" class=\"sk-top-container\"><div class=\"sk-text-repr-fallback\"><pre>RandomForestRegressor()</pre><b>In a Jupyter environment, please rerun this cell to show the HTML representation or trust the notebook. <br />On GitHub, the HTML representation is unable to render, please try loading this page with nbviewer.org.</b></div><div class=\"sk-container\" hidden><div class=\"sk-item\"><div class=\"sk-estimator sk-toggleable\"><input class=\"sk-toggleable__control sk-hidden--visually\" id=\"sk-estimator-id-1\" type=\"checkbox\" checked><label for=\"sk-estimator-id-1\" class=\"sk-toggleable__label sk-toggleable__label-arrow\">RandomForestRegressor</label><div class=\"sk-toggleable__content\"><pre>RandomForestRegressor()</pre></div></div></div></div></div>"
      ],
      "text/plain": [
       "RandomForestRegressor()"
      ]
     },
     "execution_count": 16,
     "metadata": {},
     "output_type": "execute_result"
    }
   ],
   "source": [
    "algo=RandomForestRegressor()\n",
    "algo.fit(a.reshape(-1,1),b)"
   ]
  },
  {
   "cell_type": "code",
   "execution_count": 17,
   "metadata": {},
   "outputs": [
    {
     "data": {
      "text/html": [
       "<div>\n",
       "<style scoped>\n",
       "    .dataframe tbody tr th:only-of-type {\n",
       "        vertical-align: middle;\n",
       "    }\n",
       "\n",
       "    .dataframe tbody tr th {\n",
       "        vertical-align: top;\n",
       "    }\n",
       "\n",
       "    .dataframe thead th {\n",
       "        text-align: right;\n",
       "    }\n",
       "</style>\n",
       "<table border=\"1\" class=\"dataframe\">\n",
       "  <thead>\n",
       "    <tr style=\"text-align: right;\">\n",
       "      <th></th>\n",
       "      <th>date</th>\n",
       "      <th>state</th>\n",
       "      <th>tot_cases</th>\n",
       "      <th>conf_cases</th>\n",
       "    </tr>\n",
       "  </thead>\n",
       "  <tbody>\n",
       "    <tr>\n",
       "      <th>0</th>\n",
       "      <td>2020-01-02</td>\n",
       "      <td>PA</td>\n",
       "      <td>0</td>\n",
       "      <td>NaN</td>\n",
       "    </tr>\n",
       "    <tr>\n",
       "      <th>1</th>\n",
       "      <td>2020-01-02</td>\n",
       "      <td>DE</td>\n",
       "      <td>0</td>\n",
       "      <td>NaN</td>\n",
       "    </tr>\n",
       "    <tr>\n",
       "      <th>2</th>\n",
       "      <td>2020-01-02</td>\n",
       "      <td>NJ</td>\n",
       "      <td>0</td>\n",
       "      <td>NaN</td>\n",
       "    </tr>\n",
       "    <tr>\n",
       "      <th>3</th>\n",
       "      <td>2020-01-02</td>\n",
       "      <td>RI</td>\n",
       "      <td>0</td>\n",
       "      <td>NaN</td>\n",
       "    </tr>\n",
       "    <tr>\n",
       "      <th>4</th>\n",
       "      <td>2020-01-02</td>\n",
       "      <td>VI</td>\n",
       "      <td>0</td>\n",
       "      <td>NaN</td>\n",
       "    </tr>\n",
       "  </tbody>\n",
       "</table>\n",
       "</div>"
      ],
      "text/plain": [
       "        date state  tot_cases  conf_cases\n",
       "0 2020-01-02    PA          0         NaN\n",
       "1 2020-01-02    DE          0         NaN\n",
       "2 2020-01-02    NJ          0         NaN\n",
       "3 2020-01-02    RI          0         NaN\n",
       "4 2020-01-02    VI          0         NaN"
      ]
     },
     "execution_count": 17,
     "metadata": {},
     "output_type": "execute_result"
    }
   ],
   "source": [
    "codf.head(5)"
   ]
  },
  {
   "cell_type": "code",
   "execution_count": 18,
   "metadata": {},
   "outputs": [],
   "source": [
    "for i in codf[codf.conf_cases.isna()].index:\n",
    "     codf.iloc[i,3] = int(algo.predict(np.array(codf.iloc[i,2].reshape(1,-1))))"
   ]
  },
  {
   "cell_type": "code",
   "execution_count": 19,
   "metadata": {},
   "outputs": [
    {
     "data": {
      "text/html": [
       "<div>\n",
       "<style scoped>\n",
       "    .dataframe tbody tr th:only-of-type {\n",
       "        vertical-align: middle;\n",
       "    }\n",
       "\n",
       "    .dataframe tbody tr th {\n",
       "        vertical-align: top;\n",
       "    }\n",
       "\n",
       "    .dataframe thead th {\n",
       "        text-align: right;\n",
       "    }\n",
       "</style>\n",
       "<table border=\"1\" class=\"dataframe\">\n",
       "  <thead>\n",
       "    <tr style=\"text-align: right;\">\n",
       "      <th></th>\n",
       "      <th>date</th>\n",
       "      <th>state</th>\n",
       "      <th>tot_cases</th>\n",
       "      <th>conf_cases</th>\n",
       "    </tr>\n",
       "  </thead>\n",
       "  <tbody>\n",
       "    <tr>\n",
       "      <th>21587</th>\n",
       "      <td>2021-01-22</td>\n",
       "      <td>VT</td>\n",
       "      <td>10759</td>\n",
       "      <td>10273.0</td>\n",
       "    </tr>\n",
       "    <tr>\n",
       "      <th>20718</th>\n",
       "      <td>2021-01-01</td>\n",
       "      <td>PW</td>\n",
       "      <td>0</td>\n",
       "      <td>0.0</td>\n",
       "    </tr>\n",
       "    <tr>\n",
       "      <th>21914</th>\n",
       "      <td>2021-01-28</td>\n",
       "      <td>NC</td>\n",
       "      <td>739500</td>\n",
       "      <td>662186.0</td>\n",
       "    </tr>\n",
       "    <tr>\n",
       "      <th>10690</th>\n",
       "      <td>2020-07-13</td>\n",
       "      <td>ND</td>\n",
       "      <td>4442</td>\n",
       "      <td>4442.0</td>\n",
       "    </tr>\n",
       "    <tr>\n",
       "      <th>4061</th>\n",
       "      <td>2020-03-20</td>\n",
       "      <td>OH</td>\n",
       "      <td>169</td>\n",
       "      <td>168.0</td>\n",
       "    </tr>\n",
       "  </tbody>\n",
       "</table>\n",
       "</div>"
      ],
      "text/plain": [
       "            date state  tot_cases  conf_cases\n",
       "21587 2021-01-22    VT      10759     10273.0\n",
       "20718 2021-01-01    PW          0         0.0\n",
       "21914 2021-01-28    NC     739500    662186.0\n",
       "10690 2020-07-13    ND       4442      4442.0\n",
       "4061  2020-03-20    OH        169       168.0"
      ]
     },
     "execution_count": 19,
     "metadata": {},
     "output_type": "execute_result"
    }
   ],
   "source": [
    "codf.sample(5)"
   ]
  },
  {
   "cell_type": "code",
   "execution_count": 20,
   "metadata": {},
   "outputs": [
    {
     "data": {
      "text/plain": [
       "date          0\n",
       "state         0\n",
       "tot_cases     0\n",
       "conf_cases    0\n",
       "dtype: int64"
      ]
     },
     "execution_count": 20,
     "metadata": {},
     "output_type": "execute_result"
    }
   ],
   "source": [
    "codf.isna().sum()"
   ]
  },
  {
   "cell_type": "markdown",
   "metadata": {
    "tags": []
   },
   "source": [
    "## DATA CLEANING"
   ]
  },
  {
   "cell_type": "code",
   "execution_count": 21,
   "metadata": {},
   "outputs": [
    {
     "data": {
      "text/plain": [
       "(            city  zip_code state  state_name\n",
       " 554  WESTMINSTER     92683    CA  CALIFORNIA\n",
       " 555      ONTARIO     91761    CA  CALIFORNIA\n",
       " 556       TACOMA     98409    WA  WASHINGTON\n",
       " 557      BOZEMAN     59718    MT     MONTANA\n",
       " 558    CLACKAMAS     97015    OR      OREGON,\n",
       " (555, 4))"
      ]
     },
     "execution_count": 21,
     "metadata": {},
     "output_type": "execute_result"
    }
   ],
   "source": [
    "cidf1 = cidf.drop(['country'],axis = 1) #dropping useless columns\n",
    "cidf1 = cidf1.drop_duplicates()\n",
    "cidf1.tail(),cidf1.shape"
   ]
  },
  {
   "cell_type": "code",
   "execution_count": 22,
   "metadata": {},
   "outputs": [
    {
     "data": {
      "text/plain": [
       "(array([94080, 98027], dtype=int64), array([2, 2], dtype=int64))"
      ]
     },
     "execution_count": 22,
     "metadata": {},
     "output_type": "execute_result"
    }
   ],
   "source": [
    "value,counts = np.unique(cidf1.zip_code,return_counts=True)\n",
    "value[counts>1],counts[counts>1]"
   ]
  },
  {
   "cell_type": "code",
   "execution_count": 23,
   "metadata": {},
   "outputs": [
    {
     "data": {
      "text/html": [
       "<div>\n",
       "<style scoped>\n",
       "    .dataframe tbody tr th:only-of-type {\n",
       "        vertical-align: middle;\n",
       "    }\n",
       "\n",
       "    .dataframe tbody tr th {\n",
       "        vertical-align: top;\n",
       "    }\n",
       "\n",
       "    .dataframe thead th {\n",
       "        text-align: right;\n",
       "    }\n",
       "</style>\n",
       "<table border=\"1\" class=\"dataframe\">\n",
       "  <thead>\n",
       "    <tr style=\"text-align: right;\">\n",
       "      <th></th>\n",
       "      <th>city</th>\n",
       "      <th>zip_code</th>\n",
       "      <th>state</th>\n",
       "      <th>state_name</th>\n",
       "    </tr>\n",
       "  </thead>\n",
       "  <tbody>\n",
       "    <tr>\n",
       "      <th>370</th>\n",
       "      <td>S</td>\n",
       "      <td>94080</td>\n",
       "      <td>CA</td>\n",
       "      <td>CALIFORNIA</td>\n",
       "    </tr>\n",
       "    <tr>\n",
       "      <th>371</th>\n",
       "      <td>EL</td>\n",
       "      <td>94080</td>\n",
       "      <td>CA</td>\n",
       "      <td>CALIFORNIA</td>\n",
       "    </tr>\n",
       "  </tbody>\n",
       "</table>\n",
       "</div>"
      ],
      "text/plain": [
       "    city  zip_code state  state_name\n",
       "370    S     94080    CA  CALIFORNIA\n",
       "371   EL     94080    CA  CALIFORNIA"
      ]
     },
     "execution_count": 23,
     "metadata": {},
     "output_type": "execute_result"
    }
   ],
   "source": [
    "cidf1[cidf1.zip_code == 94080]"
   ]
  },
  {
   "cell_type": "code",
   "execution_count": 24,
   "metadata": {},
   "outputs": [],
   "source": [
    "cidf1.drop(index=371,inplace=True)"
   ]
  },
  {
   "cell_type": "code",
   "execution_count": 25,
   "metadata": {},
   "outputs": [
    {
     "data": {
      "text/html": [
       "<div>\n",
       "<style scoped>\n",
       "    .dataframe tbody tr th:only-of-type {\n",
       "        vertical-align: middle;\n",
       "    }\n",
       "\n",
       "    .dataframe tbody tr th {\n",
       "        vertical-align: top;\n",
       "    }\n",
       "\n",
       "    .dataframe thead th {\n",
       "        text-align: right;\n",
       "    }\n",
       "</style>\n",
       "<table border=\"1\" class=\"dataframe\">\n",
       "  <thead>\n",
       "    <tr style=\"text-align: right;\">\n",
       "      <th></th>\n",
       "      <th>city</th>\n",
       "      <th>zip_code</th>\n",
       "      <th>state</th>\n",
       "      <th>state_name</th>\n",
       "    </tr>\n",
       "  </thead>\n",
       "  <tbody>\n",
       "    <tr>\n",
       "      <th>69</th>\n",
       "      <td>ISSAQUAH</td>\n",
       "      <td>98027</td>\n",
       "      <td>WA</td>\n",
       "      <td>WASHINGTON</td>\n",
       "    </tr>\n",
       "    <tr>\n",
       "      <th>70</th>\n",
       "      <td>US</td>\n",
       "      <td>98027</td>\n",
       "      <td>WA</td>\n",
       "      <td>WASHINGTON</td>\n",
       "    </tr>\n",
       "  </tbody>\n",
       "</table>\n",
       "</div>"
      ],
      "text/plain": [
       "        city  zip_code state  state_name\n",
       "69  ISSAQUAH     98027    WA  WASHINGTON\n",
       "70        US     98027    WA  WASHINGTON"
      ]
     },
     "execution_count": 25,
     "metadata": {},
     "output_type": "execute_result"
    }
   ],
   "source": [
    "cidf1[cidf1.zip_code == 98027]"
   ]
  },
  {
   "cell_type": "code",
   "execution_count": 26,
   "metadata": {},
   "outputs": [],
   "source": [
    "cidf1.drop(index=70,inplace=True)"
   ]
  },
  {
   "cell_type": "code",
   "execution_count": 27,
   "metadata": {},
   "outputs": [],
   "source": [
    "uszips = pd.read_csv('uszips.csv')\n",
    "# zips = uszips.zip.unique()\n",
    "# sum =0\n",
    "# for z in y:\n",
    "#     if z in zips:\n",
    "#         sum+=1\n",
    "#     else: print(z)\n",
    "# sum,y.shape\n",
    "cidf1 = cidf1.merge(uszips[['zip','population']],how='left',right_on='zip',left_on='zip_code')"
   ]
  },
  {
   "cell_type": "code",
   "execution_count": 28,
   "metadata": {},
   "outputs": [],
   "source": [
    "state = cidf1.state.unique()\n",
    "num_cities = [cidf1[cidf1.state == st].zip_code.nunique() for st in state]\n",
    "tot_population_state = [cidf1[cidf1.state==st].population.sum() for st in state]\n",
    "stct = pd.DataFrame({'state':state,'num_cities':num_cities})\n",
    "stpop = pd.DataFrame({'state':state,'tot_population_state':tot_population_state})"
   ]
  },
  {
   "cell_type": "markdown",
   "metadata": {},
   "source": [
    "## DATA PREPROCESSING"
   ]
  },
  {
   "cell_type": "code",
   "execution_count": 29,
   "metadata": {},
   "outputs": [],
   "source": [
    "cidf_final = cidf1.merge(stct,on = 'state',how = 'left').merge(stpop,on='state',how='left');"
   ]
  },
  {
   "cell_type": "code",
   "execution_count": 30,
   "metadata": {},
   "outputs": [
    {
     "data": {
      "text/html": [
       "<div>\n",
       "<style scoped>\n",
       "    .dataframe tbody tr th:only-of-type {\n",
       "        vertical-align: middle;\n",
       "    }\n",
       "\n",
       "    .dataframe tbody tr th {\n",
       "        vertical-align: top;\n",
       "    }\n",
       "\n",
       "    .dataframe thead th {\n",
       "        text-align: right;\n",
       "    }\n",
       "</style>\n",
       "<table border=\"1\" class=\"dataframe\">\n",
       "  <thead>\n",
       "    <tr style=\"text-align: right;\">\n",
       "      <th></th>\n",
       "      <th>city</th>\n",
       "      <th>zip_code</th>\n",
       "      <th>state</th>\n",
       "      <th>state_name</th>\n",
       "      <th>zip</th>\n",
       "      <th>population</th>\n",
       "      <th>num_cities</th>\n",
       "      <th>tot_population_state</th>\n",
       "    </tr>\n",
       "  </thead>\n",
       "  <tbody>\n",
       "    <tr>\n",
       "      <th>0</th>\n",
       "      <td>SEATTLE</td>\n",
       "      <td>98134</td>\n",
       "      <td>WA</td>\n",
       "      <td>WASHINGTON</td>\n",
       "      <td>98134</td>\n",
       "      <td>779.0</td>\n",
       "      <td>32</td>\n",
       "      <td>1025335.0</td>\n",
       "    </tr>\n",
       "    <tr>\n",
       "      <th>1</th>\n",
       "      <td>ANCHORAGE</td>\n",
       "      <td>99515</td>\n",
       "      <td>AK</td>\n",
       "      <td>ALASKA</td>\n",
       "      <td>99515</td>\n",
       "      <td>22226.0</td>\n",
       "      <td>4</td>\n",
       "      <td>106685.0</td>\n",
       "    </tr>\n",
       "    <tr>\n",
       "      <th>2</th>\n",
       "      <td>COLUMBIA</td>\n",
       "      <td>21075</td>\n",
       "      <td>MD</td>\n",
       "      <td>MARYLAND</td>\n",
       "      <td>21075</td>\n",
       "      <td>34939.0</td>\n",
       "      <td>11</td>\n",
       "      <td>372155.0</td>\n",
       "    </tr>\n",
       "    <tr>\n",
       "      <th>3</th>\n",
       "      <td>TUSTIN</td>\n",
       "      <td>92782</td>\n",
       "      <td>CA</td>\n",
       "      <td>CALIFORNIA</td>\n",
       "      <td>92782</td>\n",
       "      <td>23166.0</td>\n",
       "      <td>126</td>\n",
       "      <td>5739662.0</td>\n",
       "    </tr>\n",
       "    <tr>\n",
       "      <th>4</th>\n",
       "      <td>ANTIOCH</td>\n",
       "      <td>94509</td>\n",
       "      <td>CA</td>\n",
       "      <td>CALIFORNIA</td>\n",
       "      <td>94509</td>\n",
       "      <td>69295.0</td>\n",
       "      <td>126</td>\n",
       "      <td>5739662.0</td>\n",
       "    </tr>\n",
       "    <tr>\n",
       "      <th>...</th>\n",
       "      <td>...</td>\n",
       "      <td>...</td>\n",
       "      <td>...</td>\n",
       "      <td>...</td>\n",
       "      <td>...</td>\n",
       "      <td>...</td>\n",
       "      <td>...</td>\n",
       "      <td>...</td>\n",
       "    </tr>\n",
       "    <tr>\n",
       "      <th>548</th>\n",
       "      <td>WESTMINSTER</td>\n",
       "      <td>92683</td>\n",
       "      <td>CA</td>\n",
       "      <td>CALIFORNIA</td>\n",
       "      <td>92683</td>\n",
       "      <td>90833.0</td>\n",
       "      <td>126</td>\n",
       "      <td>5739662.0</td>\n",
       "    </tr>\n",
       "    <tr>\n",
       "      <th>549</th>\n",
       "      <td>ONTARIO</td>\n",
       "      <td>91761</td>\n",
       "      <td>CA</td>\n",
       "      <td>CALIFORNIA</td>\n",
       "      <td>91761</td>\n",
       "      <td>60827.0</td>\n",
       "      <td>126</td>\n",
       "      <td>5739662.0</td>\n",
       "    </tr>\n",
       "    <tr>\n",
       "      <th>550</th>\n",
       "      <td>TACOMA</td>\n",
       "      <td>98409</td>\n",
       "      <td>WA</td>\n",
       "      <td>WASHINGTON</td>\n",
       "      <td>98409</td>\n",
       "      <td>27918.0</td>\n",
       "      <td>32</td>\n",
       "      <td>1025335.0</td>\n",
       "    </tr>\n",
       "    <tr>\n",
       "      <th>551</th>\n",
       "      <td>BOZEMAN</td>\n",
       "      <td>59718</td>\n",
       "      <td>MT</td>\n",
       "      <td>MONTANA</td>\n",
       "      <td>59718</td>\n",
       "      <td>39282.0</td>\n",
       "      <td>5</td>\n",
       "      <td>189101.0</td>\n",
       "    </tr>\n",
       "    <tr>\n",
       "      <th>552</th>\n",
       "      <td>CLACKAMAS</td>\n",
       "      <td>97015</td>\n",
       "      <td>OR</td>\n",
       "      <td>OREGON</td>\n",
       "      <td>97015</td>\n",
       "      <td>24332.0</td>\n",
       "      <td>13</td>\n",
       "      <td>508122.0</td>\n",
       "    </tr>\n",
       "  </tbody>\n",
       "</table>\n",
       "<p>553 rows × 8 columns</p>\n",
       "</div>"
      ],
      "text/plain": [
       "            city  zip_code state  state_name    zip  population  num_cities  \\\n",
       "0        SEATTLE     98134    WA  WASHINGTON  98134       779.0          32   \n",
       "1      ANCHORAGE     99515    AK      ALASKA  99515     22226.0           4   \n",
       "2       COLUMBIA     21075    MD    MARYLAND  21075     34939.0          11   \n",
       "3         TUSTIN     92782    CA  CALIFORNIA  92782     23166.0         126   \n",
       "4        ANTIOCH     94509    CA  CALIFORNIA  94509     69295.0         126   \n",
       "..           ...       ...   ...         ...    ...         ...         ...   \n",
       "548  WESTMINSTER     92683    CA  CALIFORNIA  92683     90833.0         126   \n",
       "549      ONTARIO     91761    CA  CALIFORNIA  91761     60827.0         126   \n",
       "550       TACOMA     98409    WA  WASHINGTON  98409     27918.0          32   \n",
       "551      BOZEMAN     59718    MT     MONTANA  59718     39282.0           5   \n",
       "552    CLACKAMAS     97015    OR      OREGON  97015     24332.0          13   \n",
       "\n",
       "     tot_population_state  \n",
       "0               1025335.0  \n",
       "1                106685.0  \n",
       "2                372155.0  \n",
       "3               5739662.0  \n",
       "4               5739662.0  \n",
       "..                    ...  \n",
       "548             5739662.0  \n",
       "549             5739662.0  \n",
       "550             1025335.0  \n",
       "551              189101.0  \n",
       "552              508122.0  \n",
       "\n",
       "[553 rows x 8 columns]"
      ]
     },
     "execution_count": 30,
     "metadata": {},
     "output_type": "execute_result"
    }
   ],
   "source": [
    "cidf_final"
   ]
  },
  {
   "cell_type": "code",
   "execution_count": 31,
   "metadata": {},
   "outputs": [
    {
     "data": {
      "text/html": [
       "<div>\n",
       "<style scoped>\n",
       "    .dataframe tbody tr th:only-of-type {\n",
       "        vertical-align: middle;\n",
       "    }\n",
       "\n",
       "    .dataframe tbody tr th {\n",
       "        vertical-align: top;\n",
       "    }\n",
       "\n",
       "    .dataframe thead th {\n",
       "        text-align: right;\n",
       "    }\n",
       "</style>\n",
       "<table border=\"1\" class=\"dataframe\">\n",
       "  <thead>\n",
       "    <tr style=\"text-align: right;\">\n",
       "      <th></th>\n",
       "      <th>wh_id</th>\n",
       "      <th>warehouse_name</th>\n",
       "    </tr>\n",
       "  </thead>\n",
       "  <tbody>\n",
       "    <tr>\n",
       "      <th>365</th>\n",
       "      <td>410</td>\n",
       "      <td>WAREHOUSE 410 NORWALK CA</td>\n",
       "    </tr>\n",
       "    <tr>\n",
       "      <th>347</th>\n",
       "      <td>378</td>\n",
       "      <td>WAREHOUSE 378 LAKE ZURICH</td>\n",
       "    </tr>\n",
       "    <tr>\n",
       "      <th>511</th>\n",
       "      <td>742</td>\n",
       "      <td>WAREHOUSE 742 PEMBROKE PINES</td>\n",
       "    </tr>\n",
       "    <tr>\n",
       "      <th>136</th>\n",
       "      <td>1205</td>\n",
       "      <td>WAREHOUSE 1205 WOODLAND HILLS</td>\n",
       "    </tr>\n",
       "    <tr>\n",
       "      <th>346</th>\n",
       "      <td>377</td>\n",
       "      <td>WAREHOUSE 377 ST LOUIS PARK</td>\n",
       "    </tr>\n",
       "  </tbody>\n",
       "</table>\n",
       "</div>"
      ],
      "text/plain": [
       "     wh_id                 warehouse_name\n",
       "365    410       WAREHOUSE 410 NORWALK CA\n",
       "347    378      WAREHOUSE 378 LAKE ZURICH\n",
       "511    742   WAREHOUSE 742 PEMBROKE PINES\n",
       "136   1205  WAREHOUSE 1205 WOODLAND HILLS\n",
       "346    377    WAREHOUSE 377 ST LOUIS PARK"
      ]
     },
     "execution_count": 31,
     "metadata": {},
     "output_type": "execute_result"
    }
   ],
   "source": [
    "wadf.sample(5)"
   ]
  },
  {
   "cell_type": "code",
   "execution_count": 32,
   "metadata": {
    "colab": {
     "base_uri": "https://localhost:8080/",
     "height": 423
    },
    "id": "_48oQIpRfSwX",
    "outputId": "cd7f07ec-ab5d-4c86-beaa-89b89d75931b"
   },
   "outputs": [
    {
     "name": "stdout",
     "output_type": "stream",
     "text": [
      "(276208, 11)\n"
     ]
    },
    {
     "data": {
      "text/html": [
       "<div>\n",
       "<style scoped>\n",
       "    .dataframe tbody tr th:only-of-type {\n",
       "        vertical-align: middle;\n",
       "    }\n",
       "\n",
       "    .dataframe tbody tr th {\n",
       "        vertical-align: top;\n",
       "    }\n",
       "\n",
       "    .dataframe thead th {\n",
       "        text-align: right;\n",
       "    }\n",
       "</style>\n",
       "<table border=\"1\" class=\"dataframe\">\n",
       "  <thead>\n",
       "    <tr style=\"text-align: right;\">\n",
       "      <th></th>\n",
       "      <th>date</th>\n",
       "      <th>state</th>\n",
       "      <th>tot_cases</th>\n",
       "      <th>conf_cases</th>\n",
       "      <th>city</th>\n",
       "      <th>zip_code</th>\n",
       "      <th>state_name</th>\n",
       "      <th>zip</th>\n",
       "      <th>population</th>\n",
       "      <th>num_cities</th>\n",
       "      <th>tot_population_state</th>\n",
       "      <th>avg_tot_cases/num_cities</th>\n",
       "      <th>avg_conf_cases/num_cities</th>\n",
       "      <th>avg_tot_cases/city_weight</th>\n",
       "      <th>avg_conf_cases/city_weight</th>\n",
       "    </tr>\n",
       "  </thead>\n",
       "  <tbody>\n",
       "    <tr>\n",
       "      <th>221868</th>\n",
       "      <td>2021-03-02</td>\n",
       "      <td>PA</td>\n",
       "      <td>853896</td>\n",
       "      <td>741897.0</td>\n",
       "      <td>HARRISBURG</td>\n",
       "      <td>17112.0</td>\n",
       "      <td>PENNSYLVANIA</td>\n",
       "      <td>17112.0</td>\n",
       "      <td>36080.0</td>\n",
       "      <td>11.0</td>\n",
       "      <td>328734.0</td>\n",
       "      <td>77626.909091</td>\n",
       "      <td>67445.181818</td>\n",
       "      <td>93718.835533</td>\n",
       "      <td>81426.453485</td>\n",
       "    </tr>\n",
       "    <tr>\n",
       "      <th>104098</th>\n",
       "      <td>2020-07-18</td>\n",
       "      <td>MN</td>\n",
       "      <td>46204</td>\n",
       "      <td>43328.0</td>\n",
       "      <td>EDEN</td>\n",
       "      <td>55344.0</td>\n",
       "      <td>MINNESOTA</td>\n",
       "      <td>55344.0</td>\n",
       "      <td>15907.0</td>\n",
       "      <td>12.0</td>\n",
       "      <td>362815.0</td>\n",
       "      <td>3850.333333</td>\n",
       "      <td>3610.666667</td>\n",
       "      <td>2025.734956</td>\n",
       "      <td>1899.641680</td>\n",
       "    </tr>\n",
       "    <tr>\n",
       "      <th>33238</th>\n",
       "      <td>2020-03-11</td>\n",
       "      <td>FL</td>\n",
       "      <td>805924</td>\n",
       "      <td>717628.0</td>\n",
       "      <td>PALM</td>\n",
       "      <td>33403.0</td>\n",
       "      <td>FLORIDA</td>\n",
       "      <td>33403.0</td>\n",
       "      <td>12458.0</td>\n",
       "      <td>28.0</td>\n",
       "      <td>1093573.0</td>\n",
       "      <td>28783.000000</td>\n",
       "      <td>25629.571429</td>\n",
       "      <td>9181.098282</td>\n",
       "      <td>8175.228928</td>\n",
       "    </tr>\n",
       "    <tr>\n",
       "      <th>5396</th>\n",
       "      <td>2020-01-11</td>\n",
       "      <td>TN</td>\n",
       "      <td>271605</td>\n",
       "      <td>255733.0</td>\n",
       "      <td>SE</td>\n",
       "      <td>38125.0</td>\n",
       "      <td>TENNESSEE</td>\n",
       "      <td>38125.0</td>\n",
       "      <td>39315.0</td>\n",
       "      <td>5.0</td>\n",
       "      <td>206839.0</td>\n",
       "      <td>54321.000000</td>\n",
       "      <td>51146.600000</td>\n",
       "      <td>51625.421584</td>\n",
       "      <td>48608.545270</td>\n",
       "    </tr>\n",
       "    <tr>\n",
       "      <th>184044</th>\n",
       "      <td>2020-12-12</td>\n",
       "      <td>OH</td>\n",
       "      <td>553461</td>\n",
       "      <td>507325.0</td>\n",
       "      <td>BOSTON</td>\n",
       "      <td>44236.0</td>\n",
       "      <td>OHIO</td>\n",
       "      <td>44236.0</td>\n",
       "      <td>25281.0</td>\n",
       "      <td>12.0</td>\n",
       "      <td>274961.0</td>\n",
       "      <td>46121.750000</td>\n",
       "      <td>42277.083333</td>\n",
       "      <td>50887.389633</td>\n",
       "      <td>46645.463629</td>\n",
       "    </tr>\n",
       "  </tbody>\n",
       "</table>\n",
       "</div>"
      ],
      "text/plain": [
       "             date state  tot_cases  conf_cases        city  zip_code  \\\n",
       "221868 2021-03-02    PA     853896    741897.0  HARRISBURG   17112.0   \n",
       "104098 2020-07-18    MN      46204     43328.0        EDEN   55344.0   \n",
       "33238  2020-03-11    FL     805924    717628.0        PALM   33403.0   \n",
       "5396   2020-01-11    TN     271605    255733.0          SE   38125.0   \n",
       "184044 2020-12-12    OH     553461    507325.0      BOSTON   44236.0   \n",
       "\n",
       "          state_name      zip  population  num_cities  tot_population_state  \\\n",
       "221868  PENNSYLVANIA  17112.0     36080.0        11.0              328734.0   \n",
       "104098     MINNESOTA  55344.0     15907.0        12.0              362815.0   \n",
       "33238        FLORIDA  33403.0     12458.0        28.0             1093573.0   \n",
       "5396       TENNESSEE  38125.0     39315.0         5.0              206839.0   \n",
       "184044          OHIO  44236.0     25281.0        12.0              274961.0   \n",
       "\n",
       "        avg_tot_cases/num_cities  avg_conf_cases/num_cities  \\\n",
       "221868              77626.909091               67445.181818   \n",
       "104098               3850.333333                3610.666667   \n",
       "33238               28783.000000               25629.571429   \n",
       "5396                54321.000000               51146.600000   \n",
       "184044              46121.750000               42277.083333   \n",
       "\n",
       "        avg_tot_cases/city_weight  avg_conf_cases/city_weight  \n",
       "221868               93718.835533                81426.453485  \n",
       "104098                2025.734956                 1899.641680  \n",
       "33238                 9181.098282                 8175.228928  \n",
       "5396                 51625.421584                48608.545270  \n",
       "184044               50887.389633                46645.463629  "
      ]
     },
     "execution_count": 32,
     "metadata": {},
     "output_type": "execute_result"
    }
   ],
   "source": [
    "m = codf.merge(cidf_final,how = 'left',on='state') \n",
    "print(m.shape)\n",
    "m['avg_tot_cases/num_cities'] = m['tot_cases'].div(m['num_cities'], fill_value=10)\n",
    "m['avg_conf_cases/num_cities'] = m['conf_cases'].div(m['num_cities'], fill_value=10)\n",
    "m['avg_tot_cases/city_weight'] = m['tot_cases']*m['population']/m['tot_population_state']\n",
    "m['avg_conf_cases/city_weight'] = m['conf_cases']*m['population']/m['tot_population_state']\n",
    "m.sample(5) #merging covid data and cities data using state as a common entity"
   ]
  },
  {
   "cell_type": "code",
   "execution_count": 33,
   "metadata": {
    "id": "eozdjAslsGIQ"
   },
   "outputs": [
    {
     "data": {
      "text/html": [
       "<div>\n",
       "<style scoped>\n",
       "    .dataframe tbody tr th:only-of-type {\n",
       "        vertical-align: middle;\n",
       "    }\n",
       "\n",
       "    .dataframe tbody tr th {\n",
       "        vertical-align: top;\n",
       "    }\n",
       "\n",
       "    .dataframe thead th {\n",
       "        text-align: right;\n",
       "    }\n",
       "</style>\n",
       "<table border=\"1\" class=\"dataframe\">\n",
       "  <thead>\n",
       "    <tr style=\"text-align: right;\">\n",
       "      <th></th>\n",
       "      <th>wh_id</th>\n",
       "      <th>warehouse_name</th>\n",
       "      <th>city</th>\n",
       "    </tr>\n",
       "  </thead>\n",
       "  <tbody>\n",
       "    <tr>\n",
       "      <th>124</th>\n",
       "      <td>1191</td>\n",
       "      <td>WAREHOUSE 1191 KALAMAZOO</td>\n",
       "      <td>KALAMAZOO</td>\n",
       "    </tr>\n",
       "    <tr>\n",
       "      <th>521</th>\n",
       "      <td>762</td>\n",
       "      <td>WAREHOUSE 762 LANCASTER CA</td>\n",
       "      <td>LANCASTER</td>\n",
       "    </tr>\n",
       "    <tr>\n",
       "      <th>8</th>\n",
       "      <td>1005</td>\n",
       "      <td>WAREHOUSE 1005 GREENVILLE</td>\n",
       "      <td>GREENVILLE</td>\n",
       "    </tr>\n",
       "    <tr>\n",
       "      <th>300</th>\n",
       "      <td>328</td>\n",
       "      <td>WAREHOUSE 328 CRANBERRY TOWNSHIP</td>\n",
       "      <td>CRANBERRY</td>\n",
       "    </tr>\n",
       "    <tr>\n",
       "      <th>454</th>\n",
       "      <td>644</td>\n",
       "      <td>WAREHOUSE 644 SE GILBERT</td>\n",
       "      <td>SE</td>\n",
       "    </tr>\n",
       "  </tbody>\n",
       "</table>\n",
       "</div>"
      ],
      "text/plain": [
       "     wh_id                    warehouse_name        city\n",
       "124   1191          WAREHOUSE 1191 KALAMAZOO   KALAMAZOO\n",
       "521    762        WAREHOUSE 762 LANCASTER CA   LANCASTER\n",
       "8     1005         WAREHOUSE 1005 GREENVILLE  GREENVILLE\n",
       "300    328  WAREHOUSE 328 CRANBERRY TOWNSHIP   CRANBERRY\n",
       "454    644          WAREHOUSE 644 SE GILBERT          SE"
      ]
     },
     "execution_count": 33,
     "metadata": {},
     "output_type": "execute_result"
    }
   ],
   "source": [
    "b = []\n",
    "for row in wadf.values:\n",
    "  b.append(row[1].split()[2]) #taking 3rd word from warehouse_name which is city\n",
    "\n",
    "wadf['city'] = np.array(b)\n",
    "wadf.sample(5)"
   ]
  },
  {
   "cell_type": "code",
   "execution_count": 34,
   "metadata": {
    "id": "uiCDcCp1ntl-"
   },
   "outputs": [],
   "source": [
    "x = df1.merge(wadf.drop(axis = 1,columns=['warehouse_name']),how='left',on = 'wh_id')"
   ]
  },
  {
   "cell_type": "code",
   "execution_count": 39,
   "metadata": {},
   "outputs": [
    {
     "data": {
      "text/html": [
       "<div>\n",
       "<style scoped>\n",
       "    .dataframe tbody tr th:only-of-type {\n",
       "        vertical-align: middle;\n",
       "    }\n",
       "\n",
       "    .dataframe tbody tr th {\n",
       "        vertical-align: top;\n",
       "    }\n",
       "\n",
       "    .dataframe thead th {\n",
       "        text-align: right;\n",
       "    }\n",
       "</style>\n",
       "<table border=\"1\" class=\"dataframe\">\n",
       "  <thead>\n",
       "    <tr style=\"text-align: right;\">\n",
       "      <th></th>\n",
       "      <th>date</th>\n",
       "      <th>wh_id</th>\n",
       "    </tr>\n",
       "  </thead>\n",
       "  <tbody>\n",
       "    <tr>\n",
       "      <th>0</th>\n",
       "      <td>2021-01-04</td>\n",
       "      <td>471.0</td>\n",
       "    </tr>\n",
       "    <tr>\n",
       "      <th>1</th>\n",
       "      <td>2021-01-04</td>\n",
       "      <td>691.0</td>\n",
       "    </tr>\n",
       "    <tr>\n",
       "      <th>2</th>\n",
       "      <td>2021-01-04</td>\n",
       "      <td>780.0</td>\n",
       "    </tr>\n",
       "    <tr>\n",
       "      <th>3</th>\n",
       "      <td>2021-01-04</td>\n",
       "      <td>418.0</td>\n",
       "    </tr>\n",
       "    <tr>\n",
       "      <th>4</th>\n",
       "      <td>2021-01-04</td>\n",
       "      <td>462.0</td>\n",
       "    </tr>\n",
       "    <tr>\n",
       "      <th>...</th>\n",
       "      <td>...</td>\n",
       "      <td>...</td>\n",
       "    </tr>\n",
       "    <tr>\n",
       "      <th>34338</th>\n",
       "      <td>2021-12-05</td>\n",
       "      <td>1185.0</td>\n",
       "    </tr>\n",
       "    <tr>\n",
       "      <th>34339</th>\n",
       "      <td>2021-12-05</td>\n",
       "      <td>25.0</td>\n",
       "    </tr>\n",
       "    <tr>\n",
       "      <th>34340</th>\n",
       "      <td>2021-12-05</td>\n",
       "      <td>455.0</td>\n",
       "    </tr>\n",
       "    <tr>\n",
       "      <th>34341</th>\n",
       "      <td>2021-12-05</td>\n",
       "      <td>372.0</td>\n",
       "    </tr>\n",
       "    <tr>\n",
       "      <th>34342</th>\n",
       "      <td>2021-12-05</td>\n",
       "      <td>243.0</td>\n",
       "    </tr>\n",
       "  </tbody>\n",
       "</table>\n",
       "<p>34343 rows × 2 columns</p>\n",
       "</div>"
      ],
      "text/plain": [
       "            date   wh_id\n",
       "0     2021-01-04   471.0\n",
       "1     2021-01-04   691.0\n",
       "2     2021-01-04   780.0\n",
       "3     2021-01-04   418.0\n",
       "4     2021-01-04   462.0\n",
       "...          ...     ...\n",
       "34338 2021-12-05  1185.0\n",
       "34339 2021-12-05    25.0\n",
       "34340 2021-12-05   455.0\n",
       "34341 2021-12-05   372.0\n",
       "34342 2021-12-05   243.0\n",
       "\n",
       "[34343 rows x 2 columns]"
      ]
     },
     "execution_count": 39,
     "metadata": {},
     "output_type": "execute_result"
    }
   ],
   "source": [
    "df1"
   ]
  },
  {
   "cell_type": "code",
   "execution_count": 35,
   "metadata": {},
   "outputs": [
    {
     "name": "stdout",
     "output_type": "stream",
     "text": [
      "(34343, 3)\n"
     ]
    },
    {
     "data": {
      "text/html": [
       "<div>\n",
       "<style scoped>\n",
       "    .dataframe tbody tr th:only-of-type {\n",
       "        vertical-align: middle;\n",
       "    }\n",
       "\n",
       "    .dataframe tbody tr th {\n",
       "        vertical-align: top;\n",
       "    }\n",
       "\n",
       "    .dataframe thead th {\n",
       "        text-align: right;\n",
       "    }\n",
       "</style>\n",
       "<table border=\"1\" class=\"dataframe\">\n",
       "  <thead>\n",
       "    <tr style=\"text-align: right;\">\n",
       "      <th></th>\n",
       "      <th>date</th>\n",
       "      <th>wh_id</th>\n",
       "      <th>city</th>\n",
       "    </tr>\n",
       "  </thead>\n",
       "  <tbody>\n",
       "    <tr>\n",
       "      <th>25409</th>\n",
       "      <td>2021-05-15</td>\n",
       "      <td>626.0</td>\n",
       "      <td>POTOMAC</td>\n",
       "    </tr>\n",
       "    <tr>\n",
       "      <th>18</th>\n",
       "      <td>2021-01-04</td>\n",
       "      <td>128.0</td>\n",
       "      <td>SIMI</td>\n",
       "    </tr>\n",
       "    <tr>\n",
       "      <th>17391</th>\n",
       "      <td>2021-04-20</td>\n",
       "      <td>1322.0</td>\n",
       "      <td>PFLUGERVILLE</td>\n",
       "    </tr>\n",
       "    <tr>\n",
       "      <th>29491</th>\n",
       "      <td>2021-08-05</td>\n",
       "      <td>580.0</td>\n",
       "      <td>BEDFORD</td>\n",
       "    </tr>\n",
       "    <tr>\n",
       "      <th>4746</th>\n",
       "      <td>2021-03-19</td>\n",
       "      <td>365.0</td>\n",
       "      <td>CAGUAS</td>\n",
       "    </tr>\n",
       "  </tbody>\n",
       "</table>\n",
       "</div>"
      ],
      "text/plain": [
       "            date   wh_id          city\n",
       "25409 2021-05-15   626.0       POTOMAC\n",
       "18    2021-01-04   128.0          SIMI\n",
       "17391 2021-04-20  1322.0  PFLUGERVILLE\n",
       "29491 2021-08-05   580.0       BEDFORD\n",
       "4746  2021-03-19   365.0        CAGUAS"
      ]
     },
     "execution_count": 35,
     "metadata": {},
     "output_type": "execute_result"
    }
   ],
   "source": [
    "print(x.shape)\n",
    "x.sample(5)\n",
    "# merged data of train and warehouse datasets"
   ]
  },
  {
   "cell_type": "code",
   "execution_count": 36,
   "metadata": {
    "id": "KkvwI8K3DrjI"
   },
   "outputs": [],
   "source": [
    "z = x.merge(m,how='left', on = ['date','city'])"
   ]
  },
  {
   "cell_type": "code",
   "execution_count": 37,
   "metadata": {},
   "outputs": [
    {
     "name": "stdout",
     "output_type": "stream",
     "text": [
      "(65758, 16)\n"
     ]
    },
    {
     "data": {
      "text/html": [
       "<div>\n",
       "<style scoped>\n",
       "    .dataframe tbody tr th:only-of-type {\n",
       "        vertical-align: middle;\n",
       "    }\n",
       "\n",
       "    .dataframe tbody tr th {\n",
       "        vertical-align: top;\n",
       "    }\n",
       "\n",
       "    .dataframe thead th {\n",
       "        text-align: right;\n",
       "    }\n",
       "</style>\n",
       "<table border=\"1\" class=\"dataframe\">\n",
       "  <thead>\n",
       "    <tr style=\"text-align: right;\">\n",
       "      <th></th>\n",
       "      <th>date</th>\n",
       "      <th>wh_id</th>\n",
       "      <th>city</th>\n",
       "      <th>state</th>\n",
       "      <th>tot_cases</th>\n",
       "      <th>conf_cases</th>\n",
       "      <th>zip_code</th>\n",
       "      <th>state_name</th>\n",
       "      <th>zip</th>\n",
       "      <th>population</th>\n",
       "      <th>num_cities</th>\n",
       "      <th>tot_population_state</th>\n",
       "      <th>avg_tot_cases/num_cities</th>\n",
       "      <th>avg_conf_cases/num_cities</th>\n",
       "      <th>avg_tot_cases/city_weight</th>\n",
       "      <th>avg_conf_cases/city_weight</th>\n",
       "    </tr>\n",
       "  </thead>\n",
       "  <tbody>\n",
       "    <tr>\n",
       "      <th>57457</th>\n",
       "      <td>2021-09-04</td>\n",
       "      <td>321.0</td>\n",
       "      <td>YONKERS</td>\n",
       "      <td>NY</td>\n",
       "      <td>1061897.0</td>\n",
       "      <td>878326.0</td>\n",
       "      <td>10710.0</td>\n",
       "      <td>NEW YORK</td>\n",
       "      <td>10710.0</td>\n",
       "      <td>25104.0</td>\n",
       "      <td>19.0</td>\n",
       "      <td>586641.0</td>\n",
       "      <td>55889.315789</td>\n",
       "      <td>46227.684211</td>\n",
       "      <td>45441.526058</td>\n",
       "      <td>37586.012406</td>\n",
       "    </tr>\n",
       "    <tr>\n",
       "      <th>19761</th>\n",
       "      <td>2021-03-29</td>\n",
       "      <td>1119.0</td>\n",
       "      <td>WEST</td>\n",
       "      <td>IA</td>\n",
       "      <td>349885.0</td>\n",
       "      <td>307732.0</td>\n",
       "      <td>50266.0</td>\n",
       "      <td>IOWA</td>\n",
       "      <td>50266.0</td>\n",
       "      <td>30515.0</td>\n",
       "      <td>3.0</td>\n",
       "      <td>68345.0</td>\n",
       "      <td>116628.333333</td>\n",
       "      <td>102577.333333</td>\n",
       "      <td>156218.315531</td>\n",
       "      <td>137397.644012</td>\n",
       "    </tr>\n",
       "    <tr>\n",
       "      <th>1033</th>\n",
       "      <td>2021-01-04</td>\n",
       "      <td>118.0</td>\n",
       "      <td>SAN</td>\n",
       "      <td>CA</td>\n",
       "      <td>3591737.0</td>\n",
       "      <td>1374979.0</td>\n",
       "      <td>92408.0</td>\n",
       "      <td>CALIFORNIA</td>\n",
       "      <td>92408.0</td>\n",
       "      <td>14312.0</td>\n",
       "      <td>126.0</td>\n",
       "      <td>5739662.0</td>\n",
       "      <td>28505.849206</td>\n",
       "      <td>10912.531746</td>\n",
       "      <td>8956.091830</td>\n",
       "      <td>3428.546742</td>\n",
       "    </tr>\n",
       "    <tr>\n",
       "      <th>48782</th>\n",
       "      <td>2021-05-15</td>\n",
       "      <td>1161.0</td>\n",
       "      <td>FORT</td>\n",
       "      <td>FL</td>\n",
       "      <td>2246756.0</td>\n",
       "      <td>1374979.0</td>\n",
       "      <td>33907.0</td>\n",
       "      <td>FLORIDA</td>\n",
       "      <td>33907.0</td>\n",
       "      <td>25813.0</td>\n",
       "      <td>28.0</td>\n",
       "      <td>1093573.0</td>\n",
       "      <td>80241.285714</td>\n",
       "      <td>49106.392857</td>\n",
       "      <td>53033.050951</td>\n",
       "      <td>32455.385170</td>\n",
       "    </tr>\n",
       "    <tr>\n",
       "      <th>28842</th>\n",
       "      <td>2021-04-16</td>\n",
       "      <td>1389.0</td>\n",
       "      <td>DALLAS</td>\n",
       "      <td>GA</td>\n",
       "      <td>1081629.0</td>\n",
       "      <td>866978.0</td>\n",
       "      <td>30157.0</td>\n",
       "      <td>GEORGIA</td>\n",
       "      <td>30157.0</td>\n",
       "      <td>48446.0</td>\n",
       "      <td>14.0</td>\n",
       "      <td>672164.0</td>\n",
       "      <td>77259.214286</td>\n",
       "      <td>61927.000000</td>\n",
       "      <td>77958.055674</td>\n",
       "      <td>62487.155200</td>\n",
       "    </tr>\n",
       "  </tbody>\n",
       "</table>\n",
       "</div>"
      ],
      "text/plain": [
       "            date   wh_id     city state  tot_cases  conf_cases  zip_code  \\\n",
       "57457 2021-09-04   321.0  YONKERS    NY  1061897.0    878326.0   10710.0   \n",
       "19761 2021-03-29  1119.0     WEST    IA   349885.0    307732.0   50266.0   \n",
       "1033  2021-01-04   118.0      SAN    CA  3591737.0   1374979.0   92408.0   \n",
       "48782 2021-05-15  1161.0     FORT    FL  2246756.0   1374979.0   33907.0   \n",
       "28842 2021-04-16  1389.0   DALLAS    GA  1081629.0    866978.0   30157.0   \n",
       "\n",
       "       state_name      zip  population  num_cities  tot_population_state  \\\n",
       "57457    NEW YORK  10710.0     25104.0        19.0              586641.0   \n",
       "19761        IOWA  50266.0     30515.0         3.0               68345.0   \n",
       "1033   CALIFORNIA  92408.0     14312.0       126.0             5739662.0   \n",
       "48782     FLORIDA  33907.0     25813.0        28.0             1093573.0   \n",
       "28842     GEORGIA  30157.0     48446.0        14.0              672164.0   \n",
       "\n",
       "       avg_tot_cases/num_cities  avg_conf_cases/num_cities  \\\n",
       "57457              55889.315789               46227.684211   \n",
       "19761             116628.333333              102577.333333   \n",
       "1033               28505.849206               10912.531746   \n",
       "48782              80241.285714               49106.392857   \n",
       "28842              77259.214286               61927.000000   \n",
       "\n",
       "       avg_tot_cases/city_weight  avg_conf_cases/city_weight  \n",
       "57457               45441.526058                37586.012406  \n",
       "19761              156218.315531               137397.644012  \n",
       "1033                 8956.091830                 3428.546742  \n",
       "48782               53033.050951                32455.385170  \n",
       "28842               77958.055674                62487.155200  "
      ]
     },
     "execution_count": 37,
     "metadata": {},
     "output_type": "execute_result"
    }
   ],
   "source": [
    "print(z.shape)\n",
    "z.sample(5)"
   ]
  },
  {
   "cell_type": "code",
   "execution_count": 38,
   "metadata": {},
   "outputs": [
    {
     "ename": "KeyError",
     "evalue": "\"['sales'] not in index\"",
     "output_type": "error",
     "traceback": [
      "\u001b[1;31m---------------------------------------------------------------------------\u001b[0m",
      "\u001b[1;31mKeyError\u001b[0m                                  Traceback (most recent call last)",
      "\u001b[1;32mC:\\Users\\MANIDE~1\\AppData\\Local\\Temp/ipykernel_9032/3017810334.py\u001b[0m in \u001b[0;36m<module>\u001b[1;34m\u001b[0m\n\u001b[0;32m      1\u001b[0m \u001b[1;31m#precovid data\u001b[0m\u001b[1;33m\u001b[0m\u001b[1;33m\u001b[0m\u001b[0m\n\u001b[1;32m----> 2\u001b[1;33m precov = z[z.state.isna()][['date','wh_id','sales','tot_cases','conf_cases','avg_tot_cases/num_cities','avg_conf_cases/num_cities',\n\u001b[0m\u001b[0;32m      3\u001b[0m                             'avg_tot_cases/city_weight','avg_conf_cases/city_weight']].fillna(0)\n\u001b[0;32m      4\u001b[0m cov = z[z.state.notna()][['date','wh_id','sales','tot_cases','conf_cases','avg_tot_cases/num_cities','avg_conf_cases/num_cities',\n\u001b[0;32m      5\u001b[0m                             'avg_tot_cases/city_weight','avg_conf_cases/city_weight']]\n",
      "\u001b[1;32mE:\\anaconda\\lib\\site-packages\\pandas\\core\\frame.py\u001b[0m in \u001b[0;36m__getitem__\u001b[1;34m(self, key)\u001b[0m\n\u001b[0;32m   3462\u001b[0m             \u001b[1;32mif\u001b[0m \u001b[0mis_iterator\u001b[0m\u001b[1;33m(\u001b[0m\u001b[0mkey\u001b[0m\u001b[1;33m)\u001b[0m\u001b[1;33m:\u001b[0m\u001b[1;33m\u001b[0m\u001b[1;33m\u001b[0m\u001b[0m\n\u001b[0;32m   3463\u001b[0m                 \u001b[0mkey\u001b[0m \u001b[1;33m=\u001b[0m \u001b[0mlist\u001b[0m\u001b[1;33m(\u001b[0m\u001b[0mkey\u001b[0m\u001b[1;33m)\u001b[0m\u001b[1;33m\u001b[0m\u001b[1;33m\u001b[0m\u001b[0m\n\u001b[1;32m-> 3464\u001b[1;33m             \u001b[0mindexer\u001b[0m \u001b[1;33m=\u001b[0m \u001b[0mself\u001b[0m\u001b[1;33m.\u001b[0m\u001b[0mloc\u001b[0m\u001b[1;33m.\u001b[0m\u001b[0m_get_listlike_indexer\u001b[0m\u001b[1;33m(\u001b[0m\u001b[0mkey\u001b[0m\u001b[1;33m,\u001b[0m \u001b[0maxis\u001b[0m\u001b[1;33m=\u001b[0m\u001b[1;36m1\u001b[0m\u001b[1;33m)\u001b[0m\u001b[1;33m[\u001b[0m\u001b[1;36m1\u001b[0m\u001b[1;33m]\u001b[0m\u001b[1;33m\u001b[0m\u001b[1;33m\u001b[0m\u001b[0m\n\u001b[0m\u001b[0;32m   3465\u001b[0m \u001b[1;33m\u001b[0m\u001b[0m\n\u001b[0;32m   3466\u001b[0m         \u001b[1;31m# take() does not accept boolean indexers\u001b[0m\u001b[1;33m\u001b[0m\u001b[1;33m\u001b[0m\u001b[0m\n",
      "\u001b[1;32mE:\\anaconda\\lib\\site-packages\\pandas\\core\\indexing.py\u001b[0m in \u001b[0;36m_get_listlike_indexer\u001b[1;34m(self, key, axis)\u001b[0m\n\u001b[0;32m   1312\u001b[0m             \u001b[0mkeyarr\u001b[0m\u001b[1;33m,\u001b[0m \u001b[0mindexer\u001b[0m\u001b[1;33m,\u001b[0m \u001b[0mnew_indexer\u001b[0m \u001b[1;33m=\u001b[0m \u001b[0max\u001b[0m\u001b[1;33m.\u001b[0m\u001b[0m_reindex_non_unique\u001b[0m\u001b[1;33m(\u001b[0m\u001b[0mkeyarr\u001b[0m\u001b[1;33m)\u001b[0m\u001b[1;33m\u001b[0m\u001b[1;33m\u001b[0m\u001b[0m\n\u001b[0;32m   1313\u001b[0m \u001b[1;33m\u001b[0m\u001b[0m\n\u001b[1;32m-> 1314\u001b[1;33m         \u001b[0mself\u001b[0m\u001b[1;33m.\u001b[0m\u001b[0m_validate_read_indexer\u001b[0m\u001b[1;33m(\u001b[0m\u001b[0mkeyarr\u001b[0m\u001b[1;33m,\u001b[0m \u001b[0mindexer\u001b[0m\u001b[1;33m,\u001b[0m \u001b[0maxis\u001b[0m\u001b[1;33m)\u001b[0m\u001b[1;33m\u001b[0m\u001b[1;33m\u001b[0m\u001b[0m\n\u001b[0m\u001b[0;32m   1315\u001b[0m \u001b[1;33m\u001b[0m\u001b[0m\n\u001b[0;32m   1316\u001b[0m         if needs_i8_conversion(ax.dtype) or isinstance(\n",
      "\u001b[1;32mE:\\anaconda\\lib\\site-packages\\pandas\\core\\indexing.py\u001b[0m in \u001b[0;36m_validate_read_indexer\u001b[1;34m(self, key, indexer, axis)\u001b[0m\n\u001b[0;32m   1375\u001b[0m \u001b[1;33m\u001b[0m\u001b[0m\n\u001b[0;32m   1376\u001b[0m             \u001b[0mnot_found\u001b[0m \u001b[1;33m=\u001b[0m \u001b[0mlist\u001b[0m\u001b[1;33m(\u001b[0m\u001b[0mensure_index\u001b[0m\u001b[1;33m(\u001b[0m\u001b[0mkey\u001b[0m\u001b[1;33m)\u001b[0m\u001b[1;33m[\u001b[0m\u001b[0mmissing_mask\u001b[0m\u001b[1;33m.\u001b[0m\u001b[0mnonzero\u001b[0m\u001b[1;33m(\u001b[0m\u001b[1;33m)\u001b[0m\u001b[1;33m[\u001b[0m\u001b[1;36m0\u001b[0m\u001b[1;33m]\u001b[0m\u001b[1;33m]\u001b[0m\u001b[1;33m.\u001b[0m\u001b[0munique\u001b[0m\u001b[1;33m(\u001b[0m\u001b[1;33m)\u001b[0m\u001b[1;33m)\u001b[0m\u001b[1;33m\u001b[0m\u001b[1;33m\u001b[0m\u001b[0m\n\u001b[1;32m-> 1377\u001b[1;33m             \u001b[1;32mraise\u001b[0m \u001b[0mKeyError\u001b[0m\u001b[1;33m(\u001b[0m\u001b[1;34mf\"{not_found} not in index\"\u001b[0m\u001b[1;33m)\u001b[0m\u001b[1;33m\u001b[0m\u001b[1;33m\u001b[0m\u001b[0m\n\u001b[0m\u001b[0;32m   1378\u001b[0m \u001b[1;33m\u001b[0m\u001b[0m\n\u001b[0;32m   1379\u001b[0m \u001b[1;33m\u001b[0m\u001b[0m\n",
      "\u001b[1;31mKeyError\u001b[0m: \"['sales'] not in index\""
     ]
    }
   ],
   "source": [
    "#precovid data\n",
    "precov = z[z.state.isna()][['date','wh_id','sales','tot_cases','conf_cases','avg_tot_cases/num_cities','avg_conf_cases/num_cities',\n",
    "                            'avg_tot_cases/city_weight','avg_conf_cases/city_weight']].fillna(0)\n",
    "cov = z[z.state.notna()][['date','wh_id','sales','tot_cases','conf_cases','avg_tot_cases/num_cities','avg_conf_cases/num_cities',\n",
    "                            'avg_tot_cases/city_weight','avg_conf_cases/city_weight']]\n",
    "precov.sort_values(['date','wh_id'],ignore_index=True,inplace = True)\n",
    "cov.sort_values(['date','wh_id'],ignore_index=True,inplace = True)"
   ]
  },
  {
   "cell_type": "markdown",
   "metadata": {
    "id": "pWLluHnRk0JK",
    "tags": []
   },
   "source": [
    "## EDA"
   ]
  },
  {
   "cell_type": "code",
   "execution_count": null,
   "metadata": {},
   "outputs": [],
   "source": [
    "# Import libraries\n",
    "import matplotlib\n",
    "import matplotlib.pyplot as plt\n",
    "import seaborn as sns\n",
    "import plotly.express as px\n",
    "# Configuring styles\n",
    "sns.set_style(\"darkgrid\")\n",
    "matplotlib.rcParams['font.size'] = 14\n",
    "matplotlib.rcParams['figure.figsize'] = (25, 10)\n",
    "matplotlib.rcParams['figure.facecolor'] = '#00000000'"
   ]
  },
  {
   "cell_type": "code",
   "execution_count": null,
   "metadata": {},
   "outputs": [],
   "source": [
    "def week_avg_wh_id(wh_id):\n",
    "    week_avg = []\n",
    "    start = 0\n",
    "    shape = df1[df1.wh_id == wh_id].shape[0]\n",
    "    while start<shape:\n",
    "        week_avg.append(df1[df1.wh_id == wh_id][start:start+7].sales.mean())\n",
    "        start += 7\n",
    "    return week_avg"
   ]
  },
  {
   "cell_type": "code",
   "execution_count": null,
   "metadata": {},
   "outputs": [],
   "source": [
    "legend = []\n",
    "for i in range(1,3):\n",
    "    y = week_avg_wh_id(df1.wh_id.unique()[i])\n",
    "    plt.plot(range(1,len(y)+1),y,linewidth = 3)\n",
    "    legend.append('wh_id ' + str(i))\n",
    "plt.legend(legend);\n",
    "plt.title('week average sales');"
   ]
  },
  {
   "cell_type": "code",
   "execution_count": null,
   "metadata": {},
   "outputs": [],
   "source": [
    "plt.plot(codf.date.unique(),codf.groupby('date').sum().tot_cases)\n",
    "plt.title('covid cases wrt time')\n",
    "plt.xlabel('date')\n",
    "plt.ylabel('covid_cases');"
   ]
  },
  {
   "cell_type": "code",
   "execution_count": null,
   "metadata": {},
   "outputs": [],
   "source": [
    "def cov_cases_state(state):\n",
    "    plt.plot(codf[codf.state==state].date,codf[codf.state==state].tot_cases)\n",
    "    \n",
    "cov_cases_state('DE')"
   ]
  },
  {
   "cell_type": "code",
   "execution_count": null,
   "metadata": {},
   "outputs": [],
   "source": [
    "# State vs No.of cities\n",
    "fig=sns.countplot(x=cidf.state_name);\n",
    "plt.xticks(rotation=90);\n",
    "plt.show();"
   ]
  },
  {
   "cell_type": "code",
   "execution_count": null,
   "metadata": {},
   "outputs": [],
   "source": [
    "codf['month'] = codf.date.dt.month\n",
    "cov_eda_2020 = codf[codf.date.dt.year == 2020].groupby('month').sum()\n",
    "cov_eda_2020['year'],cov_eda_2020['month'] = 2020,cov_eda_2020.index\n",
    "cov_eda_2021 = codf[codf.date.dt.year == 2021].groupby('month').sum()\n",
    "cov_eda_2021['year'],cov_eda_2021['month'] =2021,cov_eda_2021.index\n",
    "cov_eda = pd.concat([cov_eda_2020,cov_eda_2021])\n",
    "px.bar(cov_eda,x='month',y='tot_cases',color = 'year')"
   ]
  },
  {
   "cell_type": "code",
   "execution_count": null,
   "metadata": {},
   "outputs": [],
   "source": [
    "cov['wh_id']=cov['wh_id'].astype('object')\n",
    "fig = px.scatter(cov[(cov.wh_id==1)|(cov.wh_id==2)|(cov.wh_id==6)], x=\"avg_tot_cases/num_cities\", y=\"sales\",\n",
    "                 title='cases vs sales',color='wh_id')\n",
    "fig.show()"
   ]
  },
  {
   "cell_type": "code",
   "execution_count": null,
   "metadata": {},
   "outputs": [],
   "source": [
    "cov['wh_id']=cov['wh_id'].astype('object')\n",
    "fig = px.scatter(cov[(cov.wh_id==1)|(cov.wh_id==2)|(cov.wh_id==6)], x=\"tot_cases\", y=\"sales\",\n",
    "                 title='cases vs sales',color='wh_id')\n",
    "fig.show()"
   ]
  },
  {
   "cell_type": "markdown",
   "metadata": {
    "jp-MarkdownHeadingCollapsed": true,
    "tags": []
   },
   "source": [
    "## Training"
   ]
  },
  {
   "cell_type": "code",
   "execution_count": null,
   "metadata": {},
   "outputs": [],
   "source": [
    "z[(z.date == pd.to_datetime('12/03/2021')) & (z.city == 'COLUMBIA')]"
   ]
  },
  {
   "cell_type": "code",
   "execution_count": null,
   "metadata": {},
   "outputs": [],
   "source": [
    "values,counts = np.unique(cidf_final.city,return_counts=True)"
   ]
  },
  {
   "cell_type": "code",
   "execution_count": null,
   "metadata": {},
   "outputs": [],
   "source": [
    "values[counts>1],counts[counts>1]"
   ]
  },
  {
   "cell_type": "markdown",
   "metadata": {},
   "source": [
    "### DATA SPLITTING"
   ]
  },
  {
   "cell_type": "code",
   "execution_count": null,
   "metadata": {},
   "outputs": [],
   "source": [
    "import torch\n",
    "from sklearn.preprocessing import MinMaxScaler, OneHotEncoder\n",
    "from sklearn.model_selection import train_test_split\n",
    "import torch.nn.functional as F\n",
    "import torch.utils.data as utils\n",
    "from torch.utils.data import DataLoader\n",
    "from torch.utils.data import Dataset\n",
    "from torch.utils.data import random_split\n",
    "import torch.nn as nn"
   ]
  },
  {
   "cell_type": "code",
   "execution_count": null,
   "metadata": {},
   "outputs": [],
   "source": [
    "# target_sensor = \"Austin\"\n",
    "# features = list(df.columns.difference([target_sensor]))\n",
    "\n",
    "# forecast_lead = 15\n",
    "# target = f\"{target_sensor}_lead{forecast_lead}\"\n",
    "\n",
    "# df[target] = df[target_sensor].shift(-forecast_lead)\n",
    "# df = df.iloc[:-forecast_lead]"
   ]
  },
  {
   "cell_type": "code",
   "execution_count": null,
   "metadata": {},
   "outputs": [],
   "source": []
  }
 ],
 "metadata": {
  "colab": {
   "collapsed_sections": [],
   "provenance": []
  },
  "kernelspec": {
   "display_name": "Python 3 (ipykernel)",
   "language": "python",
   "name": "python3"
  },
  "language_info": {
   "codemirror_mode": {
    "name": "ipython",
    "version": 3
   },
   "file_extension": ".py",
   "mimetype": "text/x-python",
   "name": "python",
   "nbconvert_exporter": "python",
   "pygments_lexer": "ipython3",
   "version": "3.9.7"
  }
 },
 "nbformat": 4,
 "nbformat_minor": 4
}
