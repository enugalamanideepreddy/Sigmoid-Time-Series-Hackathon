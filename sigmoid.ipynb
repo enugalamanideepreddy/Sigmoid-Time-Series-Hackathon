{
 "cells": [
  {
   "cell_type": "markdown",
   "metadata": {
    "id": "h0YpNx_lljPK"
   },
   "source": [
    "## DATA IMPORTING"
   ]
  },
  {
   "cell_type": "code",
   "execution_count": 1,
   "metadata": {
    "id": "8pWd4xR0lgKk"
   },
   "outputs": [],
   "source": [
    "import numpy as np\n",
    "import pandas as pd"
   ]
  },
  {
   "cell_type": "code",
   "execution_count": 17,
   "metadata": {},
   "outputs": [],
   "source": [
    "df1 = pd.read_csv('train.csv')\n",
    "df2 = pd.read_csv('test.csv')\n",
    "codf = pd.read_csv('US_COVID_data_state_level.csv')\n",
    "cidf = pd.read_csv('city_details.csv')\n",
    "wadf = pd.read_csv('warehouse_mapping.csv')"
   ]
  },
  {
   "cell_type": "code",
   "execution_count": 19,
   "metadata": {
    "colab": {
     "base_uri": "https://localhost:8080/",
     "height": 423
    },
    "id": "pY8815M1Ayvz",
    "outputId": "19a04489-45d6-47d4-b502-62a2fca9f59e"
   },
   "outputs": [
    {
     "data": {
      "text/plain": [
       "(            date  wh_id  sales\n",
       " 453210  12/03/21   97.0     84\n",
       " 453211  13/03/21   97.0     60\n",
       " 453212  14/03/21   97.0     81\n",
       " 453213  15/03/21   97.0     90\n",
       " 453214  16/03/21   97.0     48,\n",
       " (453215, 3))"
      ]
     },
     "execution_count": 19,
     "metadata": {},
     "output_type": "execute_result"
    }
   ],
   "source": [
    "df1.tail(),df1.shape"
   ]
  },
  {
   "cell_type": "code",
   "execution_count": 6,
   "metadata": {
    "id": "rTwqMPElsOYf"
   },
   "outputs": [],
   "source": [
    "corl = codf[codf.conf_cases.notna()]"
   ]
  },
  {
   "cell_type": "code",
   "execution_count": 7,
   "metadata": {
    "id": "477hCcalt6DZ"
   },
   "outputs": [],
   "source": [
    "a,b = corl.tot_cases,corl.conf_cases"
   ]
  },
  {
   "cell_type": "code",
   "execution_count": 8,
   "metadata": {
    "colab": {
     "base_uri": "https://localhost:8080/"
    },
    "id": "-n0rmAJpuF1I",
    "outputId": "3ea640d1-dcdd-4ce3-cee6-af22fd211a33"
   },
   "outputs": [
    {
     "data": {
      "text/plain": [
       "0.994857188030104"
      ]
     },
     "execution_count": 8,
     "metadata": {},
     "output_type": "execute_result"
    }
   ],
   "source": [
    "a.corr(b)"
   ]
  },
  {
   "cell_type": "code",
   "execution_count": 15,
   "metadata": {
    "colab": {
     "base_uri": "https://localhost:8080/",
     "height": 423
    },
    "id": "xDhLhqUnrWtS",
    "outputId": "8647903e-117b-4c18-de2d-07203bde4caf"
   },
   "outputs": [
    {
     "data": {
      "text/plain": [
       "(            city state\n",
       " 554  WESTMINSTER    CA\n",
       " 555      ONTARIO    CA\n",
       " 556       TACOMA    WA\n",
       " 557      BOZEMAN    MT\n",
       " 558    CLACKAMAS    OR,\n",
       " (523, 2))"
      ]
     },
     "execution_count": 15,
     "metadata": {},
     "output_type": "execute_result"
    }
   ],
   "source": [
    "cidf1 = cidf.drop(['zip_code','country','state_name'],axis = 1)\n",
    "cidf1 = cidf1.drop_duplicates()\n",
    "cidf1.tail(),cidf1.shape"
   ]
  },
  {
   "cell_type": "code",
   "execution_count": 28,
   "metadata": {},
   "outputs": [
    {
     "data": {
      "text/html": [
       "<div>\n",
       "<style scoped>\n",
       "    .dataframe tbody tr th:only-of-type {\n",
       "        vertical-align: middle;\n",
       "    }\n",
       "\n",
       "    .dataframe tbody tr th {\n",
       "        vertical-align: top;\n",
       "    }\n",
       "\n",
       "    .dataframe thead th {\n",
       "        text-align: right;\n",
       "    }\n",
       "</style>\n",
       "<table border=\"1\" class=\"dataframe\">\n",
       "  <thead>\n",
       "    <tr style=\"text-align: right;\">\n",
       "      <th></th>\n",
       "      <th>wh_id</th>\n",
       "      <th>warehouse_name</th>\n",
       "      <th>city</th>\n",
       "    </tr>\n",
       "  </thead>\n",
       "  <tbody>\n",
       "    <tr>\n",
       "      <th>0</th>\n",
       "      <td>1</td>\n",
       "      <td>WAREHOUSE 1 SEATTLE</td>\n",
       "      <td>SEATTLE</td>\n",
       "    </tr>\n",
       "    <tr>\n",
       "      <th>1</th>\n",
       "      <td>10</td>\n",
       "      <td>WAREHOUSE 10 ANCHORAGE</td>\n",
       "      <td>ANCHORAGE</td>\n",
       "    </tr>\n",
       "    <tr>\n",
       "      <th>2</th>\n",
       "      <td>1000</td>\n",
       "      <td>WAREHOUSE 1000 COLUMBIA</td>\n",
       "      <td>COLUMBIA</td>\n",
       "    </tr>\n",
       "    <tr>\n",
       "      <th>3</th>\n",
       "      <td>1001</td>\n",
       "      <td>WAREHOUSE 1001 TUSTIN</td>\n",
       "      <td>TUSTIN</td>\n",
       "    </tr>\n",
       "    <tr>\n",
       "      <th>4</th>\n",
       "      <td>122</td>\n",
       "      <td>WAREHOUSE 122 TUSTIN RANCH</td>\n",
       "      <td>TUSTIN</td>\n",
       "    </tr>\n",
       "    <tr>\n",
       "      <th>...</th>\n",
       "      <td>...</td>\n",
       "      <td>...</td>\n",
       "      <td>...</td>\n",
       "    </tr>\n",
       "    <tr>\n",
       "      <th>554</th>\n",
       "      <td>943</td>\n",
       "      <td>WAREHOUSE 943 WESTMINSTER BUS CTR</td>\n",
       "      <td>WESTMINSTER</td>\n",
       "    </tr>\n",
       "    <tr>\n",
       "      <th>555</th>\n",
       "      <td>947</td>\n",
       "      <td>WAREHOUSE 947 ONTARIO BUS CTR</td>\n",
       "      <td>ONTARIO</td>\n",
       "    </tr>\n",
       "    <tr>\n",
       "      <th>556</th>\n",
       "      <td>95</td>\n",
       "      <td>WAREHOUSE 95 TACOMA</td>\n",
       "      <td>TACOMA</td>\n",
       "    </tr>\n",
       "    <tr>\n",
       "      <th>557</th>\n",
       "      <td>96</td>\n",
       "      <td>WAREHOUSE 96 BOZEMAN</td>\n",
       "      <td>BOZEMAN</td>\n",
       "    </tr>\n",
       "    <tr>\n",
       "      <th>558</th>\n",
       "      <td>97</td>\n",
       "      <td>WAREHOUSE 97 CLACKAMAS</td>\n",
       "      <td>CLACKAMAS</td>\n",
       "    </tr>\n",
       "  </tbody>\n",
       "</table>\n",
       "<p>559 rows × 3 columns</p>\n",
       "</div>"
      ],
      "text/plain": [
       "     wh_id                     warehouse_name         city\n",
       "0        1                WAREHOUSE 1 SEATTLE      SEATTLE\n",
       "1       10             WAREHOUSE 10 ANCHORAGE    ANCHORAGE\n",
       "2     1000            WAREHOUSE 1000 COLUMBIA     COLUMBIA\n",
       "3     1001              WAREHOUSE 1001 TUSTIN       TUSTIN\n",
       "4      122         WAREHOUSE 122 TUSTIN RANCH       TUSTIN\n",
       "..     ...                                ...          ...\n",
       "554    943  WAREHOUSE 943 WESTMINSTER BUS CTR  WESTMINSTER\n",
       "555    947      WAREHOUSE 947 ONTARIO BUS CTR      ONTARIO\n",
       "556     95                WAREHOUSE 95 TACOMA       TACOMA\n",
       "557     96               WAREHOUSE 96 BOZEMAN      BOZEMAN\n",
       "558     97             WAREHOUSE 97 CLACKAMAS    CLACKAMAS\n",
       "\n",
       "[559 rows x 3 columns]"
      ]
     },
     "execution_count": 28,
     "metadata": {},
     "output_type": "execute_result"
    }
   ],
   "source": [
    "wadf"
   ]
  },
  {
   "cell_type": "code",
   "execution_count": 11,
   "metadata": {
    "colab": {
     "base_uri": "https://localhost:8080/",
     "height": 423
    },
    "id": "_48oQIpRfSwX",
    "outputId": "cd7f07ec-ab5d-4c86-beaa-89b89d75931b"
   },
   "outputs": [
    {
     "data": {
      "text/html": [
       "<div>\n",
       "<style scoped>\n",
       "    .dataframe tbody tr th:only-of-type {\n",
       "        vertical-align: middle;\n",
       "    }\n",
       "\n",
       "    .dataframe tbody tr th {\n",
       "        vertical-align: top;\n",
       "    }\n",
       "\n",
       "    .dataframe thead th {\n",
       "        text-align: right;\n",
       "    }\n",
       "</style>\n",
       "<table border=\"1\" class=\"dataframe\">\n",
       "  <thead>\n",
       "    <tr style=\"text-align: right;\">\n",
       "      <th></th>\n",
       "      <th>date</th>\n",
       "      <th>state</th>\n",
       "      <th>tot_cases</th>\n",
       "      <th>conf_cases</th>\n",
       "      <th>city</th>\n",
       "    </tr>\n",
       "  </thead>\n",
       "  <tbody>\n",
       "    <tr>\n",
       "      <th>0</th>\n",
       "      <td>22/01/20</td>\n",
       "      <td>OH</td>\n",
       "      <td>0</td>\n",
       "      <td>NaN</td>\n",
       "      <td>TOLEDO</td>\n",
       "    </tr>\n",
       "    <tr>\n",
       "      <th>1</th>\n",
       "      <td>22/01/20</td>\n",
       "      <td>OH</td>\n",
       "      <td>0</td>\n",
       "      <td>NaN</td>\n",
       "      <td>EASTON</td>\n",
       "    </tr>\n",
       "    <tr>\n",
       "      <th>2</th>\n",
       "      <td>22/01/20</td>\n",
       "      <td>OH</td>\n",
       "      <td>0</td>\n",
       "      <td>NaN</td>\n",
       "      <td>CENTERVILLE</td>\n",
       "    </tr>\n",
       "    <tr>\n",
       "      <th>3</th>\n",
       "      <td>22/01/20</td>\n",
       "      <td>OH</td>\n",
       "      <td>0</td>\n",
       "      <td>NaN</td>\n",
       "      <td>PERRYSBURG</td>\n",
       "    </tr>\n",
       "    <tr>\n",
       "      <th>4</th>\n",
       "      <td>22/01/20</td>\n",
       "      <td>OH</td>\n",
       "      <td>0</td>\n",
       "      <td>NaN</td>\n",
       "      <td>BOSTON</td>\n",
       "    </tr>\n",
       "    <tr>\n",
       "      <th>...</th>\n",
       "      <td>...</td>\n",
       "      <td>...</td>\n",
       "      <td>...</td>\n",
       "      <td>...</td>\n",
       "      <td>...</td>\n",
       "    </tr>\n",
       "    <tr>\n",
       "      <th>261563</th>\n",
       "      <td>23/05/21</td>\n",
       "      <td>FL</td>\n",
       "      <td>2267144</td>\n",
       "      <td>NaN</td>\n",
       "      <td>DAVIE</td>\n",
       "    </tr>\n",
       "    <tr>\n",
       "      <th>261564</th>\n",
       "      <td>23/05/21</td>\n",
       "      <td>FL</td>\n",
       "      <td>2267144</td>\n",
       "      <td>NaN</td>\n",
       "      <td>PALM</td>\n",
       "    </tr>\n",
       "    <tr>\n",
       "      <th>261565</th>\n",
       "      <td>23/05/21</td>\n",
       "      <td>IA</td>\n",
       "      <td>370625</td>\n",
       "      <td>NaN</td>\n",
       "      <td>CORALVILLE</td>\n",
       "    </tr>\n",
       "    <tr>\n",
       "      <th>261566</th>\n",
       "      <td>23/05/21</td>\n",
       "      <td>IA</td>\n",
       "      <td>370625</td>\n",
       "      <td>NaN</td>\n",
       "      <td>DAVENPORT</td>\n",
       "    </tr>\n",
       "    <tr>\n",
       "      <th>261567</th>\n",
       "      <td>23/05/21</td>\n",
       "      <td>IA</td>\n",
       "      <td>370625</td>\n",
       "      <td>NaN</td>\n",
       "      <td>WEST</td>\n",
       "    </tr>\n",
       "  </tbody>\n",
       "</table>\n",
       "<p>261568 rows × 5 columns</p>\n",
       "</div>"
      ],
      "text/plain": [
       "            date state  tot_cases  conf_cases         city\n",
       "0       22/01/20    OH          0         NaN       TOLEDO\n",
       "1       22/01/20    OH          0         NaN       EASTON\n",
       "2       22/01/20    OH          0         NaN  CENTERVILLE\n",
       "3       22/01/20    OH          0         NaN   PERRYSBURG\n",
       "4       22/01/20    OH          0         NaN       BOSTON\n",
       "...          ...   ...        ...         ...          ...\n",
       "261563  23/05/21    FL    2267144         NaN        DAVIE\n",
       "261564  23/05/21    FL    2267144         NaN         PALM\n",
       "261565  23/05/21    IA     370625         NaN   CORALVILLE\n",
       "261566  23/05/21    IA     370625         NaN    DAVENPORT\n",
       "261567  23/05/21    IA     370625         NaN         WEST\n",
       "\n",
       "[261568 rows x 5 columns]"
      ]
     },
     "execution_count": 11,
     "metadata": {},
     "output_type": "execute_result"
    }
   ],
   "source": [
    "m = codf.merge(cidf1,how = 'left',on='state')\n",
    "m"
   ]
  },
  {
   "cell_type": "code",
   "execution_count": 20,
   "metadata": {
    "id": "eozdjAslsGIQ"
   },
   "outputs": [],
   "source": [
    "b = []\n",
    "for row in wadf.values:\n",
    "  b.append(row[1].split()[2])\n",
    "\n",
    "wadf['city'] = np.array(b)"
   ]
  },
  {
   "cell_type": "code",
   "execution_count": 23,
   "metadata": {
    "id": "uiCDcCp1ntl-"
   },
   "outputs": [],
   "source": [
    "x = df1.merge(wadf.drop(axis = 1,columns=['warehouse_name']),how='left',on = 'wh_id')"
   ]
  },
  {
   "cell_type": "code",
   "execution_count": 29,
   "metadata": {},
   "outputs": [
    {
     "data": {
      "text/html": [
       "<div>\n",
       "<style scoped>\n",
       "    .dataframe tbody tr th:only-of-type {\n",
       "        vertical-align: middle;\n",
       "    }\n",
       "\n",
       "    .dataframe tbody tr th {\n",
       "        vertical-align: top;\n",
       "    }\n",
       "\n",
       "    .dataframe thead th {\n",
       "        text-align: right;\n",
       "    }\n",
       "</style>\n",
       "<table border=\"1\" class=\"dataframe\">\n",
       "  <thead>\n",
       "    <tr style=\"text-align: right;\">\n",
       "      <th></th>\n",
       "      <th>date</th>\n",
       "      <th>wh_id</th>\n",
       "      <th>sales</th>\n",
       "      <th>city</th>\n",
       "    </tr>\n",
       "  </thead>\n",
       "  <tbody>\n",
       "    <tr>\n",
       "      <th>0</th>\n",
       "      <td>02/01/19</td>\n",
       "      <td>1.0</td>\n",
       "      <td>44</td>\n",
       "      <td>SEATTLE</td>\n",
       "    </tr>\n",
       "    <tr>\n",
       "      <th>1</th>\n",
       "      <td>03/01/19</td>\n",
       "      <td>1.0</td>\n",
       "      <td>48</td>\n",
       "      <td>SEATTLE</td>\n",
       "    </tr>\n",
       "    <tr>\n",
       "      <th>2</th>\n",
       "      <td>04/01/19</td>\n",
       "      <td>1.0</td>\n",
       "      <td>36</td>\n",
       "      <td>SEATTLE</td>\n",
       "    </tr>\n",
       "    <tr>\n",
       "      <th>3</th>\n",
       "      <td>05/01/19</td>\n",
       "      <td>1.0</td>\n",
       "      <td>40</td>\n",
       "      <td>SEATTLE</td>\n",
       "    </tr>\n",
       "    <tr>\n",
       "      <th>4</th>\n",
       "      <td>06/01/19</td>\n",
       "      <td>1.0</td>\n",
       "      <td>80</td>\n",
       "      <td>SEATTLE</td>\n",
       "    </tr>\n",
       "    <tr>\n",
       "      <th>...</th>\n",
       "      <td>...</td>\n",
       "      <td>...</td>\n",
       "      <td>...</td>\n",
       "      <td>...</td>\n",
       "    </tr>\n",
       "    <tr>\n",
       "      <th>453210</th>\n",
       "      <td>12/03/21</td>\n",
       "      <td>97.0</td>\n",
       "      <td>84</td>\n",
       "      <td>CLACKAMAS</td>\n",
       "    </tr>\n",
       "    <tr>\n",
       "      <th>453211</th>\n",
       "      <td>13/03/21</td>\n",
       "      <td>97.0</td>\n",
       "      <td>60</td>\n",
       "      <td>CLACKAMAS</td>\n",
       "    </tr>\n",
       "    <tr>\n",
       "      <th>453212</th>\n",
       "      <td>14/03/21</td>\n",
       "      <td>97.0</td>\n",
       "      <td>81</td>\n",
       "      <td>CLACKAMAS</td>\n",
       "    </tr>\n",
       "    <tr>\n",
       "      <th>453213</th>\n",
       "      <td>15/03/21</td>\n",
       "      <td>97.0</td>\n",
       "      <td>90</td>\n",
       "      <td>CLACKAMAS</td>\n",
       "    </tr>\n",
       "    <tr>\n",
       "      <th>453214</th>\n",
       "      <td>16/03/21</td>\n",
       "      <td>97.0</td>\n",
       "      <td>48</td>\n",
       "      <td>CLACKAMAS</td>\n",
       "    </tr>\n",
       "  </tbody>\n",
       "</table>\n",
       "<p>453215 rows × 4 columns</p>\n",
       "</div>"
      ],
      "text/plain": [
       "            date  wh_id  sales       city\n",
       "0       02/01/19    1.0     44    SEATTLE\n",
       "1       03/01/19    1.0     48    SEATTLE\n",
       "2       04/01/19    1.0     36    SEATTLE\n",
       "3       05/01/19    1.0     40    SEATTLE\n",
       "4       06/01/19    1.0     80    SEATTLE\n",
       "...          ...    ...    ...        ...\n",
       "453210  12/03/21   97.0     84  CLACKAMAS\n",
       "453211  13/03/21   97.0     60  CLACKAMAS\n",
       "453212  14/03/21   97.0     81  CLACKAMAS\n",
       "453213  15/03/21   97.0     90  CLACKAMAS\n",
       "453214  16/03/21   97.0     48  CLACKAMAS\n",
       "\n",
       "[453215 rows x 4 columns]"
      ]
     },
     "execution_count": 29,
     "metadata": {},
     "output_type": "execute_result"
    }
   ],
   "source": [
    "x"
   ]
  },
  {
   "cell_type": "code",
   "execution_count": 30,
   "metadata": {
    "id": "KkvwI8K3DrjI"
   },
   "outputs": [],
   "source": [
    "z = x.merge(m,how='left', on = ['date','city'])"
   ]
  },
  {
   "cell_type": "code",
   "execution_count": 31,
   "metadata": {
    "colab": {
     "base_uri": "https://localhost:8080/",
     "height": 423
    },
    "id": "hH6fgopIHqkt",
    "outputId": "9748bd85-cff6-4a0a-b26b-6c86356fb662"
   },
   "outputs": [
    {
     "data": {
      "text/html": [
       "<div>\n",
       "<style scoped>\n",
       "    .dataframe tbody tr th:only-of-type {\n",
       "        vertical-align: middle;\n",
       "    }\n",
       "\n",
       "    .dataframe tbody tr th {\n",
       "        vertical-align: top;\n",
       "    }\n",
       "\n",
       "    .dataframe thead th {\n",
       "        text-align: right;\n",
       "    }\n",
       "</style>\n",
       "<table border=\"1\" class=\"dataframe\">\n",
       "  <thead>\n",
       "    <tr style=\"text-align: right;\">\n",
       "      <th></th>\n",
       "      <th>date</th>\n",
       "      <th>wh_id</th>\n",
       "      <th>sales</th>\n",
       "      <th>city</th>\n",
       "      <th>state</th>\n",
       "      <th>tot_cases</th>\n",
       "      <th>conf_cases</th>\n",
       "    </tr>\n",
       "  </thead>\n",
       "  <tbody>\n",
       "    <tr>\n",
       "      <th>1610</th>\n",
       "      <td>02/01/19</td>\n",
       "      <td>1000.0</td>\n",
       "      <td>88</td>\n",
       "      <td>COLUMBIA</td>\n",
       "      <td>NaN</td>\n",
       "      <td>NaN</td>\n",
       "      <td>NaN</td>\n",
       "    </tr>\n",
       "    <tr>\n",
       "      <th>1611</th>\n",
       "      <td>03/01/19</td>\n",
       "      <td>1000.0</td>\n",
       "      <td>76</td>\n",
       "      <td>COLUMBIA</td>\n",
       "      <td>NaN</td>\n",
       "      <td>NaN</td>\n",
       "      <td>NaN</td>\n",
       "    </tr>\n",
       "    <tr>\n",
       "      <th>1612</th>\n",
       "      <td>04/01/19</td>\n",
       "      <td>1000.0</td>\n",
       "      <td>72</td>\n",
       "      <td>COLUMBIA</td>\n",
       "      <td>NaN</td>\n",
       "      <td>NaN</td>\n",
       "      <td>NaN</td>\n",
       "    </tr>\n",
       "    <tr>\n",
       "      <th>1613</th>\n",
       "      <td>05/01/19</td>\n",
       "      <td>1000.0</td>\n",
       "      <td>68</td>\n",
       "      <td>COLUMBIA</td>\n",
       "      <td>NaN</td>\n",
       "      <td>NaN</td>\n",
       "      <td>NaN</td>\n",
       "    </tr>\n",
       "    <tr>\n",
       "      <th>1614</th>\n",
       "      <td>06/01/19</td>\n",
       "      <td>1000.0</td>\n",
       "      <td>80</td>\n",
       "      <td>COLUMBIA</td>\n",
       "      <td>NaN</td>\n",
       "      <td>NaN</td>\n",
       "      <td>NaN</td>\n",
       "    </tr>\n",
       "    <tr>\n",
       "      <th>...</th>\n",
       "      <td>...</td>\n",
       "      <td>...</td>\n",
       "      <td>...</td>\n",
       "      <td>...</td>\n",
       "      <td>...</td>\n",
       "      <td>...</td>\n",
       "      <td>...</td>\n",
       "    </tr>\n",
       "    <tr>\n",
       "      <th>156305</th>\n",
       "      <td>14/03/21</td>\n",
       "      <td>1232.0</td>\n",
       "      <td>146</td>\n",
       "      <td>COLUMBIA</td>\n",
       "      <td>SC</td>\n",
       "      <td>539411.0</td>\n",
       "      <td>457536.0</td>\n",
       "    </tr>\n",
       "    <tr>\n",
       "      <th>156306</th>\n",
       "      <td>15/03/21</td>\n",
       "      <td>1232.0</td>\n",
       "      <td>141</td>\n",
       "      <td>COLUMBIA</td>\n",
       "      <td>MD</td>\n",
       "      <td>394716.0</td>\n",
       "      <td>NaN</td>\n",
       "    </tr>\n",
       "    <tr>\n",
       "      <th>156307</th>\n",
       "      <td>15/03/21</td>\n",
       "      <td>1232.0</td>\n",
       "      <td>141</td>\n",
       "      <td>COLUMBIA</td>\n",
       "      <td>SC</td>\n",
       "      <td>540011.0</td>\n",
       "      <td>457938.0</td>\n",
       "    </tr>\n",
       "    <tr>\n",
       "      <th>156308</th>\n",
       "      <td>16/03/21</td>\n",
       "      <td>1232.0</td>\n",
       "      <td>456</td>\n",
       "      <td>COLUMBIA</td>\n",
       "      <td>MD</td>\n",
       "      <td>395633.0</td>\n",
       "      <td>NaN</td>\n",
       "    </tr>\n",
       "    <tr>\n",
       "      <th>156309</th>\n",
       "      <td>16/03/21</td>\n",
       "      <td>1232.0</td>\n",
       "      <td>456</td>\n",
       "      <td>COLUMBIA</td>\n",
       "      <td>SC</td>\n",
       "      <td>541217.0</td>\n",
       "      <td>458734.0</td>\n",
       "    </tr>\n",
       "  </tbody>\n",
       "</table>\n",
       "<p>2450 rows × 7 columns</p>\n",
       "</div>"
      ],
      "text/plain": [
       "            date   wh_id  sales      city state  tot_cases  conf_cases\n",
       "1610    02/01/19  1000.0     88  COLUMBIA   NaN        NaN         NaN\n",
       "1611    03/01/19  1000.0     76  COLUMBIA   NaN        NaN         NaN\n",
       "1612    04/01/19  1000.0     72  COLUMBIA   NaN        NaN         NaN\n",
       "1613    05/01/19  1000.0     68  COLUMBIA   NaN        NaN         NaN\n",
       "1614    06/01/19  1000.0     80  COLUMBIA   NaN        NaN         NaN\n",
       "...          ...     ...    ...       ...   ...        ...         ...\n",
       "156305  14/03/21  1232.0    146  COLUMBIA    SC   539411.0    457536.0\n",
       "156306  15/03/21  1232.0    141  COLUMBIA    MD   394716.0         NaN\n",
       "156307  15/03/21  1232.0    141  COLUMBIA    SC   540011.0    457938.0\n",
       "156308  16/03/21  1232.0    456  COLUMBIA    MD   395633.0         NaN\n",
       "156309  16/03/21  1232.0    456  COLUMBIA    SC   541217.0    458734.0\n",
       "\n",
       "[2450 rows x 7 columns]"
      ]
     },
     "execution_count": 31,
     "metadata": {},
     "output_type": "execute_result"
    }
   ],
   "source": [
    "z[z.city == 'COLUMBIA']"
   ]
  },
  {
   "cell_type": "code",
   "execution_count": null,
   "metadata": {
    "colab": {
     "base_uri": "https://localhost:8080/"
    },
    "id": "XYDutE_TDrmk",
    "outputId": "315a9e71-7181-44f5-d9bb-a7222b20fba4"
   },
   "outputs": [
    {
     "data": {
      "text/plain": [
       "array([106., 439.])"
      ]
     },
     "execution_count": 45,
     "metadata": {},
     "output_type": "execute_result"
    }
   ],
   "source": [
    "z[z.city == 'AURORA'].wh_id.unique()"
   ]
  },
  {
   "cell_type": "code",
   "execution_count": null,
   "metadata": {
    "colab": {
     "base_uri": "https://localhost:8080/",
     "height": 206
    },
    "id": "796WMytCtTHs",
    "outputId": "97eaec4a-79a2-49c9-b1bf-ceb18299fb06"
   },
   "outputs": [
    {
     "data": {
      "text/html": [
       "\n",
       "  <div id=\"df-168bcff7-c6c1-47c2-8753-5aa7bf82e179\">\n",
       "    <div class=\"colab-df-container\">\n",
       "      <div>\n",
       "<style scoped>\n",
       "    .dataframe tbody tr th:only-of-type {\n",
       "        vertical-align: middle;\n",
       "    }\n",
       "\n",
       "    .dataframe tbody tr th {\n",
       "        vertical-align: top;\n",
       "    }\n",
       "\n",
       "    .dataframe thead th {\n",
       "        text-align: right;\n",
       "    }\n",
       "</style>\n",
       "<table border=\"1\" class=\"dataframe\">\n",
       "  <thead>\n",
       "    <tr style=\"text-align: right;\">\n",
       "      <th></th>\n",
       "      <th>date</th>\n",
       "      <th>state</th>\n",
       "      <th>tot_cases</th>\n",
       "      <th>conf_cases</th>\n",
       "    </tr>\n",
       "  </thead>\n",
       "  <tbody>\n",
       "    <tr>\n",
       "      <th>0</th>\n",
       "      <td>22/01/20</td>\n",
       "      <td>OH</td>\n",
       "      <td>0</td>\n",
       "      <td>NaN</td>\n",
       "    </tr>\n",
       "    <tr>\n",
       "      <th>1</th>\n",
       "      <td>22/01/20</td>\n",
       "      <td>GA</td>\n",
       "      <td>0</td>\n",
       "      <td>NaN</td>\n",
       "    </tr>\n",
       "    <tr>\n",
       "      <th>2</th>\n",
       "      <td>22/01/20</td>\n",
       "      <td>OK</td>\n",
       "      <td>0</td>\n",
       "      <td>NaN</td>\n",
       "    </tr>\n",
       "    <tr>\n",
       "      <th>3</th>\n",
       "      <td>22/01/20</td>\n",
       "      <td>NM</td>\n",
       "      <td>0</td>\n",
       "      <td>NaN</td>\n",
       "    </tr>\n",
       "    <tr>\n",
       "      <th>4</th>\n",
       "      <td>22/01/20</td>\n",
       "      <td>HI</td>\n",
       "      <td>0</td>\n",
       "      <td>NaN</td>\n",
       "    </tr>\n",
       "  </tbody>\n",
       "</table>\n",
       "</div>\n",
       "      <button class=\"colab-df-convert\" onclick=\"convertToInteractive('df-168bcff7-c6c1-47c2-8753-5aa7bf82e179')\"\n",
       "              title=\"Convert this dataframe to an interactive table.\"\n",
       "              style=\"display:none;\">\n",
       "        \n",
       "  <svg xmlns=\"http://www.w3.org/2000/svg\" height=\"24px\"viewBox=\"0 0 24 24\"\n",
       "       width=\"24px\">\n",
       "    <path d=\"M0 0h24v24H0V0z\" fill=\"none\"/>\n",
       "    <path d=\"M18.56 5.44l.94 2.06.94-2.06 2.06-.94-2.06-.94-.94-2.06-.94 2.06-2.06.94zm-11 1L8.5 8.5l.94-2.06 2.06-.94-2.06-.94L8.5 2.5l-.94 2.06-2.06.94zm10 10l.94 2.06.94-2.06 2.06-.94-2.06-.94-.94-2.06-.94 2.06-2.06.94z\"/><path d=\"M17.41 7.96l-1.37-1.37c-.4-.4-.92-.59-1.43-.59-.52 0-1.04.2-1.43.59L10.3 9.45l-7.72 7.72c-.78.78-.78 2.05 0 2.83L4 21.41c.39.39.9.59 1.41.59.51 0 1.02-.2 1.41-.59l7.78-7.78 2.81-2.81c.8-.78.8-2.07 0-2.86zM5.41 20L4 18.59l7.72-7.72 1.47 1.35L5.41 20z\"/>\n",
       "  </svg>\n",
       "      </button>\n",
       "      \n",
       "  <style>\n",
       "    .colab-df-container {\n",
       "      display:flex;\n",
       "      flex-wrap:wrap;\n",
       "      gap: 12px;\n",
       "    }\n",
       "\n",
       "    .colab-df-convert {\n",
       "      background-color: #E8F0FE;\n",
       "      border: none;\n",
       "      border-radius: 50%;\n",
       "      cursor: pointer;\n",
       "      display: none;\n",
       "      fill: #1967D2;\n",
       "      height: 32px;\n",
       "      padding: 0 0 0 0;\n",
       "      width: 32px;\n",
       "    }\n",
       "\n",
       "    .colab-df-convert:hover {\n",
       "      background-color: #E2EBFA;\n",
       "      box-shadow: 0px 1px 2px rgba(60, 64, 67, 0.3), 0px 1px 3px 1px rgba(60, 64, 67, 0.15);\n",
       "      fill: #174EA6;\n",
       "    }\n",
       "\n",
       "    [theme=dark] .colab-df-convert {\n",
       "      background-color: #3B4455;\n",
       "      fill: #D2E3FC;\n",
       "    }\n",
       "\n",
       "    [theme=dark] .colab-df-convert:hover {\n",
       "      background-color: #434B5C;\n",
       "      box-shadow: 0px 1px 3px 1px rgba(0, 0, 0, 0.15);\n",
       "      filter: drop-shadow(0px 1px 2px rgba(0, 0, 0, 0.3));\n",
       "      fill: #FFFFFF;\n",
       "    }\n",
       "  </style>\n",
       "\n",
       "      <script>\n",
       "        const buttonEl =\n",
       "          document.querySelector('#df-168bcff7-c6c1-47c2-8753-5aa7bf82e179 button.colab-df-convert');\n",
       "        buttonEl.style.display =\n",
       "          google.colab.kernel.accessAllowed ? 'block' : 'none';\n",
       "\n",
       "        async function convertToInteractive(key) {\n",
       "          const element = document.querySelector('#df-168bcff7-c6c1-47c2-8753-5aa7bf82e179');\n",
       "          const dataTable =\n",
       "            await google.colab.kernel.invokeFunction('convertToInteractive',\n",
       "                                                     [key], {});\n",
       "          if (!dataTable) return;\n",
       "\n",
       "          const docLinkHtml = 'Like what you see? Visit the ' +\n",
       "            '<a target=\"_blank\" href=https://colab.research.google.com/notebooks/data_table.ipynb>data table notebook</a>'\n",
       "            + ' to learn more about interactive tables.';\n",
       "          element.innerHTML = '';\n",
       "          dataTable['output_type'] = 'display_data';\n",
       "          await google.colab.output.renderOutput(dataTable, element);\n",
       "          const docLink = document.createElement('div');\n",
       "          docLink.innerHTML = docLinkHtml;\n",
       "          element.appendChild(docLink);\n",
       "        }\n",
       "      </script>\n",
       "    </div>\n",
       "  </div>\n",
       "  "
      ],
      "text/plain": [
       "       date state  tot_cases  conf_cases\n",
       "0  22/01/20    OH          0         NaN\n",
       "1  22/01/20    GA          0         NaN\n",
       "2  22/01/20    OK          0         NaN\n",
       "3  22/01/20    NM          0         NaN\n",
       "4  22/01/20    HI          0         NaN"
      ]
     },
     "execution_count": 16,
     "metadata": {},
     "output_type": "execute_result"
    }
   ],
   "source": [
    "codf.head()"
   ]
  },
  {
   "cell_type": "code",
   "execution_count": null,
   "metadata": {
    "id": "-D4OBhSPtawY"
   },
   "outputs": [],
   "source": [
    "codf['tot_cases']"
   ]
  },
  {
   "cell_type": "code",
   "execution_count": null,
   "metadata": {
    "colab": {
     "base_uri": "https://localhost:8080/"
    },
    "id": "xJKSI-ExHKQn",
    "outputId": "7ffff1b4-74d3-493a-e053-e8b24ec7c21a"
   },
   "outputs": [
    {
     "data": {
      "text/plain": [
       "array([1030., 1167., 1262., 1294.,  205.,  364.,  630.,  684.])"
      ]
     },
     "execution_count": 47,
     "metadata": {},
     "output_type": "execute_result"
    }
   ],
   "source": [
    "z[z.city == 'W'].wh_id.unique()"
   ]
  },
  {
   "cell_type": "code",
   "execution_count": null,
   "metadata": {
    "colab": {
     "base_uri": "https://localhost:8080/",
     "height": 112
    },
    "id": "YmH4wpZKTI-c",
    "outputId": "5dea6f72-f550-42cf-f629-e10ec9d7524b"
   },
   "outputs": [
    {
     "data": {
      "text/html": [
       "\n",
       "  <div id=\"df-06a629b1-7921-488a-865e-82b9ddda75af\">\n",
       "    <div class=\"colab-df-container\">\n",
       "      <div>\n",
       "<style scoped>\n",
       "    .dataframe tbody tr th:only-of-type {\n",
       "        vertical-align: middle;\n",
       "    }\n",
       "\n",
       "    .dataframe tbody tr th {\n",
       "        vertical-align: top;\n",
       "    }\n",
       "\n",
       "    .dataframe thead th {\n",
       "        text-align: right;\n",
       "    }\n",
       "</style>\n",
       "<table border=\"1\" class=\"dataframe\">\n",
       "  <thead>\n",
       "    <tr style=\"text-align: right;\">\n",
       "      <th></th>\n",
       "      <th>city</th>\n",
       "      <th>zip_code</th>\n",
       "      <th>state</th>\n",
       "      <th>state_name</th>\n",
       "      <th>country</th>\n",
       "    </tr>\n",
       "  </thead>\n",
       "  <tbody>\n",
       "    <tr>\n",
       "      <th>2</th>\n",
       "      <td>COLUMBIA</td>\n",
       "      <td>21075</td>\n",
       "      <td>MD</td>\n",
       "      <td>MARYLAND</td>\n",
       "      <td>US</td>\n",
       "    </tr>\n",
       "    <tr>\n",
       "      <th>154</th>\n",
       "      <td>COLUMBIA</td>\n",
       "      <td>29210</td>\n",
       "      <td>SC</td>\n",
       "      <td>SOUTH CAROLINA</td>\n",
       "      <td>US</td>\n",
       "    </tr>\n",
       "  </tbody>\n",
       "</table>\n",
       "</div>\n",
       "      <button class=\"colab-df-convert\" onclick=\"convertToInteractive('df-06a629b1-7921-488a-865e-82b9ddda75af')\"\n",
       "              title=\"Convert this dataframe to an interactive table.\"\n",
       "              style=\"display:none;\">\n",
       "        \n",
       "  <svg xmlns=\"http://www.w3.org/2000/svg\" height=\"24px\"viewBox=\"0 0 24 24\"\n",
       "       width=\"24px\">\n",
       "    <path d=\"M0 0h24v24H0V0z\" fill=\"none\"/>\n",
       "    <path d=\"M18.56 5.44l.94 2.06.94-2.06 2.06-.94-2.06-.94-.94-2.06-.94 2.06-2.06.94zm-11 1L8.5 8.5l.94-2.06 2.06-.94-2.06-.94L8.5 2.5l-.94 2.06-2.06.94zm10 10l.94 2.06.94-2.06 2.06-.94-2.06-.94-.94-2.06-.94 2.06-2.06.94z\"/><path d=\"M17.41 7.96l-1.37-1.37c-.4-.4-.92-.59-1.43-.59-.52 0-1.04.2-1.43.59L10.3 9.45l-7.72 7.72c-.78.78-.78 2.05 0 2.83L4 21.41c.39.39.9.59 1.41.59.51 0 1.02-.2 1.41-.59l7.78-7.78 2.81-2.81c.8-.78.8-2.07 0-2.86zM5.41 20L4 18.59l7.72-7.72 1.47 1.35L5.41 20z\"/>\n",
       "  </svg>\n",
       "      </button>\n",
       "      \n",
       "  <style>\n",
       "    .colab-df-container {\n",
       "      display:flex;\n",
       "      flex-wrap:wrap;\n",
       "      gap: 12px;\n",
       "    }\n",
       "\n",
       "    .colab-df-convert {\n",
       "      background-color: #E8F0FE;\n",
       "      border: none;\n",
       "      border-radius: 50%;\n",
       "      cursor: pointer;\n",
       "      display: none;\n",
       "      fill: #1967D2;\n",
       "      height: 32px;\n",
       "      padding: 0 0 0 0;\n",
       "      width: 32px;\n",
       "    }\n",
       "\n",
       "    .colab-df-convert:hover {\n",
       "      background-color: #E2EBFA;\n",
       "      box-shadow: 0px 1px 2px rgba(60, 64, 67, 0.3), 0px 1px 3px 1px rgba(60, 64, 67, 0.15);\n",
       "      fill: #174EA6;\n",
       "    }\n",
       "\n",
       "    [theme=dark] .colab-df-convert {\n",
       "      background-color: #3B4455;\n",
       "      fill: #D2E3FC;\n",
       "    }\n",
       "\n",
       "    [theme=dark] .colab-df-convert:hover {\n",
       "      background-color: #434B5C;\n",
       "      box-shadow: 0px 1px 3px 1px rgba(0, 0, 0, 0.15);\n",
       "      filter: drop-shadow(0px 1px 2px rgba(0, 0, 0, 0.3));\n",
       "      fill: #FFFFFF;\n",
       "    }\n",
       "  </style>\n",
       "\n",
       "      <script>\n",
       "        const buttonEl =\n",
       "          document.querySelector('#df-06a629b1-7921-488a-865e-82b9ddda75af button.colab-df-convert');\n",
       "        buttonEl.style.display =\n",
       "          google.colab.kernel.accessAllowed ? 'block' : 'none';\n",
       "\n",
       "        async function convertToInteractive(key) {\n",
       "          const element = document.querySelector('#df-06a629b1-7921-488a-865e-82b9ddda75af');\n",
       "          const dataTable =\n",
       "            await google.colab.kernel.invokeFunction('convertToInteractive',\n",
       "                                                     [key], {});\n",
       "          if (!dataTable) return;\n",
       "\n",
       "          const docLinkHtml = 'Like what you see? Visit the ' +\n",
       "            '<a target=\"_blank\" href=https://colab.research.google.com/notebooks/data_table.ipynb>data table notebook</a>'\n",
       "            + ' to learn more about interactive tables.';\n",
       "          element.innerHTML = '';\n",
       "          dataTable['output_type'] = 'display_data';\n",
       "          await google.colab.output.renderOutput(dataTable, element);\n",
       "          const docLink = document.createElement('div');\n",
       "          docLink.innerHTML = docLinkHtml;\n",
       "          element.appendChild(docLink);\n",
       "        }\n",
       "      </script>\n",
       "    </div>\n",
       "  </div>\n",
       "  "
      ],
      "text/plain": [
       "         city  zip_code state      state_name country\n",
       "2    COLUMBIA     21075    MD        MARYLAND      US\n",
       "154  COLUMBIA     29210    SC  SOUTH CAROLINA      US"
      ]
     },
     "execution_count": 38,
     "metadata": {},
     "output_type": "execute_result"
    }
   ],
   "source": [
    "cidf[cidf.city == 'COLUMBIA']"
   ]
  },
  {
   "cell_type": "code",
   "execution_count": null,
   "metadata": {
    "id": "xzyGBGb7nttm"
   },
   "outputs": [],
   "source": [
    "y = x.merge(cidf,how='left',on = 'city')\n",
    "train = y.merge(codf,how='left', on = ['date','state'])\n",
    "df1[df1.date == '02/01/19']"
   ]
  },
  {
   "cell_type": "markdown",
   "metadata": {
    "id": "-NaRZF_5lCve"
   },
   "source": [
    "## DATA PREPROCESSING"
   ]
  },
  {
   "cell_type": "code",
   "execution_count": null,
   "metadata": {
    "id": "rEBp66w2nssE"
   },
   "outputs": [],
   "source": []
  },
  {
   "cell_type": "code",
   "execution_count": null,
   "metadata": {
    "id": "gORaQgwcnsyT"
   },
   "outputs": [],
   "source": []
  },
  {
   "cell_type": "code",
   "execution_count": null,
   "metadata": {
    "id": "SUFK9CDpnszs"
   },
   "outputs": [],
   "source": []
  },
  {
   "cell_type": "code",
   "execution_count": null,
   "metadata": {
    "id": "-bKXxDr6ns07"
   },
   "outputs": [],
   "source": []
  },
  {
   "cell_type": "code",
   "execution_count": null,
   "metadata": {
    "id": "h2kQt-Wdns_F"
   },
   "outputs": [],
   "source": []
  },
  {
   "cell_type": "code",
   "execution_count": null,
   "metadata": {
    "id": "0BR8xt7plgQy"
   },
   "outputs": [],
   "source": []
  },
  {
   "cell_type": "code",
   "execution_count": null,
   "metadata": {
    "id": "qC1L-HuwlKke"
   },
   "outputs": [],
   "source": []
  },
  {
   "cell_type": "markdown",
   "metadata": {
    "id": "pWLluHnRk0JK"
   },
   "source": [
    "## EDA"
   ]
  },
  {
   "cell_type": "code",
   "execution_count": null,
   "metadata": {
    "id": "6FpPEIpgk1_y"
   },
   "outputs": [],
   "source": []
  }
 ],
 "metadata": {
  "colab": {
   "collapsed_sections": [],
   "provenance": []
  },
  "kernelspec": {
   "display_name": "Python 3 (ipykernel)",
   "language": "python",
   "name": "python3"
  },
  "language_info": {
   "codemirror_mode": {
    "name": "ipython",
    "version": 3
   },
   "file_extension": ".py",
   "mimetype": "text/x-python",
   "name": "python",
   "nbconvert_exporter": "python",
   "pygments_lexer": "ipython3",
   "version": "3.9.7"
  }
 },
 "nbformat": 4,
 "nbformat_minor": 4
}
