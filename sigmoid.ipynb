{
 "cells": [
  {
   "cell_type": "markdown",
   "metadata": {
    "id": "h0YpNx_lljPK"
   },
   "source": [
    "## DATA IMPORTING"
   ]
  },
  {
   "cell_type": "code",
   "execution_count": 59,
   "metadata": {
    "id": "8pWd4xR0lgKk"
   },
   "outputs": [],
   "source": [
    "import numpy as np\n",
    "import pandas as pd\n",
    "import matplotlib.pyplot as plt\n",
    "import plotly.express as px"
   ]
  },
  {
   "cell_type": "code",
   "execution_count": 60,
   "metadata": {},
   "outputs": [],
   "source": [
    "df1 = pd.read_csv('train.csv') #Training Dataset\n",
    "df2 = pd.read_csv('test.csv') #Testing dataset\n",
    "codf = pd.read_csv('US_COVID_data_state_level.csv') #Covid data of cities\n",
    "cidf = pd.read_csv('city_details.csv') #Cities data\n",
    "wadf = pd.read_csv('warehouse_mapping.csv') #Warehouse data"
   ]
  },
  {
   "cell_type": "markdown",
   "metadata": {
    "tags": []
   },
   "source": [
    "## Predicting Confirmed Cases"
   ]
  },
  {
   "cell_type": "code",
   "execution_count": 61,
   "metadata": {
    "id": "rTwqMPElsOYf"
   },
   "outputs": [],
   "source": [
    "corl = codf[codf.conf_cases.notna()] #Non-empty cells of confirmed cases"
   ]
  },
  {
   "cell_type": "code",
   "execution_count": 62,
   "metadata": {
    "id": "477hCcalt6DZ"
   },
   "outputs": [],
   "source": [
    "a,b = list(corl.tot_cases),list(corl.conf_cases)"
   ]
  },
  {
   "cell_type": "code",
   "execution_count": 63,
   "metadata": {},
   "outputs": [
    {
     "data": {
      "text/html": [
       "<style>#sk-container-id-3 {color: black;background-color: white;}#sk-container-id-3 pre{padding: 0;}#sk-container-id-3 div.sk-toggleable {background-color: white;}#sk-container-id-3 label.sk-toggleable__label {cursor: pointer;display: block;width: 100%;margin-bottom: 0;padding: 0.3em;box-sizing: border-box;text-align: center;}#sk-container-id-3 label.sk-toggleable__label-arrow:before {content: \"▸\";float: left;margin-right: 0.25em;color: #696969;}#sk-container-id-3 label.sk-toggleable__label-arrow:hover:before {color: black;}#sk-container-id-3 div.sk-estimator:hover label.sk-toggleable__label-arrow:before {color: black;}#sk-container-id-3 div.sk-toggleable__content {max-height: 0;max-width: 0;overflow: hidden;text-align: left;background-color: #f0f8ff;}#sk-container-id-3 div.sk-toggleable__content pre {margin: 0.2em;color: black;border-radius: 0.25em;background-color: #f0f8ff;}#sk-container-id-3 input.sk-toggleable__control:checked~div.sk-toggleable__content {max-height: 200px;max-width: 100%;overflow: auto;}#sk-container-id-3 input.sk-toggleable__control:checked~label.sk-toggleable__label-arrow:before {content: \"▾\";}#sk-container-id-3 div.sk-estimator input.sk-toggleable__control:checked~label.sk-toggleable__label {background-color: #d4ebff;}#sk-container-id-3 div.sk-label input.sk-toggleable__control:checked~label.sk-toggleable__label {background-color: #d4ebff;}#sk-container-id-3 input.sk-hidden--visually {border: 0;clip: rect(1px 1px 1px 1px);clip: rect(1px, 1px, 1px, 1px);height: 1px;margin: -1px;overflow: hidden;padding: 0;position: absolute;width: 1px;}#sk-container-id-3 div.sk-estimator {font-family: monospace;background-color: #f0f8ff;border: 1px dotted black;border-radius: 0.25em;box-sizing: border-box;margin-bottom: 0.5em;}#sk-container-id-3 div.sk-estimator:hover {background-color: #d4ebff;}#sk-container-id-3 div.sk-parallel-item::after {content: \"\";width: 100%;border-bottom: 1px solid gray;flex-grow: 1;}#sk-container-id-3 div.sk-label:hover label.sk-toggleable__label {background-color: #d4ebff;}#sk-container-id-3 div.sk-serial::before {content: \"\";position: absolute;border-left: 1px solid gray;box-sizing: border-box;top: 0;bottom: 0;left: 50%;z-index: 0;}#sk-container-id-3 div.sk-serial {display: flex;flex-direction: column;align-items: center;background-color: white;padding-right: 0.2em;padding-left: 0.2em;position: relative;}#sk-container-id-3 div.sk-item {position: relative;z-index: 1;}#sk-container-id-3 div.sk-parallel {display: flex;align-items: stretch;justify-content: center;background-color: white;position: relative;}#sk-container-id-3 div.sk-item::before, #sk-container-id-3 div.sk-parallel-item::before {content: \"\";position: absolute;border-left: 1px solid gray;box-sizing: border-box;top: 0;bottom: 0;left: 50%;z-index: -1;}#sk-container-id-3 div.sk-parallel-item {display: flex;flex-direction: column;z-index: 1;position: relative;background-color: white;}#sk-container-id-3 div.sk-parallel-item:first-child::after {align-self: flex-end;width: 50%;}#sk-container-id-3 div.sk-parallel-item:last-child::after {align-self: flex-start;width: 50%;}#sk-container-id-3 div.sk-parallel-item:only-child::after {width: 0;}#sk-container-id-3 div.sk-dashed-wrapped {border: 1px dashed gray;margin: 0 0.4em 0.5em 0.4em;box-sizing: border-box;padding-bottom: 0.4em;background-color: white;}#sk-container-id-3 div.sk-label label {font-family: monospace;font-weight: bold;display: inline-block;line-height: 1.2em;}#sk-container-id-3 div.sk-label-container {text-align: center;}#sk-container-id-3 div.sk-container {/* jupyter's `normalize.less` sets `[hidden] { display: none; }` but bootstrap.min.css set `[hidden] { display: none !important; }` so we also need the `!important` here to be able to override the default hidden behavior on the sphinx rendered scikit-learn.org. See: https://github.com/scikit-learn/scikit-learn/issues/21755 */display: inline-block !important;position: relative;}#sk-container-id-3 div.sk-text-repr-fallback {display: none;}</style><div id=\"sk-container-id-3\" class=\"sk-top-container\"><div class=\"sk-text-repr-fallback\"><pre>RandomForestRegressor()</pre><b>In a Jupyter environment, please rerun this cell to show the HTML representation or trust the notebook. <br />On GitHub, the HTML representation is unable to render, please try loading this page with nbviewer.org.</b></div><div class=\"sk-container\" hidden><div class=\"sk-item\"><div class=\"sk-estimator sk-toggleable\"><input class=\"sk-toggleable__control sk-hidden--visually\" id=\"sk-estimator-id-3\" type=\"checkbox\" checked><label for=\"sk-estimator-id-3\" class=\"sk-toggleable__label sk-toggleable__label-arrow\">RandomForestRegressor</label><div class=\"sk-toggleable__content\"><pre>RandomForestRegressor()</pre></div></div></div></div></div>"
      ],
      "text/plain": [
       "RandomForestRegressor()"
      ]
     },
     "execution_count": 63,
     "metadata": {},
     "output_type": "execute_result"
    }
   ],
   "source": [
    "from sklearn.ensemble import RandomForestRegressor \n",
    "algo=RandomForestRegressor()\n",
    "ratio = []\n",
    "for i in range(len(a)):\n",
    "    if b[i]!=0:\n",
    "        ratio.append((a[i]-b[i])/(b[i]))\n",
    "    else:\n",
    "        ratio.append(0)\n",
    "a=np.array(a).reshape(-1,1)\n",
    "algo.fit(a,ratio)"
   ]
  },
  {
   "cell_type": "code",
   "execution_count": 64,
   "metadata": {},
   "outputs": [],
   "source": [
    "for i in codf[codf.conf_cases.isna()].index:\n",
    "    codf.iloc[i,3] = int(np.array(codf.iloc[i,2])/(1+algo.predict(np.array(codf.iloc[i,2].reshape(1,-1)))))"
   ]
  },
  {
   "cell_type": "code",
   "execution_count": 65,
   "metadata": {},
   "outputs": [
    {
     "data": {
      "text/html": [
       "<div>\n",
       "<style scoped>\n",
       "    .dataframe tbody tr th:only-of-type {\n",
       "        vertical-align: middle;\n",
       "    }\n",
       "\n",
       "    .dataframe tbody tr th {\n",
       "        vertical-align: top;\n",
       "    }\n",
       "\n",
       "    .dataframe thead th {\n",
       "        text-align: right;\n",
       "    }\n",
       "</style>\n",
       "<table border=\"1\" class=\"dataframe\">\n",
       "  <thead>\n",
       "    <tr style=\"text-align: right;\">\n",
       "      <th></th>\n",
       "      <th>date</th>\n",
       "      <th>state</th>\n",
       "      <th>tot_cases</th>\n",
       "      <th>conf_cases</th>\n",
       "    </tr>\n",
       "  </thead>\n",
       "  <tbody>\n",
       "    <tr>\n",
       "      <th>13785</th>\n",
       "      <td>07/09/20</td>\n",
       "      <td>WV</td>\n",
       "      <td>11575</td>\n",
       "      <td>11368.0</td>\n",
       "    </tr>\n",
       "    <tr>\n",
       "      <th>17982</th>\n",
       "      <td>16/11/20</td>\n",
       "      <td>IL</td>\n",
       "      <td>585248</td>\n",
       "      <td>585248.0</td>\n",
       "    </tr>\n",
       "    <tr>\n",
       "      <th>18603</th>\n",
       "      <td>27/11/20</td>\n",
       "      <td>PA</td>\n",
       "      <td>343614</td>\n",
       "      <td>319239.0</td>\n",
       "    </tr>\n",
       "    <tr>\n",
       "      <th>1953</th>\n",
       "      <td>23/02/20</td>\n",
       "      <td>NE</td>\n",
       "      <td>0</td>\n",
       "      <td>0.0</td>\n",
       "    </tr>\n",
       "    <tr>\n",
       "      <th>21724</th>\n",
       "      <td>18/01/21</td>\n",
       "      <td>WV</td>\n",
       "      <td>109809</td>\n",
       "      <td>88434.0</td>\n",
       "    </tr>\n",
       "  </tbody>\n",
       "</table>\n",
       "</div>"
      ],
      "text/plain": [
       "           date state  tot_cases  conf_cases\n",
       "13785  07/09/20    WV      11575     11368.0\n",
       "17982  16/11/20    IL     585248    585248.0\n",
       "18603  27/11/20    PA     343614    319239.0\n",
       "1953   23/02/20    NE          0         0.0\n",
       "21724  18/01/21    WV     109809     88434.0"
      ]
     },
     "execution_count": 65,
     "metadata": {},
     "output_type": "execute_result"
    }
   ],
   "source": [
    "codf.sample(5)"
   ]
  },
  {
   "cell_type": "markdown",
   "metadata": {
    "tags": []
   },
   "source": [
    "## DATA CLEANING"
   ]
  },
  {
   "cell_type": "code",
   "execution_count": 108,
   "metadata": {},
   "outputs": [
    {
     "data": {
      "text/plain": [
       "(            city  zip_code state  state_name\n",
       " 554  WESTMINSTER     92683    CA  CALIFORNIA\n",
       " 555      ONTARIO     91761    CA  CALIFORNIA\n",
       " 556       TACOMA     98409    WA  WASHINGTON\n",
       " 557      BOZEMAN     59718    MT     MONTANA\n",
       " 558    CLACKAMAS     97015    OR      OREGON,\n",
       " (555, 4))"
      ]
     },
     "execution_count": 108,
     "metadata": {},
     "output_type": "execute_result"
    }
   ],
   "source": [
    "cidf1 = cidf.drop(['country'],axis = 1) #dropping useless columns\n",
    "cidf1 = cidf1.drop_duplicates()\n",
    "cidf1.tail(),cidf1.shape"
   ]
  },
  {
   "cell_type": "code",
   "execution_count": 109,
   "metadata": {},
   "outputs": [],
   "source": [
    "state = cidf1.state.unique()\n",
    "num_cities = [cidf1[cidf1.state == st].zip_code.nunique() for st in state]\n",
    "stct = pd.DataFrame({'state':state,'num_cities':num_cities})"
   ]
  },
  {
   "cell_type": "code",
   "execution_count": 110,
   "metadata": {},
   "outputs": [
    {
     "data": {
      "text/plain": [
       "(array([94080, 98027], dtype=int64), array([2, 2], dtype=int64))"
      ]
     },
     "execution_count": 110,
     "metadata": {},
     "output_type": "execute_result"
    }
   ],
   "source": [
    "value,counts = np.unique(cidf1.zip_code,return_counts=True)\n",
    "value[counts>1],counts[counts>1]"
   ]
  },
  {
   "cell_type": "code",
   "execution_count": 111,
   "metadata": {},
   "outputs": [
    {
     "data": {
      "text/html": [
       "<div>\n",
       "<style scoped>\n",
       "    .dataframe tbody tr th:only-of-type {\n",
       "        vertical-align: middle;\n",
       "    }\n",
       "\n",
       "    .dataframe tbody tr th {\n",
       "        vertical-align: top;\n",
       "    }\n",
       "\n",
       "    .dataframe thead th {\n",
       "        text-align: right;\n",
       "    }\n",
       "</style>\n",
       "<table border=\"1\" class=\"dataframe\">\n",
       "  <thead>\n",
       "    <tr style=\"text-align: right;\">\n",
       "      <th></th>\n",
       "      <th>city</th>\n",
       "      <th>zip_code</th>\n",
       "      <th>state</th>\n",
       "      <th>state_name</th>\n",
       "    </tr>\n",
       "  </thead>\n",
       "  <tbody>\n",
       "    <tr>\n",
       "      <th>370</th>\n",
       "      <td>S</td>\n",
       "      <td>94080</td>\n",
       "      <td>CA</td>\n",
       "      <td>CALIFORNIA</td>\n",
       "    </tr>\n",
       "    <tr>\n",
       "      <th>371</th>\n",
       "      <td>EL</td>\n",
       "      <td>94080</td>\n",
       "      <td>CA</td>\n",
       "      <td>CALIFORNIA</td>\n",
       "    </tr>\n",
       "  </tbody>\n",
       "</table>\n",
       "</div>"
      ],
      "text/plain": [
       "    city  zip_code state  state_name\n",
       "370    S     94080    CA  CALIFORNIA\n",
       "371   EL     94080    CA  CALIFORNIA"
      ]
     },
     "execution_count": 111,
     "metadata": {},
     "output_type": "execute_result"
    }
   ],
   "source": [
    "cidf1[cidf1.zip_code == 94080]"
   ]
  },
  {
   "cell_type": "code",
   "execution_count": 112,
   "metadata": {},
   "outputs": [],
   "source": [
    "cidf1.drop(index=371,inplace=True)"
   ]
  },
  {
   "cell_type": "code",
   "execution_count": 113,
   "metadata": {},
   "outputs": [
    {
     "data": {
      "text/html": [
       "<div>\n",
       "<style scoped>\n",
       "    .dataframe tbody tr th:only-of-type {\n",
       "        vertical-align: middle;\n",
       "    }\n",
       "\n",
       "    .dataframe tbody tr th {\n",
       "        vertical-align: top;\n",
       "    }\n",
       "\n",
       "    .dataframe thead th {\n",
       "        text-align: right;\n",
       "    }\n",
       "</style>\n",
       "<table border=\"1\" class=\"dataframe\">\n",
       "  <thead>\n",
       "    <tr style=\"text-align: right;\">\n",
       "      <th></th>\n",
       "      <th>city</th>\n",
       "      <th>zip_code</th>\n",
       "      <th>state</th>\n",
       "      <th>state_name</th>\n",
       "    </tr>\n",
       "  </thead>\n",
       "  <tbody>\n",
       "    <tr>\n",
       "      <th>69</th>\n",
       "      <td>ISSAQUAH</td>\n",
       "      <td>98027</td>\n",
       "      <td>WA</td>\n",
       "      <td>WASHINGTON</td>\n",
       "    </tr>\n",
       "    <tr>\n",
       "      <th>70</th>\n",
       "      <td>US</td>\n",
       "      <td>98027</td>\n",
       "      <td>WA</td>\n",
       "      <td>WASHINGTON</td>\n",
       "    </tr>\n",
       "  </tbody>\n",
       "</table>\n",
       "</div>"
      ],
      "text/plain": [
       "        city  zip_code state  state_name\n",
       "69  ISSAQUAH     98027    WA  WASHINGTON\n",
       "70        US     98027    WA  WASHINGTON"
      ]
     },
     "execution_count": 113,
     "metadata": {},
     "output_type": "execute_result"
    }
   ],
   "source": [
    "cidf1[cidf1.zip_code == 98027]"
   ]
  },
  {
   "cell_type": "code",
   "execution_count": 114,
   "metadata": {},
   "outputs": [],
   "source": [
    "cidf1.drop(index=70,inplace=True)"
   ]
  },
  {
   "cell_type": "markdown",
   "metadata": {},
   "source": [
    "## DATA PREPROCESSING"
   ]
  },
  {
   "cell_type": "code",
   "execution_count": 115,
   "metadata": {},
   "outputs": [],
   "source": [
    "cidf_final = cidf1.merge(stct,on = 'state',how = 'left')"
   ]
  },
  {
   "cell_type": "code",
   "execution_count": 116,
   "metadata": {},
   "outputs": [
    {
     "data": {
      "text/html": [
       "<div>\n",
       "<style scoped>\n",
       "    .dataframe tbody tr th:only-of-type {\n",
       "        vertical-align: middle;\n",
       "    }\n",
       "\n",
       "    .dataframe tbody tr th {\n",
       "        vertical-align: top;\n",
       "    }\n",
       "\n",
       "    .dataframe thead th {\n",
       "        text-align: right;\n",
       "    }\n",
       "</style>\n",
       "<table border=\"1\" class=\"dataframe\">\n",
       "  <thead>\n",
       "    <tr style=\"text-align: right;\">\n",
       "      <th></th>\n",
       "      <th>wh_id</th>\n",
       "      <th>warehouse_name</th>\n",
       "      <th>city</th>\n",
       "    </tr>\n",
       "  </thead>\n",
       "  <tbody>\n",
       "    <tr>\n",
       "      <th>198</th>\n",
       "      <td>1330</td>\n",
       "      <td>WAREHOUSE 1330 WEBSTER</td>\n",
       "      <td>WEBSTER</td>\n",
       "    </tr>\n",
       "    <tr>\n",
       "      <th>195</th>\n",
       "      <td>1325</td>\n",
       "      <td>WAREHOUSE 1325 DAVENPORT</td>\n",
       "      <td>DAVENPORT</td>\n",
       "    </tr>\n",
       "    <tr>\n",
       "      <th>184</th>\n",
       "      <td>1298</td>\n",
       "      <td>WAREHOUSE 1298 N SPOKANE</td>\n",
       "      <td>N</td>\n",
       "    </tr>\n",
       "    <tr>\n",
       "      <th>541</th>\n",
       "      <td>784</td>\n",
       "      <td>WAREHOUSE 784 GRAND RAPIDS</td>\n",
       "      <td>GRAND</td>\n",
       "    </tr>\n",
       "    <tr>\n",
       "      <th>36</th>\n",
       "      <td>1033</td>\n",
       "      <td>WAREHOUSE 1033 POCATELLO</td>\n",
       "      <td>POCATELLO</td>\n",
       "    </tr>\n",
       "  </tbody>\n",
       "</table>\n",
       "</div>"
      ],
      "text/plain": [
       "     wh_id              warehouse_name       city\n",
       "198   1330      WAREHOUSE 1330 WEBSTER    WEBSTER\n",
       "195   1325    WAREHOUSE 1325 DAVENPORT  DAVENPORT\n",
       "184   1298    WAREHOUSE 1298 N SPOKANE          N\n",
       "541    784  WAREHOUSE 784 GRAND RAPIDS      GRAND\n",
       "36    1033    WAREHOUSE 1033 POCATELLO  POCATELLO"
      ]
     },
     "execution_count": 116,
     "metadata": {},
     "output_type": "execute_result"
    }
   ],
   "source": [
    "wadf.sample(5)"
   ]
  },
  {
   "cell_type": "code",
   "execution_count": 117,
   "metadata": {
    "colab": {
     "base_uri": "https://localhost:8080/",
     "height": 423
    },
    "id": "_48oQIpRfSwX",
    "outputId": "cd7f07ec-ab5d-4c86-beaa-89b89d75931b"
   },
   "outputs": [
    {
     "name": "stdout",
     "output_type": "stream",
     "text": [
      "(276208, 8)\n"
     ]
    },
    {
     "data": {
      "text/html": [
       "<div>\n",
       "<style scoped>\n",
       "    .dataframe tbody tr th:only-of-type {\n",
       "        vertical-align: middle;\n",
       "    }\n",
       "\n",
       "    .dataframe tbody tr th {\n",
       "        vertical-align: top;\n",
       "    }\n",
       "\n",
       "    .dataframe thead th {\n",
       "        text-align: right;\n",
       "    }\n",
       "</style>\n",
       "<table border=\"1\" class=\"dataframe\">\n",
       "  <thead>\n",
       "    <tr style=\"text-align: right;\">\n",
       "      <th></th>\n",
       "      <th>date</th>\n",
       "      <th>state</th>\n",
       "      <th>tot_cases</th>\n",
       "      <th>conf_cases</th>\n",
       "      <th>city</th>\n",
       "      <th>zip_code</th>\n",
       "      <th>state_name</th>\n",
       "      <th>num_cities</th>\n",
       "      <th>avg_tot_cases</th>\n",
       "      <th>avg_conf_cases</th>\n",
       "    </tr>\n",
       "  </thead>\n",
       "  <tbody>\n",
       "    <tr>\n",
       "      <th>168369</th>\n",
       "      <td>14/11/20</td>\n",
       "      <td>MI</td>\n",
       "      <td>389560</td>\n",
       "      <td>356775.0</td>\n",
       "      <td>MIDLAND</td>\n",
       "      <td>48642.0</td>\n",
       "      <td>MICHIGAN</td>\n",
       "      <td>16.0</td>\n",
       "      <td>24347.500000</td>\n",
       "      <td>22298.437500</td>\n",
       "    </tr>\n",
       "    <tr>\n",
       "      <th>98341</th>\n",
       "      <td>13/07/20</td>\n",
       "      <td>NJ</td>\n",
       "      <td>177044</td>\n",
       "      <td>172498.0</td>\n",
       "      <td>CLIFTON</td>\n",
       "      <td>7014.0</td>\n",
       "      <td>NEW JERSEY</td>\n",
       "      <td>20.0</td>\n",
       "      <td>8852.200000</td>\n",
       "      <td>8624.900000</td>\n",
       "    </tr>\n",
       "    <tr>\n",
       "      <th>171770</th>\n",
       "      <td>20/11/20</td>\n",
       "      <td>ID</td>\n",
       "      <td>89764</td>\n",
       "      <td>76570.0</td>\n",
       "      <td>TWIN</td>\n",
       "      <td>83301.0</td>\n",
       "      <td>IDAHO</td>\n",
       "      <td>7.0</td>\n",
       "      <td>12823.428571</td>\n",
       "      <td>10938.571429</td>\n",
       "    </tr>\n",
       "    <tr>\n",
       "      <th>48122</th>\n",
       "      <td>16/04/20</td>\n",
       "      <td>PA</td>\n",
       "      <td>27735</td>\n",
       "      <td>27545.0</td>\n",
       "      <td>SANATOGA</td>\n",
       "      <td>19464.0</td>\n",
       "      <td>PENNSYLVANIA</td>\n",
       "      <td>11.0</td>\n",
       "      <td>2521.363636</td>\n",
       "      <td>2504.090909</td>\n",
       "    </tr>\n",
       "    <tr>\n",
       "      <th>241759</th>\n",
       "      <td>24/03/21</td>\n",
       "      <td>AZ</td>\n",
       "      <td>838474</td>\n",
       "      <td>779737.0</td>\n",
       "      <td>N</td>\n",
       "      <td>85027.0</td>\n",
       "      <td>ARIZONA</td>\n",
       "      <td>18.0</td>\n",
       "      <td>46581.888889</td>\n",
       "      <td>43318.722222</td>\n",
       "    </tr>\n",
       "  </tbody>\n",
       "</table>\n",
       "</div>"
      ],
      "text/plain": [
       "            date state  tot_cases  conf_cases      city  zip_code  \\\n",
       "168369  14/11/20    MI     389560    356775.0   MIDLAND   48642.0   \n",
       "98341   13/07/20    NJ     177044    172498.0   CLIFTON    7014.0   \n",
       "171770  20/11/20    ID      89764     76570.0      TWIN   83301.0   \n",
       "48122   16/04/20    PA      27735     27545.0  SANATOGA   19464.0   \n",
       "241759  24/03/21    AZ     838474    779737.0         N   85027.0   \n",
       "\n",
       "          state_name  num_cities  avg_tot_cases  avg_conf_cases  \n",
       "168369      MICHIGAN        16.0   24347.500000    22298.437500  \n",
       "98341     NEW JERSEY        20.0    8852.200000     8624.900000  \n",
       "171770         IDAHO         7.0   12823.428571    10938.571429  \n",
       "48122   PENNSYLVANIA        11.0    2521.363636     2504.090909  \n",
       "241759       ARIZONA        18.0   46581.888889    43318.722222  "
      ]
     },
     "execution_count": 117,
     "metadata": {},
     "output_type": "execute_result"
    }
   ],
   "source": [
    "m = codf.merge(cidf_final,how = 'left',on='state') \n",
    "print(m.shape)\n",
    "m['avg_tot_cases'] = m['tot_cases']/m['num_cities']\n",
    "m['avg_conf_cases'] = m['conf_cases']/m['num_cities']\n",
    "m.sample(5) #merging covid data and cities data using state as a common entity"
   ]
  },
  {
   "cell_type": "code",
   "execution_count": 118,
   "metadata": {
    "id": "eozdjAslsGIQ"
   },
   "outputs": [
    {
     "data": {
      "text/html": [
       "<div>\n",
       "<style scoped>\n",
       "    .dataframe tbody tr th:only-of-type {\n",
       "        vertical-align: middle;\n",
       "    }\n",
       "\n",
       "    .dataframe tbody tr th {\n",
       "        vertical-align: top;\n",
       "    }\n",
       "\n",
       "    .dataframe thead th {\n",
       "        text-align: right;\n",
       "    }\n",
       "</style>\n",
       "<table border=\"1\" class=\"dataframe\">\n",
       "  <thead>\n",
       "    <tr style=\"text-align: right;\">\n",
       "      <th></th>\n",
       "      <th>wh_id</th>\n",
       "      <th>warehouse_name</th>\n",
       "      <th>city</th>\n",
       "    </tr>\n",
       "  </thead>\n",
       "  <tbody>\n",
       "    <tr>\n",
       "      <th>496</th>\n",
       "      <td>689</td>\n",
       "      <td>WAREHOUSE 689 NW SAN ANTONIO</td>\n",
       "      <td>NW</td>\n",
       "    </tr>\n",
       "    <tr>\n",
       "      <th>314</th>\n",
       "      <td>343</td>\n",
       "      <td>WAREHOUSE 343 AVON OH</td>\n",
       "      <td>AVON</td>\n",
       "    </tr>\n",
       "    <tr>\n",
       "      <th>124</th>\n",
       "      <td>1191</td>\n",
       "      <td>WAREHOUSE 1191 KALAMAZOO</td>\n",
       "      <td>KALAMAZOO</td>\n",
       "    </tr>\n",
       "    <tr>\n",
       "      <th>407</th>\n",
       "      <td>48</td>\n",
       "      <td>WAREHOUSE 48 VAN NUYS</td>\n",
       "      <td>VAN</td>\n",
       "    </tr>\n",
       "    <tr>\n",
       "      <th>422</th>\n",
       "      <td>671</td>\n",
       "      <td>WAREHOUSE 671 HAWTHORNE</td>\n",
       "      <td>HAWTHORNE</td>\n",
       "    </tr>\n",
       "  </tbody>\n",
       "</table>\n",
       "</div>"
      ],
      "text/plain": [
       "     wh_id                warehouse_name       city\n",
       "496    689  WAREHOUSE 689 NW SAN ANTONIO         NW\n",
       "314    343         WAREHOUSE 343 AVON OH       AVON\n",
       "124   1191      WAREHOUSE 1191 KALAMAZOO  KALAMAZOO\n",
       "407     48         WAREHOUSE 48 VAN NUYS        VAN\n",
       "422    671       WAREHOUSE 671 HAWTHORNE  HAWTHORNE"
      ]
     },
     "execution_count": 118,
     "metadata": {},
     "output_type": "execute_result"
    }
   ],
   "source": [
    "b = []\n",
    "for row in wadf.values:\n",
    "  b.append(row[1].split()[2]) #taking 3rd word from warehouse_name which is city\n",
    "\n",
    "wadf['city'] = np.array(b)\n",
    "wadf.sample(5)"
   ]
  },
  {
   "cell_type": "code",
   "execution_count": 119,
   "metadata": {
    "id": "uiCDcCp1ntl-"
   },
   "outputs": [],
   "source": [
    "x = df1.merge(wadf.drop(axis = 1,columns=['warehouse_name']),how='left',on = 'wh_id')"
   ]
  },
  {
   "cell_type": "code",
   "execution_count": 120,
   "metadata": {},
   "outputs": [
    {
     "name": "stdout",
     "output_type": "stream",
     "text": [
      "(453215, 4)\n"
     ]
    },
    {
     "data": {
      "text/html": [
       "<div>\n",
       "<style scoped>\n",
       "    .dataframe tbody tr th:only-of-type {\n",
       "        vertical-align: middle;\n",
       "    }\n",
       "\n",
       "    .dataframe tbody tr th {\n",
       "        vertical-align: top;\n",
       "    }\n",
       "\n",
       "    .dataframe thead th {\n",
       "        text-align: right;\n",
       "    }\n",
       "</style>\n",
       "<table border=\"1\" class=\"dataframe\">\n",
       "  <thead>\n",
       "    <tr style=\"text-align: right;\">\n",
       "      <th></th>\n",
       "      <th>date</th>\n",
       "      <th>wh_id</th>\n",
       "      <th>sales</th>\n",
       "      <th>city</th>\n",
       "    </tr>\n",
       "  </thead>\n",
       "  <tbody>\n",
       "    <tr>\n",
       "      <th>27001</th>\n",
       "      <td>13/03/20</td>\n",
       "      <td>1030.0</td>\n",
       "      <td>389</td>\n",
       "      <td>W</td>\n",
       "    </tr>\n",
       "    <tr>\n",
       "      <th>60814</th>\n",
       "      <td>16/03/20</td>\n",
       "      <td>111.0</td>\n",
       "      <td>743</td>\n",
       "      <td>TIGARD</td>\n",
       "    </tr>\n",
       "    <tr>\n",
       "      <th>247896</th>\n",
       "      <td>01/02/21</td>\n",
       "      <td>336.0</td>\n",
       "      <td>237</td>\n",
       "      <td>CLEARWATER</td>\n",
       "    </tr>\n",
       "    <tr>\n",
       "      <th>258636</th>\n",
       "      <td>21/08/19</td>\n",
       "      <td>351.0</td>\n",
       "      <td>24</td>\n",
       "      <td>FORT</td>\n",
       "    </tr>\n",
       "    <tr>\n",
       "      <th>280862</th>\n",
       "      <td>24/12/20</td>\n",
       "      <td>379.0</td>\n",
       "      <td>207</td>\n",
       "      <td>SPRINGDALE</td>\n",
       "    </tr>\n",
       "  </tbody>\n",
       "</table>\n",
       "</div>"
      ],
      "text/plain": [
       "            date   wh_id  sales        city\n",
       "27001   13/03/20  1030.0    389           W\n",
       "60814   16/03/20   111.0    743      TIGARD\n",
       "247896  01/02/21   336.0    237  CLEARWATER\n",
       "258636  21/08/19   351.0     24        FORT\n",
       "280862  24/12/20   379.0    207  SPRINGDALE"
      ]
     },
     "execution_count": 120,
     "metadata": {},
     "output_type": "execute_result"
    }
   ],
   "source": [
    "print(x.shape)\n",
    "x.sample(5)\n",
    "# merged data of train and warehouse datasets"
   ]
  },
  {
   "cell_type": "code",
   "execution_count": 121,
   "metadata": {
    "id": "KkvwI8K3DrjI"
   },
   "outputs": [],
   "source": [
    "z = x.merge(m,how='left', on = ['date','city'])"
   ]
  },
  {
   "cell_type": "code",
   "execution_count": 122,
   "metadata": {},
   "outputs": [
    {
     "name": "stdout",
     "output_type": "stream",
     "text": [
      "(669515, 12)\n"
     ]
    },
    {
     "data": {
      "text/html": [
       "<div>\n",
       "<style scoped>\n",
       "    .dataframe tbody tr th:only-of-type {\n",
       "        vertical-align: middle;\n",
       "    }\n",
       "\n",
       "    .dataframe tbody tr th {\n",
       "        vertical-align: top;\n",
       "    }\n",
       "\n",
       "    .dataframe thead th {\n",
       "        text-align: right;\n",
       "    }\n",
       "</style>\n",
       "<table border=\"1\" class=\"dataframe\">\n",
       "  <thead>\n",
       "    <tr style=\"text-align: right;\">\n",
       "      <th></th>\n",
       "      <th>date</th>\n",
       "      <th>wh_id</th>\n",
       "      <th>sales</th>\n",
       "      <th>city</th>\n",
       "      <th>state</th>\n",
       "      <th>tot_cases</th>\n",
       "      <th>conf_cases</th>\n",
       "      <th>zip_code</th>\n",
       "      <th>state_name</th>\n",
       "      <th>num_cities</th>\n",
       "      <th>avg_tot_cases</th>\n",
       "      <th>avg_conf_cases</th>\n",
       "    </tr>\n",
       "  </thead>\n",
       "  <tbody>\n",
       "    <tr>\n",
       "      <th>273515</th>\n",
       "      <td>12/05/19</td>\n",
       "      <td>146.0</td>\n",
       "      <td>17</td>\n",
       "      <td>LIVERMORE</td>\n",
       "      <td>NaN</td>\n",
       "      <td>NaN</td>\n",
       "      <td>NaN</td>\n",
       "      <td>NaN</td>\n",
       "      <td>NaN</td>\n",
       "      <td>NaN</td>\n",
       "      <td>NaN</td>\n",
       "      <td>NaN</td>\n",
       "    </tr>\n",
       "    <tr>\n",
       "      <th>654532</th>\n",
       "      <td>07/06/20</td>\n",
       "      <td>827.0</td>\n",
       "      <td>392</td>\n",
       "      <td>PHOENIX</td>\n",
       "      <td>AZ</td>\n",
       "      <td>26889.0</td>\n",
       "      <td>26603.0</td>\n",
       "      <td>85017.0</td>\n",
       "      <td>ARIZONA</td>\n",
       "      <td>18.0</td>\n",
       "      <td>1493.833333</td>\n",
       "      <td>1477.944444</td>\n",
       "    </tr>\n",
       "    <tr>\n",
       "      <th>233874</th>\n",
       "      <td>26/02/20</td>\n",
       "      <td>1332.0</td>\n",
       "      <td>336</td>\n",
       "      <td>N</td>\n",
       "      <td>FL</td>\n",
       "      <td>0.0</td>\n",
       "      <td>0.0</td>\n",
       "      <td>33181.0</td>\n",
       "      <td>FLORIDA</td>\n",
       "      <td>28.0</td>\n",
       "      <td>0.000000</td>\n",
       "      <td>0.000000</td>\n",
       "    </tr>\n",
       "    <tr>\n",
       "      <th>238955</th>\n",
       "      <td>28/12/19</td>\n",
       "      <td>1343.0</td>\n",
       "      <td>0</td>\n",
       "      <td>MERIDIAN</td>\n",
       "      <td>NaN</td>\n",
       "      <td>NaN</td>\n",
       "      <td>NaN</td>\n",
       "      <td>NaN</td>\n",
       "      <td>NaN</td>\n",
       "      <td>NaN</td>\n",
       "      <td>NaN</td>\n",
       "      <td>NaN</td>\n",
       "    </tr>\n",
       "    <tr>\n",
       "      <th>260660</th>\n",
       "      <td>21/01/21</td>\n",
       "      <td>1384.0</td>\n",
       "      <td>28</td>\n",
       "      <td>CHAMPAIGN</td>\n",
       "      <td>IL</td>\n",
       "      <td>1086333.0</td>\n",
       "      <td>1086333.0</td>\n",
       "      <td>61820.0</td>\n",
       "      <td>ILLINOIS</td>\n",
       "      <td>22.0</td>\n",
       "      <td>49378.772727</td>\n",
       "      <td>49378.772727</td>\n",
       "    </tr>\n",
       "  </tbody>\n",
       "</table>\n",
       "</div>"
      ],
      "text/plain": [
       "            date   wh_id  sales       city state  tot_cases  conf_cases  \\\n",
       "273515  12/05/19   146.0     17  LIVERMORE   NaN        NaN         NaN   \n",
       "654532  07/06/20   827.0    392    PHOENIX    AZ    26889.0     26603.0   \n",
       "233874  26/02/20  1332.0    336          N    FL        0.0         0.0   \n",
       "238955  28/12/19  1343.0      0   MERIDIAN   NaN        NaN         NaN   \n",
       "260660  21/01/21  1384.0     28  CHAMPAIGN    IL  1086333.0   1086333.0   \n",
       "\n",
       "        zip_code state_name  num_cities  avg_tot_cases  avg_conf_cases  \n",
       "273515       NaN        NaN         NaN            NaN             NaN  \n",
       "654532   85017.0    ARIZONA        18.0    1493.833333     1477.944444  \n",
       "233874   33181.0    FLORIDA        28.0       0.000000        0.000000  \n",
       "238955       NaN        NaN         NaN            NaN             NaN  \n",
       "260660   61820.0   ILLINOIS        22.0   49378.772727    49378.772727  "
      ]
     },
     "execution_count": 122,
     "metadata": {},
     "output_type": "execute_result"
    }
   ],
   "source": [
    "print(z.shape)\n",
    "z.sample(5)"
   ]
  },
  {
   "cell_type": "code",
   "execution_count": 123,
   "metadata": {},
   "outputs": [],
   "source": [
    "#precovid data\n",
    "precov = z[z.state.isna()][['date','wh_id','sales','tot_cases','conf_cases','avg_tot_cases','avg_conf_cases']].fillna(0)\n",
    "cov = z[z.state.notna()][['date','wh_id','sales','tot_cases','conf_cases','avg_tot_cases','avg_conf_cases']]"
   ]
  },
  {
   "cell_type": "markdown",
   "metadata": {
    "id": "pWLluHnRk0JK"
   },
   "source": [
    "## EDA"
   ]
  },
  {
   "cell_type": "code",
   "execution_count": null,
   "metadata": {
    "id": "6FpPEIpgk1_y"
   },
   "outputs": [],
   "source": [
    "hii"
   ]
  }
 ],
 "metadata": {
  "colab": {
   "collapsed_sections": [],
   "provenance": []
  },
  "kernelspec": {
   "display_name": "Python 3 (ipykernel)",
   "language": "python",
   "name": "python3"
  },
  "language_info": {
   "codemirror_mode": {
    "name": "ipython",
    "version": 3
   },
   "file_extension": ".py",
   "mimetype": "text/x-python",
   "name": "python",
   "nbconvert_exporter": "python",
   "pygments_lexer": "ipython3",
   "version": "3.9.7"
  }
 },
 "nbformat": 4,
 "nbformat_minor": 4
}
